{
 "cells": [
  {
   "cell_type": "markdown",
   "metadata": {},
   "source": [
    "# Policy improvement\n",
    "An implementation of policy improvement using a grid_world and \"iterative policy evaluation\" already implemented in this repo(many code is repeated to maintain notebook independency and never needing to read 2 notebooks)"
   ]
  },
  {
   "cell_type": "markdown",
   "metadata": {},
   "source": [
    "The gridworld has the shape(3,4) with a winning state \"w\"(0,3), and a lossing state \"l\"(1,3), a non valid state \"x\"(2,1) and a start state s(3,0)\n",
    "\n",
    "|  |  |  |  |\n",
    "|---|---|---|---|\n",
    "|  |  |  | w |\n",
    "|  |  |  | l |\n",
    "|  | x |  |  |\n",
    "| s |  |  |  |"
   ]
  },
  {
   "cell_type": "code",
   "execution_count": 1,
   "metadata": {
    "collapsed": true
   },
   "outputs": [],
   "source": [
    "import numpy as np\n",
    "import matplotlib.pyplot as plt\n",
    "from collections import defaultdict\n",
    "\n",
    "import grid_world"
   ]
  },
  {
   "cell_type": "markdown",
   "metadata": {},
   "source": [
    "### Define the maximum change before finish the loop"
   ]
  },
  {
   "cell_type": "code",
   "execution_count": 13,
   "metadata": {
    "collapsed": true
   },
   "outputs": [],
   "source": [
    "CONVERGENCE_THRESHOLD = 10e-4"
   ]
  },
  {
   "cell_type": "markdown",
   "metadata": {},
   "source": [
    "### Auxiliary function to display the values of a policy after finishing iterative policy evaluation"
   ]
  },
  {
   "cell_type": "code",
   "execution_count": 12,
   "metadata": {
    "collapsed": true
   },
   "outputs": [],
   "source": [
    "def print_values(V,grid):\n",
    "    for i in range(grid.width):\n",
    "        print(\"--------------------------\")\n",
    "        for j in range(grid.height):\n",
    "            v = V.get((i,j),0)\n",
    "            if v >= 0:\n",
    "                print(\" %.2f|\" % v, end=\"\")\n",
    "            else:\n",
    "                print(\"%.2f|\" % v, end=\"\")\n",
    "        print(\"\")"
   ]
  },
  {
   "cell_type": "markdown",
   "metadata": {},
   "source": [
    "### Auxiliary function to display a stochastic policy"
   ]
  },
  {
   "cell_type": "code",
   "execution_count": 11,
   "metadata": {
    "collapsed": true
   },
   "outputs": [],
   "source": [
    "def print_policy(P,grid):\n",
    "    for i in range(grid.width):\n",
    "        print(\"---------------------------\")\n",
    "        for j in range(grid.height):\n",
    "            a = P.get((i,j),' ')\n",
    "            if isinstance(a,dict):\n",
    "                a = list(a)[0]\n",
    "            print(\"  %s  |\" % a, end=\"\")\n",
    "        print(\"\")"
   ]
  },
  {
   "cell_type": "markdown",
   "metadata": {},
   "source": [
    "### From or defined grid world file, import a standard grid and all states"
   ]
  },
  {
   "cell_type": "code",
   "execution_count": 10,
   "metadata": {
    "collapsed": true
   },
   "outputs": [],
   "source": [
    "grid = grid_world.Grid.standard_grid()\n",
    "states = grid.all_states()"
   ]
  },
  {
   "cell_type": "markdown",
   "metadata": {},
   "source": [
    "### Implement the iterative policy evaluation algorithm:\n",
    "Function that receives as parameter a policy to evaluate, the disccount factor gamma, and the convergence threshold"
   ]
  },
  {
   "cell_type": "code",
   "execution_count": 9,
   "metadata": {
    "collapsed": true
   },
   "outputs": [],
   "source": [
    "def iterative_policy_evaluation(policy,gamma = 1,convergence_threshold = 0.1):\n",
    "    V = defaultdict(lambda :0) # initializes to 0 the value of all states\n",
    "    \n",
    "    while True:\n",
    "        max_change = 0 #the maximun differente between old and current value in an iteration\n",
    "        for s in grid.actions.keys(): #finds the value for every state\n",
    "            old_value  = V[s] #keep a copy of old value of state\n",
    "            \n",
    "            new_value = 0 #create an accumulator for the new value of the state after aplying bellman equation\n",
    "            for action in policy[s].keys(): #calculate expected return for every action in state s (P[s][a])\n",
    "                action_prob = policy[s][action] #probability of taking state \"a\" in state \"s\"\n",
    "                \n",
    "                grid.set_state(s)\n",
    "                reward = grid.move(action) #get inmediate reward of action\n",
    "                \n",
    "                new_value += action_prob*(reward + gamma*V[grid.current_state()]) \n",
    "                \n",
    "            V[s] = new_value #store the new value after bellman equation\n",
    "            max_change = max(max_change,np.abs(old_value  - new_value )) #calc max change to break from loop\n",
    "            \n",
    "            \n",
    "        if max_change < convergence_threshold:\n",
    "            break\n",
    "            \n",
    "    return V"
   ]
  },
  {
   "cell_type": "markdown",
   "metadata": {},
   "source": [
    "### Implement policy improvement:\n",
    "Function that receives the state-value of a policy(found using iterative policy evaluation) and returns an improved policy by selecting for every state the action that maximizes it's value"
   ]
  },
  {
   "cell_type": "code",
   "execution_count": 31,
   "metadata": {
    "collapsed": true
   },
   "outputs": [],
   "source": [
    "def policy_improvement(policy,V,gamma =1 ):\n",
    "    import operator #to do the argmax with dicts\n",
    "    \n",
    "    new_policy = {}\n",
    "    for s in grid.actions.keys():\n",
    "        Qsa ={}\n",
    "        for action in policy[s].keys():\n",
    "            grid.set_state(s)\n",
    "            reward = grid.move(action)\n",
    "            \n",
    "            Qsa[action] = reward + gamma*V[grid.current_state()]\n",
    "            \n",
    "        state_best_action = max(Qsa.items(), key=operator.itemgetter(1))[0] #equivalent to argmax(Qsa) but for dicts\n",
    "        \n",
    "        new_policy[s] = state_best_action\n",
    "        \n",
    "    return new_policy"
   ]
  },
  {
   "cell_type": "markdown",
   "metadata": {},
   "source": [
    "## Compare the value of different policies"
   ]
  },
  {
   "cell_type": "markdown",
   "metadata": {},
   "source": [
    "### Evaluate an uniform stochastic policy(every action has same probability)"
   ]
  },
  {
   "cell_type": "code",
   "execution_count": 7,
   "metadata": {
    "collapsed": true
   },
   "outputs": [],
   "source": [
    "uniform_policy = {}\n",
    "\n",
    "for s in grid.actions.keys():\n",
    "    actions = grid.actions[s]\n",
    "    uniform_policy[s] = {}\n",
    "    \n",
    "    for action in actions: #every action in this state has the same probability\n",
    "        uniform_policy[s][action] = 1.0/len(actions)\n",
    "        "
   ]
  },
  {
   "cell_type": "code",
   "execution_count": 21,
   "metadata": {},
   "outputs": [
    {
     "name": "stdout",
     "output_type": "stream",
     "text": [
      "The state-values of this policy are:\n",
      "--------------------------\n",
      "-0.03| 0.09| 0.22| 0.00|\n",
      "--------------------------\n",
      "-0.16| 0.00|-0.44| 0.00|\n",
      "--------------------------\n",
      "-0.29|-0.41|-0.54|-0.77|\n"
     ]
    }
   ],
   "source": [
    "random_policy_values = iterative_policy_evaluation(policy=uniform_policy,gamma=1,convergence_threshold=CONVERGENCE_THRESHOLD)\n",
    "print(\"The state-values of this policy are:\")\n",
    "print_values(grid=grid,V=random_policy_values)"
   ]
  },
  {
   "cell_type": "code",
   "execution_count": 35,
   "metadata": {},
   "outputs": [
    {
     "name": "stdout",
     "output_type": "stream",
     "text": [
      "Policy after 1 step of policy improvement\n",
      "---------------------------\n",
      "  R  |  R  |  R  |     |\n",
      "---------------------------\n",
      "  U  |     |  U  |     |\n",
      "---------------------------\n",
      "  U  |  L  |  L  |  L  |\n"
     ]
    }
   ],
   "source": [
    "improved_policy = policy_improvement(uniform_policy,random_policy_values,gamma=1)\n",
    "print(\"Policy after 1 step of policy improvement\")\n",
    "print_policy(improved_policy,grid)"
   ]
  },
  {
   "cell_type": "markdown",
   "metadata": {},
   "source": [
    "### Evaluate deterministic policy"
   ]
  },
  {
   "cell_type": "code",
   "execution_count": 37,
   "metadata": {
    "collapsed": true
   },
   "outputs": [],
   "source": [
    "# In position (2,0) take action: UP , in position (1,0) take action UP and so on....\n",
    "fixed_policy = {\n",
    "    (2,0):{'U':1},\n",
    "    (1,0):{'U':1},\n",
    "    (0,0):{'R':1},\n",
    "    (0,1):{'R':1},\n",
    "    (0,2):{'R':1},\n",
    "    (1,2):{'R':1},\n",
    "    (2,1):{'R':1},\n",
    "    (2,2):{'R':1},\n",
    "    (2,3):{'U':1}\n",
    "}\n",
    "\n",
    "fixed_policy_values = iterative_policy_evaluation(policy=fixed_policy,gamma=0.9,convergence_threshold=CONVERGENCE_THRESHOLD)"
   ]
  },
  {
   "cell_type": "code",
   "execution_count": 38,
   "metadata": {},
   "outputs": [
    {
     "name": "stdout",
     "output_type": "stream",
     "text": [
      "The state-values of this policy are:\n",
      "--------------------------\n",
      " 0.81| 0.90| 1.00| 0.00|\n",
      "--------------------------\n",
      " 0.73| 0.00|-1.00| 0.00|\n",
      "--------------------------\n",
      " 0.66|-0.81|-0.90|-1.00|\n"
     ]
    }
   ],
   "source": [
    "print(\"The state-values of this policy are:\")\n",
    "print_values(grid=grid,V=fixed_policy_values)"
   ]
  },
  {
   "cell_type": "code",
   "execution_count": 39,
   "metadata": {},
   "outputs": [
    {
     "name": "stdout",
     "output_type": "stream",
     "text": [
      "The deterministic policy is:\n",
      "---------------------------\n",
      "  R  |  R  |  R  |     |\n",
      "---------------------------\n",
      "  U  |     |  R  |     |\n",
      "---------------------------\n",
      "  U  |  R  |  R  |  U  |\n"
     ]
    }
   ],
   "source": [
    "print(\"The deterministic policy is:\")\n",
    "print_policy(grid=grid,P=fixed_policy)"
   ]
  },
  {
   "cell_type": "code",
   "execution_count": 40,
   "metadata": {},
   "outputs": [
    {
     "name": "stdout",
     "output_type": "stream",
     "text": [
      "Policy after 1 step of policy improvement\n",
      "---------------------------\n",
      "  R  |  R  |  R  |     |\n",
      "---------------------------\n",
      "  U  |     |  R  |     |\n",
      "---------------------------\n",
      "  U  |  R  |  R  |  U  |\n"
     ]
    }
   ],
   "source": [
    "improved_policy = policy_improvement(fixed_policy,fixed_policy_values,gamma=0.9)\n",
    "print(\"Policy after 1 step of policy improvement\")\n",
    "print_policy(improved_policy,grid)"
   ]
  },
  {
   "cell_type": "markdown",
   "metadata": {},
   "source": [
    "## Conclusions\n",
    "* In the random policy, one step of policy improvement got closer to the deterministic policy\n",
    "* In the deterministic policy ,one step of policy improvement left the policy unchanged, that means its already optimal policy\n",
    "* Policy improvement can use the results of iterative policy evaluation to then calculate Q(s,a)"
   ]
  },
  {
   "cell_type": "code",
   "execution_count": null,
   "metadata": {
    "collapsed": true
   },
   "outputs": [],
   "source": []
  }
 ],
 "metadata": {
  "kernelspec": {
   "display_name": "Python 3",
   "language": "python",
   "name": "python3"
  },
  "language_info": {
   "codemirror_mode": {
    "name": "ipython",
    "version": 3
   },
   "file_extension": ".py",
   "mimetype": "text/x-python",
   "name": "python",
   "nbconvert_exporter": "python",
   "pygments_lexer": "ipython3",
   "version": "3.6.1"
  }
 },
 "nbformat": 4,
 "nbformat_minor": 2
}
