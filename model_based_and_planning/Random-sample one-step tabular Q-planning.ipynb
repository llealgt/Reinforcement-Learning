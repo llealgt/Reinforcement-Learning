{
 "cells": [
  {
   "cell_type": "markdown",
   "metadata": {},
   "source": [
    "# Random-sample one-step tabular Q-planning\n",
    "\n",
    "An implementation of \"Double Q-learning\"  using a gridworld.\n",
    "\n",
    "More info about \"Random-sample one-step tabular Q-planning\" can be found on section 8.1 of \"Reinforcement Learning: an introduction\" 2nd edition by Barto and Sutton\n"
   ]
  },
  {
   "cell_type": "markdown",
   "metadata": {},
   "source": [
    "The gridworld has the shape(3,4) with a winning state \"w\"(0,3), and a lossing state \"l\"(1,3), a non valid state \"x\"(2,1) and a start state s(3,0)\n",
    "\n",
    "|  |  |  |  |\n",
    "|---|---|---|---|\n",
    "|  |  |  | w |\n",
    "|  |  |  | l |\n",
    "|  | x |  |  |\n",
    "| s |  |  |  |"
   ]
  },
  {
   "cell_type": "code",
   "execution_count": 1,
   "metadata": {},
   "outputs": [],
   "source": [
    "import numpy as np\n",
    "import matplotlib.pyplot as plt\n",
    "from collections import defaultdict\n",
    "\n",
    "import grid_world"
   ]
  },
  {
   "cell_type": "markdown",
   "metadata": {},
   "source": [
    "### Disccount factor and step size"
   ]
  },
  {
   "cell_type": "code",
   "execution_count": 2,
   "metadata": {},
   "outputs": [],
   "source": [
    "\n",
    "GAMMA = 0.9\n",
    "ALPHA =0.1"
   ]
  },
  {
   "cell_type": "markdown",
   "metadata": {},
   "source": [
    "### Auxiliary function to display the values of a policy after finishing iterative policy evaluation"
   ]
  },
  {
   "cell_type": "code",
   "execution_count": 3,
   "metadata": {},
   "outputs": [],
   "source": [
    "def print_values(V,grid):\n",
    "    for i in range(grid.width):\n",
    "        print(\"--------------------------\")\n",
    "        for j in range(grid.height):\n",
    "            v = V.get((i,j),0)\n",
    "            if v >= 0:\n",
    "                print(\" %.2f|\" % v, end=\"\")\n",
    "            else:\n",
    "                print(\"%.2f|\" % v, end=\"\")\n",
    "        print(\"\")"
   ]
  },
  {
   "cell_type": "markdown",
   "metadata": {},
   "source": [
    "### Auxiliary function to display a stochastic policy"
   ]
  },
  {
   "cell_type": "code",
   "execution_count": 4,
   "metadata": {},
   "outputs": [],
   "source": [
    "def print_policy(P,grid):\n",
    "    for i in range(grid.width):\n",
    "        print(\"---------------------------\")\n",
    "        for j in range(grid.height):\n",
    "            a = P.get((i,j),' ')\n",
    "            if isinstance(a,dict):\n",
    "                a = list(a)[0]\n",
    "            print(\"  %s  |\" % a, end=\"\")\n",
    "        print(\"\")"
   ]
  },
  {
   "cell_type": "markdown",
   "metadata": {},
   "source": [
    "### From or defined grid world file, import a negative grid ,retrieve all actions and states and print grid rewards\n",
    "Negative grid is used to encourage the agent to find a shortest path to the goal"
   ]
  },
  {
   "cell_type": "code",
   "execution_count": 5,
   "metadata": {},
   "outputs": [],
   "source": [
    "grid = grid_world.Grid.standard_grid()\n",
    "states = grid.all_states()\n",
    "actions = list(set([action   for action_tup in grid.actions.values() for action in action_tup]))"
   ]
  },
  {
   "cell_type": "code",
   "execution_count": 6,
   "metadata": {},
   "outputs": [
    {
     "data": {
      "text/plain": [
       "('b', 2)"
      ]
     },
     "execution_count": 6,
     "metadata": {},
     "output_type": "execute_result"
    }
   ],
   "source": [
    "def argmax_dict(dictionary):\n",
    "    # returns the argmax key and the max value from a dictionary\n",
    "    # will be used for policy improvement from Q\n",
    "    max_key = None\n",
    "    max_val = float(\"-inf\")\n",
    "    \n",
    "    for k,v in dictionary.items():\n",
    "        if v > max_val:\n",
    "            max_val = v\n",
    "            max_key = k\n",
    "            \n",
    "    return max_key,max_val\n",
    "        \n",
    "argmax_dict({\"a\":1,\"b\":2})"
   ]
  },
  {
   "cell_type": "code",
   "execution_count": 7,
   "metadata": {
    "scrolled": true
   },
   "outputs": [
    {
     "data": {
      "text/plain": [
       "['D', 'R', 'U', 'L']"
      ]
     },
     "execution_count": 7,
     "metadata": {},
     "output_type": "execute_result"
    }
   ],
   "source": [
    "actions"
   ]
  },
  {
   "cell_type": "code",
   "execution_count": 8,
   "metadata": {},
   "outputs": [],
   "source": [
    "def epsilon_greedy_action(Q,state,epsilon=0.1):\n",
    "    # choose an action using epsilon-greedy strategy\n",
    "    probability = np.random.random()\n",
    "    result = 0\n",
    "    \n",
    "    if probability < epsilon:\n",
    "        #explore\n",
    "        result = np.random.choice(actions)\n",
    "    else: \n",
    "        #exploit\n",
    "        result = argmax_dict(Q[state])[0]\n",
    "        \n",
    "    return result"
   ]
  },
  {
   "cell_type": "code",
   "execution_count": 9,
   "metadata": {
    "scrolled": true
   },
   "outputs": [
    {
     "name": "stdout",
     "output_type": "stream",
     "text": [
      "Rewards of grid\n",
      "--------------------------\n",
      " 0.00| 0.00| 0.00| 1.00|\n",
      "--------------------------\n",
      " 0.00| 0.00| 0.00|-1.00|\n",
      "--------------------------\n",
      " 0.00| 0.00| 0.00| 0.00|\n"
     ]
    }
   ],
   "source": [
    "print(\"Rewards of grid\")\n",
    "print_values(grid.rewards,grid)"
   ]
  },
  {
   "cell_type": "markdown",
   "metadata": {},
   "source": [
    "### Initialize  policy"
   ]
  },
  {
   "cell_type": "code",
   "execution_count": 10,
   "metadata": {},
   "outputs": [
    {
     "name": "stdout",
     "output_type": "stream",
     "text": [
      "---------------------------\n",
      "  R  |  R  |  R  |     |\n",
      "---------------------------\n",
      "  U  |     |  R  |     |\n",
      "---------------------------\n",
      "  U  |  R  |  R  |  U  |\n"
     ]
    }
   ],
   "source": [
    "policy = {(2,0):'U',\n",
    "         (1,0):'U',\n",
    "         (0,0):'R',\n",
    "         (0,1):'R',\n",
    "         (0,2):'R',\n",
    "         (1,2):'R',\n",
    "         (2,1):'R',\n",
    "         (2,2):'R',\n",
    "         (2,3):'U'}\n",
    "\n",
    "print_policy(policy,grid)"
   ]
  },
  {
   "cell_type": "code",
   "execution_count": 11,
   "metadata": {},
   "outputs": [],
   "source": [
    "model = dict()\n",
    "Q = dict()\n",
    "\n",
    "for state in grid.all_states():\n",
    "        model[state] = dict()\n",
    "        Q[state] = dict()\n",
    "        for action in actions:\n",
    "            model[state][action] = {\"next_state\":state,\"reward\":0.0}\n",
    "            Q[state][action] = 0.0\n",
    "\n",
    "def update_model(state,action,new_state,reward):\n",
    "    model[state][action][\"next_state\"] = new_state\n",
    "    model[state][action][\"reward\"] = reward\n",
    "    \n"
   ]
  },
  {
   "cell_type": "code",
   "execution_count": 12,
   "metadata": {},
   "outputs": [],
   "source": [
    "def random_sample_one_step_Q_planning_learn_model(grid,episodes):\n",
    "    \n",
    "    for i in range(episodes):\n",
    "        \n",
    "        s = (2,0)\n",
    "        grid.set_state(s)\n",
    "        finished = False\n",
    "        while not finished:\n",
    "            a = epsilon_greedy_action(Q,s,epsilon=100.0) #epsilon = 100 to make it completely random\n",
    "            r = grid.move(a)    \n",
    "            s1 = grid.current_state()\n",
    "            \n",
    "            update_model(s,a,s1,r)\n",
    "            finished =grid.game_over()\n",
    "                \n",
    "            s = s1\n",
    "            \n",
    "    \n",
    "    return model\n",
    "\n",
    "model = random_sample_one_step_Q_planning_learn_model(grid,5000)"
   ]
  },
  {
   "cell_type": "code",
   "execution_count": 13,
   "metadata": {},
   "outputs": [],
   "source": [
    "\n",
    "def random_sample_one_step_Q_planning(grid,model,episodes,gamma =1,alpha=1):\n",
    "    \"\"\"Do planning using Q-learning for a given model\n",
    "        return: policy and Q table for that policy\n",
    "    \"\"\"\n",
    "    policy = dict()\n",
    "    \n",
    "    for i in range(episodes):\n",
    "        s_position = np.random.choice(len(grid.all_states()))\n",
    "        s = list(grid.all_states())[s_position]\n",
    "        a = epsilon_greedy_action(Q,s,1.0)\n",
    "        model_transition = model[s][a]\n",
    "        next_s = model_transition[\"next_state\"]\n",
    "        reward = model_transition[\"reward\"]\n",
    "        \n",
    "        Q_max_action = argmax_dict(Q[next_s])[0]\n",
    "        Q[s][a] = Q[s][a] + alpha*(reward + gamma*Q[next_s][Q_max_action] - Q[s][a])\n",
    "        \n",
    "    for state in grid.all_states():\n",
    "        best_action = argmax_dict(Q[state])[0]\n",
    "        policy[state] = best_action\n",
    "    return policy,Q\n",
    "\n",
    "policy,Q = random_sample_one_step_Q_planning(grid,model,5000,GAMMA,ALPHA)"
   ]
  },
  {
   "cell_type": "code",
   "execution_count": 14,
   "metadata": {},
   "outputs": [
    {
     "data": {
      "text/plain": [
       "{(0, 0),\n",
       " (0, 1),\n",
       " (0, 2),\n",
       " (0, 3),\n",
       " (1, 0),\n",
       " (1, 2),\n",
       " (1, 3),\n",
       " (2, 0),\n",
       " (2, 1),\n",
       " (2, 2),\n",
       " (2, 3)}"
      ]
     },
     "execution_count": 14,
     "metadata": {},
     "output_type": "execute_result"
    }
   ],
   "source": [
    "grid.all_states()"
   ]
  },
  {
   "cell_type": "code",
   "execution_count": 15,
   "metadata": {},
   "outputs": [
    {
     "data": {
      "text/plain": [
       "{(0, 1): 'R',\n",
       " (1, 2): 'U',\n",
       " (0, 0): 'R',\n",
       " (1, 3): 'D',\n",
       " (2, 1): 'R',\n",
       " (2, 0): 'R',\n",
       " (2, 3): 'L',\n",
       " (2, 2): 'U',\n",
       " (1, 0): 'U',\n",
       " (0, 2): 'R',\n",
       " (0, 3): 'D'}"
      ]
     },
     "execution_count": 15,
     "metadata": {},
     "output_type": "execute_result"
    }
   ],
   "source": [
    "policy"
   ]
  },
  {
   "cell_type": "code",
   "execution_count": 16,
   "metadata": {},
   "outputs": [
    {
     "data": {
      "text/plain": [
       "[(0, 1),\n",
       " (1, 2),\n",
       " (0, 0),\n",
       " (1, 3),\n",
       " (2, 1),\n",
       " (2, 0),\n",
       " (2, 3),\n",
       " (2, 2),\n",
       " (1, 0),\n",
       " (0, 2),\n",
       " (0, 3)]"
      ]
     },
     "execution_count": 16,
     "metadata": {},
     "output_type": "execute_result"
    }
   ],
   "source": [
    "list(grid.all_states())"
   ]
  },
  {
   "cell_type": "code",
   "execution_count": 17,
   "metadata": {},
   "outputs": [
    {
     "data": {
      "text/plain": [
       "0"
      ]
     },
     "execution_count": 17,
     "metadata": {},
     "output_type": "execute_result"
    }
   ],
   "source": [
    "np.random.choice(len(grid.all_states()))"
   ]
  },
  {
   "cell_type": "code",
   "execution_count": 18,
   "metadata": {},
   "outputs": [
    {
     "name": "stdout",
     "output_type": "stream",
     "text": [
      "Policy\n",
      "---------------------------\n",
      "  R  |  R  |  R  |  D  |\n",
      "---------------------------\n",
      "  U  |     |  U  |  D  |\n",
      "---------------------------\n",
      "  R  |  R  |  U  |  L  |\n"
     ]
    }
   ],
   "source": [
    "print(\"Policy\")\n",
    "print_policy(policy,grid)"
   ]
  },
  {
   "cell_type": "code",
   "execution_count": 19,
   "metadata": {},
   "outputs": [
    {
     "name": "stdout",
     "output_type": "stream",
     "text": [
      "state  |policy action| state value\n",
      "(0, 1) |       R     | 0.89993529085614\n",
      "state  |policy action| state value\n",
      "(1, 2) |       U     | 0.8998653486064331\n",
      "state  |policy action| state value\n",
      "(0, 0) |       R     | 0.8092656661172245\n",
      "state  |policy action| state value\n",
      "(1, 3) |       D     | 0.0\n",
      "state  |policy action| state value\n",
      "(2, 1) |       R     | 0.7271723917215385\n",
      "state  |policy action| state value\n",
      "(2, 0) |       R     | 0.6515728354588084\n",
      "state  |policy action| state value\n",
      "(2, 3) |       L     | 0.7268538426433188\n",
      "state  |policy action| state value\n",
      "(2, 2) |       U     | 0.8094989076305045\n",
      "state  |policy action| state value\n",
      "(1, 0) |       U     | 0.7253248821155659\n",
      "state  |policy action| state value\n",
      "(0, 2) |       R     | 0.9999843157595708\n",
      "state  |policy action| state value\n",
      "(0, 3) |       D     | 0.0\n"
     ]
    }
   ],
   "source": [
    "V = defaultdict(lambda:0)\n",
    "for state in policy.keys():\n",
    "    V[state] = Q[state][policy[state]]\n",
    "    print(\"state  |policy action| state value\")\n",
    "    print(state,\"|      \",policy[state] , \"    |\", V[state] )\n",
    "    "
   ]
  },
  {
   "cell_type": "code",
   "execution_count": 20,
   "metadata": {},
   "outputs": [
    {
     "name": "stdout",
     "output_type": "stream",
     "text": [
      "--------------------------\n",
      " 0.81| 0.90| 1.00| 0.00|\n",
      "--------------------------\n",
      " 0.73| 0.00| 0.90| 0.00|\n",
      "--------------------------\n",
      " 0.65| 0.73| 0.81| 0.73|\n"
     ]
    }
   ],
   "source": [
    "print_values(grid=grid,V=V)"
   ]
  },
  {
   "cell_type": "markdown",
   "metadata": {},
   "source": [
    "## Conclusions\n",
    "* Given a model,planning can generate decent policy by using the model to estimate dynamics and rewards for a given state,action pair.\n",
    "* The policy is learned using q-learning on the sampled transitions from the model.\n",
    "* The policy is very good and similar to the ones found by model-free RL."
   ]
  },
  {
   "cell_type": "code",
   "execution_count": null,
   "metadata": {},
   "outputs": [],
   "source": []
  }
 ],
 "metadata": {
  "kernelspec": {
   "display_name": "Python 3",
   "language": "python",
   "name": "python3"
  },
  "language_info": {
   "codemirror_mode": {
    "name": "ipython",
    "version": 3
   },
   "file_extension": ".py",
   "mimetype": "text/x-python",
   "name": "python",
   "nbconvert_exporter": "python",
   "pygments_lexer": "ipython3",
   "version": "3.6.9"
  }
 },
 "nbformat": 4,
 "nbformat_minor": 2
}
