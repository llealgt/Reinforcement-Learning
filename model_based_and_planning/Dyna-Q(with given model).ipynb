{
 "cells": [
  {
   "cell_type": "markdown",
   "metadata": {},
   "source": [
    "# Dyna-Q(with given model)\n",
    "\n",
    "An implementation of \"Dyna-Q\"  using a gridworld(with a given model)\n",
    "\n",
    "More info about \"Dyna: Integrated Planning, Acting, and Learning\" can be found on section 8.2 of \"Reinforcement Learning: an introduction\" 2nd edition by Barto and Sutton\n"
   ]
  },
  {
   "cell_type": "markdown",
   "metadata": {},
   "source": [
    "The gridworld has the shape(3,4) with a winning state \"w\"(0,3), and a lossing state \"l\"(1,3), a non valid state \"x\"(2,1) and a start state s(3,0)\n",
    "\n",
    "|  |  |  |  |\n",
    "|---|---|---|---|\n",
    "|  |  |  | w |\n",
    "|  |  |  | l |\n",
    "|  | x |  |  |\n",
    "| s |  |  |  |"
   ]
  },
  {
   "cell_type": "code",
   "execution_count": 1,
   "metadata": {},
   "outputs": [],
   "source": [
    "import numpy as np\n",
    "import matplotlib.pyplot as plt\n",
    "from collections import defaultdict\n",
    "\n",
    "import grid_world"
   ]
  },
  {
   "cell_type": "markdown",
   "metadata": {},
   "source": [
    "### Disccount factor and step size"
   ]
  },
  {
   "cell_type": "code",
   "execution_count": 2,
   "metadata": {},
   "outputs": [],
   "source": [
    "\n",
    "GAMMA = 0.9\n",
    "ALPHA =0.1"
   ]
  },
  {
   "cell_type": "markdown",
   "metadata": {},
   "source": [
    "### Auxiliary function to display the values of a policy after finishing iterative policy evaluation"
   ]
  },
  {
   "cell_type": "code",
   "execution_count": 3,
   "metadata": {},
   "outputs": [],
   "source": [
    "def print_values(V,grid):\n",
    "    for i in range(grid.width):\n",
    "        print(\"--------------------------\")\n",
    "        for j in range(grid.height):\n",
    "            v = V.get((i,j),0)\n",
    "            if v >= 0:\n",
    "                print(\" %.2f|\" % v, end=\"\")\n",
    "            else:\n",
    "                print(\"%.2f|\" % v, end=\"\")\n",
    "        print(\"\")"
   ]
  },
  {
   "cell_type": "markdown",
   "metadata": {},
   "source": [
    "### Auxiliary function to display a stochastic policy"
   ]
  },
  {
   "cell_type": "code",
   "execution_count": 4,
   "metadata": {},
   "outputs": [],
   "source": [
    "def print_policy(P,grid):\n",
    "    for i in range(grid.width):\n",
    "        print(\"---------------------------\")\n",
    "        for j in range(grid.height):\n",
    "            a = P.get((i,j),' ')\n",
    "            if isinstance(a,dict):\n",
    "                a = list(a)[0]\n",
    "            print(\"  %s  |\" % a, end=\"\")\n",
    "        print(\"\")"
   ]
  },
  {
   "cell_type": "markdown",
   "metadata": {},
   "source": [
    "### From or defined grid world file, import a negative grid ,retrieve all actions and states and print grid rewards\n",
    "Negative grid is used to encourage the agent to find a shortest path to the goal"
   ]
  },
  {
   "cell_type": "code",
   "execution_count": 5,
   "metadata": {},
   "outputs": [],
   "source": [
    "grid = grid_world.Grid.standard_grid()\n",
    "states = grid.all_states()\n",
    "actions = list(set([action   for action_tup in grid.actions.values() for action in action_tup]))"
   ]
  },
  {
   "cell_type": "code",
   "execution_count": 6,
   "metadata": {},
   "outputs": [
    {
     "data": {
      "text/plain": [
       "('b', 2)"
      ]
     },
     "execution_count": 6,
     "metadata": {},
     "output_type": "execute_result"
    }
   ],
   "source": [
    "def argmax_dict(dictionary):\n",
    "    # returns the argmax key and the max value from a dictionary\n",
    "    # will be used for policy improvement from Q\n",
    "    max_key = None\n",
    "    max_val = float(\"-inf\")\n",
    "    \n",
    "    for k,v in dictionary.items():\n",
    "        if v > max_val:\n",
    "            max_val = v\n",
    "            max_key = k\n",
    "            \n",
    "    return max_key,max_val\n",
    "        \n",
    "argmax_dict({\"a\":1,\"b\":2})"
   ]
  },
  {
   "cell_type": "code",
   "execution_count": 7,
   "metadata": {
    "scrolled": true
   },
   "outputs": [
    {
     "data": {
      "text/plain": [
       "['R', 'D', 'U', 'L']"
      ]
     },
     "execution_count": 7,
     "metadata": {},
     "output_type": "execute_result"
    }
   ],
   "source": [
    "actions"
   ]
  },
  {
   "cell_type": "code",
   "execution_count": 8,
   "metadata": {},
   "outputs": [],
   "source": [
    "def epsilon_greedy_action(Q,state,epsilon=0.1):\n",
    "    # choose an action using epsilon-greedy strategy\n",
    "    probability = np.random.random()\n",
    "    result = 0\n",
    "    \n",
    "    if probability < epsilon:\n",
    "        #explore\n",
    "        result = np.random.choice(actions)\n",
    "    else: \n",
    "        #exploit\n",
    "        result = argmax_dict(Q[state])[0]\n",
    "        \n",
    "    return result"
   ]
  },
  {
   "cell_type": "code",
   "execution_count": 9,
   "metadata": {
    "scrolled": true
   },
   "outputs": [
    {
     "name": "stdout",
     "output_type": "stream",
     "text": [
      "Rewards of grid\n",
      "--------------------------\n",
      " 0.00| 0.00| 0.00| 1.00|\n",
      "--------------------------\n",
      " 0.00| 0.00| 0.00|-1.00|\n",
      "--------------------------\n",
      " 0.00| 0.00| 0.00| 0.00|\n"
     ]
    }
   ],
   "source": [
    "print(\"Rewards of grid\")\n",
    "print_values(grid.rewards,grid)"
   ]
  },
  {
   "cell_type": "markdown",
   "metadata": {},
   "source": [
    "### Initialize  policy"
   ]
  },
  {
   "cell_type": "code",
   "execution_count": 10,
   "metadata": {},
   "outputs": [
    {
     "name": "stdout",
     "output_type": "stream",
     "text": [
      "---------------------------\n",
      "  R  |  R  |  R  |     |\n",
      "---------------------------\n",
      "  U  |     |  R  |     |\n",
      "---------------------------\n",
      "  U  |  R  |  R  |  U  |\n"
     ]
    }
   ],
   "source": [
    "policy = {(2,0):'U',\n",
    "         (1,0):'U',\n",
    "         (0,0):'R',\n",
    "         (0,1):'R',\n",
    "         (0,2):'R',\n",
    "         (1,2):'R',\n",
    "         (2,1):'R',\n",
    "         (2,2):'R',\n",
    "         (2,3):'U'}\n",
    "\n",
    "print_policy(policy,grid)"
   ]
  },
  {
   "cell_type": "code",
   "execution_count": 11,
   "metadata": {},
   "outputs": [],
   "source": [
    "model = dict()\n",
    "Q = dict()\n",
    "\n",
    "for state in grid.all_states():\n",
    "        model[state] = dict()\n",
    "        Q[state] = dict()\n",
    "        for action in actions:\n",
    "            model[state][action] = {\"next_state\":state,\"reward\":0.0}\n",
    "            Q[state][action] = 0.0\n",
    "\n",
    "def update_model(state,action,new_state,reward):\n",
    "    model[state][action][\"next_state\"] = new_state\n",
    "    model[state][action][\"reward\"] = reward\n",
    "    \n"
   ]
  },
  {
   "cell_type": "code",
   "execution_count": 12,
   "metadata": {},
   "outputs": [],
   "source": [
    "def random_sample_one_step_Q_planning_learn_model(grid,episodes):\n",
    "    \n",
    "    for i in range(episodes):\n",
    "        \n",
    "        s = (2,0)\n",
    "        grid.set_state(s)\n",
    "        finished = False\n",
    "        while not finished:\n",
    "            a = epsilon_greedy_action(Q,s,epsilon=100.0) #epsilon = 100 to make it completely random\n",
    "            r = grid.move(a)    \n",
    "            s1 = grid.current_state()\n",
    "            \n",
    "            update_model(s,a,s1,r)\n",
    "            finished =grid.game_over()\n",
    "                \n",
    "            s = s1\n",
    "            \n",
    "    \n",
    "    return model\n",
    "\n",
    "model = random_sample_one_step_Q_planning_learn_model(grid,5000)"
   ]
  },
  {
   "cell_type": "code",
   "execution_count": 13,
   "metadata": {},
   "outputs": [],
   "source": [
    "\n",
    "def dyna_Q_given_model(grid,model,episodes,gamma =1,alpha=1,planning_steps=5):\n",
    "    \"\"\"Integrated architecture algorithm(planning and learning) with given model\n",
    "       Returns a policy and Q value\n",
    "    \"\"\"\n",
    "    policy = dict()\n",
    "    \n",
    "    for i in range(episodes):\n",
    "        finished = False\n",
    "        s = (2,0)\n",
    "        grid.set_state(s)\n",
    "        while not finished:\n",
    "            #Normal learning\n",
    "            a = epsilon_greedy_action(Q,s,0.1)\n",
    "            r = grid.move(a)\n",
    "            s1 = grid.current_state()\n",
    "            Q_max_action = argmax_dict(Q[s1])[0]\n",
    "            Q[s][a] = Q[s][a] + alpha*(r + gamma*Q[s1][Q_max_action] - Q[s][a])\n",
    "            update_model(s,a,s1,r)\n",
    "            \n",
    "            #planning \"thinking\" loop\n",
    "            for i in range(planning_steps):\n",
    "                random_state_num = np.random.choice(len(grid.all_states()))\n",
    "                sample_state = list(grid.all_states())[random_state_num]\n",
    "                sample_action = epsilon_greedy_action(Q,s,100.0)\n",
    "                sample_transition = model[sample_state][sample_action]\n",
    "                sample_reward = sample_transition[\"reward\"]\n",
    "                sample_next_state = sample_transition[\"next_state\"]\n",
    "                Q_max_action = argmax_dict(Q[sample_next_state])[0]\n",
    "                Q_max_action_value = Q[sample_next_state][Q_max_action]\n",
    "                Q[sample_state][sample_action] = Q[sample_state][sample_action] + alpha*(sample_reward + gamma*Q_max_action_value - Q[sample_state][sample_action])\n",
    "                \n",
    "                \n",
    "            finished = grid.game_over()\n",
    "            s = s1\n",
    "        \n",
    "    for state in grid.all_states():\n",
    "        best_action = argmax_dict(Q[state])[0]\n",
    "        policy[state] = best_action\n",
    "    return policy,Q\n",
    "\n",
    "policy,Q = dyna_Q_given_model(grid,model,15,GAMMA,ALPHA,15)"
   ]
  },
  {
   "cell_type": "code",
   "execution_count": 14,
   "metadata": {},
   "outputs": [
    {
     "name": "stdout",
     "output_type": "stream",
     "text": [
      "Policy\n",
      "---------------------------\n",
      "  R  |  R  |  R  |  R  |\n",
      "---------------------------\n",
      "  U  |     |  U  |  R  |\n",
      "---------------------------\n",
      "  R  |  R  |  U  |  L  |\n"
     ]
    }
   ],
   "source": [
    "print(\"Policy\")\n",
    "print_policy(policy,grid)"
   ]
  },
  {
   "cell_type": "code",
   "execution_count": 15,
   "metadata": {},
   "outputs": [
    {
     "name": "stdout",
     "output_type": "stream",
     "text": [
      "state  |policy action| state value\n",
      "(0, 1) |       R     | 0.8592322607996199\n",
      "state  |policy action| state value\n",
      "(1, 2) |       U     | 0.8710057520738528\n",
      "state  |policy action| state value\n",
      "(0, 0) |       R     | 0.5800288561400662\n",
      "state  |policy action| state value\n",
      "(1, 3) |       R     | 0.0\n",
      "state  |policy action| state value\n",
      "(2, 1) |       R     | 0.47540881222982695\n",
      "state  |policy action| state value\n",
      "(2, 0) |       R     | 0.2506755609993886\n",
      "state  |policy action| state value\n",
      "(2, 3) |       L     | 0.50769952583805\n",
      "state  |policy action| state value\n",
      "(2, 2) |       U     | 0.7128598856706208\n",
      "state  |policy action| state value\n",
      "(1, 0) |       U     | 0.3946188432264865\n",
      "state  |policy action| state value\n",
      "(0, 2) |       R     | 0.9929303495098489\n",
      "state  |policy action| state value\n",
      "(0, 3) |       R     | 0.0\n"
     ]
    }
   ],
   "source": [
    "V = defaultdict(lambda:0)\n",
    "for state in policy.keys():\n",
    "    V[state] = Q[state][policy[state]]\n",
    "    print(\"state  |policy action| state value\")\n",
    "    print(state,\"|      \",policy[state] , \"    |\", V[state] )\n",
    "    "
   ]
  },
  {
   "cell_type": "code",
   "execution_count": 16,
   "metadata": {},
   "outputs": [
    {
     "name": "stdout",
     "output_type": "stream",
     "text": [
      "--------------------------\n",
      " 0.58| 0.86| 0.99| 0.00|\n",
      "--------------------------\n",
      " 0.39| 0.00| 0.87| 0.00|\n",
      "--------------------------\n",
      " 0.25| 0.48| 0.71| 0.51|\n"
     ]
    }
   ],
   "source": [
    "print_values(grid=grid,V=V)"
   ]
  },
  {
   "cell_type": "markdown",
   "metadata": {},
   "source": [
    "## Conclusions\n",
    "* The integrated architecture mixes the best of learning and planning and converges to good policy in fewer esteps."
   ]
  },
  {
   "cell_type": "code",
   "execution_count": null,
   "metadata": {},
   "outputs": [],
   "source": []
  }
 ],
 "metadata": {
  "kernelspec": {
   "display_name": "Python 3",
   "language": "python",
   "name": "python3"
  },
  "language_info": {
   "codemirror_mode": {
    "name": "ipython",
    "version": 3
   },
   "file_extension": ".py",
   "mimetype": "text/x-python",
   "name": "python",
   "nbconvert_exporter": "python",
   "pygments_lexer": "ipython3",
   "version": "3.6.9"
  }
 },
 "nbformat": 4,
 "nbformat_minor": 2
}
