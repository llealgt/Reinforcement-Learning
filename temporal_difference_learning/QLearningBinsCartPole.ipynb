{
 "cells": [
  {
   "attachments": {},
   "cell_type": "markdown",
   "metadata": {},
   "source": [
    "# Tabular Q-Learning with bins with CartPole env\n",
    "\n",
    "This example uses tabular Q learning but discretizing a continous state-space with bins applied to the CartPole environment"
   ]
  },
  {
   "cell_type": "code",
   "execution_count": 2,
   "metadata": {},
   "outputs": [],
   "source": [
    "import gym\n",
    "import os\n",
    "import sys\n",
    "import numpy as np\n",
    "import pandas as pd\n",
    "import matplotlib.pyplot as plt\n",
    "from datetime import datetime\n",
    "from PIL import Image"
   ]
  },
  {
   "attachments": {},
   "cell_type": "markdown",
   "metadata": {},
   "source": [
    "## Auxiliary functions And Objects\n",
    "\n",
    "Mainly the functions related to the discretization of the continous environment"
   ]
  },
  {
   "cell_type": "code",
   "execution_count": 3,
   "metadata": {},
   "outputs": [
    {
     "data": {
      "text/plain": [
       "18657"
      ]
     },
     "execution_count": 3,
     "metadata": {},
     "output_type": "execute_result"
    }
   ],
   "source": [
    "def build_state_from_list(features):\n",
    "    \"\"\"Converts a list of integers into an int by contatinating them(not sum)\n",
    "       example: [1,8,6,5,7] -> 18657 \n",
    "    \"\"\"\n",
    "    return int(\"\".join([str(num) for num in features]))\n",
    "\n",
    "build_state_from_list([1,8,6,5,7])"
   ]
  },
  {
   "cell_type": "code",
   "execution_count": 4,
   "metadata": {},
   "outputs": [
    {
     "data": {
      "text/plain": [
       "5"
      ]
     },
     "execution_count": 4,
     "metadata": {},
     "output_type": "execute_result"
    }
   ],
   "source": [
    "def to_bin(value,bins):\n",
    "    \"\"\"Given a value and a list of values representing bin limits\n",
    "        it returns the number of bin it belongs to.\n",
    "        example: the value=10 if bins are [1,2] ,[2,3],[3,6],[6,8],[8,11] belongs to bin 5 [8,11]\n",
    "    \"\"\"\n",
    "    return np.digitize(x=[value],bins=bins)[0] \n",
    "\n",
    "to_bin(10,bins=[1,2,3,6,8,11])"
   ]
  },
  {
   "cell_type": "code",
   "execution_count": 5,
   "metadata": {},
   "outputs": [],
   "source": [
    "class StateTransformer:\n",
    "    \"\"\"Similar to sklearn-s featureTransformer takes a state \n",
    "    and transform to the discretized version\"\"\"\n",
    "    def __init__(self):\n",
    "        # size = 9 to get 10 bins\n",
    "        self.cart_position_bins = np.linspace(-2.4,2.4,9)\n",
    "        self.cart_velocity_bins = np.linspace(-2,2,9)\n",
    "        self.pole_angle_bins = np.linspace(-0.4,0.4,9)\n",
    "        self.pole_velocity_bins = np.linspace(-3.5,3.5,9)\n",
    "\n",
    "    def transform(self, state):\n",
    "        cart_position, cart_velocity, pole_angle, pole_velocity = state\n",
    "        return build_state_from_list([\n",
    "            to_bin(cart_position, self.cart_position_bins),\n",
    "            to_bin(cart_velocity,self.cart_velocity_bins),\n",
    "            to_bin(pole_angle, self.pole_angle_bins),\n",
    "            to_bin(pole_velocity,self.pole_velocity_bins)\n",
    "        ])"
   ]
  },
  {
   "cell_type": "code",
   "execution_count": 6,
   "metadata": {},
   "outputs": [],
   "source": [
    "def plot_running_average(total_rewards):\n",
    "    \"\"\"Plots the running average of the returns\n",
    "       using running mean to smooth the noisy rewards curve\n",
    "    \"\"\"\n",
    "    N = len(total_rewards)\n",
    "\n",
    "    running_means =  np.convolve(total_rewards, np.ones((N,))/N)[(N-1):]\n",
    "    plt.plot(running_means)\n",
    "    plt.show()\n"
   ]
  },
  {
   "attachments": {},
   "cell_type": "markdown",
   "metadata": {},
   "source": [
    "## Q Learning"
   ]
  },
  {
   "cell_type": "code",
   "execution_count": 7,
   "metadata": {},
   "outputs": [],
   "source": [
    "class QModel:\n",
    "    \"\"\"This encapsulates all operations for the Q-Learning algorithm\"\"\"\n",
    "    def __init__(self, environment: gym.Env, state_transformer: StateTransformer,lr=10e-3):\n",
    "        self.environment = environment\n",
    "        self.state_transformer = state_transformer\n",
    "        self.lr = lr\n",
    "\n",
    "        number_of_states = 10**environment.observation_space.shape[0] #since there are 10 bins and 4 actions states are 10 ^ 4\n",
    "        number_of_actions = environment.action_space.n\n",
    "\n",
    "        self.Q_table = np.random.uniform(low = -1, high = -1,size=(number_of_states,number_of_actions))\n",
    "\n",
    "    def predict_Q(self,state):\n",
    "        \"\"\"Gets the q values of a state after discritizing it\"\"\"\n",
    "        disc_state = self.state_transformer.transform(state)\n",
    "        return self.Q_table[disc_state]\n",
    "    \n",
    "    def update_Q(self,state, action, returnG):\n",
    "        \"\"\"Perform a Q learning update to the Q table\"\"\"\n",
    "        disc_state = self.state_transformer.transform(state)\n",
    "        self.Q_table[disc_state,action] = self.Q_table[disc_state,action] + self.lr*(returnG-self.Q_table[disc_state,action])\n",
    "\n",
    "    def epsilon_greedy_sample_action(self, state, epsilon):\n",
    "        if np.random.random() < epsilon:  # explore\n",
    "            return self.environment.action_space.sample()\n",
    "        else: #exploit\n",
    "            state_q = self.predict_Q(state)\n",
    "            return np.argmax(state_q)"
   ]
  },
  {
   "cell_type": "code",
   "execution_count": 8,
   "metadata": {},
   "outputs": [],
   "source": [
    "def run_episode(environment: gym.Env, q_model: QModel, epsilon:float, gamma:float):\n",
    "    \"\"\"Runs an episode and returns a list of states, rewards and the total reward\n",
    "      epsilon = exploration probability\n",
    "      gamma = discount factor for the returns\n",
    "    \"\"\"\n",
    "    state,_ = environment.reset()\n",
    "    done = False\n",
    "    total_reward = 0 \n",
    "    iterations = 0\n",
    "\n",
    "    while not done and iterations < 10000:\n",
    "        action = q_model.epsilon_greedy_sample_action(state,epsilon)\n",
    "        new_state, reward, done, trunc, info = environment.step(action)\n",
    "        total_reward += reward\n",
    "\n",
    "        # newer versions of gym will preliminary terminate the episode in 200 iterations\n",
    "        # if it is done in less than that that means the poll fell so it is a big negative reward\n",
    "        if done and iterations < 199:\n",
    "            reward = -300\n",
    "\n",
    "        G_return = reward + gamma*np.max(q_model.predict_Q(new_state))\n",
    "        q_model.update_Q(state,action,G_return)\n",
    "\n",
    "        state = new_state\n",
    "        iterations += 1\n",
    "\n",
    "    return total_reward"
   ]
  },
  {
   "attachments": {},
   "cell_type": "markdown",
   "metadata": {},
   "source": [
    "### Check an untrained agent"
   ]
  },
  {
   "cell_type": "code",
   "execution_count": 9,
   "metadata": {},
   "outputs": [
    {
     "name": "stderr",
     "output_type": "stream",
     "text": [
      "/home/luis/anaconda3/envs/python311_torch113_tf212/lib/python3.10/site-packages/gym/envs/registration.py:555: UserWarning: \u001b[33mWARN: The environment CartPole-v0 is out of date. You should consider upgrading to version `v1`.\u001b[0m\n",
      "  logger.warn(\n"
     ]
    },
    {
     "name": "stdout",
     "output_type": "stream",
     "text": [
      "Total reward 22.0 in 22 iterations\n"
     ]
    }
   ],
   "source": [
    "environment = gym.make(\"CartPole-v0\",render_mode=\"rgb_array\")\n",
    "state_transformer = StateTransformer()\n",
    "q_model = QModel(environment,state_transformer)\n",
    "\n",
    "state,_ = environment.reset()\n",
    "done = False\n",
    "total_reward = 0 \n",
    "iterations = 0\n",
    "epsilon = 1.0  # starts fully exploring\n",
    "renders = [] # will store the environment frames to create a gif later\n",
    "\n",
    "while not done:\n",
    "    action = q_model.epsilon_greedy_sample_action(state,epsilon)\n",
    "    new_state, reward, done, trunc, info = environment.step(action)\n",
    "    total_reward += reward\n",
    "    frame = environment.render()\n",
    "    renders.append(frame)\n",
    "    \n",
    "    state = new_state\n",
    "    iterations += 1\n",
    "\n",
    "print(f\"Total reward {total_reward} in {iterations} iterations\")"
   ]
  },
  {
   "cell_type": "code",
   "execution_count": 10,
   "metadata": {},
   "outputs": [],
   "source": [
    "imgs = [Image.fromarray(img) for img in renders]\n",
    "imgs[0].save(\"../animations/QLearningBinsCartPoleUntrained.gif\",save_all=True, append_images=imgs[1:],loop=0)"
   ]
  },
  {
   "attachments": {},
   "cell_type": "markdown",
   "metadata": {},
   "source": [
    "<img src=\"../animations/QLearningBinsCartPoleUntrained.gif\" width=\"750\" align=\"center\" loop=False>"
   ]
  },
  {
   "attachments": {},
   "cell_type": "markdown",
   "metadata": {},
   "source": [
    "### Training"
   ]
  },
  {
   "cell_type": "code",
   "execution_count": 11,
   "metadata": {},
   "outputs": [
    {
     "name": "stdout",
     "output_type": "stream",
     "text": [
      "Episode 0, epsilon:1.0, total_reward 12.0\n",
      "Episode 1000, epsilon:0.9231133922615287, total_reward 12.0\n",
      "Episode 2000, epsilon:0.8521383349725863, total_reward 13.0\n",
      "Episode 3000, epsilon:0.7866203090726344, total_reward 36.0\n",
      "Episode 4000, epsilon:0.7261397419298532, total_reward 15.0\n",
      "Episode 5000, epsilon:0.6703093204287764, total_reward 40.0\n",
      "Episode 6000, epsilon:0.6187715106455282, total_reward 63.0\n",
      "Episode 7000, epsilon:0.5711962682267844, total_reward 30.0\n",
      "Episode 8000, epsilon:0.5272789248099539, total_reward 69.0\n",
      "Episode 9000, epsilon:0.4867382369493269, total_reward 45.0\n",
      "Episode 10000, epsilon:0.4493145850536891, total_reward 73.0\n",
      "Episode 11000, epsilon:0.414768310801491, total_reward 146.0\n",
      "Episode 12000, epsilon:0.38287818238654725, total_reward 119.0\n",
      "Episode 13000, epsilon:0.35343997776577235, total_reward 154.0\n",
      "Episode 14000, epsilon:0.32626517683620004, total_reward 159.0\n",
      "Episode 15000, epsilon:0.3011797541660731, total_reward 168.0\n",
      "Episode 16000, epsilon:0.2780230645487366, total_reward 165.0\n",
      "Episode 17000, epsilon:0.2566468142425291, total_reward 153.0\n",
      "Episode 18000, epsilon:0.23691411130853546, total_reward 199.0\n",
      "Episode 19000, epsilon:0.21869858896464728, total_reward 173.0\n",
      "Episode 20000, epsilon:0.20188359634196512, total_reward 216.0\n",
      "Episode 21000, epsilon:0.1863614514611884, total_reward 175.0\n",
      "Episode 22000, epsilon:0.17203275164511933, total_reward 131.0\n",
      "Episode 23000, epsilon:0.15880573695121117, total_reward 177.0\n",
      "Episode 24000, epsilon:0.1465957025476244, total_reward 173.0\n",
      "Episode 25000, epsilon:0.1353244562696991, total_reward 192.0\n",
      "Episode 26000, epsilon:0.12491981788306866, total_reward 448.0\n",
      "Episode 27000, epsilon:0.11531515684673176, total_reward 230.0\n",
      "Episode 28000, epsilon:0.10644896561595683, total_reward 202.0\n",
      "Episode 29000, epsilon:0.09826446575247665, total_reward 178.0\n",
      "Episode 30000, epsilon:0.09070924431953535, total_reward 143.0\n",
      "Episode 31000, epsilon:0.08373491823328613, total_reward 163.0\n",
      "Episode 32000, epsilon:0.07729682442107033, total_reward 184.0\n",
      "Episode 33000, epsilon:0.071353733802378, total_reward 379.0\n",
      "Episode 34000, epsilon:0.07, total_reward 188.0\n",
      "Episode 35000, epsilon:0.07, total_reward 222.0\n",
      "Episode 36000, epsilon:0.07, total_reward 263.0\n",
      "Episode 37000, epsilon:0.07, total_reward 200.0\n",
      "Episode 38000, epsilon:0.07, total_reward 181.0\n",
      "Episode 39000, epsilon:0.07, total_reward 274.0\n",
      "Episode 40000, epsilon:0.07, total_reward 202.0\n",
      "Episode 41000, epsilon:0.07, total_reward 251.0\n",
      "Episode 42000, epsilon:0.07, total_reward 235.0\n",
      "Episode 43000, epsilon:0.07, total_reward 151.0\n",
      "Episode 44000, epsilon:0.07, total_reward 226.0\n",
      "Episode 45000, epsilon:0.07, total_reward 303.0\n",
      "Episode 46000, epsilon:0.07, total_reward 329.0\n",
      "Episode 47000, epsilon:0.07, total_reward 168.0\n",
      "Episode 48000, epsilon:0.07, total_reward 212.0\n",
      "Episode 49000, epsilon:0.07, total_reward 212.0\n",
      "Episode 50000, epsilon:0.07, total_reward 327.0\n",
      "Episode 51000, epsilon:0.07, total_reward 220.0\n",
      "Episode 52000, epsilon:0.07, total_reward 250.0\n",
      "Episode 53000, epsilon:0.07, total_reward 364.0\n",
      "Episode 54000, epsilon:0.07, total_reward 320.0\n",
      "Episode 55000, epsilon:0.07, total_reward 228.0\n",
      "Episode 56000, epsilon:0.07, total_reward 165.0\n",
      "Episode 57000, epsilon:0.07, total_reward 236.0\n",
      "Episode 58000, epsilon:0.07, total_reward 155.0\n",
      "Episode 59000, epsilon:0.07, total_reward 370.0\n",
      "Episode 60000, epsilon:0.07, total_reward 174.0\n",
      "Episode 61000, epsilon:0.07, total_reward 181.0\n",
      "Episode 62000, epsilon:0.07, total_reward 370.0\n",
      "Episode 63000, epsilon:0.07, total_reward 179.0\n",
      "Episode 64000, epsilon:0.07, total_reward 294.0\n",
      "Episode 65000, epsilon:0.07, total_reward 353.0\n",
      "Episode 66000, epsilon:0.07, total_reward 397.0\n",
      "Episode 67000, epsilon:0.07, total_reward 266.0\n",
      "Episode 68000, epsilon:0.07, total_reward 148.0\n",
      "Episode 69000, epsilon:0.07, total_reward 187.0\n",
      "Episode 70000, epsilon:0.07, total_reward 295.0\n",
      "Episode 71000, epsilon:0.07, total_reward 267.0\n",
      "Episode 72000, epsilon:0.07, total_reward 238.0\n",
      "Episode 73000, epsilon:0.07, total_reward 218.0\n",
      "Episode 74000, epsilon:0.07, total_reward 216.0\n",
      "Episode 75000, epsilon:0.07, total_reward 232.0\n",
      "Episode 76000, epsilon:0.07, total_reward 256.0\n",
      "Episode 77000, epsilon:0.07, total_reward 158.0\n",
      "Episode 78000, epsilon:0.07, total_reward 269.0\n",
      "Episode 79000, epsilon:0.07, total_reward 145.0\n",
      "Episode 80000, epsilon:0.07, total_reward 331.0\n",
      "Episode 81000, epsilon:0.07, total_reward 423.0\n",
      "Episode 82000, epsilon:0.07, total_reward 240.0\n",
      "Episode 83000, epsilon:0.07, total_reward 318.0\n",
      "Episode 84000, epsilon:0.07, total_reward 294.0\n",
      "Episode 85000, epsilon:0.07, total_reward 255.0\n",
      "Episode 86000, epsilon:0.07, total_reward 172.0\n",
      "Episode 87000, epsilon:0.07, total_reward 258.0\n",
      "Episode 88000, epsilon:0.07, total_reward 346.0\n",
      "Episode 89000, epsilon:0.07, total_reward 269.0\n",
      "Episode 90000, epsilon:0.07, total_reward 350.0\n",
      "Episode 91000, epsilon:0.07, total_reward 218.0\n",
      "Episode 92000, epsilon:0.07, total_reward 302.0\n",
      "Episode 93000, epsilon:0.07, total_reward 369.0\n",
      "Episode 94000, epsilon:0.07, total_reward 196.0\n",
      "Episode 95000, epsilon:0.07, total_reward 571.0\n",
      "Episode 96000, epsilon:0.07, total_reward 235.0\n",
      "Episode 97000, epsilon:0.07, total_reward 265.0\n",
      "Episode 98000, epsilon:0.07, total_reward 202.0\n",
      "Episode 99000, epsilon:0.07, total_reward 146.0\n",
      "Episode 100000, epsilon:0.07, total_reward 242.0\n",
      "Episode 101000, epsilon:0.07, total_reward 227.0\n",
      "Episode 102000, epsilon:0.07, total_reward 143.0\n",
      "Episode 103000, epsilon:0.07, total_reward 181.0\n",
      "Episode 104000, epsilon:0.07, total_reward 198.0\n",
      "Episode 105000, epsilon:0.07, total_reward 150.0\n",
      "Episode 106000, epsilon:0.07, total_reward 288.0\n",
      "Episode 107000, epsilon:0.07, total_reward 212.0\n",
      "Episode 108000, epsilon:0.07, total_reward 333.0\n",
      "Episode 109000, epsilon:0.07, total_reward 141.0\n",
      "Episode 110000, epsilon:0.07, total_reward 171.0\n",
      "Episode 111000, epsilon:0.07, total_reward 166.0\n",
      "Episode 112000, epsilon:0.07, total_reward 304.0\n",
      "Episode 113000, epsilon:0.07, total_reward 154.0\n",
      "Episode 114000, epsilon:0.07, total_reward 284.0\n",
      "Episode 115000, epsilon:0.07, total_reward 132.0\n",
      "Episode 116000, epsilon:0.07, total_reward 165.0\n",
      "Episode 117000, epsilon:0.07, total_reward 355.0\n",
      "Episode 118000, epsilon:0.07, total_reward 271.0\n",
      "Episode 119000, epsilon:0.07, total_reward 194.0\n",
      "Episode 120000, epsilon:0.07, total_reward 172.0\n",
      "Episode 121000, epsilon:0.07, total_reward 245.0\n",
      "Episode 122000, epsilon:0.07, total_reward 342.0\n",
      "Episode 123000, epsilon:0.07, total_reward 160.0\n",
      "Episode 124000, epsilon:0.07, total_reward 507.0\n",
      "Episode 125000, epsilon:0.07, total_reward 253.0\n",
      "Episode 126000, epsilon:0.07, total_reward 280.0\n",
      "Episode 127000, epsilon:0.07, total_reward 254.0\n",
      "Episode 128000, epsilon:0.07, total_reward 299.0\n",
      "Episode 129000, epsilon:0.07, total_reward 197.0\n",
      "Episode 130000, epsilon:0.07, total_reward 321.0\n",
      "Episode 131000, epsilon:0.07, total_reward 194.0\n",
      "Episode 132000, epsilon:0.07, total_reward 254.0\n",
      "Episode 133000, epsilon:0.07, total_reward 146.0\n",
      "Episode 134000, epsilon:0.07, total_reward 343.0\n",
      "Episode 135000, epsilon:0.07, total_reward 236.0\n",
      "Episode 136000, epsilon:0.07, total_reward 164.0\n",
      "Episode 137000, epsilon:0.07, total_reward 271.0\n",
      "Episode 138000, epsilon:0.07, total_reward 203.0\n",
      "Episode 139000, epsilon:0.07, total_reward 167.0\n",
      "Episode 140000, epsilon:0.07, total_reward 456.0\n",
      "Episode 141000, epsilon:0.07, total_reward 371.0\n",
      "Episode 142000, epsilon:0.07, total_reward 363.0\n",
      "Episode 143000, epsilon:0.07, total_reward 215.0\n",
      "Episode 144000, epsilon:0.07, total_reward 304.0\n",
      "Episode 145000, epsilon:0.07, total_reward 196.0\n",
      "Episode 146000, epsilon:0.07, total_reward 262.0\n",
      "Episode 147000, epsilon:0.07, total_reward 350.0\n",
      "Episode 148000, epsilon:0.07, total_reward 189.0\n",
      "Episode 149000, epsilon:0.07, total_reward 166.0\n",
      "Episode 150000, epsilon:0.07, total_reward 395.0\n",
      "Episode 151000, epsilon:0.07, total_reward 201.0\n",
      "Episode 152000, epsilon:0.07, total_reward 322.0\n",
      "Episode 153000, epsilon:0.07, total_reward 165.0\n",
      "Episode 154000, epsilon:0.07, total_reward 275.0\n",
      "Episode 155000, epsilon:0.07, total_reward 206.0\n",
      "Episode 156000, epsilon:0.07, total_reward 418.0\n",
      "Episode 157000, epsilon:0.07, total_reward 179.0\n",
      "Episode 158000, epsilon:0.07, total_reward 137.0\n",
      "Episode 159000, epsilon:0.07, total_reward 208.0\n",
      "Episode 160000, epsilon:0.07, total_reward 230.0\n",
      "Episode 161000, epsilon:0.07, total_reward 176.0\n",
      "Episode 162000, epsilon:0.07, total_reward 597.0\n",
      "Episode 163000, epsilon:0.07, total_reward 477.0\n",
      "Episode 164000, epsilon:0.07, total_reward 355.0\n",
      "Episode 165000, epsilon:0.07, total_reward 233.0\n",
      "Episode 166000, epsilon:0.07, total_reward 273.0\n",
      "Episode 167000, epsilon:0.07, total_reward 262.0\n",
      "Episode 168000, epsilon:0.07, total_reward 350.0\n",
      "Episode 169000, epsilon:0.07, total_reward 303.0\n",
      "Episode 170000, epsilon:0.07, total_reward 275.0\n",
      "Episode 171000, epsilon:0.07, total_reward 144.0\n",
      "Episode 172000, epsilon:0.07, total_reward 279.0\n",
      "Episode 173000, epsilon:0.07, total_reward 206.0\n",
      "Episode 174000, epsilon:0.07, total_reward 299.0\n",
      "Episode 175000, epsilon:0.07, total_reward 175.0\n",
      "Episode 176000, epsilon:0.07, total_reward 263.0\n",
      "Episode 177000, epsilon:0.07, total_reward 221.0\n",
      "Episode 178000, epsilon:0.07, total_reward 205.0\n",
      "Episode 179000, epsilon:0.07, total_reward 220.0\n",
      "Episode 180000, epsilon:0.07, total_reward 340.0\n",
      "Episode 181000, epsilon:0.07, total_reward 197.0\n",
      "Episode 182000, epsilon:0.07, total_reward 143.0\n",
      "Episode 183000, epsilon:0.07, total_reward 363.0\n",
      "Episode 184000, epsilon:0.07, total_reward 258.0\n",
      "Episode 185000, epsilon:0.07, total_reward 298.0\n",
      "Episode 186000, epsilon:0.07, total_reward 253.0\n",
      "Episode 187000, epsilon:0.07, total_reward 260.0\n",
      "Episode 188000, epsilon:0.07, total_reward 200.0\n",
      "Episode 189000, epsilon:0.07, total_reward 163.0\n",
      "Episode 190000, epsilon:0.07, total_reward 391.0\n",
      "Episode 191000, epsilon:0.07, total_reward 207.0\n",
      "Episode 192000, epsilon:0.07, total_reward 232.0\n",
      "Episode 193000, epsilon:0.07, total_reward 185.0\n",
      "Episode 194000, epsilon:0.07, total_reward 343.0\n",
      "Episode 195000, epsilon:0.07, total_reward 264.0\n",
      "Episode 196000, epsilon:0.07, total_reward 382.0\n",
      "Episode 197000, epsilon:0.07, total_reward 170.0\n",
      "Episode 198000, epsilon:0.07, total_reward 221.0\n",
      "Episode 199000, epsilon:0.07, total_reward 318.0\n",
      "Mean reward for last 100 episodes:226.81\n"
     ]
    },
    {
     "data": {
      "image/png": "[encoded data removed]",
      "text/plain": [
       "<Figure size 640x480 with 1 Axes>"
      ]
     },
     "metadata": {},
     "output_type": "display_data"
    }
   ],
   "source": [
    "EPISODES = 200000\n",
    "PRINT_EVERY = 1000\n",
    "\n",
    "environment = gym.make(\"CartPole-v0\",render_mode=\"rgb_array\")\n",
    "state_transformer = StateTransformer()\n",
    "q_model = QModel(environment,state_transformer)\n",
    "gamma  = 0.9 # disccount factor\n",
    "epsilon_decay = 0.99992\n",
    "epsilon = 1.0 # start fully exploring\n",
    "\n",
    "total_rewards = np.empty(EPISODES)\n",
    "\n",
    "for episode_num in range(EPISODES):\n",
    "    total_reward = run_episode(environment,q_model,epsilon,gamma)\n",
    "    total_rewards[episode_num] = total_reward\n",
    "    \n",
    "\n",
    "    if episode_num % PRINT_EVERY == 0:\n",
    "        print(f\"Episode {episode_num}, epsilon:{epsilon}, total_reward {total_reward}\")\n",
    "    epsilon = epsilon*epsilon_decay if epsilon > 0.07 else 0.07\n",
    "print(f\"Mean reward for last 100 episodes:{total_rewards[-100:].mean()}\")\n",
    "\n",
    "plt.plot(total_rewards)\n",
    "plt.show()"
   ]
  },
  {
   "attachments": {},
   "cell_type": "markdown",
   "metadata": {},
   "source": [
    "Smooth the curve with running mean"
   ]
  },
  {
   "cell_type": "code",
   "execution_count": 19,
   "metadata": {},
   "outputs": [
    {
     "data": {
      "image/png": "[encoded data removed]",
      "text/plain": [
       "<Figure size 640x480 with 1 Axes>"
      ]
     },
     "metadata": {},
     "output_type": "display_data"
    }
   ],
   "source": [
    "df = pd.DataFrame(data=total_rewards,columns=[\"reward\"])\n",
    "df[\"running_mean\"] = df[\"reward\"].rolling(window=5000).mean()\n",
    "plt.plot(df.running_mean)\n",
    "plt.show()"
   ]
  },
  {
   "attachments": {},
   "cell_type": "markdown",
   "metadata": {},
   "source": [
    "### Run an episode rendering the process with a trained agent"
   ]
  },
  {
   "cell_type": "code",
   "execution_count": 25,
   "metadata": {},
   "outputs": [
    {
     "name": "stdout",
     "output_type": "stream",
     "text": [
      "Total reward 447.0 in 447 iterations\n"
     ]
    }
   ],
   "source": [
    "state,_ = environment.reset()\n",
    "done = False\n",
    "total_reward = 0 \n",
    "iterations = 0\n",
    "epsilon = 0.0 #no exploration\n",
    "renders = [] # will store the environment frames to create a gif later\n",
    "\n",
    "while not done:\n",
    "    action = q_model.epsilon_greedy_sample_action(state,epsilon)\n",
    "    new_state, reward, done, trunc, info = environment.step(action)\n",
    "    total_reward += reward\n",
    "    frame = environment.render()\n",
    "    renders.append(frame)\n",
    "    \n",
    "    state = new_state\n",
    "    iterations += 1\n",
    "\n",
    "print(f\"Total reward {total_reward} in {iterations} iterations\")"
   ]
  },
  {
   "cell_type": "code",
   "execution_count": 26,
   "metadata": {},
   "outputs": [],
   "source": [
    "imgs = [Image.fromarray(img) for img in renders]\n",
    "imgs[0].save(\"../animations/QLearningBinsCartPole.gif\",save_all=True, append_images=imgs[1:],loop=0)"
   ]
  },
  {
   "attachments": {},
   "cell_type": "markdown",
   "metadata": {},
   "source": [
    "<img src=\"../animations/introCartPole0.gif\" width=\"750\" align=\"center\" loop=False>"
   ]
  },
  {
   "attachments": {},
   "cell_type": "markdown",
   "metadata": {},
   "source": []
  }
 ],
 "metadata": {
  "kernelspec": {
   "display_name": "python311_torch113_tf212",
   "language": "python",
   "name": "python3"
  },
  "language_info": {
   "codemirror_mode": {
    "name": "ipython",
    "version": 3
   },
   "file_extension": ".py",
   "mimetype": "text/x-python",
   "name": "python",
   "nbconvert_exporter": "python",
   "pygments_lexer": "ipython3",
   "version": "3.10.9"
  },
  "orig_nbformat": 4
 },
 "nbformat": 4,
 "nbformat_minor": 2
}
