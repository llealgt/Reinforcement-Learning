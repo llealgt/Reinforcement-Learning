{
 "cells": [
  {
   "cell_type": "markdown",
   "metadata": {},
   "source": [
    "# Temporal Difference Control: Expected Sarsa\n",
    "\n",
    "An implementation of \"Double Q-learning\"  using a gridworld.\n",
    "\n",
    "More info about \"Double Q-learning\" can be found on section 6.7 of \"Reinforcement Learning: an introduction\" 3rd edition by Barto and Sutton\n"
   ]
  },
  {
   "cell_type": "markdown",
   "metadata": {},
   "source": [
    "The gridworld has the shape(3,4) with a winning state \"w\"(0,3), and a lossing state \"l\"(1,3), a non valid state \"x\"(2,1) and a start state s(3,0)\n",
    "\n",
    "|  |  |  |  |\n",
    "|---|---|---|---|\n",
    "|  |  |  | w |\n",
    "|  |  |  | l |\n",
    "|  | x |  |  |\n",
    "| s |  |  |  |"
   ]
  },
  {
   "cell_type": "code",
   "execution_count": 1,
   "metadata": {
    "collapsed": true
   },
   "outputs": [],
   "source": [
    "import numpy as np\n",
    "import matplotlib.pyplot as plt\n",
    "from collections import defaultdict\n",
    "\n",
    "import grid_world"
   ]
  },
  {
   "cell_type": "markdown",
   "metadata": {},
   "source": [
    "### Disccount factor and step size"
   ]
  },
  {
   "cell_type": "code",
   "execution_count": 2,
   "metadata": {
    "collapsed": true
   },
   "outputs": [],
   "source": [
    "\n",
    "GAMMA = 0.9\n",
    "ALPHA =0.1"
   ]
  },
  {
   "cell_type": "markdown",
   "metadata": {},
   "source": [
    "### Auxiliary function to display the values of a policy after finishing iterative policy evaluation"
   ]
  },
  {
   "cell_type": "code",
   "execution_count": 3,
   "metadata": {
    "collapsed": true
   },
   "outputs": [],
   "source": [
    "def print_values(V,grid):\n",
    "    for i in range(grid.width):\n",
    "        print(\"--------------------------\")\n",
    "        for j in range(grid.height):\n",
    "            v = V.get((i,j),0)\n",
    "            if v >= 0:\n",
    "                print(\" %.2f|\" % v, end=\"\")\n",
    "            else:\n",
    "                print(\"%.2f|\" % v, end=\"\")\n",
    "        print(\"\")"
   ]
  },
  {
   "cell_type": "markdown",
   "metadata": {},
   "source": [
    "### Auxiliary function to display a stochastic policy"
   ]
  },
  {
   "cell_type": "code",
   "execution_count": 4,
   "metadata": {
    "collapsed": true
   },
   "outputs": [],
   "source": [
    "def print_policy(P,grid):\n",
    "    for i in range(grid.width):\n",
    "        print(\"---------------------------\")\n",
    "        for j in range(grid.height):\n",
    "            a = P.get((i,j),' ')\n",
    "            if isinstance(a,dict):\n",
    "                a = list(a)[0]\n",
    "            print(\"  %s  |\" % a, end=\"\")\n",
    "        print(\"\")"
   ]
  },
  {
   "cell_type": "markdown",
   "metadata": {},
   "source": [
    "### From or defined grid world file, import a negative grid ,retrieve all actions and states and print grid rewards\n",
    "Negative grid is used to encourage the agent to find a shortest path to the goal"
   ]
  },
  {
   "cell_type": "code",
   "execution_count": 5,
   "metadata": {
    "collapsed": true
   },
   "outputs": [],
   "source": [
    "grid = grid_world.Grid.standard_grid()\n",
    "states = grid.all_states()\n",
    "actions = list(set([action   for action_tup in grid.actions.values() for action in action_tup]))"
   ]
  },
  {
   "cell_type": "code",
   "execution_count": 6,
   "metadata": {},
   "outputs": [
    {
     "data": {
      "text/plain": [
       "('b', 2)"
      ]
     },
     "execution_count": 6,
     "metadata": {},
     "output_type": "execute_result"
    }
   ],
   "source": [
    "def argmax_dict(dictionary):\n",
    "    # returns the argmax key and the max value from a dictionary\n",
    "    # will be used for policy improvement from Q\n",
    "    max_key = None\n",
    "    max_val = float(\"-inf\")\n",
    "    \n",
    "    for k,v in dictionary.items():\n",
    "        if v > max_val:\n",
    "            max_val = v\n",
    "            max_key = k\n",
    "            \n",
    "    return max_key,max_val\n",
    "        \n",
    "argmax_dict({\"a\":1,\"b\":2})"
   ]
  },
  {
   "cell_type": "code",
   "execution_count": 7,
   "metadata": {
    "scrolled": true
   },
   "outputs": [
    {
     "data": {
      "text/plain": [
       "['U', 'L', 'R', 'D']"
      ]
     },
     "execution_count": 7,
     "metadata": {},
     "output_type": "execute_result"
    }
   ],
   "source": [
    "actions"
   ]
  },
  {
   "cell_type": "code",
   "execution_count": 8,
   "metadata": {
    "collapsed": true
   },
   "outputs": [],
   "source": [
    "def epsilon_greedy_action(Q,state,epsilon=0.1):\n",
    "    # choose an action using epsilon-greedy strategy\n",
    "    probability = np.random.random()\n",
    "    result = 0\n",
    "    \n",
    "    if probability < epsilon:\n",
    "        #explore\n",
    "        result = np.random.choice(actions)\n",
    "    else: \n",
    "        #exploit\n",
    "        result = argmax_dict(Q[state])[0]\n",
    "        \n",
    "    return result"
   ]
  },
  {
   "cell_type": "code",
   "execution_count": 9,
   "metadata": {
    "scrolled": true
   },
   "outputs": [
    {
     "name": "stdout",
     "output_type": "stream",
     "text": [
      "Rewards of grid\n",
      "--------------------------\n",
      " 0.00| 0.00| 0.00| 1.00|\n",
      "--------------------------\n",
      " 0.00| 0.00| 0.00|-1.00|\n",
      "--------------------------\n",
      " 0.00| 0.00| 0.00| 0.00|\n"
     ]
    }
   ],
   "source": [
    "print(\"Rewards of grid\")\n",
    "print_values(grid.rewards,grid)"
   ]
  },
  {
   "cell_type": "markdown",
   "metadata": {},
   "source": [
    "### Initialize  policy"
   ]
  },
  {
   "cell_type": "code",
   "execution_count": 10,
   "metadata": {},
   "outputs": [
    {
     "name": "stdout",
     "output_type": "stream",
     "text": [
      "---------------------------\n",
      "  R  |  R  |  R  |     |\n",
      "---------------------------\n",
      "  U  |     |  R  |     |\n",
      "---------------------------\n",
      "  U  |  R  |  R  |  U  |\n"
     ]
    }
   ],
   "source": [
    "policy = {(2,0):'U',\n",
    "         (1,0):'U',\n",
    "         (0,0):'R',\n",
    "         (0,1):'R',\n",
    "         (0,2):'R',\n",
    "         (1,2):'R',\n",
    "         (2,1):'R',\n",
    "         (2,2):'R',\n",
    "         (2,3):'U'}\n",
    "\n",
    "print_policy(policy,grid)"
   ]
  },
  {
   "cell_type": "code",
   "execution_count": 11,
   "metadata": {},
   "outputs": [],
   "source": [
    "def double_Q_learning(grid,policy,episodes,gamma =1,alpha=1):\n",
    "    # double Q learning needs double memory because uses 2 estimates of Q\n",
    "    Q1 = dict()\n",
    "    Q2 = dict()\n",
    "    # a combination of Q1 and Q2 is used to to e-greedy action selection, can be an average or sum\n",
    "    Q = dict()\n",
    "    \n",
    "    \n",
    "    for state in grid.all_states():\n",
    "        Q1[state] = dict()\n",
    "        Q2[state] = dict()\n",
    "        Q[state] = dict()\n",
    "        for action in actions:\n",
    "            Q1[state][action] = 0\n",
    "            Q2[state][action] = 0\n",
    "            Q[state][action] = 0\n",
    "            \n",
    "            \n",
    "\n",
    "    for episode in range(1,episodes +1):\n",
    "        epsilon  =  0.5\n",
    "        finished = False\n",
    "        \n",
    "        s = (2,0)\n",
    "        grid.set_state(s)\n",
    "        \n",
    "        \n",
    "        while not finished:\n",
    "            a = epsilon_greedy_action(Q,s,epsilon)\n",
    "            r = grid.move(a)    \n",
    "            s1 = grid.current_state()\n",
    "            \n",
    "            # double learning update (randomly alternate between which Q to update as function of the other)\n",
    "            q_prob = np.random.random()\n",
    "            \n",
    "            if q_prob < 0.5:\n",
    "                Q1_max_action = argmax_dict(Q1[s1])[0]\n",
    "                Q1[s][a] = Q1[s][a] + alpha*(r + (gamma*Q2[s1][Q1_max_action]) - Q1[s][a])\n",
    "            else:\n",
    "                Q2_max_action = argmax_dict(Q2[s1])[0]\n",
    "                Q2[s][a] = Q2[s][a] + alpha*(r + (gamma*Q1[s1][Q2_max_action]) - Q2[s][a])\n",
    "                \n",
    "            ## combine Q1 and Q2 on a single Q used for e-greedy action selection\n",
    "            for state in grid.all_states():\n",
    "                for action in actions:\n",
    "                    Q[state][action] = (Q1[state][action] + Q2[state][action])/2\n",
    "                \n",
    "            # expected sarsa update left for comparison\n",
    "            #Q[s][a] = Q[s][a] + alpha*(r + (gamma*expected_Qs1) - Q[s][a])\n",
    "            \n",
    "            # Q learning update left for comparison\n",
    "            #new_state_argmax = argmax_dict(Q[s1]) # dictionary with (action,value) meaning returns the best action and its value\n",
    "            #Q[s][a] = Q[s][a] + alpha*(r + (gamma*new_state_argmax[1]) - Q[s][a])\n",
    "            \n",
    "            #sarsa update left for comparison to q LEARNING\n",
    "            #Q[s][a] = Q[s][a] + alpha*(r +(gamma*Q[s1][a1]) - Q[s][a])\n",
    "            \n",
    "            finished =grid.game_over()\n",
    "                \n",
    "            s = s1\n",
    "            \n",
    "    for s in policy.keys():\n",
    "        state_greedy_action = argmax_dict(Q[s])\n",
    "        \n",
    "        if not state_greedy_action[0] is None:\n",
    "            policy[s] = state_greedy_action[0]\n",
    "            \n",
    "    return policy,Q\n",
    "\n",
    "policy,Q = double_Q_learning(grid,policy,100,GAMMA,ALPHA)"
   ]
  },
  {
   "cell_type": "code",
   "execution_count": 12,
   "metadata": {},
   "outputs": [
    {
     "data": {
      "text/plain": [
       "{(0, 0): 'R',\n",
       " (0, 1): 'R',\n",
       " (0, 2): 'R',\n",
       " (1, 0): 'U',\n",
       " (1, 2): 'U',\n",
       " (2, 0): 'U',\n",
       " (2, 1): 'R',\n",
       " (2, 2): 'U',\n",
       " (2, 3): 'L'}"
      ]
     },
     "execution_count": 12,
     "metadata": {},
     "output_type": "execute_result"
    }
   ],
   "source": [
    "policy"
   ]
  },
  {
   "cell_type": "code",
   "execution_count": 13,
   "metadata": {},
   "outputs": [
    {
     "name": "stdout",
     "output_type": "stream",
     "text": [
      "Policy\n",
      "---------------------------\n",
      "  R  |  R  |  R  |     |\n",
      "---------------------------\n",
      "  U  |     |  U  |     |\n",
      "---------------------------\n",
      "  U  |  R  |  U  |  L  |\n"
     ]
    }
   ],
   "source": [
    "print(\"Policy\")\n",
    "print_policy(policy,grid)"
   ]
  },
  {
   "cell_type": "code",
   "execution_count": 14,
   "metadata": {},
   "outputs": [
    {
     "name": "stdout",
     "output_type": "stream",
     "text": [
      "state  |policy action| state value\n",
      "(2, 0) |       U     | 0.349539822247958\n",
      "state  |policy action| state value\n",
      "(1, 0) |       U     | 0.5284008771870028\n",
      "state  |policy action| state value\n",
      "(0, 0) |       R     | 0.7194453806022407\n",
      "state  |policy action| state value\n",
      "(0, 1) |       R     | 0.866922356031626\n",
      "state  |policy action| state value\n",
      "(0, 2) |       R     | 0.9924546754953881\n",
      "state  |policy action| state value\n",
      "(1, 2) |       U     | 0.6013999512870056\n",
      "state  |policy action| state value\n",
      "(2, 1) |       R     | 0.04121736874435202\n",
      "state  |policy action| state value\n",
      "(2, 2) |       U     | 0.1978937221361523\n",
      "state  |policy action| state value\n",
      "(2, 3) |       L     | 0.006862111536491047\n"
     ]
    }
   ],
   "source": [
    "V = defaultdict(lambda:0)\n",
    "for state in policy.keys():\n",
    "    V[state] = Q[state][policy[state]]\n",
    "    print(\"state  |policy action| state value\")\n",
    "    print(state,\"|      \",policy[state] , \"    |\", V[state] )\n",
    "    "
   ]
  },
  {
   "cell_type": "code",
   "execution_count": 15,
   "metadata": {},
   "outputs": [
    {
     "name": "stdout",
     "output_type": "stream",
     "text": [
      "--------------------------\n",
      " 0.72| 0.87| 0.99| 0.00|\n",
      "--------------------------\n",
      " 0.53| 0.00| 0.60| 0.00|\n",
      "--------------------------\n",
      " 0.35| 0.04| 0.20| 0.01|\n"
     ]
    }
   ],
   "source": [
    "print_values(grid=grid,V=V)"
   ]
  },
  {
   "cell_type": "markdown",
   "metadata": {},
   "source": [
    "## Conclusions\n",
    "* Double Q-learning helps avoid the \"maximization bias\" found in Q learning by using the max value of estimates\n",
    "* It allows to learn a version of Q action values not positive biased\n",
    "* It does so by using 2 Q estimates and using one to update the other alternating randomly\n",
    "* Theres also double sarsa and double expected sarsa methods"
   ]
  },
  {
   "cell_type": "code",
   "execution_count": null,
   "metadata": {
    "collapsed": true
   },
   "outputs": [],
   "source": []
  }
 ],
 "metadata": {
  "kernelspec": {
   "display_name": "Python 3",
   "language": "python",
   "name": "python3"
  },
  "language_info": {
   "codemirror_mode": {
    "name": "ipython",
    "version": 3
   },
   "file_extension": ".py",
   "mimetype": "text/x-python",
   "name": "python",
   "nbconvert_exporter": "python",
   "pygments_lexer": "ipython3",
   "version": "3.6.1"
  }
 },
 "nbformat": 4,
 "nbformat_minor": 2
}
