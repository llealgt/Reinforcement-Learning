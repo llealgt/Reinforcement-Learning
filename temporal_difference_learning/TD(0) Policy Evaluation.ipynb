{
 "cells": [
  {
   "cell_type": "markdown",
   "metadata": {},
   "source": [
    "# TD(0) Policy Evaluation\n",
    "An implementation of TD(0) Policy Evaluation using a gridworld.\n",
    "\n",
    "The code is intentionally not optimal in order to increase legibility and make it easier to understand(TD(0) update is not performed \"online\" but after finishing the episode)"
   ]
  },
  {
   "cell_type": "markdown",
   "metadata": {},
   "source": [
    "The gridworld has the shape(3,4) with a winning state \"w\"(0,3), and a lossing state \"l\"(1,3), a non valid state \"x\"(2,1) and a start state s(3,0)\n",
    "\n",
    "|  |  |  |  |\n",
    "|---|---|---|---|\n",
    "|  |  |  | w |\n",
    "|  |  |  | l |\n",
    "|  | x |  |  |\n",
    "| s |  |  |  |"
   ]
  },
  {
   "cell_type": "code",
   "execution_count": 1,
   "metadata": {},
   "outputs": [],
   "source": [
    "import numpy as np\n",
    "import matplotlib.pyplot as plt\n",
    "from collections import defaultdict\n",
    "\n",
    "import grid_world"
   ]
  },
  {
   "cell_type": "markdown",
   "metadata": {},
   "source": [
    "### Disccount factor and step size"
   ]
  },
  {
   "cell_type": "code",
   "execution_count": 2,
   "metadata": {
    "collapsed": true
   },
   "outputs": [],
   "source": [
    "\n",
    "GAMMA = 0.9\n",
    "ALPHA =0.1"
   ]
  },
  {
   "cell_type": "markdown",
   "metadata": {},
   "source": [
    "### Auxiliary function to display the values of a policy after finishing iterative policy evaluation"
   ]
  },
  {
   "cell_type": "code",
   "execution_count": 3,
   "metadata": {
    "collapsed": true
   },
   "outputs": [],
   "source": [
    "def print_values(V,grid):\n",
    "    for i in range(grid.width):\n",
    "        print(\"--------------------------\")\n",
    "        for j in range(grid.height):\n",
    "            v = V.get((i,j),0)\n",
    "            if v >= 0:\n",
    "                print(\" %.2f|\" % v, end=\"\")\n",
    "            else:\n",
    "                print(\"%.2f|\" % v, end=\"\")\n",
    "        print(\"\")"
   ]
  },
  {
   "cell_type": "markdown",
   "metadata": {},
   "source": [
    "### Auxiliary function to display a stochastic policy"
   ]
  },
  {
   "cell_type": "code",
   "execution_count": 4,
   "metadata": {
    "collapsed": true
   },
   "outputs": [],
   "source": [
    "def print_policy(P,grid):\n",
    "    for i in range(grid.width):\n",
    "        print(\"---------------------------\")\n",
    "        for j in range(grid.height):\n",
    "            a = P.get((i,j),' ')\n",
    "            if isinstance(a,dict):\n",
    "                a = list(a)[0]\n",
    "            print(\"  %s  |\" % a, end=\"\")\n",
    "        print(\"\")"
   ]
  },
  {
   "cell_type": "markdown",
   "metadata": {},
   "source": [
    "### From or defined grid world file, import a negative grid ,retrieve all actions and states and print grid rewards\n",
    "Negative grid is used to encourage the agent to find a shortest path to the goal"
   ]
  },
  {
   "cell_type": "code",
   "execution_count": 5,
   "metadata": {
    "collapsed": true
   },
   "outputs": [],
   "source": [
    "grid = grid_world.Grid.standard_grid()\n",
    "states = grid.all_states()\n",
    "actions = list(set([action   for action_tup in grid.actions.values() for action in action_tup]))"
   ]
  },
  {
   "cell_type": "code",
   "execution_count": 6,
   "metadata": {},
   "outputs": [
    {
     "data": {
      "text/plain": [
       "('b', 2)"
      ]
     },
     "execution_count": 6,
     "metadata": {},
     "output_type": "execute_result"
    }
   ],
   "source": [
    "def argmax_dict(dictionary):\n",
    "    # returns the argmax key and the max value from a dictionary\n",
    "    # will be used for policy improvement from Q\n",
    "    max_key = None\n",
    "    max_val = float(\"-inf\")\n",
    "    \n",
    "    for k,v in dictionary.items():\n",
    "        if v > max_val:\n",
    "            max_val = v\n",
    "            max_key = k\n",
    "            \n",
    "    return max_key,max_val\n",
    "        \n",
    "argmax_dict({\"a\":1,\"b\":2})"
   ]
  },
  {
   "cell_type": "code",
   "execution_count": 7,
   "metadata": {
    "scrolled": true
   },
   "outputs": [
    {
     "data": {
      "text/plain": [
       "['D', 'U', 'R', 'L']"
      ]
     },
     "execution_count": 7,
     "metadata": {},
     "output_type": "execute_result"
    }
   ],
   "source": [
    "actions"
   ]
  },
  {
   "cell_type": "code",
   "execution_count": 8,
   "metadata": {
    "collapsed": true
   },
   "outputs": [],
   "source": [
    "def epsilon_greedy_action(policy,state,epsilon=0.1):\n",
    "    # choose an action using epsilon-greedy strategy\n",
    "    probability = np.random.random()\n",
    "    greedy_action = policy[state]\n",
    "    non_greedy_actions = list(set(actions)-set(greedy_action))\n",
    "    \n",
    "    if probability < epsilon:\n",
    "        return np.random.choice(non_greedy_actions)\n",
    "    else: \n",
    "        return policy[state]"
   ]
  },
  {
   "cell_type": "code",
   "execution_count": 9,
   "metadata": {
    "collapsed": true
   },
   "outputs": [],
   "source": [
    "def play_game(grid,policy,gamma=0.9,epsilon  = 0.1,alpha=1):\n",
    "    # ejecutes a complete episode and returns the states and rewards in the episode\n",
    "    # using e-greedy policy\n",
    "    \n",
    "    s = (2,0)\n",
    "    grid.set_state(s)\n",
    "    states_and_rewards = [(s,0)]\n",
    "    \n",
    "    while not grid.game_over():\n",
    "        a = epsilon_greedy_action(policy,s,epsilon)\n",
    "        r = grid.move(a)\n",
    "        s = grid.current_state()\n",
    "        \n",
    "        states_and_rewards.append((s,r))\n",
    "        \n",
    "    return states_and_rewards\n"
   ]
  },
  {
   "cell_type": "code",
   "execution_count": 10,
   "metadata": {
    "collapsed": true
   },
   "outputs": [],
   "source": [
    "grid = grid_world.Grid.standard_grid()"
   ]
  },
  {
   "cell_type": "code",
   "execution_count": 11,
   "metadata": {
    "scrolled": true
   },
   "outputs": [
    {
     "name": "stdout",
     "output_type": "stream",
     "text": [
      "Rewards of grid\n",
      "--------------------------\n",
      " 0.00| 0.00| 0.00| 1.00|\n",
      "--------------------------\n",
      " 0.00| 0.00| 0.00|-1.00|\n",
      "--------------------------\n",
      " 0.00| 0.00| 0.00| 0.00|\n"
     ]
    }
   ],
   "source": [
    "print(\"Rewards of grid\")\n",
    "print_values(grid.rewards,grid)"
   ]
  },
  {
   "cell_type": "markdown",
   "metadata": {},
   "source": [
    "### Initialize  policy"
   ]
  },
  {
   "cell_type": "code",
   "execution_count": 12,
   "metadata": {},
   "outputs": [
    {
     "name": "stdout",
     "output_type": "stream",
     "text": [
      "---------------------------\n",
      "  R  |  R  |  R  |     |\n",
      "---------------------------\n",
      "  U  |     |  R  |     |\n",
      "---------------------------\n",
      "  U  |  R  |  R  |  U  |\n"
     ]
    }
   ],
   "source": [
    "policy = {(2,0):'U',\n",
    "         (1,0):'U',\n",
    "         (0,0):'R',\n",
    "         (0,1):'R',\n",
    "         (0,2):'R',\n",
    "         (1,2):'R',\n",
    "         (2,1):'R',\n",
    "         (2,2):'R',\n",
    "         (2,3):'U'}\n",
    "\n",
    "print_policy(policy,grid)"
   ]
  },
  {
   "cell_type": "code",
   "execution_count": 13,
   "metadata": {},
   "outputs": [],
   "source": [
    "def TD0(grid,policy,episodes,gamma =1,epsilon=0.1,alpha=1):\n",
    "    V = defaultdict(lambda:0)\n",
    "    \n",
    "    for i in range(episodes):\n",
    "        states_and_rewards = play_game(grid,policy,gamma,epsilon,alpha)\n",
    "        \n",
    "        # perform TD0 update(this is not efficient and offline but its intentionall to maintain clarity)\n",
    "        for t in range(len(states_and_rewards)-1):\n",
    "            s = states_and_rewards[t][0]\n",
    "            s1 = states_and_rewards[t+1][0]\n",
    "            r = states_and_rewards[t+1][1]\n",
    "            \n",
    "            V[s] = V[s] + alpha*(r + (gamma*V[s1]) -V[s] )\n",
    "        \n",
    "    return V\n",
    "        \n",
    "V = TD0(grid,policy,10000,GAMMA,0.1,ALPHA)"
   ]
  },
  {
   "cell_type": "code",
   "execution_count": 14,
   "metadata": {},
   "outputs": [
    {
     "data": {
      "text/plain": [
       "{(0, 0): 'R',\n",
       " (0, 1): 'R',\n",
       " (0, 2): 'R',\n",
       " (1, 0): 'U',\n",
       " (1, 2): 'R',\n",
       " (2, 0): 'U',\n",
       " (2, 1): 'R',\n",
       " (2, 2): 'R',\n",
       " (2, 3): 'U'}"
      ]
     },
     "execution_count": 14,
     "metadata": {},
     "output_type": "execute_result"
    }
   ],
   "source": [
    "policy"
   ]
  },
  {
   "cell_type": "code",
   "execution_count": 15,
   "metadata": {},
   "outputs": [
    {
     "name": "stdout",
     "output_type": "stream",
     "text": [
      "Policy\n",
      "---------------------------\n",
      "  R  |  R  |  R  |     |\n",
      "---------------------------\n",
      "  U  |     |  R  |     |\n",
      "---------------------------\n",
      "  U  |  R  |  R  |  U  |\n"
     ]
    }
   ],
   "source": [
    "print(\"Policy\")\n",
    "print_policy(policy,grid)"
   ]
  },
  {
   "cell_type": "code",
   "execution_count": 16,
   "metadata": {},
   "outputs": [
    {
     "name": "stdout",
     "output_type": "stream",
     "text": [
      "state  |policy action| state value\n",
      "(2, 0) |       U     | 0.5838810033674448\n",
      "state  |policy action| state value\n",
      "(1, 0) |       U     | 0.6710959132776831\n",
      "state  |policy action| state value\n",
      "(0, 0) |       R     | 0.7234236767056433\n",
      "state  |policy action| state value\n",
      "(0, 1) |       R     | 0.77008863398827\n",
      "state  |policy action| state value\n",
      "(0, 2) |       R     | 0.8903916223953797\n",
      "state  |policy action| state value\n",
      "(1, 2) |       R     | -0.93092332460674\n",
      "state  |policy action| state value\n",
      "(2, 1) |       R     | -0.7282953092171845\n",
      "state  |policy action| state value\n",
      "(2, 2) |       R     | -0.8795926533738817\n",
      "state  |policy action| state value\n",
      "(2, 3) |       U     | -0.9939348818040227\n"
     ]
    }
   ],
   "source": [
    "for state in policy.keys():\n",
    "    print(\"state  |policy action| state value\")\n",
    "    print(state,\"|      \",policy[state] , \"    |\", V[state])\n",
    "    "
   ]
  },
  {
   "cell_type": "code",
   "execution_count": 17,
   "metadata": {},
   "outputs": [
    {
     "name": "stdout",
     "output_type": "stream",
     "text": [
      "--------------------------\n",
      " 0.72| 0.77| 0.89| 0.00|\n",
      "--------------------------\n",
      " 0.67| 0.00|-0.93| 0.00|\n",
      "--------------------------\n",
      " 0.58|-0.73|-0.88|-0.99|\n"
     ]
    }
   ],
   "source": [
    "print_values(grid=grid,V=V)"
   ]
  },
  {
   "cell_type": "markdown",
   "metadata": {},
   "source": [
    "## Conclusions\n",
    "* TD(0) learns from experience as Markov and doesnt need a complete model of dynamics\n",
    "* It bootstraps as dynamic programming so it does not need to wait for episodes to end"
   ]
  },
  {
   "cell_type": "code",
   "execution_count": null,
   "metadata": {
    "collapsed": true
   },
   "outputs": [],
   "source": []
  }
 ],
 "metadata": {
  "kernelspec": {
   "display_name": "Python 3",
   "language": "python",
   "name": "python3"
  },
  "language_info": {
   "codemirror_mode": {
    "name": "ipython",
    "version": 3
   },
   "file_extension": ".py",
   "mimetype": "text/x-python",
   "name": "python",
   "nbconvert_exporter": "python",
   "pygments_lexer": "ipython3",
   "version": "3.6.1"
  }
 },
 "nbformat": 4,
 "nbformat_minor": 2
}
