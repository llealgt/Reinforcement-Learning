{
 "cells": [
  {
   "cell_type": "markdown",
   "metadata": {},
   "source": [
    "# n-step SARSA Control\n",
    "\n",
    "An implementation of \"n-step SARSA\" for control  using a gridworld.\n",
    "\n",
    "More info about \"n-step SARSA\" can be found on section 7.2 of \"Reinforcement Learning: an introduction\" 2nd edition by Barto and Sutton\n"
   ]
  },
  {
   "cell_type": "markdown",
   "metadata": {},
   "source": [
    "The gridworld has the shape(3,4) with a winning state \"w\"(0,3), and a lossing state \"l\"(1,3), a non valid state \"x\"(2,1) and a start state s(3,0)\n",
    "\n",
    "|  |  |  |  |\n",
    "|---|---|---|---|\n",
    "|  |  |  | w |\n",
    "|  |  |  | l |\n",
    "|  | x |  |  |\n",
    "| s |  |  |  |"
   ]
  },
  {
   "cell_type": "code",
   "execution_count": 1,
   "metadata": {
    "collapsed": true
   },
   "outputs": [],
   "source": [
    "import numpy as np\n",
    "import matplotlib.pyplot as plt\n",
    "from collections import defaultdict\n",
    "\n",
    "import grid_world"
   ]
  },
  {
   "cell_type": "markdown",
   "metadata": {},
   "source": [
    "### Disccount factor and step size"
   ]
  },
  {
   "cell_type": "code",
   "execution_count": 2,
   "metadata": {
    "collapsed": true
   },
   "outputs": [],
   "source": [
    "\n",
    "GAMMA = 0.9\n",
    "ALPHA =0.1"
   ]
  },
  {
   "cell_type": "markdown",
   "metadata": {},
   "source": [
    "### Auxiliary function to display the values of a policy after finishing iterative policy evaluation"
   ]
  },
  {
   "cell_type": "code",
   "execution_count": 3,
   "metadata": {
    "collapsed": true
   },
   "outputs": [],
   "source": [
    "def print_values(V,grid):\n",
    "    for i in range(grid.width):\n",
    "        print(\"--------------------------\")\n",
    "        for j in range(grid.height):\n",
    "            v = V.get((i,j),0)\n",
    "            if v >= 0:\n",
    "                print(\" %.2f|\" % v, end=\"\")\n",
    "            else:\n",
    "                print(\"%.2f|\" % v, end=\"\")\n",
    "        print(\"\")"
   ]
  },
  {
   "cell_type": "markdown",
   "metadata": {},
   "source": [
    "### Auxiliary function to display a stochastic policy"
   ]
  },
  {
   "cell_type": "code",
   "execution_count": 4,
   "metadata": {},
   "outputs": [],
   "source": [
    "def print_policy(P,grid):\n",
    "    for i in range(grid.width):\n",
    "        print(\"---------------------------\")\n",
    "        for j in range(grid.height):\n",
    "            a = P.get((i,j),' ')\n",
    "            if isinstance(a,dict):\n",
    "                a = list(a)[0]\n",
    "            print(\"  %s  |\" % a, end=\"\")\n",
    "        print(\"\")"
   ]
  },
  {
   "cell_type": "markdown",
   "metadata": {},
   "source": [
    "### From or defined grid world file, import a negative grid ,retrieve all actions and states and print grid rewards\n",
    "Negative grid is used to encourage the agent to find a shortest path to the goal"
   ]
  },
  {
   "cell_type": "code",
   "execution_count": 5,
   "metadata": {
    "collapsed": true
   },
   "outputs": [],
   "source": [
    "grid = grid_world.Grid.standard_grid()\n",
    "states = grid.all_states()\n",
    "actions = list(set([action   for action_tup in grid.actions.values() for action in action_tup]))"
   ]
  },
  {
   "cell_type": "code",
   "execution_count": 6,
   "metadata": {},
   "outputs": [
    {
     "data": {
      "text/plain": [
       "('b', 2)"
      ]
     },
     "execution_count": 6,
     "metadata": {},
     "output_type": "execute_result"
    }
   ],
   "source": [
    "def argmax_dict(dictionary):\n",
    "    # returns the argmax key and the max value from a dictionary\n",
    "    # will be used for policy improvement from Q\n",
    "    max_key = None\n",
    "    max_val = float(\"-inf\")\n",
    "    \n",
    "    for k,v in dictionary.items():\n",
    "        if v > max_val:\n",
    "            max_val = v\n",
    "            max_key = k\n",
    "            \n",
    "    return max_key,max_val\n",
    "        \n",
    "argmax_dict({\"a\":1,\"b\":2})"
   ]
  },
  {
   "cell_type": "code",
   "execution_count": 7,
   "metadata": {
    "scrolled": true
   },
   "outputs": [
    {
     "data": {
      "text/plain": [
       "['L', 'D', 'U', 'R']"
      ]
     },
     "execution_count": 7,
     "metadata": {},
     "output_type": "execute_result"
    }
   ],
   "source": [
    "actions"
   ]
  },
  {
   "cell_type": "code",
   "execution_count": 8,
   "metadata": {
    "collapsed": true
   },
   "outputs": [],
   "source": [
    "def epsilon_greedy_action(Q,state,epsilon=0.1):\n",
    "    # choose an action using epsilon-greedy strategy\n",
    "    probability = np.random.random()\n",
    "    result = 0\n",
    "    \n",
    "    if probability < epsilon:\n",
    "        #explore\n",
    "        result = np.random.choice(actions)\n",
    "    else: \n",
    "        #exploit\n",
    "        result = argmax_dict(Q[state])[0]\n",
    "        \n",
    "    return result"
   ]
  },
  {
   "cell_type": "code",
   "execution_count": 9,
   "metadata": {
    "scrolled": true
   },
   "outputs": [
    {
     "name": "stdout",
     "output_type": "stream",
     "text": [
      "Rewards of grid\n",
      "--------------------------\n",
      " 0.00| 0.00| 0.00| 1.00|\n",
      "--------------------------\n",
      " 0.00| 0.00| 0.00|-1.00|\n",
      "--------------------------\n",
      " 0.00| 0.00| 0.00| 0.00|\n"
     ]
    }
   ],
   "source": [
    "print(\"Rewards of grid\")\n",
    "print_values(grid.rewards,grid)"
   ]
  },
  {
   "cell_type": "markdown",
   "metadata": {},
   "source": [
    "### Initialize  policy"
   ]
  },
  {
   "cell_type": "code",
   "execution_count": 10,
   "metadata": {},
   "outputs": [
    {
     "name": "stdout",
     "output_type": "stream",
     "text": [
      "---------------------------\n",
      "  R  |  R  |  R  |     |\n",
      "---------------------------\n",
      "  U  |     |  R  |     |\n",
      "---------------------------\n",
      "  U  |  R  |  R  |  U  |\n"
     ]
    }
   ],
   "source": [
    "policy = {(2,0):'U',\n",
    "         (1,0):'U',\n",
    "         (0,0):'R',\n",
    "         (0,1):'R',\n",
    "         (0,2):'R',\n",
    "         (1,2):'R',\n",
    "         (2,1):'R',\n",
    "         (2,2):'R',\n",
    "         (2,3):'U'}\n",
    "\n",
    "print_policy(policy,grid)"
   ]
  },
  {
   "cell_type": "code",
   "execution_count": 11,
   "metadata": {},
   "outputs": [
    {
     "name": "stdout",
     "output_type": "stream",
     "text": [
      "Rewards of grid\n",
      "--------------------------\n",
      " 0.00| 0.00| 0.00| 1.00|\n",
      "--------------------------\n",
      " 0.00| 0.00| 0.00|-1.00|\n",
      "--------------------------\n",
      " 0.00| 0.00| 0.00| 0.00|\n"
     ]
    }
   ],
   "source": [
    "print(\"Rewards of grid\")\n",
    "print_values(grid.rewards,grid)"
   ]
  },
  {
   "cell_type": "code",
   "execution_count": 13,
   "metadata": {},
   "outputs": [],
   "source": [
    "def n_step_SARSA(policy,episodes ,gamma = 1,alpha = 0.9,n=2):\n",
    "    Q = dict()\n",
    "    V = defaultdict()\n",
    "    for state in grid.all_states():\n",
    "        Q[state] = dict()\n",
    "        for action in actions:\n",
    "            Q[state][action] = 0 # np.random.random()\n",
    "            \n",
    "    for episode in range(1,episodes+1):\n",
    "        \n",
    "        epsilon =  1/episode\n",
    "        states = dict() #to store the sequence of states\n",
    "        rewards = dict() #to store the sequence of rewards\n",
    "        taken_actions = dict() #to store the sequence of actions\n",
    "        \n",
    "        s = (2,0)\n",
    "        grid.set_state(s)\n",
    "        states[0] = s\n",
    "        \n",
    "        a = epsilon_greedy_action(Q,s,epsilon)\n",
    "        taken_actions[0] = a\n",
    "        \n",
    "        rewards[0] = 0\n",
    "        \n",
    "        T = 100000 #bo0ke code sets it to infinite\n",
    "        finished  = False\n",
    "        t = 0\n",
    "        \n",
    "        while not finished: #finished when tao = T  - 1 (update time is before end of episode)\n",
    "            if t < T:\n",
    "                r = grid.move(a)\n",
    "                s1 =grid.current_state()\n",
    "                rewards[t+1] = r\n",
    "                states[t+1] = s1\n",
    "                \n",
    "                if grid.game_over(): #if St+1 is terminal set T to last timestemp\n",
    "                    T =  t +1\n",
    "                else:\n",
    "                    a = epsilon_greedy_action(Q,s1,epsilon)\n",
    "                    taken_actions[t+1] = a\n",
    "                    \n",
    "            updated_time = t - n + 1 # in the book the variable is represente by \"tao\" (the time step t for update)\n",
    "            \n",
    "            if updated_time >= 0: #update only when at least n state-action sequences observed\n",
    "                update_limit = min(updated_time +n, T)\n",
    "                G = 0 \n",
    "                for i in range(updated_time +1, update_limit +1):\n",
    "                    G += ((gamma**(i-updated_time-1))*rewards[i])\n",
    "                    \n",
    "                if updated_time + n < T :\n",
    "                    G = G + ((gamma**n)*Q[states[updated_time+n]][taken_actions[updated_time+n]])\n",
    "                Q[states[updated_time]][taken_actions[updated_time]]  =  Q[states[updated_time]][taken_actions[updated_time]] + alpha*(G - Q[states[updated_time]][taken_actions[updated_time]])\n",
    "                \n",
    "                \n",
    "            s = s1\n",
    "            t+=1\n",
    "            \n",
    "            finished = (updated_time == T -1)\n",
    "        \n",
    "    for s in policy.keys():\n",
    "        state_greedy_action = argmax_dict(Q[s])\n",
    "                    \n",
    "        if not state_greedy_action[0] is None:\n",
    "            policy[s] = state_greedy_action[0]\n",
    "            V[s] = Q[s][state_greedy_action[0]]\n",
    "                \n",
    "    return Q,V,policy\n",
    "\n",
    "Q,V,policy = n_step_SARSA(policy,500,0.9,0.25,5)"
   ]
  },
  {
   "cell_type": "code",
   "execution_count": 14,
   "metadata": {},
   "outputs": [
    {
     "data": {
      "text/plain": [
       "{(0, 0): 'R',\n",
       " (0, 1): 'R',\n",
       " (0, 2): 'R',\n",
       " (1, 0): 'U',\n",
       " (1, 2): 'D',\n",
       " (2, 0): 'U',\n",
       " (2, 1): 'L',\n",
       " (2, 2): 'L',\n",
       " (2, 3): 'L'}"
      ]
     },
     "execution_count": 14,
     "metadata": {},
     "output_type": "execute_result"
    }
   ],
   "source": [
    "policy"
   ]
  },
  {
   "cell_type": "code",
   "execution_count": 15,
   "metadata": {},
   "outputs": [
    {
     "name": "stdout",
     "output_type": "stream",
     "text": [
      "Policy\n",
      "---------------------------\n",
      "  R  |  R  |  R  |     |\n",
      "---------------------------\n",
      "  U  |     |  D  |     |\n",
      "---------------------------\n",
      "  U  |  L  |  L  |  L  |\n"
     ]
    }
   ],
   "source": [
    "print(\"Policy\")\n",
    "print_policy(policy,grid)"
   ]
  },
  {
   "cell_type": "code",
   "execution_count": 16,
   "metadata": {},
   "outputs": [
    {
     "name": "stdout",
     "output_type": "stream",
     "text": [
      "--------------------------\n",
      " 0.81| 0.90| 1.00| 0.00|\n",
      "--------------------------\n",
      " 0.73| 0.00| 0.08| 0.00|\n",
      "--------------------------\n",
      " 0.66| 0.20| 0.10| 0.00|\n"
     ]
    }
   ],
   "source": [
    "print_values(grid=grid,V=V)"
   ]
  },
  {
   "cell_type": "markdown",
   "metadata": {},
   "source": [
    "## Conclusions\n",
    "* n-step sarsa speedups policy learning because updates \"n\" possible Q entries instead of only 1.\n",
    "* Its similar to n-step prediction conbined with sarsa but taking n actions"
   ]
  },
  {
   "cell_type": "code",
   "execution_count": null,
   "metadata": {
    "collapsed": true
   },
   "outputs": [],
   "source": []
  }
 ],
 "metadata": {
  "kernelspec": {
   "display_name": "Python 3",
   "language": "python",
   "name": "python3"
  },
  "language_info": {
   "codemirror_mode": {
    "name": "ipython",
    "version": 3
   },
   "file_extension": ".py",
   "mimetype": "text/x-python",
   "name": "python",
   "nbconvert_exporter": "python",
   "pygments_lexer": "ipython3",
   "version": "3.6.1"
  }
 },
 "nbformat": 4,
 "nbformat_minor": 2
}
