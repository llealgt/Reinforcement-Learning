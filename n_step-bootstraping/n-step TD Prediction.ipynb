{
 "cells": [
  {
   "cell_type": "markdown",
   "metadata": {},
   "source": [
    "# n-step Temporal Difference Prediction\n",
    "\n",
    "An implementation of \"n-step TD prediction\"  using a gridworld.\n",
    "\n",
    "More info about \"n-step TD prediction\" can be found on section 7.1 of \"Reinforcement Learning: an introduction\" 2nd edition by Barto and Sutton\n"
   ]
  },
  {
   "cell_type": "markdown",
   "metadata": {},
   "source": [
    "The gridworld has the shape(3,4) with a winning state \"w\"(0,3), and a lossing state \"l\"(1,3), a non valid state \"x\"(2,1) and a start state s(3,0)\n",
    "\n",
    "|  |  |  |  |\n",
    "|---|---|---|---|\n",
    "|  |  |  | w |\n",
    "|  |  |  | l |\n",
    "|  | x |  |  |\n",
    "| s |  |  |  |"
   ]
  },
  {
   "cell_type": "code",
   "execution_count": 1,
   "metadata": {},
   "outputs": [],
   "source": [
    "import numpy as np\n",
    "import matplotlib.pyplot as plt\n",
    "from collections import defaultdict\n",
    "\n",
    "import grid_world"
   ]
  },
  {
   "cell_type": "markdown",
   "metadata": {},
   "source": [
    "### Disccount factor and step size"
   ]
  },
  {
   "cell_type": "code",
   "execution_count": 2,
   "metadata": {
    "collapsed": true
   },
   "outputs": [],
   "source": [
    "\n",
    "GAMMA = 0.9\n",
    "ALPHA =0.1"
   ]
  },
  {
   "cell_type": "markdown",
   "metadata": {},
   "source": [
    "### Auxiliary function to display the values of a policy after finishing iterative policy evaluation"
   ]
  },
  {
   "cell_type": "code",
   "execution_count": 3,
   "metadata": {
    "collapsed": true
   },
   "outputs": [],
   "source": [
    "def print_values(V,grid):\n",
    "    for i in range(grid.width):\n",
    "        print(\"--------------------------\")\n",
    "        for j in range(grid.height):\n",
    "            v = V.get((i,j),0)\n",
    "            if v >= 0:\n",
    "                print(\" %.2f|\" % v, end=\"\")\n",
    "            else:\n",
    "                print(\"%.2f|\" % v, end=\"\")\n",
    "        print(\"\")"
   ]
  },
  {
   "cell_type": "markdown",
   "metadata": {},
   "source": [
    "### Auxiliary function to display a stochastic policy"
   ]
  },
  {
   "cell_type": "code",
   "execution_count": 4,
   "metadata": {
    "collapsed": true
   },
   "outputs": [],
   "source": [
    "def print_policy(P,grid):\n",
    "    for i in range(grid.width):\n",
    "        print(\"---------------------------\")\n",
    "        for j in range(grid.height):\n",
    "            a = P.get((i,j),' ')\n",
    "            if isinstance(a,dict):\n",
    "                a = list(a)[0]\n",
    "            print(\"  %s  |\" % a, end=\"\")\n",
    "        print(\"\")"
   ]
  },
  {
   "cell_type": "markdown",
   "metadata": {},
   "source": [
    "### From or defined grid world file, import a negative grid ,retrieve all actions and states and print grid rewards\n",
    "Negative grid is used to encourage the agent to find a shortest path to the goal"
   ]
  },
  {
   "cell_type": "code",
   "execution_count": 5,
   "metadata": {
    "collapsed": true
   },
   "outputs": [],
   "source": [
    "grid = grid_world.Grid.standard_grid()\n",
    "states = grid.all_states()\n",
    "actions = list(set([action   for action_tup in grid.actions.values() for action in action_tup]))"
   ]
  },
  {
   "cell_type": "code",
   "execution_count": 6,
   "metadata": {
    "scrolled": true
   },
   "outputs": [
    {
     "data": {
      "text/plain": [
       "['L', 'D', 'U', 'R']"
      ]
     },
     "execution_count": 6,
     "metadata": {},
     "output_type": "execute_result"
    }
   ],
   "source": [
    "actions"
   ]
  },
  {
   "cell_type": "code",
   "execution_count": 7,
   "metadata": {
    "scrolled": true
   },
   "outputs": [
    {
     "name": "stdout",
     "output_type": "stream",
     "text": [
      "Rewards of grid\n",
      "--------------------------\n",
      " 0.00| 0.00| 0.00| 1.00|\n",
      "--------------------------\n",
      " 0.00| 0.00| 0.00|-1.00|\n",
      "--------------------------\n",
      " 0.00| 0.00| 0.00| 0.00|\n"
     ]
    }
   ],
   "source": [
    "print(\"Rewards of grid\")\n",
    "print_values(grid.rewards,grid)"
   ]
  },
  {
   "cell_type": "markdown",
   "metadata": {},
   "source": [
    "### Initialize  policy"
   ]
  },
  {
   "cell_type": "code",
   "execution_count": 8,
   "metadata": {},
   "outputs": [
    {
     "name": "stdout",
     "output_type": "stream",
     "text": [
      "---------------------------\n",
      "  R  |  R  |  R  |     |\n",
      "---------------------------\n",
      "  U  |     |  R  |     |\n",
      "---------------------------\n",
      "  U  |  R  |  R  |  U  |\n"
     ]
    }
   ],
   "source": [
    "policy = {(2,0):'U',\n",
    "         (1,0):'U',\n",
    "         (0,0):'R',\n",
    "         (0,1):'R',\n",
    "         (0,2):'R',\n",
    "         (1,2):'R',\n",
    "         (2,1):'R',\n",
    "         (2,2):'R',\n",
    "         (2,3):'U'}\n",
    "\n",
    "print_policy(policy,grid)"
   ]
  },
  {
   "cell_type": "code",
   "execution_count": 9,
   "metadata": {},
   "outputs": [],
   "source": [
    "def n_step_TD_prediction(policy,episodes ,gamma = 1,alpha = 0.9,n=2):\n",
    "    V = defaultdict(lambda:0)\n",
    "    \n",
    "    for episode in range(episodes):\n",
    "        s = (2,0)\n",
    "        grid.set_state(s)\n",
    "        T = 100000 # book code sets it to infinite\n",
    "        finished =False\n",
    "        t = 0\n",
    "        \n",
    "        rewards = dict() #to store the sequence of rewards\n",
    "        states = dict() # to store the sequence of actions\n",
    "        \n",
    "        states[0] = s\n",
    "        \n",
    "        while not finished: # finished when tao = T  - 1 (update time is before end of episode)\n",
    "            if t < T:\n",
    "                a = policy[s]\n",
    "                \n",
    "                r = grid.move(a)    \n",
    "                s1 = grid.current_state()\n",
    "                rewards[t+1] = r\n",
    "                states[t+1] = s1\n",
    "                \n",
    "                if grid.game_over(): #if St+1 is terminal set T to last timestemp\n",
    "                    T = t + 1\n",
    "                    \n",
    "            updated_time =  t  - n +1 # in the book the variable is represente by \"tao\"\n",
    "            \n",
    "            if updated_time >= 0: #update only if  at least \"n\" steps are already performed\n",
    "                \n",
    "                update_limit = min(updated_time+n,T) \n",
    "                G = 0\n",
    "                for i in range(updated_time +1 , update_limit + 1):\n",
    "                    G+= ((gamma**(i - updated_time - 1))* rewards[i])\n",
    "                    \n",
    "                if updated_time + n < T:\n",
    "                    G = G + ((gamma**n)*V[states[updated_time + n]])\n",
    "                    \n",
    "                \n",
    "                    \n",
    "                V[states[updated_time]]  = V[states[updated_time]] + alpha*(G -  V[states[updated_time]])\n",
    "            \n",
    "            s  = s1\n",
    "            t += 1\n",
    "                \n",
    "            finished = updated_time == T -1\n",
    "                \n",
    "    return V\n",
    "\n",
    "V = n_step_TD_prediction(policy,1000,0.9,0.5,3)"
   ]
  },
  {
   "cell_type": "code",
   "execution_count": 10,
   "metadata": {},
   "outputs": [
    {
     "data": {
      "text/plain": [
       "{(0, 0): 'R',\n",
       " (0, 1): 'R',\n",
       " (0, 2): 'R',\n",
       " (1, 0): 'U',\n",
       " (1, 2): 'R',\n",
       " (2, 0): 'U',\n",
       " (2, 1): 'R',\n",
       " (2, 2): 'R',\n",
       " (2, 3): 'U'}"
      ]
     },
     "execution_count": 10,
     "metadata": {},
     "output_type": "execute_result"
    }
   ],
   "source": [
    "policy"
   ]
  },
  {
   "cell_type": "code",
   "execution_count": 11,
   "metadata": {},
   "outputs": [
    {
     "name": "stdout",
     "output_type": "stream",
     "text": [
      "Policy\n",
      "---------------------------\n",
      "  R  |  R  |  R  |     |\n",
      "---------------------------\n",
      "  U  |     |  R  |     |\n",
      "---------------------------\n",
      "  U  |  R  |  R  |  U  |\n"
     ]
    }
   ],
   "source": [
    "print(\"Policy\")\n",
    "print_policy(policy,grid)"
   ]
  },
  {
   "cell_type": "code",
   "execution_count": 12,
   "metadata": {},
   "outputs": [
    {
     "name": "stdout",
     "output_type": "stream",
     "text": [
      "--------------------------\n",
      " 0.81| 0.90| 1.00| 0.00|\n",
      "--------------------------\n",
      " 0.73| 0.00| 0.00| 0.00|\n",
      "--------------------------\n",
      " 0.66| 0.00| 0.00| 0.00|\n"
     ]
    }
   ],
   "source": [
    "print_values(grid=grid,V=V)"
   ]
  },
  {
   "cell_type": "markdown",
   "metadata": {},
   "source": [
    "## Conclusions\n",
    "* n-step bootstraping is a point between MC(update until end of episode) and td(0) (update with 1 immediate reward and next estimated value)\n",
    "* n-step TD prediction uses n immediate rewards and the reached state after n transitions to estimate the value function\n",
    "* with correct values of \"n\" and \"alpha\" it gets better results than both 1-step TD methods and monte carlo methods"
   ]
  },
  {
   "cell_type": "code",
   "execution_count": null,
   "metadata": {
    "collapsed": true
   },
   "outputs": [],
   "source": []
  }
 ],
 "metadata": {
  "kernelspec": {
   "display_name": "Python 3",
   "language": "python",
   "name": "python3"
  },
  "language_info": {
   "codemirror_mode": {
    "name": "ipython",
    "version": 3
   },
   "file_extension": ".py",
   "mimetype": "text/x-python",
   "name": "python",
   "nbconvert_exporter": "python",
   "pygments_lexer": "ipython3",
   "version": "3.6.1"
  }
 },
 "nbformat": 4,
 "nbformat_minor": 2
}
