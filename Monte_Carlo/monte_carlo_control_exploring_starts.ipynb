{
 "cells": [
  {
   "cell_type": "markdown",
   "metadata": {},
   "source": [
    "# Exploring starts Monte Carlo Control\n",
    "An implementation of MC control through \"exploring starts\""
   ]
  },
  {
   "cell_type": "markdown",
   "metadata": {},
   "source": [
    "The gridworld has the shape(3,4) with a winning state \"w\"(0,3), and a lossing state \"l\"(1,3), a non valid state \"x\"(2,1) and a start state s(3,0)\n",
    "\n",
    "|  |  |  |  |\n",
    "|---|---|---|---|\n",
    "|  |  |  | w |\n",
    "|  |  |  | l |\n",
    "|  | x |  |  |\n",
    "| s |  |  |  |"
   ]
  },
  {
   "cell_type": "markdown",
   "metadata": {},
   "source": [
    "### This is a simple not optimal policy evaluation"
   ]
  },
  {
   "cell_type": "code",
   "execution_count": 1,
   "metadata": {
    "collapsed": true
   },
   "outputs": [],
   "source": [
    "import numpy as np\n",
    "import matplotlib.pyplot as plt\n",
    "from collections import defaultdict\n",
    "\n",
    "import grid_world"
   ]
  },
  {
   "cell_type": "markdown",
   "metadata": {},
   "source": [
    "### Define the maximum change before finish the loop"
   ]
  },
  {
   "cell_type": "code",
   "execution_count": 2,
   "metadata": {
    "collapsed": true
   },
   "outputs": [],
   "source": [
    "CONVERGENCE_THRESHOLD = 10e-5\n",
    "GAMMA = 0.9"
   ]
  },
  {
   "cell_type": "markdown",
   "metadata": {},
   "source": [
    "### Auxiliary function to display the values of a policy after finishing iterative policy evaluation"
   ]
  },
  {
   "cell_type": "code",
   "execution_count": 3,
   "metadata": {
    "collapsed": true
   },
   "outputs": [],
   "source": [
    "def print_values(V,grid):\n",
    "    for i in range(grid.width):\n",
    "        print(\"--------------------------\")\n",
    "        for j in range(grid.height):\n",
    "            v = V.get((i,j),0)\n",
    "            if v >= 0:\n",
    "                print(\" %.2f|\" % v, end=\"\")\n",
    "            else:\n",
    "                print(\"%.2f|\" % v, end=\"\")\n",
    "        print(\"\")"
   ]
  },
  {
   "cell_type": "markdown",
   "metadata": {},
   "source": [
    "### Auxiliary function to display a stochastic policy"
   ]
  },
  {
   "cell_type": "code",
   "execution_count": 4,
   "metadata": {
    "collapsed": true
   },
   "outputs": [],
   "source": [
    "def print_policy(P,grid):\n",
    "    for i in range(grid.width):\n",
    "        print(\"---------------------------\")\n",
    "        for j in range(grid.height):\n",
    "            a = P.get((i,j),' ')\n",
    "            if isinstance(a,dict):\n",
    "                a = list(a)[0]\n",
    "            print(\"  %s  |\" % a, end=\"\")\n",
    "        print(\"\")"
   ]
  },
  {
   "cell_type": "markdown",
   "metadata": {},
   "source": [
    "### From or defined grid world file, import a negative grid ,retrieve all actions and states and print grid rewards\n",
    "Negative grid is used to encourage the agent to find a shortest path to the goal"
   ]
  },
  {
   "cell_type": "code",
   "execution_count": 5,
   "metadata": {
    "collapsed": true
   },
   "outputs": [],
   "source": [
    "grid = grid_world.Grid.negative_grid(step_cost = -0.1)\n",
    "states = grid.all_states()\n",
    "actions = list(set([action   for action_tup in grid.actions.values() for action in action_tup]))"
   ]
  },
  {
   "cell_type": "code",
   "execution_count": 6,
   "metadata": {},
   "outputs": [
    {
     "data": {
      "text/plain": [
       "('b', 2)"
      ]
     },
     "execution_count": 6,
     "metadata": {},
     "output_type": "execute_result"
    }
   ],
   "source": [
    "def argmax_dict(dictionary):\n",
    "    # returns the argmax key and the max value from a dictionary\n",
    "    # will be used for policy improvement from Q\n",
    "    max_key = None\n",
    "    max_val = float(\"-inf\")\n",
    "    \n",
    "    for k,v in dictionary.items():\n",
    "        if v > max_val:\n",
    "            max_val = v\n",
    "            max_key = k\n",
    "            \n",
    "    return max_key,max_val\n",
    "        \n",
    "argmax_dict({\"a\":1,\"b\":2})"
   ]
  },
  {
   "cell_type": "code",
   "execution_count": 7,
   "metadata": {
    "scrolled": true
   },
   "outputs": [
    {
     "data": {
      "text/plain": [
       "['L', 'R', 'U', 'D']"
      ]
     },
     "execution_count": 7,
     "metadata": {},
     "output_type": "execute_result"
    }
   ],
   "source": [
    "actions"
   ]
  },
  {
   "cell_type": "code",
   "execution_count": 8,
   "metadata": {
    "collapsed": true
   },
   "outputs": [],
   "source": [
    "def play_game(grid,policy,gamma=0.9,max_steps = 20):\n",
    "    # exploring starts\n",
    "    start_states = list(grid.actions.keys())\n",
    "    start_index = np.random.choice(len(start_states))\n",
    "    grid.set_state(start_states[start_index])\n",
    "    \n",
    "    s = grid.current_state()\n",
    "    a = np.random.choice(actions)\n",
    "    \n",
    "    states_actions_and_rewards = [(s,a,0)] \n",
    "    game_steps = 0 #to control infinite loops\n",
    "    # play a game until game is finished and record all new states and rewards\n",
    "    while not grid.game_over():\n",
    "        \n",
    "        old_s = grid.current_state()\n",
    "        r = grid.move(a)\n",
    "        s = grid.current_state()\n",
    "        \n",
    "        # if agent bumps into a wall, the episode ends with negative reward \n",
    "        # to make it avoid this state,action in the future\n",
    "        if old_s == s :\n",
    "            states_actions_and_rewards.append((s,None,-100))\n",
    "            break\n",
    "        elif  game_steps > max_steps:\n",
    "            break\n",
    "        elif grid.game_over():\n",
    "            states_actions_and_rewards.append((s,None,r))\n",
    "            break\n",
    "        else:\n",
    "            a = policy[s]\n",
    "            states_actions_and_rewards.append((s,a,r))\n",
    "            \n",
    "        game_steps += 1\n",
    "        \n",
    "    # calculate every state returns by going backwards\n",
    "    states_and_actions_returns = []\n",
    "    \n",
    "    G=0\n",
    "    for s,a,r in reversed(states_actions_and_rewards):\n",
    "        \n",
    "        G = r +GAMMA*G\n",
    "        states_and_actions_returns.append((s,a,G))\n",
    "        \n",
    "    return states_and_actions_returns"
   ]
  },
  {
   "cell_type": "code",
   "execution_count": 9,
   "metadata": {
    "collapsed": true
   },
   "outputs": [],
   "source": [
    "grid = grid_world.Grid.negative_grid()"
   ]
  },
  {
   "cell_type": "code",
   "execution_count": 10,
   "metadata": {
    "scrolled": true
   },
   "outputs": [
    {
     "name": "stdout",
     "output_type": "stream",
     "text": [
      "Rewards of grid\n",
      "--------------------------\n",
      "-0.10|-0.10|-0.10| 1.00|\n",
      "--------------------------\n",
      "-0.10| 0.00|-0.10|-1.00|\n",
      "--------------------------\n",
      "-0.10|-0.10|-0.10|-0.10|\n"
     ]
    }
   ],
   "source": [
    "print(\"Rewards of grid\")\n",
    "print_values(grid.rewards,grid)"
   ]
  },
  {
   "cell_type": "markdown",
   "metadata": {},
   "source": [
    "### Initialize random policy and Q(s,a)"
   ]
  },
  {
   "cell_type": "code",
   "execution_count": 11,
   "metadata": {},
   "outputs": [
    {
     "name": "stdout",
     "output_type": "stream",
     "text": [
      "---------------------------\n",
      "  L  |  L  |  R  |     |\n",
      "---------------------------\n",
      "  U  |     |  L  |     |\n",
      "---------------------------\n",
      "  R  |  D  |  D  |  D  |\n"
     ]
    }
   ],
   "source": [
    "policy = {}\n",
    "\n",
    "for s in grid.actions.keys():\n",
    "    policy[s] = np.random.choice(actions)\n",
    "print_policy(policy,grid)"
   ]
  },
  {
   "cell_type": "code",
   "execution_count": 12,
   "metadata": {},
   "outputs": [
    {
     "data": {
      "text/plain": [
       "[((1, 3), None, -1.0), ((2, 3), 'U', -0.9)]"
      ]
     },
     "execution_count": 12,
     "metadata": {},
     "output_type": "execute_result"
    }
   ],
   "source": [
    "play_game(grid,policy,GAMMA)"
   ]
  },
  {
   "cell_type": "code",
   "execution_count": 13,
   "metadata": {},
   "outputs": [
    {
     "data": {
      "text/plain": [
       "0"
      ]
     },
     "execution_count": 13,
     "metadata": {},
     "output_type": "execute_result"
    }
   ],
   "source": [
    "Q = defaultdict(lambda: defaultdict(lambda:0))\n",
    "Q[(0,0)][0]"
   ]
  },
  {
   "cell_type": "code",
   "execution_count": 14,
   "metadata": {},
   "outputs": [],
   "source": [
    "def MS_exploring_starts(grid,policy,episodes,gamma):\n",
    "    Q = defaultdict(lambda: defaultdict(lambda:0))\n",
    "    state_action_visit_count = defaultdict(lambda: defaultdict(lambda:1))\n",
    "    \n",
    "    for i in range(episodes):\n",
    "        \n",
    "        states_actions_and_returns = play_game(grid,policy,gamma)\n",
    "        visited_states_actions = set()\n",
    "        \n",
    "        #  policy evaluation\n",
    "        for s,a,G in states_actions_and_returns:\n",
    "            \n",
    "            if (s,a) not in visited_states_actions:\n",
    "                \n",
    "                # incremental average of return calculation\n",
    "                Q[s][a] = Q[s][a] + (1.0/state_action_visit_count[s][a])*(G-state_action_visit_count[s][a])\n",
    "                visited_states_actions.add((s,a))\n",
    "                state_action_visit_count[s][a] += 1\n",
    "\n",
    "        \n",
    "            \n",
    "                \n",
    "            #policy improvement\n",
    "        for s in states:\n",
    "            state_argmax = argmax_dict(Q[s])\n",
    "            if not state_argmax[0] is None:\n",
    "                policy[s] = state_argmax[0]\n",
    "    return policy,Q\n",
    "        \n",
    "policy,Q = MS_exploring_starts(grid,policy,10000,GAMMA)"
   ]
  },
  {
   "cell_type": "code",
   "execution_count": 15,
   "metadata": {},
   "outputs": [
    {
     "data": {
      "text/plain": [
       "{(0, 0): 'R',\n",
       " (0, 1): 'R',\n",
       " (0, 2): 'R',\n",
       " (1, 0): 'U',\n",
       " (1, 2): 'R',\n",
       " (2, 0): 'U',\n",
       " (2, 1): 'U',\n",
       " (2, 2): 'L',\n",
       " (2, 3): 'U'}"
      ]
     },
     "execution_count": 15,
     "metadata": {},
     "output_type": "execute_result"
    }
   ],
   "source": [
    "policy"
   ]
  },
  {
   "cell_type": "code",
   "execution_count": 16,
   "metadata": {},
   "outputs": [
    {
     "name": "stdout",
     "output_type": "stream",
     "text": [
      "Policy\n",
      "---------------------------\n",
      "  R  |  R  |  R  |     |\n",
      "---------------------------\n",
      "  U  |     |  R  |     |\n",
      "---------------------------\n",
      "  U  |  U  |  L  |  U  |\n"
     ]
    }
   ],
   "source": [
    "print(\"Policy\")\n",
    "print_policy(policy,grid)"
   ]
  },
  {
   "cell_type": "markdown",
   "metadata": {},
   "source": [
    "## Conclusions\n",
    "* ES created infinite loops for this gridgworld in cases where the agent tries things like right in a state, left in the next, can explore-exploit epsilon greedy solve this?\n",
    "* Same as all monte carlo, no model of env dynamics are needed"
   ]
  },
  {
   "cell_type": "code",
   "execution_count": null,
   "metadata": {
    "collapsed": true
   },
   "outputs": [],
   "source": []
  }
 ],
 "metadata": {
  "kernelspec": {
   "display_name": "Python 3",
   "language": "python",
   "name": "python3"
  },
  "language_info": {
   "codemirror_mode": {
    "name": "ipython",
    "version": 3
   },
   "file_extension": ".py",
   "mimetype": "text/x-python",
   "name": "python",
   "nbconvert_exporter": "python",
   "pygments_lexer": "ipython3",
   "version": "3.6.1"
  }
 },
 "nbformat": 4,
 "nbformat_minor": 2
}
