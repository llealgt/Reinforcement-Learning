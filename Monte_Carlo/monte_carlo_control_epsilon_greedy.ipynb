{
 "cells": [
  {
   "cell_type": "markdown",
   "metadata": {},
   "source": [
    "# e-greedy Monte Carlo Control\n",
    "An implementation of MC control through \"epsilon greedy\""
   ]
  },
  {
   "cell_type": "markdown",
   "metadata": {},
   "source": [
    "The gridworld has the shape(3,4) with a winning state \"w\"(0,3), and a lossing state \"l\"(1,3), a non valid state \"x\"(2,1) and a start state s(3,0)\n",
    "\n",
    "|  |  |  |  |\n",
    "|---|---|---|---|\n",
    "|  |  |  | w |\n",
    "|  |  |  | l |\n",
    "|  | x |  |  |\n",
    "| s |  |  |  |"
   ]
  },
  {
   "cell_type": "code",
   "execution_count": 1,
   "metadata": {
    "collapsed": true
   },
   "outputs": [],
   "source": [
    "import numpy as np\n",
    "import matplotlib.pyplot as plt\n",
    "from collections import defaultdict\n",
    "\n",
    "import grid_world"
   ]
  },
  {
   "cell_type": "markdown",
   "metadata": {},
   "source": [
    "### Disccount factor"
   ]
  },
  {
   "cell_type": "code",
   "execution_count": 2,
   "metadata": {
    "collapsed": true
   },
   "outputs": [],
   "source": [
    "\n",
    "GAMMA = 0.9"
   ]
  },
  {
   "cell_type": "markdown",
   "metadata": {},
   "source": [
    "### Auxiliary function to display the values of a policy after finishing iterative policy evaluation"
   ]
  },
  {
   "cell_type": "code",
   "execution_count": 3,
   "metadata": {
    "collapsed": true
   },
   "outputs": [],
   "source": [
    "def print_values(V,grid):\n",
    "    for i in range(grid.width):\n",
    "        print(\"--------------------------\")\n",
    "        for j in range(grid.height):\n",
    "            v = V.get((i,j),0)\n",
    "            if v >= 0:\n",
    "                print(\" %.2f|\" % v, end=\"\")\n",
    "            else:\n",
    "                print(\"%.2f|\" % v, end=\"\")\n",
    "        print(\"\")"
   ]
  },
  {
   "cell_type": "markdown",
   "metadata": {},
   "source": [
    "### Auxiliary function to display a stochastic policy"
   ]
  },
  {
   "cell_type": "code",
   "execution_count": 4,
   "metadata": {
    "collapsed": true
   },
   "outputs": [],
   "source": [
    "def print_policy(P,grid):\n",
    "    for i in range(grid.width):\n",
    "        print(\"---------------------------\")\n",
    "        for j in range(grid.height):\n",
    "            a = P.get((i,j),' ')\n",
    "            if isinstance(a,dict):\n",
    "                a = list(a)[0]\n",
    "            print(\"  %s  |\" % a, end=\"\")\n",
    "        print(\"\")"
   ]
  },
  {
   "cell_type": "markdown",
   "metadata": {},
   "source": [
    "### From or defined grid world file, import a negative grid ,retrieve all actions and states and print grid rewards\n",
    "Negative grid is used to encourage the agent to find a shortest path to the goal"
   ]
  },
  {
   "cell_type": "code",
   "execution_count": 5,
   "metadata": {},
   "outputs": [],
   "source": [
    "grid = grid_world.Grid.standard_grid()\n",
    "states = grid.all_states()\n",
    "actions = list(set([action   for action_tup in grid.actions.values() for action in action_tup]))"
   ]
  },
  {
   "cell_type": "code",
   "execution_count": 6,
   "metadata": {},
   "outputs": [
    {
     "data": {
      "text/plain": [
       "('b', 2)"
      ]
     },
     "execution_count": 6,
     "metadata": {},
     "output_type": "execute_result"
    }
   ],
   "source": [
    "def argmax_dict(dictionary):\n",
    "    # returns the argmax key and the max value from a dictionary\n",
    "    # will be used for policy improvement from Q\n",
    "    max_key = None\n",
    "    max_val = float(\"-inf\")\n",
    "    \n",
    "    for k,v in dictionary.items():\n",
    "        if v > max_val:\n",
    "            max_val = v\n",
    "            max_key = k\n",
    "            \n",
    "    return max_key,max_val\n",
    "        \n",
    "argmax_dict({\"a\":1,\"b\":2})"
   ]
  },
  {
   "cell_type": "code",
   "execution_count": 7,
   "metadata": {
    "scrolled": true
   },
   "outputs": [
    {
     "data": {
      "text/plain": [
       "['L', 'R', 'U', 'D']"
      ]
     },
     "execution_count": 7,
     "metadata": {},
     "output_type": "execute_result"
    }
   ],
   "source": [
    "actions"
   ]
  },
  {
   "cell_type": "code",
   "execution_count": 8,
   "metadata": {},
   "outputs": [],
   "source": [
    "def epsilon_greedy_action(policy,state,epsilon=0.1):\n",
    "    # choose an action using epsilon-greedy strategy\n",
    "    probability = np.random.random()\n",
    "    greedy_action = policy[s]\n",
    "    non_greedy_actions = list(set(actions)-set(greedy_action))\n",
    "    \n",
    "    if probability < epsilon:\n",
    "        return np.random.choice(non_greedy_actions)\n",
    "    else: \n",
    "        return policy[state]"
   ]
  },
  {
   "cell_type": "code",
   "execution_count": 9,
   "metadata": {},
   "outputs": [],
   "source": [
    "def play_game(grid,policy,gamma=0.9,epsilon  = 0.1):\n",
    "    # remove exploring starts\n",
    "    #start_states = list(grid.actions.keys())\n",
    "    #start_index = np.random.choice(len(start_states))\n",
    "    #grid.set_state(start_states[start_index])\n",
    "    \n",
    "    #s = grid.current_state()\n",
    "    #a = np.random.choice(actions)\n",
    "    \n",
    "    s = (2,0)\n",
    "    grid.set_state(s)\n",
    "    a = epsilon_greedy_action(policy,s,epsilon)\n",
    "    states_actions_and_rewards = [(s,a,0)] \n",
    "    #print(s,a,grid.game_over())\n",
    "    # play a game until game is finished and record all new states and rewards\n",
    "    while not grid.game_over():\n",
    "        \n",
    "        old_s = grid.current_state()\n",
    "        r = grid.move(a)\n",
    "        s = grid.current_state()\n",
    "        \n",
    "        # if agent bumps into a wall, the episode ends with negative reward \n",
    "        # to make it avoid this state,action in the future\n",
    "        if old_s == s :\n",
    "            states_actions_and_rewards.append((s,None,-1))\n",
    "            break\n",
    "        elif grid.game_over():\n",
    "            states_actions_and_rewards.append((s,None,r))\n",
    "            break\n",
    "        else:\n",
    "            a = epsilon_greedy_action(policy,s,epsilon)\n",
    "            states_actions_and_rewards.append((s,a,r))\n",
    "            \n",
    "        \n",
    "    # calculate every state returns by going backwards\n",
    "    states_and_actions_returns = []\n",
    "    \n",
    "    G=0\n",
    "    for s,a,r in reversed(states_actions_and_rewards):\n",
    "        \n",
    "        G = r +gamma*G\n",
    "        states_and_actions_returns.append((s,a,G))\n",
    "        \n",
    "    return states_and_actions_returns\n"
   ]
  },
  {
   "cell_type": "code",
   "execution_count": 10,
   "metadata": {
    "collapsed": true
   },
   "outputs": [],
   "source": [
    "grid = grid_world.Grid.standard_grid()"
   ]
  },
  {
   "cell_type": "code",
   "execution_count": 11,
   "metadata": {
    "scrolled": true
   },
   "outputs": [
    {
     "name": "stdout",
     "output_type": "stream",
     "text": [
      "Rewards of grid\n",
      "--------------------------\n",
      " 0.00| 0.00| 0.00| 1.00|\n",
      "--------------------------\n",
      " 0.00| 0.00| 0.00|-1.00|\n",
      "--------------------------\n",
      " 0.00| 0.00| 0.00| 0.00|\n"
     ]
    }
   ],
   "source": [
    "print(\"Rewards of grid\")\n",
    "print_values(grid.rewards,grid)"
   ]
  },
  {
   "cell_type": "markdown",
   "metadata": {},
   "source": [
    "### Initialize random policy and Q(s,a)"
   ]
  },
  {
   "cell_type": "code",
   "execution_count": 12,
   "metadata": {},
   "outputs": [
    {
     "name": "stdout",
     "output_type": "stream",
     "text": [
      "---------------------------\n",
      "  R  |  D  |  L  |     |\n",
      "---------------------------\n",
      "  D  |     |  D  |     |\n",
      "---------------------------\n",
      "  R  |  R  |  U  |  D  |\n"
     ]
    }
   ],
   "source": [
    "policy = {}\n",
    "\n",
    "for s in grid.actions.keys():\n",
    "    policy[s] = np.random.choice(actions)\n",
    "print_policy(policy,grid)"
   ]
  },
  {
   "cell_type": "code",
   "execution_count": 13,
   "metadata": {},
   "outputs": [
    {
     "data": {
      "text/plain": [
       "0"
      ]
     },
     "execution_count": 13,
     "metadata": {},
     "output_type": "execute_result"
    }
   ],
   "source": [
    "Q = defaultdict(lambda: defaultdict(lambda:0))\n",
    "Q[(0,0)][0]"
   ]
  },
  {
   "cell_type": "code",
   "execution_count": 14,
   "metadata": {},
   "outputs": [],
   "source": [
    "def MS_epsilon_greedy(grid,policy,episodes,gamma,epsilon=0.1):\n",
    "    Q = defaultdict(lambda: defaultdict(lambda:0))\n",
    "    state_action_visit_count = defaultdict(lambda: defaultdict(lambda:1))\n",
    "    \n",
    "    for i in range(episodes):\n",
    "        \n",
    "        states_actions_and_returns = play_game(grid,policy,gamma,epsilon)\n",
    "        visited_states_actions = set()\n",
    "        \n",
    "        #  policy evaluation\n",
    "        for s,a,G in states_actions_and_returns:\n",
    "            \n",
    "            if (s,a) not in visited_states_actions:\n",
    "                \n",
    "                # incremental average of return calculation\n",
    "                Q[s][a] = Q[s][a] + (1.0/state_action_visit_count[s][a])*(G-Q[s][a])\n",
    "                visited_states_actions.add((s,a))\n",
    "                state_action_visit_count[s][a] += 1\n",
    "\n",
    "        \n",
    "            \n",
    "                \n",
    "            #policy improvement\n",
    "        for s in states:\n",
    "            state_argmax = argmax_dict(Q[s])\n",
    "            if not state_argmax[0] is None:\n",
    "                policy[s] = state_argmax[0]\n",
    "    return policy,Q\n",
    "        \n",
    "policy,Q = MS_epsilon_greedy(grid,policy,50000,GAMMA,0.2)"
   ]
  },
  {
   "cell_type": "code",
   "execution_count": 15,
   "metadata": {},
   "outputs": [
    {
     "data": {
      "text/plain": [
       "{(0, 0): 'D',\n",
       " (0, 1): 'R',\n",
       " (0, 2): 'R',\n",
       " (1, 0): 'D',\n",
       " (1, 2): 'U',\n",
       " (2, 0): 'R',\n",
       " (2, 1): 'R',\n",
       " (2, 2): 'U',\n",
       " (2, 3): 'L'}"
      ]
     },
     "execution_count": 15,
     "metadata": {},
     "output_type": "execute_result"
    }
   ],
   "source": [
    "policy"
   ]
  },
  {
   "cell_type": "code",
   "execution_count": 16,
   "metadata": {},
   "outputs": [
    {
     "name": "stdout",
     "output_type": "stream",
     "text": [
      "Policy\n",
      "---------------------------\n",
      "  D  |  R  |  R  |     |\n",
      "---------------------------\n",
      "  D  |     |  U  |     |\n",
      "---------------------------\n",
      "  R  |  R  |  U  |  L  |\n"
     ]
    }
   ],
   "source": [
    "print(\"Policy\")\n",
    "print_policy(policy,grid)"
   ]
  },
  {
   "cell_type": "code",
   "execution_count": 17,
   "metadata": {},
   "outputs": [
    {
     "name": "stdout",
     "output_type": "stream",
     "text": [
      "(0, 0)   D\n",
      "---- L   0\n",
      "---- R   -0.35912999999999995\n",
      "---- U   -0.9\n",
      "---- D   -0.10594330755049175\n",
      "(0, 1)   R\n",
      "---- L   0\n",
      "---- R   0.7907625\n",
      "---- U   -0.9\n",
      "---- D   -0.9\n",
      "(0, 2)   R\n",
      "---- L   -0.81\n",
      "---- R   0.9\n",
      "---- U   -0.9\n",
      "---- D   0.5069663088510635\n",
      "(1, 0)   D\n",
      "---- L   -0.9\n",
      "---- R   -0.9\n",
      "---- U   -0.18491139892854802\n",
      "---- D   0.05128037272957729\n",
      "(1, 2)   U\n",
      "---- L   -0.9\n",
      "---- R   -0.9\n",
      "---- U   0.6871141270453736\n",
      "---- D   0.3147254589101253\n",
      "(2, 0)   R\n",
      "---- L   -0.9\n",
      "---- R   0.153615286086542\n",
      "---- U   -0.01782825415930647\n",
      "---- D   -0.9\n",
      "(2, 1)   R\n",
      "---- L   -0.6368156355323694\n",
      "---- R   0.33260242252349187\n",
      "---- U   -0.9\n",
      "---- D   -0.9\n",
      "(2, 2)   U\n",
      "---- L   -0.6744037717832772\n",
      "---- R   0.06783893954605508\n",
      "---- U   0.5011661642633631\n",
      "---- D   -0.9\n",
      "(2, 3)   L\n",
      "---- L   0.3444384474349818\n",
      "---- R   -0.9\n",
      "---- U   -0.9\n",
      "---- D   -0.9\n"
     ]
    }
   ],
   "source": [
    "for state in policy.keys():\n",
    "    print(state,\" \",policy[state])\n",
    "    for action in actions:\n",
    "        print(\"----\",action,\" \",Q[state][action])"
   ]
  },
  {
   "cell_type": "markdown",
   "metadata": {},
   "source": [
    "## Conclusions\n",
    "* No infinite loops were created during training(as in exploring starts) because at some point exploration breaks them, but the final policy contains several :( \n",
    "* Same as all monte carlo, no model of env dynamics are needed\n",
    "* No need for exploring starts is useful in cases were the initial state is not something under our control"
   ]
  },
  {
   "cell_type": "code",
   "execution_count": null,
   "metadata": {
    "collapsed": true
   },
   "outputs": [],
   "source": []
  }
 ],
 "metadata": {
  "kernelspec": {
   "display_name": "Python 3",
   "language": "python",
   "name": "python3"
  },
  "language_info": {
   "codemirror_mode": {
    "name": "ipython",
    "version": 3
   },
   "file_extension": ".py",
   "mimetype": "text/x-python",
   "name": "python",
   "nbconvert_exporter": "python",
   "pygments_lexer": "ipython3",
   "version": "3.6.1"
  }
 },
 "nbformat": 4,
 "nbformat_minor": 2
}
