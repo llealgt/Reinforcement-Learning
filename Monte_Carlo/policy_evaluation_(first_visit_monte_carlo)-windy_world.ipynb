{
 "cells": [
  {
   "cell_type": "markdown",
   "metadata": {},
   "source": [
    "# First Visit policy evaluation with stochastic dynamics\n",
    "An implementation of MC first vist policy evaluation using a windy grid_world(sthocastic dynamics)"
   ]
  },
  {
   "cell_type": "markdown",
   "metadata": {},
   "source": [
    "The gridworld has the shape(3,4) with a winning state \"w\"(0,3), and a lossing state \"l\"(1,3), a non valid state \"x\"(2,1) and a start state s(3,0)\n",
    "\n",
    "|  |  |  |  |\n",
    "|---|---|---|---|\n",
    "|  |  |  | w |\n",
    "|  |  |  | l |\n",
    "|  | x |  |  |\n",
    "| s |  |  |  |"
   ]
  },
  {
   "cell_type": "markdown",
   "metadata": {},
   "source": [
    "### This is a simple not optimal policy evaluation"
   ]
  },
  {
   "cell_type": "code",
   "execution_count": 1,
   "metadata": {
    "collapsed": true
   },
   "outputs": [],
   "source": [
    "import numpy as np\n",
    "import matplotlib.pyplot as plt\n",
    "from collections import defaultdict\n",
    "\n",
    "import grid_world"
   ]
  },
  {
   "cell_type": "markdown",
   "metadata": {},
   "source": [
    "### Define the maximum change before finish the loop"
   ]
  },
  {
   "cell_type": "code",
   "execution_count": 2,
   "metadata": {
    "collapsed": true
   },
   "outputs": [],
   "source": [
    "CONVERGENCE_THRESHOLD = 10e-5\n",
    "GAMMA = 0.9"
   ]
  },
  {
   "cell_type": "markdown",
   "metadata": {},
   "source": [
    "### Auxiliary function to display the values of a policy after finishing iterative policy evaluation"
   ]
  },
  {
   "cell_type": "code",
   "execution_count": 3,
   "metadata": {
    "collapsed": true
   },
   "outputs": [],
   "source": [
    "def print_values(V,grid):\n",
    "    for i in range(grid.width):\n",
    "        print(\"--------------------------\")\n",
    "        for j in range(grid.height):\n",
    "            v = V.get((i,j),0)\n",
    "            if v >= 0:\n",
    "                print(\" %.2f|\" % v, end=\"\")\n",
    "            else:\n",
    "                print(\"%.2f|\" % v, end=\"\")\n",
    "        print(\"\")"
   ]
  },
  {
   "cell_type": "markdown",
   "metadata": {},
   "source": [
    "### Auxiliary function to display a stochastic policy"
   ]
  },
  {
   "cell_type": "code",
   "execution_count": 4,
   "metadata": {
    "collapsed": true
   },
   "outputs": [],
   "source": [
    "def print_policy(P,grid):\n",
    "    for i in range(grid.width):\n",
    "        print(\"---------------------------\")\n",
    "        for j in range(grid.height):\n",
    "            a = P.get((i,j),' ')\n",
    "            if isinstance(a,dict):\n",
    "                a = list(a)[0]\n",
    "            print(\"  %s  |\" % a, end=\"\")\n",
    "        print(\"\")"
   ]
  },
  {
   "cell_type": "markdown",
   "metadata": {},
   "source": [
    "### From or defined grid world file, import a negative grid ,retrieve all actions and states and print grid rewards\n",
    "Negative grid is used to encourage the agent to find a shortest path to the goal"
   ]
  },
  {
   "cell_type": "code",
   "execution_count": 5,
   "metadata": {
    "collapsed": true
   },
   "outputs": [],
   "source": [
    "grid = grid_world.Grid.negative_grid(step_cost = -0.1)\n",
    "states = grid.all_states()\n",
    "actions = list(set([action   for action_tup in grid.actions.values() for action in action_tup]))"
   ]
  },
  {
   "cell_type": "code",
   "execution_count": 6,
   "metadata": {
    "scrolled": true
   },
   "outputs": [
    {
     "data": {
      "text/plain": [
       "['U', 'D', 'L', 'R']"
      ]
     },
     "execution_count": 6,
     "metadata": {},
     "output_type": "execute_result"
    }
   ],
   "source": [
    "actions"
   ]
  },
  {
   "cell_type": "markdown",
   "metadata": {},
   "source": [
    "### Make the dynamics sthocastic by randomizing p(s',r | s,a)\n",
    "In windy world, the agent decides an action but with 0.5 probability takes that action  and  with 0.5/3 takes other action"
   ]
  },
  {
   "cell_type": "code",
   "execution_count": 7,
   "metadata": {
    "collapsed": true
   },
   "outputs": [],
   "source": [
    "def randomize_action(a):\n",
    "    p = np.random.random()\n",
    "    \n",
    "    if p < 0.5:\n",
    "        return a\n",
    "    else:\n",
    "        tmp = list(actions)\n",
    "        tmp.remove(a)\n",
    "        \n",
    "        return np.random.choice(tmp)"
   ]
  },
  {
   "cell_type": "code",
   "execution_count": 8,
   "metadata": {
    "collapsed": true
   },
   "outputs": [],
   "source": [
    "def play_game(grid,policy,gamma=0.9):\n",
    "    # exploring starts\n",
    "    start_states = list(grid.actions.keys())\n",
    "    start_index = np.random.choice(len(start_states))\n",
    "    grid.set_state(start_states[start_index])\n",
    "    \n",
    "    s = grid.current_state()\n",
    "    states_and_rewards = [] \n",
    "    \n",
    "    # play a game until game is finished and record all new states and rewards\n",
    "    while not grid.game_over():\n",
    "        old_s = s\n",
    "        a = randomize_action(policy[s]) #the policy provides an action for state s, but since its windy actual action is different\n",
    "        r = grid.move(a)\n",
    "        s = grid.current_state()\n",
    "        \n",
    "        states_and_rewards.append((old_s,r))\n",
    "    \n",
    "        \n",
    "    # calculate every state returns by going backwards\n",
    "    states_and_returns = []\n",
    "    \n",
    "    G=0\n",
    "    for s,r in reversed(states_and_rewards):\n",
    "        \n",
    "        G = r + gamma*G\n",
    "        states_and_returns.append((s,G))\n",
    "        \n",
    "    return states_and_returns"
   ]
  },
  {
   "cell_type": "code",
   "execution_count": 9,
   "metadata": {
    "collapsed": true
   },
   "outputs": [],
   "source": [
    "grid = grid_world.Grid.standard_grid()"
   ]
  },
  {
   "cell_type": "code",
   "execution_count": 10,
   "metadata": {
    "scrolled": true
   },
   "outputs": [
    {
     "name": "stdout",
     "output_type": "stream",
     "text": [
      "Rewards of grid\n",
      "--------------------------\n",
      " 0.00| 0.00| 0.00| 1.00|\n",
      "--------------------------\n",
      " 0.00| 0.00| 0.00|-1.00|\n",
      "--------------------------\n",
      " 0.00| 0.00| 0.00| 0.00|\n"
     ]
    }
   ],
   "source": [
    "print(\"Rewards of grid\")\n",
    "print_values(grid.rewards,grid)"
   ]
  },
  {
   "cell_type": "code",
   "execution_count": 11,
   "metadata": {
    "collapsed": true
   },
   "outputs": [],
   "source": [
    "policy = {\n",
    "    (2,0):'U',\n",
    "    (1,0):'U',\n",
    "    (0,0):'R',\n",
    "    (0,1):'R',\n",
    "    (0,2):'R',\n",
    "    (1,2):'U',\n",
    "    (2,1):'L',\n",
    "    (2,2):'U',\n",
    "    (2,3):'L'\n",
    "}"
   ]
  },
  {
   "cell_type": "code",
   "execution_count": 12,
   "metadata": {},
   "outputs": [
    {
     "data": {
      "text/plain": [
       "[((0, 2), 1.0), ((0, 1), 0.9), ((0, 1), 0.81)]"
      ]
     },
     "execution_count": 12,
     "metadata": {},
     "output_type": "execute_result"
    }
   ],
   "source": [
    "play_game(grid,policy,GAMMA)"
   ]
  },
  {
   "cell_type": "code",
   "execution_count": 15,
   "metadata": {
    "collapsed": true
   },
   "outputs": [],
   "source": [
    "def firt_visit_MC(grid,policy,episodes,gamma):\n",
    "    V = defaultdict(lambda:0)\n",
    "    state_visit_count = defaultdict(lambda:0)\n",
    "    \n",
    "    for i in range(episodes):\n",
    "        states_and_returns = play_game(grid,policy,gamma)\n",
    "        visited_states = set()\n",
    "        \n",
    "        for s,G in states_and_returns:\n",
    "            \n",
    "            if s not in visited_states:\n",
    "                \n",
    "                V[s]  = V[s] + G\n",
    "                visited_states.add(s)\n",
    "                state_visit_count[s] += 1\n",
    "            \n",
    "                \n",
    "    for s in V.keys():\n",
    "        if state_visit_count[s] != 0 :\n",
    "            V[s] = V[s]/state_visit_count[s]\n",
    "        else:\n",
    "            V[s] = 0\n",
    "    \n",
    "    return V\n",
    "        \n",
    "V = firt_visit_MC(grid,policy,100000,GAMMA)"
   ]
  },
  {
   "cell_type": "code",
   "execution_count": 16,
   "metadata": {},
   "outputs": [
    {
     "name": "stdout",
     "output_type": "stream",
     "text": [
      "Values\n",
      "--------------------------\n",
      " 0.58| 0.72| 0.86| 0.00|\n",
      "--------------------------\n",
      " 0.45| 0.00| 0.23| 0.00|\n",
      "--------------------------\n",
      " 0.34| 0.23| 0.13|-0.19|\n"
     ]
    }
   ],
   "source": [
    "print(\"Values\")\n",
    "print_values(V,grid)"
   ]
  },
  {
   "cell_type": "code",
   "execution_count": 17,
   "metadata": {},
   "outputs": [
    {
     "name": "stdout",
     "output_type": "stream",
     "text": [
      "Policy\n",
      "---------------------------\n",
      "  R  |  R  |  R  |     |\n",
      "---------------------------\n",
      "  U  |     |  U  |     |\n",
      "---------------------------\n",
      "  U  |  L  |  U  |  L  |\n"
     ]
    }
   ],
   "source": [
    "print(\"Policy\")\n",
    "print_policy(policy,grid)"
   ]
  },
  {
   "cell_type": "markdown",
   "metadata": {},
   "source": [
    "## Conclusions\n",
    "* The result is the same as \"iterative policy evaluation\" in dynamic programming but seems to converge faster\n",
    "* One of the advantages over dynamyc programing is this does not need a model of the dynamics, its learned by experience"
   ]
  },
  {
   "cell_type": "code",
   "execution_count": null,
   "metadata": {
    "collapsed": true
   },
   "outputs": [],
   "source": []
  }
 ],
 "metadata": {
  "kernelspec": {
   "display_name": "Python 3",
   "language": "python",
   "name": "python3"
  },
  "language_info": {
   "codemirror_mode": {
    "name": "ipython",
    "version": 3
   },
   "file_extension": ".py",
   "mimetype": "text/x-python",
   "name": "python",
   "nbconvert_exporter": "python",
   "pygments_lexer": "ipython3",
   "version": "3.6.1"
  }
 },
 "nbformat": 4,
 "nbformat_minor": 2
}
