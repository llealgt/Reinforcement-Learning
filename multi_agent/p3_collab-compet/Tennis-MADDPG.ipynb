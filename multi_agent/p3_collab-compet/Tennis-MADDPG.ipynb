{
 "cells": [
  {
   "cell_type": "markdown",
   "metadata": {},
   "source": [
    "# Multi-agent reinforcement learning(Collaboration and Competition)\n",
    "\n",
    "---\n",
    "Based on paper [Multi-Agent Actor-Critic for Mixed Cooperative-Competitive Environments](https://arxiv.org/pdf/1706.02275.pdf)\n",
    "\n",
    "In this notebook, you will learn how to use the Unity ML-Agents environment for the third project of the [Deep Reinforcement Learning Nanodegree](https://www.udacity.com/course/deep-reinforcement-learning-nanodegree--nd893) program.\n",
    "\n",
    "### 1. Start the Environment\n",
    "\n",
    "We begin by importing the necessary packages.  If the code cell below returns an error, please revisit the project instructions to double-check that you have installed [Unity ML-Agents](https://github.com/Unity-Technologies/ml-agents/blob/master/docs/Installation.md) and [NumPy](http://www.numpy.org/)."
   ]
  },
  {
   "cell_type": "code",
   "execution_count": 1,
   "metadata": {},
   "outputs": [],
   "source": [
    "from unityagents import UnityEnvironment\n",
    "import numpy as np\n",
    "import torch as torch\n",
    "import torch.nn.functional as F\n",
    "from torch import optim as optim\n",
    "import matplotlib.pyplot as plt\n",
    "from collections import namedtuple,deque\n",
    "import random\n",
    "import copy"
   ]
  },
  {
   "cell_type": "markdown",
   "metadata": {},
   "source": [
    "Next, we will start the environment!  **_Before running the code cell below_**, change the `file_name` parameter to match the location of the Unity environment that you downloaded.\n",
    "\n",
    "- **Mac**: `\"path/to/Tennis.app\"`\n",
    "- **Windows** (x86): `\"path/to/Tennis_Windows_x86/Tennis.exe\"`\n",
    "- **Windows** (x86_64): `\"path/to/Tennis_Windows_x86_64/Tennis.exe\"`\n",
    "- **Linux** (x86): `\"path/to/Tennis_Linux/Tennis.x86\"`\n",
    "- **Linux** (x86_64): `\"path/to/Tennis_Linux/Tennis.x86_64\"`\n",
    "- **Linux** (x86, headless): `\"path/to/Tennis_Linux_NoVis/Tennis.x86\"`\n",
    "- **Linux** (x86_64, headless): `\"path/to/Tennis_Linux_NoVis/Tennis.x86_64\"`\n",
    "\n",
    "For instance, if you are using a Mac, then you downloaded `Tennis.app`.  If this file is in the same folder as the notebook, then the line below should appear as follows:\n",
    "```\n",
    "env = UnityEnvironment(file_name=\"Tennis.app\")\n",
    "```"
   ]
  },
  {
   "cell_type": "code",
   "execution_count": 2,
   "metadata": {},
   "outputs": [
    {
     "name": "stderr",
     "output_type": "stream",
     "text": [
      "INFO:unityagents:\n",
      "'Academy' started successfully!\n",
      "Unity Academy name: Academy\n",
      "        Number of Brains: 1\n",
      "        Number of External Brains : 1\n",
      "        Lesson number : 0\n",
      "        Reset Parameters :\n",
      "\t\t\n",
      "Unity brain name: TennisBrain\n",
      "        Number of Visual Observations (per agent): 0\n",
      "        Vector Observation space type: continuous\n",
      "        Vector Observation space size (per agent): 8\n",
      "        Number of stacked Vector Observation: 3\n",
      "        Vector Action space type: continuous\n",
      "        Vector Action space size (per agent): 2\n",
      "        Vector Action descriptions: , \n"
     ]
    }
   ],
   "source": [
    "env = UnityEnvironment(file_name=\"./Tennis_Linux/Tennis.x86_64\")"
   ]
  },
  {
   "cell_type": "markdown",
   "metadata": {},
   "source": [
    "Environments contain **_brains_** which are responsible for deciding the actions of their associated agents. Here we check for the first brain available, and set it as the default brain we will be controlling from Python."
   ]
  },
  {
   "cell_type": "code",
   "execution_count": 3,
   "metadata": {},
   "outputs": [],
   "source": [
    "# get the default brain\n",
    "brain_name = env.brain_names[0]\n",
    "brain = env.brains[brain_name]"
   ]
  },
  {
   "cell_type": "markdown",
   "metadata": {},
   "source": [
    "### 2. Examine the State and Action Spaces\n",
    "\n",
    "In this environment, two agents control rackets to bounce a ball over a net. If an agent hits the ball over the net, it receives a reward of +0.1.  If an agent lets a ball hit the ground or hits the ball out of bounds, it receives a reward of -0.01.  Thus, the goal of each agent is to keep the ball in play.\n",
    "\n",
    "The observation space consists of 8 variables corresponding to the position and velocity of the ball and racket. Two continuous actions are available, corresponding to movement toward (or away from) the net, and jumping. \n",
    "\n",
    "Run the code cell below to print some information about the environment."
   ]
  },
  {
   "cell_type": "code",
   "execution_count": 4,
   "metadata": {},
   "outputs": [
    {
     "name": "stdout",
     "output_type": "stream",
     "text": [
      "Number of agents: 2\n",
      "Size of each action: 2\n",
      "There are 2 agents. Each observes a state with length: 24\n",
      "The state for the first agent looks like: [ 0.          0.          0.          0.          0.          0.\n",
      "  0.          0.          0.          0.          0.          0.\n",
      "  0.          0.          0.          0.         -6.65278625 -1.5\n",
      " -0.          0.          6.83172083  6.         -0.          0.        ]\n"
     ]
    }
   ],
   "source": [
    "# reset the environment\n",
    "env_info = env.reset(train_mode=True)[brain_name]\n",
    "\n",
    "# number of agents \n",
    "num_agents = len(env_info.agents)\n",
    "print('Number of agents:', num_agents)\n",
    "\n",
    "# size of each action\n",
    "action_size = brain.vector_action_space_size\n",
    "print('Size of each action:', action_size)\n",
    "\n",
    "# examine the state space \n",
    "states = env_info.vector_observations\n",
    "state_size = states.shape[1]\n",
    "print('There are {} agents. Each observes a state with length: {}'.format(states.shape[0], state_size))\n",
    "print('The state for the first agent looks like:', states[0])"
   ]
  },
  {
   "cell_type": "markdown",
   "metadata": {},
   "source": [
    "### 3. Take Random Actions in the Environment\n",
    "\n",
    "In the next code cell, you will learn how to use the Python API to control the agents and receive feedback from the environment.\n",
    "\n",
    "Once this cell is executed, you will watch the agents' performance, if they select actions at random with each time step.  A window should pop up that allows you to observe the agents.\n",
    "\n",
    "Of course, as part of the project, you'll have to change the code so that the agents are able to use their experiences to gradually choose better actions when interacting with the environment!"
   ]
  },
  {
   "cell_type": "code",
   "execution_count": 5,
   "metadata": {},
   "outputs": [
    {
     "name": "stdout",
     "output_type": "stream",
     "text": [
      "Score (max over agents) from episode 1: 0.0\n",
      "Score (max over agents) from episode 2: 0.0\n",
      "Score (max over agents) from episode 3: 0.10000000149011612\n",
      "Score (max over agents) from episode 4: 0.0\n",
      "Score (max over agents) from episode 5: 0.0\n"
     ]
    }
   ],
   "source": [
    "for i in range(1, 6):                                      # play game for 5 episodes\n",
    "    env_info = env.reset(train_mode=False)[brain_name]     # reset the environment    \n",
    "    states = env_info.vector_observations                  # get the current state (for each agent)\n",
    "    scores = np.zeros(num_agents)                          # initialize the score (for each agent)\n",
    "    while True:\n",
    "        actions = np.random.randn(num_agents, action_size) # select an action (for each agent)\n",
    "        actions = np.clip(actions, -1, 1)                  # all actions between -1 and 1\n",
    "        env_info = env.step(actions)[brain_name]           # send all actions to tne environment\n",
    "        next_states = env_info.vector_observations        # get next state (for each agent)\n",
    "        rewards = env_info.rewards                         # get reward (for each agent)\n",
    "        dones = env_info.local_done                        # see if episode finished\n",
    "        scores += env_info.rewards                         # update the score (for each agent)\n",
    "        states = next_states                               # roll over states to next time step\n",
    "        if np.any(dones):                                  # exit loop if episode finished\n",
    "            break\n",
    "    print('Score (max over agents) from episode {}: {}'.format(i, np.max(scores)))"
   ]
  },
  {
   "cell_type": "markdown",
   "metadata": {},
   "source": [
    "When finished, you can close the environment."
   ]
  },
  {
   "cell_type": "code",
   "execution_count": 6,
   "metadata": {},
   "outputs": [],
   "source": [
    "#env.close()"
   ]
  },
  {
   "cell_type": "markdown",
   "metadata": {},
   "source": [
    "### 4. It's Your Turn!\n",
    "\n",
    "Now it's your turn to train your own agent to solve the environment!  When training the environment, set `train_mode=True`, so that the line for resetting the environment looks like the following:\n",
    "```python\n",
    "env_info = env.reset(train_mode=True)[brain_name]\n",
    "```"
   ]
  },
  {
   "cell_type": "code",
   "execution_count": 7,
   "metadata": {},
   "outputs": [
    {
     "name": "stdout",
     "output_type": "stream",
     "text": [
      "cuda:0\n"
     ]
    }
   ],
   "source": [
    "device = torch.device(\"cuda:0\" if torch.cuda.is_available() else \"cpu\")\n",
    "\n",
    "print(device)"
   ]
  },
  {
   "cell_type": "markdown",
   "metadata": {},
   "source": [
    "### Hyper parameters and configuration"
   ]
  },
  {
   "cell_type": "code",
   "execution_count": 8,
   "metadata": {},
   "outputs": [],
   "source": [
    "REPLAY_BUFFER_SIZE = int(1e6)\n",
    "VISUALIZE_EVERY = 50 #how many episodes to train before watching unity env simulation\n",
    "PRINT_EVERY = 10 #how many steps to train before printing training info\n",
    "DESIRED_EPISODES_AVERAGE = 100 #across how many episodes to have the desired scored averaged\n",
    "DESIRED_AVERAGE_SCORE = 0.5 # whats the desired score averaged across desired episodes lenght\n",
    "TRAIN_EVERY = 1 # how many interaction steps before learning step\n",
    "BATCH_SIZE = 128 #now many experience tuples to use for learning\n",
    "UPDATE_TARGET_NETWORK_EVERY = 10 #to configure how many steps to wait before target networks update\n",
    "TAU = 1.0  # target network update control 1 = hard updates 0 = no updates\n",
    "SEED= 0 #rarndom seed\n",
    "EPISODES = 2000 #max training episodes\n",
    "ACTOR_LR = 1e-3 # learning rate for actors\n",
    "CRITIC_LR = 2e-3 # learning rate for critics\n",
    "CRITIC_CLIP = 0.5 # to clip critic gradients\n",
    "EXPLORATION_EPISODES = 100 #how many episodes to do completely random before start training\n",
    "GAMMA = 0.99 #discount factor"
   ]
  },
  {
   "cell_type": "markdown",
   "metadata": {},
   "source": [
    "REPLAY_BUFFER_SIZE = int(1e6)\n",
    "VISUALIZE_EVERY = 50 #how many episodes to train before watching unity env simulation\n",
    "PRINT_EVERY = 10 #how many steps to train before printing training info\n",
    "DESIRED_EPISODES_AVERAGE = 100 #across how many episodes to have the desired scored averaged\n",
    "DESIRED_AVERAGE_SCORE = 0.5 # whats the desired score averaged across desired episodes lenght\n",
    "TRAIN_EVERY = 1 # how many interaction steps before learning step\n",
    "BATCH_SIZE = 128 #now many experience tuples to use for learning\n",
    "UPDATE_TARGET_NETWORK_EVERY = 5#to configure how many steps to wait before target networks update\n",
    "TAU = 1.0  # target network update control 1 = hard updates 0 = no updates\n",
    "SEED= 0 #rarndom seed\n",
    "EPISODES = 3000 #max training episodes\n",
    "ACTOR_LR = 1e-3 # learning rate for actors\n",
    "CRITIC_LR = 2e-3 # learning rate for critics\n",
    "CRITIC_CLIP = 0.5 # to clip critic gradients\n",
    "EXPLORATION_EPISODES = 100 #how many episodes to do completely random before start training\n",
    "GAMMA = 0.99 #discount factor"
   ]
  },
  {
   "cell_type": "code",
   "execution_count": 9,
   "metadata": {},
   "outputs": [],
   "source": [
    "REPLAY_BUFFER_SIZE = int(1e6)\n",
    "VISUALIZE_EVERY = 50 #how many episodes to train before watching unity env simulation\n",
    "PRINT_EVERY = 10 #how many steps to train before printing training info\n",
    "DESIRED_EPISODES_AVERAGE = 100 #across how many episodes to have the desired scored averaged\n",
    "DESIRED_AVERAGE_SCORE = 0.5 # whats the desired score averaged across desired episodes lenght\n",
    "TRAIN_EVERY = 1 # how many interaction steps before learning step\n",
    "BATCH_SIZE = 128 #now many experience tuples to use for learning\n",
    "UPDATE_TARGET_NETWORK_EVERY = 10 #to configure how many steps to wait before target networks update\n",
    "TAU = 1.0  # target network update control 1 = hard updates 0 = no updates\n",
    "SEED= 0 #rarndom seed\n",
    "EPISODES = 2000 #max training episodes\n",
    "ACTOR_LR = 1e-3 # learning rate for actors\n",
    "CRITIC_LR = 2e-3 # learning rate for critics\n",
    "CRITIC_CLIP = 1.0 # to clip critic gradients\n",
    "EXPLORATION_EPISODES = 100 #how many episodes to do completely random before start training\n",
    "GAMMA = 0.99 #discount factor"
   ]
  },
  {
   "cell_type": "code",
   "execution_count": 10,
   "metadata": {},
   "outputs": [],
   "source": [
    "torch.manual_seed(SEED)\n",
    "np.random.seed(SEED)"
   ]
  },
  {
   "cell_type": "markdown",
   "metadata": {},
   "source": [
    "### Classes and objects definition\n",
    "\n",
    "Some of these classes can go to separate specific .py files but i let them here for readability"
   ]
  },
  {
   "cell_type": "code",
   "execution_count": 11,
   "metadata": {},
   "outputs": [],
   "source": [
    "class ReplayBuffer:\n",
    "    \"\"\"Fixed-size buffer to store experience tuples for experience replay\"\"\"\n",
    "    \n",
    "    def __init__(self,action_size,buffer_size):\n",
    "        \"\"\"Initialize a ReplayBuffer objectParams\n",
    "        ======\n",
    "            action_size (int): dimension of each action\n",
    "            buffer_size (int): maximum size of buffer\n",
    "        \"\"\"\n",
    "        \n",
    "        self.action_size = action_size\n",
    "        self.buffer_size = buffer_size\n",
    "        self.memory = deque(maxlen=buffer_size)\n",
    "        self.experience = namedtuple(\"Experience\",field_names=[\"all_state\", \"all_action\", \"all_reward\",\"all_next_state\", \"done\"])\n",
    "        \n",
    "    def add(self,all_state,all_action,all_reward,all_next_state,done):\n",
    "        \"Add a new experience tuple to replay buffer\"\n",
    "        new_experience = self.experience(all_state,all_action,all_reward,all_next_state,done)\n",
    "        self.memory.append(new_experience)\n",
    "        \n",
    "    def sample(self,batch_size):\n",
    "        \"Get a sample of the buffer of size=batch size\"\n",
    "        experience_batch = random.sample(self.memory,k=batch_size)\n",
    "        \n",
    "        all_states = torch.from_numpy(np.vstack([e.all_state.reshape(1,2,-1) for e in experience_batch if e is not None])).float().to(device)\n",
    "        all_actions = torch.from_numpy(np.vstack([e.all_action.reshape(1,2,-1) for e in experience_batch if e is not None])).float().to(device)\n",
    "        all_rewards = torch.from_numpy(np.vstack([e.all_reward.reshape(1,2,-1) for e in experience_batch if e is not None])).float().to(device)\n",
    "        all_next_states = torch.from_numpy(np.vstack([e.all_next_state.reshape(1,2,-1) for e in experience_batch if e is not None])).float().to(device)\n",
    "        dones = torch.from_numpy(np.vstack([e.done.astype(np.uint8).reshape(1,2,-1) for e in experience_batch if e is not None]).astype(np.uint8)).float().to(device)\n",
    "        \n",
    "        return (all_states,all_actions,all_rewards,all_next_states,dones)\n",
    "    \n",
    "    def __len__(self):\n",
    "        \"\"\"Return the current size of internal memory\"\"\"\n",
    "        return len(self.memory)"
   ]
  },
  {
   "cell_type": "code",
   "execution_count": 12,
   "metadata": {},
   "outputs": [],
   "source": [
    "class OUNoise:\n",
    "    \"\"\"\n",
    "        Orstein-Ulenbeck process\n",
    "        used to add noise to actor selections for adding exploratoion\n",
    "    \"\"\"\n",
    "    def __init__(self,size,mu=0.0,theta=0.15,sigma=0.2):\n",
    "        \"\"\"Initialize a random noise process\"\"\"\n",
    "        self.size = size\n",
    "        self.mu = mu*np.ones(size)\n",
    "        self.theta = theta\n",
    "        self.sigma = sigma\n",
    "        self.reset()\n",
    "        \n",
    "    def reset(self):\n",
    "        \"\"\"Reset the random process\"\"\"\n",
    "        self.state = copy.copy(self.mu)\n",
    "        \n",
    "    def sample(self):\n",
    "        \"\"\"Get a random sample\"\"\"\n",
    "        x = self.state\n",
    "        dx = self.theta * (self.mu - x) + self.sigma * np.random.standard_normal(self.size)\n",
    "        self.state = x + dx\n",
    "        \n",
    "        return self.state"
   ]
  },
  {
   "cell_type": "code",
   "execution_count": 13,
   "metadata": {},
   "outputs": [],
   "source": [
    "def hidden_init(layer):\n",
    "    \"\"\"Used to set the initial weights of hidden layers\"\"\"\n",
    "    fan_in = layer.weight.data.size()[0]\n",
    "    lim = 1. / np.sqrt(fan_in)\n",
    "    return (-lim, lim)"
   ]
  },
  {
   "cell_type": "code",
   "execution_count": 14,
   "metadata": {},
   "outputs": [],
   "source": [
    "# Every agent will have an actor which can only see the agents observations\n",
    "class Actor(torch.nn.Module):\n",
    "    def __init__(self,state_size,action_size):\n",
    "        super(Actor,self).__init__()\n",
    "        self.action_size = action_size\n",
    "        self.bn=   torch.nn.BatchNorm1d(state_size) #to normalize inputs\n",
    "        self.fc1 = torch.nn.Linear(state_size,128)\n",
    "        self.fc2 = torch.nn.Linear(128,128)\n",
    "        self.fc_output = torch.nn.Linear(128,action_size)\n",
    "        self.reset_parameters()\n",
    "        \n",
    "    def forward(self,x):\n",
    "        x = self.bn(x.contiguous())\n",
    "        x = F.relu(self.fc1(x))\n",
    "        x = F.relu(self.fc2(x))\n",
    "        \n",
    "        y = F.tanh(self.fc_output(x))\n",
    "        \n",
    "        return y\n",
    "    \n",
    "    def reset_parameters(self):\n",
    "        self.fc1.weight.data.uniform_(*hidden_init(self.fc1))\n",
    "        self.fc2.weight.data.uniform_(*hidden_init(self.fc2))\n",
    "        self.fc_output.weight.data.uniform_(-0.0001, 0.0001)"
   ]
  },
  {
   "cell_type": "code",
   "execution_count": 15,
   "metadata": {},
   "outputs": [],
   "source": [
    "# Every agent will have it's own critic but the critics have access to obervations and actions of all agents\n",
    "class Critic(torch.nn.Module):\n",
    "    def __init__(self,state_size,action_size):\n",
    "        super(Critic,self).__init__()\n",
    "        self.fc1 = torch.nn.Linear(2*state_size+ 2*action_size,128) #use actions  and states of both agents\n",
    "        self.fc2 = torch.nn.Linear(128,128)\n",
    "        self.fc_output = torch.nn.Linear(128,1)\n",
    "        self.reset_parameters()\n",
    "        \n",
    "    def forward(self,x,actions):\n",
    "        x = torch.cat((x,actions),dim=1)\n",
    "        x = F.relu(self.fc1(x))\n",
    "        x = F.relu(self.fc2(x))\n",
    "        \n",
    "        y = self.fc_output(x)\n",
    "        \n",
    "        return y\n",
    "    \n",
    "    def reset_parameters(self):\n",
    "        self.fc1.weight.data.uniform_(*hidden_init(self.fc1))\n",
    "        self.fc2.weight.data.uniform_(*hidden_init(self.fc2))\n",
    "        self.fc_output.weight.data.uniform_(-3e-4, 3e-4)"
   ]
  },
  {
   "cell_type": "code",
   "execution_count": 16,
   "metadata": {},
   "outputs": [],
   "source": [
    "class Agent:\n",
    "    \"\"\"\n",
    "    Agent class\n",
    "    \"\"\"\n",
    "    \n",
    "    #class variables to make possible every agent critic having access to observations and actions of other agents\n",
    "    agent1 = None \n",
    "    agent2 = None\n",
    "    \n",
    "    def __init__(self,agent_index,state_size,action_size,replay_buffer,noise,device):\n",
    "        \"\"\"Initialize the agent class\"\"\"\n",
    "        self.agent_index = agent_index #every agent has an index to select it's own experiences from shared buffer\n",
    "        self.state_size = state_size\n",
    "        self.action_size  = action_size\n",
    "        \n",
    "        # local(online) actor and critic\n",
    "        self.actor_local = Actor(state_size,action_size).to(device)\n",
    "        self.critic_local = Critic(state_size,action_size).to(device)\n",
    "\n",
    "        # target(copy) actors and critics\n",
    "        self.actor_target = Actor(state_size,action_size).to(device)\n",
    "        self.critic_target = Critic(state_size,action_size).to(device)\n",
    "\n",
    "        # start target networks as copy of online networks\n",
    "        self.update_target_networks(1.0)\n",
    "\n",
    "        # adam optimizers for online actor and critic\n",
    "        self.critic_optimizer = optim.Adam(self.critic_local.parameters(),lr=CRITIC_LR )\n",
    "        self.actor_optimizer = optim.Adam(self.actor_local.parameters(),lr=ACTOR_LR)\n",
    "        \n",
    "        self.device = device\n",
    "        \n",
    "        #every agent has access to shared replay buffer and noise process\n",
    "        self.replay_buffer = replay_buffer\n",
    "        self.noise = noise\n",
    "        \n",
    "        # set target networks to evaluation mode\n",
    "        #self.actor_target.eval()\n",
    "        #self.critic_target.eval()\n",
    "        \n",
    "        \n",
    "        self.actor_local.eval()\n",
    "    def act(self,state):\n",
    "        \"\"\"\n",
    "            Action selection on a given state\n",
    "            the action is selected by actor network + random noise for exploration\n",
    "        \"\"\"\n",
    "        state = torch.from_numpy(state).float().unsqueeze(0).detach().to(self.device)\n",
    "        self.actor_local.eval()\n",
    "        with torch.no_grad():\n",
    "            action = self.actor_local(state).cpu().data.numpy()\n",
    "            \n",
    "        self.actor_local.train()\n",
    "        noise = self.noise.sample()\n",
    "        action = np.clip(action + noise ,-1,1)\n",
    "        \n",
    "        return action\n",
    "    \n",
    "    def update_target_network(self,local_network,target_network,tau):\n",
    "        \"\"\"Generic function for soft target networks update\"\"\"\n",
    "        for target_param,local_param in zip(target_network.parameters(),local_network.parameters()):\n",
    "            target_param.data.copy_(tau*local_param.data + (1.0 - tau)*target_param.data)\n",
    "            \n",
    "    def update_target_networks(self,tau):\n",
    "        \"\"\"Function to update both actor and critic target networks\"\"\"\n",
    "        self.update_target_network(self.critic_local,self.critic_target,tau)\n",
    "        self.update_target_network(self.actor_local,self.actor_target,tau)\n",
    "            \n",
    "            \n",
    "    def train(self,batch_size=32,step_num=0,print_every = 100,critic_losses=[],actor_losses = []):\n",
    "        (states, actions, rewards, next_states, dones) = self.replay_buffer.sample(batch_size)\n",
    "        \n",
    "        # vectors of all states, all next states and all actions taken\n",
    "        all_states = states.view((batch_size,2*self.state_size))\n",
    "        all_next_states = next_states.view((batch_size,2*self.state_size))\n",
    "        all_actions = actions.view((batch_size,2*self.action_size))\n",
    "        \n",
    "        # next states for both agents\n",
    "        agent1_next_states = next_states[:,0,:]\n",
    "        agent2_next_states = next_states[:,1,:]\n",
    "        \n",
    "        # states for both agents\n",
    "        agent1_states = states[:,0,:]\n",
    "        agent2_states = states[:,1,:]\n",
    "        \n",
    "        # states,actions,rewards and next states for this specific agent\n",
    "        states = states[:,self.agent_index,:]\n",
    "        actions = actions[:,self.agent_index,:]\n",
    "        rewards = rewards[:,self.agent_index,:]\n",
    "        next_states = next_states[:,self.agent_index,:]\n",
    "        dones = dones[:,self.agent_index,:]\n",
    "        \n",
    "        \n",
    "        # to calculate the target q values we need to calculate the \"next actions\" for all agents(based on next states)\n",
    "        agent1_next_actions = self.agent1.actor_target(agent1_next_states)\n",
    "        agent2_next_actions = self.agent2.actor_target(agent2_next_states)\n",
    "        all_next_actions = torch.cat((agent1_next_actions,agent2_next_actions),dim=1)\n",
    "        \n",
    "        # make sure we stop gradients from the target  q-values(if we do not, this is a semigradient unstable update)\n",
    "        with torch.no_grad():\n",
    "            target_q_values = self.critic_target(all_next_states,all_next_actions)\n",
    "            \n",
    "        target_return = rewards + (GAMMA*target_q_values*(1-dones))\n",
    "\n",
    "        #train critic\n",
    "        ## every critic has access to the observations and actions of all agents\n",
    "        current_critic_estimate = self.critic_local(all_states,all_actions)\n",
    "        critic_mse_loss = F.mse_loss(current_critic_estimate,target_return.detach())\n",
    "        \n",
    "\n",
    "        self.critic_optimizer.zero_grad()\n",
    "        critic_mse_loss.backward()\n",
    "        torch.nn.utils.clip_grad_norm_(self.critic_local.parameters(),CRITIC_CLIP)\n",
    "        self.critic_optimizer.step()\n",
    "\n",
    "        critic_losses.append(critic_mse_loss.cpu().data.numpy())\n",
    "\n",
    "        #train actor\n",
    "        ## we need to calculate the actions selected by local actor for both agents\n",
    "        ## because we need critic gradient for the update but the critic needs states and actions for all agents\n",
    "        ## we have to do it for every agent because the actor has access only to states for every aent\n",
    "        agent1_local_actions = self.actor_local(agent1_states)\n",
    "        agent2_local_actions = self.actor_local(agent2_states)\n",
    "        all_actions_local = torch.cat((agent1_local_actions,agent2_local_actions),dim=1)\n",
    "        \n",
    "        actor_loss = -self.critic_local(all_states,all_actions_local).mean()\n",
    "       \n",
    "        self.actor_optimizer.zero_grad()\n",
    "        actor_loss.backward()\n",
    "        self.actor_optimizer.step()\n",
    "\n",
    "        actor_losses.append(actor_loss.cpu().data.numpy())"
   ]
  },
  {
   "cell_type": "code",
   "execution_count": 17,
   "metadata": {},
   "outputs": [],
   "source": [
    "replay_buffer = ReplayBuffer(action_size,REPLAY_BUFFER_SIZE) # shared experience buffer for both agents\n",
    "noise = OUNoise(size=action_size) #shared random noise process for bot agents\n",
    "\n",
    "agent1 = Agent(0,state_size,action_size,replay_buffer,noise,device)\n",
    "agent2 = Agent(1,state_size,action_size,replay_buffer,noise,device)\n",
    "\n",
    "Agent.agent1 = agent1\n",
    "Agent.agent2 = agent2"
   ]
  },
  {
   "cell_type": "code",
   "execution_count": 18,
   "metadata": {},
   "outputs": [
    {
     "name": "stdout",
     "output_type": "stream",
     "text": [
      "Episode:10 steps:14 episode_reward:0.0 last n mean rew.0.010000000149011612,individual episode rew.[[ 0.  ]\n",
      " [-0.01]]\n",
      "Episode:20 steps:14 episode_reward:0.0 last n mean rew.0.005000000074505806,individual episode rew.[[-0.01]\n",
      " [ 0.  ]]\n",
      "Episode:30 steps:33 episode_reward:0.10000000149011612 last n mean rew.0.00966666688521703,individual episode rew.[[ 0.1 ]\n",
      " [-0.01]]\n",
      "Episode:40 steps:14 episode_reward:0.0 last n mean rew.0.009500000206753612,individual episode rew.[[ 0.  ]\n",
      " [-0.01]]\n",
      "Episode:50 steps:14 episode_reward:0.0 last n mean rew.0.007600000165402889,individual episode rew.[[ 0.  ]\n",
      " [-0.01]]\n",
      "Episode:60 steps:23 episode_reward:0.10000000149011612 last n mean rew.0.013000000237176816,individual episode rew.[[ 0.1 ]\n",
      " [-0.01]]\n",
      "Episode:70 steps:14 episode_reward:0.0 last n mean rew.0.01400000024586916,individual episode rew.[[-0.01]\n",
      " [ 0.  ]]\n",
      "Episode:80 steps:14 episode_reward:0.0 last n mean rew.0.012250000215135514,individual episode rew.[[-0.01]\n",
      " [ 0.  ]]\n",
      "Episode:90 steps:32 episode_reward:0.0 last n mean rew.0.012000000207788415,individual episode rew.[[-0.01]\n",
      " [ 0.  ]]\n",
      "Episode:100 steps:15 episode_reward:0.0 last n mean rew.0.010800000187009573,individual episode rew.[[-0.01]\n",
      " [ 0.  ]]\n",
      "Episode:110 steps:15 episode_reward:0.0 last n mean rew.0.009800000172108412,individual episode rew.[[ 0.  ]\n",
      " [-0.01]]\n",
      "Episode:120 steps:15 episode_reward:0.0 last n mean rew.0.009800000172108412,individual episode rew.[[-0.01]\n",
      " [ 0.  ]]\n",
      "Episode:130 steps:15 episode_reward:0.0 last n mean rew.0.007900000121444463,individual episode rew.[[ 0.  ]\n",
      " [-0.01]]\n",
      "Episode:140 steps:15 episode_reward:0.0 last n mean rew.0.007000000104308128,individual episode rew.[[-0.01]\n",
      " [ 0.  ]]\n",
      "Episode:150 steps:15 episode_reward:0.0 last n mean rew.0.007000000104308128,individual episode rew.[[-0.01]\n",
      " [ 0.  ]]\n",
      "Episode:160 steps:14 episode_reward:0.0 last n mean rew.0.0030000000447034836,individual episode rew.[[ 0.  ]\n",
      " [-0.01]]\n",
      "Episode:170 steps:14 episode_reward:0.0 last n mean rew.0.0010000000149011613,individual episode rew.[[ 0.  ]\n",
      " [-0.01]]\n",
      "Episode:180 steps:14 episode_reward:0.0 last n mean rew.0.0010000000149011613,individual episode rew.[[-0.01]\n",
      " [ 0.  ]]\n",
      "Episode:190 steps:14 episode_reward:0.0 last n mean rew.0.0,individual episode rew.[[ 0.  ]\n",
      " [-0.01]]\n",
      "Episode:200 steps:14 episode_reward:0.0 last n mean rew.0.0,individual episode rew.[[ 0.  ]\n",
      " [-0.01]]\n",
      "Episode:210 steps:14 episode_reward:0.0 last n mean rew.0.0,individual episode rew.[[ 0.  ]\n",
      " [-0.01]]\n",
      "Episode:220 steps:33 episode_reward:0.10000000149011612 last n mean rew.0.006500000115484,individual episode rew.[[-0.01]\n",
      " [ 0.1 ]]\n",
      "Episode:230 steps:14 episode_reward:0.0 last n mean rew.0.008500000145286322,individual episode rew.[[-0.01]\n",
      " [ 0.  ]]\n",
      "Episode:240 steps:14 episode_reward:0.0 last n mean rew.0.008500000145286322,individual episode rew.[[ 0.  ]\n",
      " [-0.01]]\n",
      "Episode:250 steps:15 episode_reward:0.0 last n mean rew.0.009500000160187483,individual episode rew.[[ 0.  ]\n",
      " [-0.01]]\n",
      "Episode:260 steps:31 episode_reward:0.10000000149011612 last n mean rew.0.01550000024959445,individual episode rew.[[ 0.1 ]\n",
      " [-0.01]]\n",
      "Episode:270 steps:14 episode_reward:0.0 last n mean rew.0.018400000296533107,individual episode rew.[[ 0.  ]\n",
      " [-0.01]]\n",
      "Episode:280 steps:33 episode_reward:0.10000000149011612 last n mean rew.0.023300000373274087,individual episode rew.[[-0.01]\n",
      " [ 0.1 ]]\n",
      "Episode:290 steps:33 episode_reward:0.10000000149011612 last n mean rew.0.029300000462681056,individual episode rew.[[-0.01]\n",
      " [ 0.1 ]]\n",
      "Episode:300 steps:14 episode_reward:0.0 last n mean rew.0.03820000059902668,individual episode rew.[[ 0.  ]\n",
      " [-0.01]]\n",
      "Episode:310 steps:30 episode_reward:0.10000000149011612 last n mean rew.0.04700000073760748,individual episode rew.[[ 0.1 ]\n",
      " [-0.01]]\n",
      "Episode:320 steps:30 episode_reward:0.10000000149011612 last n mean rew.0.049400000758469106,individual episode rew.[[ 0.1 ]\n",
      " [-0.01]]\n",
      "Episode:330 steps:30 episode_reward:0.10000000149011612 last n mean rew.0.057400000877678395,individual episode rew.[[ 0.1 ]\n",
      " [-0.01]]\n",
      "Episode:340 steps:51 episode_reward:0.10000000149011612 last n mean rew.0.06540000099688768,individual episode rew.[[-0.01]\n",
      " [ 0.1 ]]\n",
      "Episode:350 steps:30 episode_reward:0.10000000149011612 last n mean rew.0.07240000110119581,individual episode rew.[[ 0.1 ]\n",
      " [-0.01]]\n",
      "Episode:360 steps:13 episode_reward:0.0 last n mean rew.0.07330000111833215,individual episode rew.[[-0.01]\n",
      " [ 0.  ]]\n",
      "Episode:370 steps:33 episode_reward:0.10000000149011612 last n mean rew.0.07740000117570162,individual episode rew.[[ 0.1 ]\n",
      " [-0.01]]\n",
      "Episode:380 steps:14 episode_reward:0.0 last n mean rew.0.08050000121816993,individual episode rew.[[-0.01]\n",
      " [ 0.  ]]\n",
      "Episode:390 steps:86 episode_reward:0.20000000298023224 last n mean rew.0.09050000136718155,individual episode rew.[[0.2 ]\n",
      " [0.19]]\n",
      "Episode:400 steps:34 episode_reward:0.10000000149011612 last n mean rew.0.09560000143945217,individual episode rew.[[-0.01]\n",
      " [ 0.1 ]]\n",
      "Episode:410 steps:34 episode_reward:0.10000000149011612 last n mean rew.0.09980000149458647,individual episode rew.[[ 0.1 ]\n",
      " [-0.02]]\n",
      "Episode:420 steps:49 episode_reward:0.10000000149011612 last n mean rew.0.1099000016413629,individual episode rew.[[0.1 ]\n",
      " [0.09]]\n",
      "Episode:430 steps:65 episode_reward:0.20000000298023224 last n mean rew.0.11580000173300505,individual episode rew.[[0.2 ]\n",
      " [0.09]]\n",
      "Episode:440 steps:14 episode_reward:0.0 last n mean rew.0.11780000176280737,individual episode rew.[[-0.01]\n",
      " [ 0.  ]]\n",
      "Episode:450 steps:68 episode_reward:0.10000000149011612 last n mean rew.0.11880000177770852,individual episode rew.[[0.1 ]\n",
      " [0.09]]\n",
      "Episode:460 steps:14 episode_reward:0.0 last n mean rew.0.12190000182017684,individual episode rew.[[ 0.  ]\n",
      " [-0.01]]\n",
      "Episode:470 steps:14 episode_reward:0.0 last n mean rew.0.12590000187978148,individual episode rew.[[-0.01]\n",
      " [ 0.  ]]\n",
      "Episode:480 steps:110 episode_reward:0.30000000447034836 last n mean rew.0.12780000191181898,individual episode rew.[[0.19]\n",
      " [0.3 ]]\n",
      "Episode:490 steps:58 episode_reward:0.10000000149011612 last n mean rew.0.12180000182241202,individual episode rew.[[0.1 ]\n",
      " [0.09]]\n",
      "Episode:500 steps:52 episode_reward:0.10000000149011612 last n mean rew.0.11480000171810388,individual episode rew.[[0.09]\n",
      " [0.1 ]]\n",
      "Episode:510 steps:89 episode_reward:0.20000000298023224 last n mean rew.0.1118000016734004,individual episode rew.[[0.2 ]\n",
      " [0.09]]\n",
      "Episode:520 steps:33 episode_reward:0.10000000149011612 last n mean rew.0.10380000155419111,individual episode rew.[[-0.01]\n",
      " [ 0.1 ]]\n",
      "Episode:530 steps:15 episode_reward:0.0 last n mean rew.0.09790000146254897,individual episode rew.[[-0.01]\n",
      " [ 0.  ]]\n",
      "Episode:540 steps:85 episode_reward:0.20000000298023224 last n mean rew.0.09990000149235129,individual episode rew.[[0.2 ]\n",
      " [0.19]]\n",
      "Episode:550 steps:14 episode_reward:0.0 last n mean rew.0.10090000150725245,individual episode rew.[[-0.01]\n",
      " [ 0.  ]]\n",
      "Episode:560 steps:33 episode_reward:0.10000000149011612 last n mean rew.0.10390000155195595,individual episode rew.[[ 0.1 ]\n",
      " [-0.01]]\n",
      "Episode:570 steps:83 episode_reward:0.20000000298023224 last n mean rew.0.11090000165626407,individual episode rew.[[0.2 ]\n",
      " [0.19]]\n",
      "Episode:580 steps:110 episode_reward:0.30000000447034836 last n mean rew.0.1160000017285347,individual episode rew.[[0.19]\n",
      " [0.3 ]]\n",
      "Episode:590 steps:33 episode_reward:0.10000000149011612 last n mean rew.0.11890000177547336,individual episode rew.[[-0.01]\n",
      " [ 0.1 ]]\n",
      "Episode:600 steps:19 episode_reward:0.0 last n mean rew.0.12090000180527567,individual episode rew.[[-0.01]\n",
      " [ 0.  ]]\n",
      "Episode:610 steps:129 episode_reward:0.30000000447034836 last n mean rew.0.12390000184997917,individual episode rew.[[0.18]\n",
      " [0.3 ]]\n",
      "Episode:620 steps:86 episode_reward:0.20000000298023224 last n mean rew.0.12390000184997917,individual episode rew.[[0.2 ]\n",
      " [0.19]]\n",
      "Episode:630 steps:14 episode_reward:0.0 last n mean rew.0.12190000182017684,individual episode rew.[[-0.01]\n",
      " [ 0.  ]]\n",
      "Episode:640 steps:38 episode_reward:0.10000000149011612 last n mean rew.0.11980000179260969,individual episode rew.[[-0.01]\n",
      " [ 0.1 ]]\n",
      "Episode:650 steps:76 episode_reward:0.10000000149011612 last n mean rew.0.12180000182241202,individual episode rew.[[0.09]\n",
      " [0.1 ]]\n",
      "Episode:660 steps:14 episode_reward:0.0 last n mean rew.0.12180000182241202,individual episode rew.[[-0.01]\n",
      " [ 0.  ]]\n"
     ]
    },
    {
     "name": "stdout",
     "output_type": "stream",
     "text": [
      "Episode:670 steps:33 episode_reward:0.10000000149011612 last n mean rew.0.11670000175014138,individual episode rew.[[-0.01]\n",
      " [ 0.1 ]]\n",
      "Episode:680 steps:86 episode_reward:0.20000000298023224 last n mean rew.0.1137000017054379,individual episode rew.[[0.2 ]\n",
      " [0.19]]\n",
      "Episode:690 steps:34 episode_reward:0.10000000149011612 last n mean rew.0.10880000162869692,individual episode rew.[[ 0.1 ]\n",
      " [-0.01]]\n",
      "Episode:700 steps:31 episode_reward:0.10000000149011612 last n mean rew.0.10880000162869692,individual episode rew.[[ 0.1 ]\n",
      " [-0.01]]\n",
      "Episode:710 steps:56 episode_reward:0.10000000149011612 last n mean rew.0.10370000155642628,individual episode rew.[[0.09]\n",
      " [0.1 ]]\n",
      "Episode:720 steps:33 episode_reward:0.10000000149011612 last n mean rew.0.10470000157132744,individual episode rew.[[-0.01]\n",
      " [ 0.1 ]]\n",
      "Episode:730 steps:49 episode_reward:0.10000000149011612 last n mean rew.0.10170000152662396,individual episode rew.[[0.1 ]\n",
      " [0.09]]\n",
      "Episode:740 steps:14 episode_reward:0.0 last n mean rew.0.0988000014796853,individual episode rew.[[-0.01]\n",
      " [ 0.  ]]\n",
      "Episode:750 steps:15 episode_reward:0.0 last n mean rew.0.09180000137537718,individual episode rew.[[ 0.  ]\n",
      " [-0.01]]\n",
      "Episode:760 steps:88 episode_reward:0.20000000298023224 last n mean rew.0.09080000136047602,individual episode rew.[[0.2 ]\n",
      " [0.19]]\n",
      "Episode:770 steps:15 episode_reward:0.0 last n mean rew.0.08480000127106906,individual episode rew.[[-0.01]\n",
      " [ 0.  ]]\n",
      "Episode:780 steps:52 episode_reward:0.10000000149011612 last n mean rew.0.0858000012859702,individual episode rew.[[0.09]\n",
      " [0.1 ]]\n",
      "Episode:790 steps:52 episode_reward:0.10000000149011612 last n mean rew.0.0938000014051795,individual episode rew.[[0.09]\n",
      " [0.1 ]]\n",
      "Episode:800 steps:88 episode_reward:0.20000000298023224 last n mean rew.0.1007000015117228,individual episode rew.[[0.2       ]\n",
      " [0.19000001]]\n",
      "Episode:810 steps:90 episode_reward:0.20000000298023224 last n mean rew.0.10780000161379576,individual episode rew.[[0.19]\n",
      " [0.2 ]]\n",
      "Episode:820 steps:35 episode_reward:0.10000000149011612 last n mean rew.0.11070000166073442,individual episode rew.[[-0.01]\n",
      " [ 0.1 ]]\n",
      "Episode:830 steps:131 episode_reward:0.30000000447034836 last n mean rew.0.11770000176504254,individual episode rew.[[0.29]\n",
      " [0.3 ]]\n",
      "Episode:840 steps:52 episode_reward:0.10000000149011612 last n mean rew.0.12460000187158585,individual episode rew.[[0.09]\n",
      " [0.1 ]]\n",
      "Episode:850 steps:14 episode_reward:0.0 last n mean rew.0.1306000019609928,individual episode rew.[[-0.01]\n",
      " [ 0.  ]]\n",
      "Episode:860 steps:70 episode_reward:0.19000000320374966 last n mean rew.0.12930000197142363,individual episode rew.[[0.1 ]\n",
      " [0.19]]\n",
      "Episode:870 steps:87 episode_reward:0.20000000298023224 last n mean rew.0.14530000222846864,individual episode rew.[[0.09]\n",
      " [0.2 ]]\n",
      "Episode:880 steps:63 episode_reward:0.20000000298023224 last n mean rew.0.15020000230520963,individual episode rew.[[0.2 ]\n",
      " [0.09]]\n",
      "Episode:890 steps:30 episode_reward:0.10000000149011612 last n mean rew.0.15010000232607126,individual episode rew.[[ 0.1 ]\n",
      " [-0.01]]\n",
      "Episode:900 steps:32 episode_reward:0.09000000171363354 last n mean rew.0.16110000248998405,individual episode rew.[[0.  ]\n",
      " [0.09]]\n",
      "Episode:910 steps:14 episode_reward:0.0 last n mean rew.0.1610000024922192,individual episode rew.[[-0.01]\n",
      " [ 0.  ]]\n",
      "Episode:920 steps:14 episode_reward:0.0 last n mean rew.0.15800000244751572,individual episode rew.[[-0.01]\n",
      " [ 0.  ]]\n",
      "Episode:930 steps:170 episode_reward:0.4000000059604645 last n mean rew.0.16890000261366367,individual episode rew.[[0.39000001]\n",
      " [0.40000001]]\n",
      "Episode:940 steps:169 episode_reward:0.4000000059604645 last n mean rew.0.18080000279471278,individual episode rew.[[0.40000001]\n",
      " [0.39000001]]\n",
      "Episode:950 steps:13 episode_reward:0.0 last n mean rew.0.1916000029630959,individual episode rew.[[-0.01]\n",
      " [ 0.  ]]\n",
      "Episode:960 steps:31 episode_reward:0.10000000149011612 last n mean rew.0.19080000292509794,individual episode rew.[[ 0.1 ]\n",
      " [-0.01]]\n",
      "Episode:970 steps:148 episode_reward:0.30000000447034836 last n mean rew.0.18690000284463168,individual episode rew.[[0.3 ]\n",
      " [0.29]]\n",
      "Episode:980 steps:90 episode_reward:0.20000000298023224 last n mean rew.0.1928000029362738,individual episode rew.[[0.09]\n",
      " [0.2 ]]\n",
      "Episode:990 steps:110 episode_reward:0.30000000447034836 last n mean rew.0.18590000281110405,individual episode rew.[[0.19]\n",
      " [0.3 ]]\n",
      "Episode:1000 steps:45 episode_reward:0.10000000149011612 last n mean rew.0.18890000285580755,individual episode rew.[[ 0.1 ]\n",
      " [-0.01]]\n",
      "Episode:1010 steps:72 episode_reward:0.20000000298023224 last n mean rew.0.197900002989918,individual episode rew.[[0.09]\n",
      " [0.2 ]]\n",
      "Episode:1020 steps:31 episode_reward:0.10000000149011612 last n mean rew.0.22000000331550837,individual episode rew.[[ 0.1 ]\n",
      " [-0.01]]\n",
      "Episode:1030 steps:106 episode_reward:0.20000000298023224 last n mean rew.0.20990000316873192,individual episode rew.[[0.19]\n",
      " [0.2 ]]\n",
      "Episode:1040 steps:14 episode_reward:0.0 last n mean rew.0.20410000307485462,individual episode rew.[[ 0.  ]\n",
      " [-0.01]]\n",
      "Episode:1050 steps:128 episode_reward:0.30000000447034836 last n mean rew.0.20930000314489006,individual episode rew.[[0.3 ]\n",
      " [0.29]]\n",
      "Episode:1060 steps:588 episode_reward:1.5000000223517418 last n mean rew.0.2402000036276877,individual episode rew.[[1.39000002]\n",
      " [1.50000002]]\n",
      "Episode:1070 steps:334 episode_reward:0.800000011920929 last n mean rew.0.25620000386610625,individual episode rew.[[0.79000001]\n",
      " [0.80000001]]\n",
      "Episode:1080 steps:33 episode_reward:0.10000000149011612 last n mean rew.0.2604000039212406,individual episode rew.[[-0.01]\n",
      " [ 0.1 ]]\n",
      "Episode:1090 steps:53 episode_reward:0.10000000149011612 last n mean rew.0.2823000042513013,individual episode rew.[[ 0.1 ]\n",
      " [-0.01]]\n",
      "Episode:1100 steps:14 episode_reward:0.0 last n mean rew.0.280300004221499,individual episode rew.[[ 0.  ]\n",
      " [-0.01]]\n",
      "Episode:1110 steps:33 episode_reward:0.10000000149011612 last n mean rew.0.2873000043258071,individual episode rew.[[-0.01]\n",
      " [ 0.1 ]]\n",
      "Episode:1120 steps:88 episode_reward:0.20000000298023224 last n mean rew.0.27400000413879755,individual episode rew.[[0.2 ]\n",
      " [0.19]]\n",
      "Episode:1130 steps:110 episode_reward:0.20000000298023224 last n mean rew.0.273200004119426,individual episode rew.[[0.2 ]\n",
      " [0.19]]\n",
      "Episode:1140 steps:33 episode_reward:0.10000000149011612 last n mean rew.0.273200004119426,individual episode rew.[[-0.01]\n",
      " [ 0.1 ]]\n",
      "Episode:1150 steps:56 episode_reward:0.10000000149011612 last n mean rew.0.26910000406205653,individual episode rew.[[0.1 ]\n",
      " [0.09]]\n",
      "Episode:1160 steps:123 episode_reward:0.4000000059604645 last n mean rew.0.25910000391304494,individual episode rew.[[0.40000001]\n",
      " [0.39000001]]\n",
      "Episode:1170 steps:66 episode_reward:0.20000000298023224 last n mean rew.0.24610000371932983,individual episode rew.[[0.2 ]\n",
      " [0.09]]\n",
      "Episode:1180 steps:224 episode_reward:0.5000000074505806 last n mean rew.0.24200000366196037,individual episode rew.[[0.50000001]\n",
      " [0.49000001]]\n",
      "Episode:1190 steps:258 episode_reward:0.5900000091642141 last n mean rew.0.24390000369399786,individual episode rew.[[0.50000001]\n",
      " [0.59000001]]\n",
      "Episode:1200 steps:14 episode_reward:0.0 last n mean rew.0.2380000036023557,individual episode rew.[[ 0.  ]\n",
      " [-0.01]]\n",
      "Episode:1210 steps:14 episode_reward:0.0 last n mean rew.0.22810000345110892,individual episode rew.[[ 0.  ]\n",
      " [-0.01]]\n",
      "Episode:1220 steps:92 episode_reward:0.20000000298023224 last n mean rew.0.22440000338479876,individual episode rew.[[0.2 ]\n",
      " [0.19]]\n",
      "Episode:1230 steps:50 episode_reward:0.20000000298023224 last n mean rew.0.23540000354871154,individual episode rew.[[ 0.2 ]\n",
      " [-0.01]]\n",
      "Episode:1240 steps:52 episode_reward:0.10000000149011612 last n mean rew.0.2403000036254525,individual episode rew.[[0.09]\n",
      " [0.1 ]]\n",
      "Episode:1250 steps:147 episode_reward:0.4000000059604645 last n mean rew.0.23930000361055137,individual episode rew.[[0.40000001]\n",
      " [0.29      ]]\n",
      "Episode:1260 steps:50 episode_reward:0.10000000149011612 last n mean rew.0.23950000358745455,individual episode rew.[[0.1 ]\n",
      " [0.09]]\n",
      "Episode:1270 steps:118 episode_reward:0.30000000447034836 last n mean rew.0.2335000034980476,individual episode rew.[[0.3 ]\n",
      " [0.19]]\n",
      "Episode:1280 steps:164 episode_reward:0.4000000059604645 last n mean rew.0.2286000034213066,individual episode rew.[[0.40000001]\n",
      " [0.39000001]]\n",
      "Episode:1290 steps:94 episode_reward:0.20000000298023224 last n mean rew.0.2285000034235418,individual episode rew.[[0.09]\n",
      " [0.2 ]]\n"
     ]
    },
    {
     "name": "stdout",
     "output_type": "stream",
     "text": [
      "Episode:1300 steps:150 episode_reward:0.4000000059604645 last n mean rew.0.22950000343844296,individual episode rew.[[0.40000001]\n",
      " [0.29      ]]\n",
      "Episode:1310 steps:201 episode_reward:0.5000000074505806 last n mean rew.0.24140000361949204,individual episode rew.[[0.50000001]\n",
      " [0.49000001]]\n",
      "Episode:1320 steps:14 episode_reward:0.0 last n mean rew.0.2424000036343932,individual episode rew.[[-0.01]\n",
      " [ 0.  ]]\n",
      "Episode:1330 steps:40 episode_reward:0.10000000149011612 last n mean rew.0.2552000038325787,individual episode rew.[[-0.01]\n",
      " [ 0.1 ]]\n",
      "Episode:1340 steps:67 episode_reward:0.20000000298023224 last n mean rew.0.25030000375583766,individual episode rew.[[0.2 ]\n",
      " [0.09]]\n",
      "Episode:1350 steps:40 episode_reward:0.10000000149011612 last n mean rew.0.27040000405162573,individual episode rew.[[ 0.1 ]\n",
      " [-0.01]]\n",
      "Episode:1360 steps:47 episode_reward:0.10000000149011612 last n mean rew.0.26040000390261414,individual episode rew.[[-0.01]\n",
      " [ 0.1 ]]\n",
      "Episode:1370 steps:118 episode_reward:0.20000000298023224 last n mean rew.0.2574000038579106,individual episode rew.[[0.2 ]\n",
      " [0.19]]\n",
      "Episode:1380 steps:104 episode_reward:0.30000000447034836 last n mean rew.0.2772000041604042,individual episode rew.[[0.3 ]\n",
      " [0.19]]\n",
      "Episode:1390 steps:136 episode_reward:0.4000000059604645 last n mean rew.0.2734000041149557,individual episode rew.[[0.40000001]\n",
      " [0.19      ]]\n",
      "Episode:1400 steps:146 episode_reward:0.30000000447034836 last n mean rew.0.28640000430867074,individual episode rew.[[0.3 ]\n",
      " [0.29]]\n",
      "Episode:1410 steps:66 episode_reward:0.20000000298023224 last n mean rew.0.28050000421702864,individual episode rew.[[0.09]\n",
      " [0.2 ]]\n",
      "Episode:1420 steps:14 episode_reward:0.0 last n mean rew.0.29150000438094137,individual episode rew.[[ 0.  ]\n",
      " [-0.01]]\n",
      "Episode:1430 steps:14 episode_reward:0.0 last n mean rew.0.2976000044681132,individual episode rew.[[-0.01]\n",
      " [ 0.  ]]\n",
      "Episode:1440 steps:188 episode_reward:0.5000000074505806 last n mean rew.0.2965000044554472,individual episode rew.[[0.39000001]\n",
      " [0.50000001]]\n",
      "Episode:1450 steps:220 episode_reward:0.6000000089406967 last n mean rew.0.2794000042043626,individual episode rew.[[0.49000001]\n",
      " [0.60000001]]\n",
      "Episode:1460 steps:106 episode_reward:0.30000000447034836 last n mean rew.0.28930000435560943,individual episode rew.[[0.19]\n",
      " [0.3 ]]\n",
      "Episode:1470 steps:128 episode_reward:0.30000000447034836 last n mean rew.0.31930000480264425,individual episode rew.[[0.19]\n",
      " [0.3 ]]\n",
      "Episode:1480 steps:83 episode_reward:0.20000000298023224 last n mean rew.0.33950000509619715,individual episode rew.[[0.19]\n",
      " [0.2 ]]\n",
      "Episode:1490 steps:169 episode_reward:0.4000000059604645 last n mean rew.0.3496000052243471,individual episode rew.[[0.40000001]\n",
      " [0.39000001]]\n",
      "Episode:1500 steps:146 episode_reward:0.4000000059604645 last n mean rew.0.37350000558421015,individual episode rew.[[0.40000001]\n",
      " [0.29      ]]\n",
      "Episode:1510 steps:128 episode_reward:0.30000000447034836 last n mean rew.0.37640000563114884,individual episode rew.[[0.3 ]\n",
      " [0.29]]\n",
      "Episode:1520 steps:33 episode_reward:0.0 last n mean rew.0.3782000056654215,individual episode rew.[[-0.01]\n",
      " [ 0.  ]]\n",
      "Episode:1530 steps:90 episode_reward:0.19000000320374966 last n mean rew.0.3732000055909157,individual episode rew.[[0.1 ]\n",
      " [0.19]]\n",
      "Episode:1540 steps:82 episode_reward:0.20000000298023224 last n mean rew.0.3962000059336424,individual episode rew.[[0.09]\n",
      " [0.2 ]]\n",
      "Episode:1550 steps:31 episode_reward:0.10000000149011612 last n mean rew.0.42430000634863974,individual episode rew.[[-0.01]\n",
      " [ 0.1 ]]\n",
      "Episode:1560 steps:645 episode_reward:1.700000025331974 last n mean rew.0.43240000646561383,individual episode rew.[[1.59000002]\n",
      " [1.70000003]]\n",
      "Episode:1570 steps:105 episode_reward:0.30000000447034836 last n mean rew.0.4434000066295266,individual episode rew.[[0.3 ]\n",
      " [0.19]]\n",
      "Episode:1580 steps:66 episode_reward:0.10000000149011612 last n mean rew.0.4744000070914626,individual episode rew.[[0.1 ]\n",
      " [0.09]]\n",
      "Solved in 1584 episodes\n"
     ]
    }
   ],
   "source": [
    "def main(agent1,agent2,noise,episodes,visualize_every,print_every):\n",
    "    total_rewards = [[],[]]\n",
    "    critic_losses = []\n",
    "    actor_losses = []\n",
    "    \n",
    "    agents_list = [agent1,agent2]\n",
    "    \n",
    "    ag2_critic_losses = []\n",
    "    ag2_actor_losses = []\n",
    "    \n",
    "    episode_single_scores = [] # the max between scores of both agents\n",
    "    episode_window_scores = deque(maxlen = DESIRED_EPISODES_AVERAGE)\n",
    "    \n",
    "    for episode in range(1,episodes +1):\n",
    "        finished = False\n",
    "        step_count = 0\n",
    "        episode_scores = np.zeros((num_agents,1))\n",
    "        \n",
    "        noise.reset()\n",
    "        \n",
    "        train_mode = not(episode%visualize_every == 0) #to visualize unity simulation every n steps\n",
    "        env_info = env.reset(train_mode = train_mode)[brain_name]\n",
    "        states = env_info.vector_observations\n",
    "        \n",
    "        # loop of interaction with the environment\n",
    "        while not finished:\n",
    "            all_states = np.concatenate(states)\n",
    "            actions_ag1 = agent1.act(states[0])\n",
    "            actions_ag2 = agent2.act(states[1])\n",
    "            \n",
    "            all_actions = np.concatenate((actions_ag1,actions_ag2),axis = 0)\n",
    "            \n",
    "            env_info = env.step(all_actions)[brain_name]\n",
    "            next_states = env_info.vector_observations\n",
    "            rewards = np.expand_dims(env_info.rewards,axis=1)\n",
    "            dones = np.array(env_info.local_done)\n",
    "            \n",
    "            all_next_states = np.concatenate(next_states)\n",
    "            \n",
    "            #add experience to shared replay buffer\n",
    "            replay_buffer.add(states,all_actions,rewards,next_states,dones)\n",
    "            \n",
    "            states = next_states\n",
    "            \n",
    "            episode_scores += rewards\n",
    "            finished = dones[0] or dones[1]\n",
    "            \n",
    "            # train both agents\n",
    "            if step_count % TRAIN_EVERY == 0 and len(replay_buffer) >= BATCH_SIZE and episode >= EXPLORATION_EPISODES:\n",
    "                agent1.train(batch_size = BATCH_SIZE, critic_losses = critic_losses,actor_losses = actor_losses)\n",
    "                agent2.train(batch_size = BATCH_SIZE , critic_losses=   ag2_critic_losses,actor_losses = ag2_actor_losses)\n",
    "                \n",
    "            # update darget networks of both agents\n",
    "            if step_count % UPDATE_TARGET_NETWORK_EVERY == 0 and len(replay_buffer) >= BATCH_SIZE and episode >= EXPLORATION_EPISODES:\n",
    "                agent1.update_target_networks(TAU)\n",
    "                agent2.update_target_networks(TAU)\n",
    "                \n",
    "            step_count += 1\n",
    "            \n",
    "        episode_single_score = max(episode_scores)[0]\n",
    "        episode_window_scores.append(episode_single_score)\n",
    "        episode_single_scores.append(episode_single_score)\n",
    "        \n",
    "        total_rewards[0].append(episode_scores[0].item())\n",
    "        total_rewards[1].append(episode_scores[1].item())\n",
    "        \n",
    "        if episode % print_every == 0:\n",
    "            print(\"Episode:{} steps:{} episode_reward:{} last n mean rew.{},individual episode rew.{}\".format(episode, step_count,\n",
    "                                                                                    episode_single_score,np.mean(episode_window_scores),episode_scores))\n",
    "                \n",
    "        \n",
    "        if np.mean(episode_window_scores) >= DESIRED_AVERAGE_SCORE:\n",
    "            print(\"Solved in {} episodes\".format(episode))\n",
    "            \n",
    "            best_agent_position = np.argmax(np.sum(total_rewards,axis=1))\n",
    "            best_agent = agents_list[best_agent_position]\n",
    "            \n",
    "            checkpoint_name = \"checkpoint_solved_\"+str(episode)+\".pth\"\n",
    "            torch.save(best_agent.actor_local.state_dict(), \"actor_\"+ checkpoint_name)\n",
    "            torch.save(best_agent.critic_local.state_dict(),\"critic_\"+checkpoint_name)\n",
    "            \n",
    "            break\n",
    "            \n",
    "    \n",
    "    return total_rewards,critic_losses,actor_losses,episode_single_scores,ag2_critic_losses,ag2_actor_losses\n",
    "\n",
    "train_rewards,critic_losses,actor_losses,episode_single_scores,ag2_critic_losses,ag2_actor_losses = main(agent1,agent2,noise,\n",
    "                                                                                                         EPISODES,VISUALIZE_EVERY,PRINT_EVERY)"
   ]
  },
  {
   "cell_type": "code",
   "execution_count": 19,
   "metadata": {},
   "outputs": [
    {
     "name": "stdout",
     "output_type": "stream",
     "text": [
      "Score (max over agents) from episode 1: 0.6000000089406967\n",
      "Score (max over agents) from episode 2: 0.0\n",
      "Score (max over agents) from episode 3: 1.0000000149011612\n",
      "Score (max over agents) from episode 4: 1.3000000193715096\n",
      "Score (max over agents) from episode 5: 0.7000000104308128\n",
      "Score (max over agents) from episode 6: 2.600000038743019\n",
      "Score (max over agents) from episode 7: 1.700000025331974\n",
      "Score (max over agents) from episode 8: 0.7000000104308128\n",
      "Score (max over agents) from episode 9: 0.30000000447034836\n"
     ]
    }
   ],
   "source": [
    "for i in range(1, 10):                                      # play game for 5 episodes\n",
    "    env_info = env.reset(train_mode=False)[brain_name]     # reset the environment    \n",
    "    states = env_info.vector_observations                  # get the current state (for each agent)\n",
    "    scores = np.zeros(num_agents)                          # initialize the score (for each agent)\n",
    "    agent1.noise.reset()\n",
    "    agent2.noise.reset()\n",
    "    while True:\n",
    "        actions_ag1 = agent1.act(states[0])\n",
    "        actions_ag2 = agent2.act(states[1])\n",
    "\n",
    "        env_info = env.step(np.concatenate((actions_ag1,actions_ag2),axis=0))[brain_name]\n",
    "        next_states = env_info.vector_observations        # get next state (for each agent)\n",
    "        rewards = env_info.rewards                         # get reward (for each agent)\n",
    "        dones = env_info.local_done                        # see if episode finished\n",
    "        scores += env_info.rewards                         # update the score (for each agent)\n",
    "        states = next_states                               # roll over states to next time step\n",
    "\n",
    "        if np.any(dones):                                  # exit loop if episode finished\n",
    "            break\n",
    "    print('Score (max over agents) from episode {}: {}'.format(i, np.max(scores)))"
   ]
  },
  {
   "cell_type": "markdown",
   "metadata": {},
   "source": [
    "#### Agent 1 rewards"
   ]
  },
  {
   "cell_type": "code",
   "execution_count": 20,
   "metadata": {},
   "outputs": [
    {
     "data": {
      "image/png": "[encoded data removed]",
      "text/plain": [
       "<Figure size 432x288 with 1 Axes>"
      ]
     },
     "metadata": {
      "needs_background": "light"
     },
     "output_type": "display_data"
    }
   ],
   "source": [
    "plt.plot(train_rewards[0])\n",
    "plt.show()"
   ]
  },
  {
   "cell_type": "markdown",
   "metadata": {},
   "source": [
    "#### Agent 2 rewards"
   ]
  },
  {
   "cell_type": "code",
   "execution_count": 21,
   "metadata": {},
   "outputs": [
    {
     "data": {
      "image/png": "[encoded data removed]",
      "text/plain": [
       "<Figure size 432x288 with 1 Axes>"
      ]
     },
     "metadata": {
      "needs_background": "light"
     },
     "output_type": "display_data"
    }
   ],
   "source": [
    "plt.plot(train_rewards[1])\n",
    "plt.show()"
   ]
  },
  {
   "cell_type": "markdown",
   "metadata": {},
   "source": [
    "### episode rewards\n",
    "Calculated as the max reward of both agents"
   ]
  },
  {
   "cell_type": "code",
   "execution_count": 22,
   "metadata": {},
   "outputs": [
    {
     "data": {
      "image/png": "[encoded data removed]",
      "text/plain": [
       "<Figure size 432x288 with 1 Axes>"
      ]
     },
     "metadata": {
      "needs_background": "light"
     },
     "output_type": "display_data"
    }
   ],
   "source": [
    "plt.plot(episode_single_scores)\n",
    "plt.show()"
   ]
  },
  {
   "cell_type": "markdown",
   "metadata": {},
   "source": [
    "#### Critic losses\n",
    "##### agent 1 critic loss\n"
   ]
  },
  {
   "cell_type": "code",
   "execution_count": 23,
   "metadata": {},
   "outputs": [
    {
     "data": {
      "image/png": "[encoded data removed]",
      "text/plain": [
       "<Figure size 432x288 with 1 Axes>"
      ]
     },
     "metadata": {
      "needs_background": "light"
     },
     "output_type": "display_data"
    }
   ],
   "source": [
    "plt.plot(critic_losses)\n",
    "plt.show()"
   ]
  },
  {
   "cell_type": "markdown",
   "metadata": {},
   "source": [
    "##### agent 2 critic loss"
   ]
  },
  {
   "cell_type": "code",
   "execution_count": 24,
   "metadata": {},
   "outputs": [
    {
     "data": {
      "image/png": "[encoded data removed]",
      "text/plain": [
       "<Figure size 432x288 with 1 Axes>"
      ]
     },
     "metadata": {
      "needs_background": "light"
     },
     "output_type": "display_data"
    }
   ],
   "source": [
    "plt.plot(ag2_critic_losses)\n",
    "plt.show()"
   ]
  },
  {
   "cell_type": "markdown",
   "metadata": {},
   "source": [
    "### Actor losses\n",
    "\n",
    "#### Agent 1 actor loss"
   ]
  },
  {
   "cell_type": "code",
   "execution_count": 25,
   "metadata": {},
   "outputs": [
    {
     "data": {
      "image/png": "[encoded data removed]",
      "text/plain": [
       "<Figure size 432x288 with 1 Axes>"
      ]
     },
     "metadata": {
      "needs_background": "light"
     },
     "output_type": "display_data"
    }
   ],
   "source": [
    "plt.plot(actor_losses)\n",
    "plt.show()"
   ]
  },
  {
   "cell_type": "markdown",
   "metadata": {},
   "source": [
    "#### Agent 2 actor loss"
   ]
  },
  {
   "cell_type": "code",
   "execution_count": 26,
   "metadata": {},
   "outputs": [
    {
     "data": {
      "image/png": "[encoded data removed]",
      "text/plain": [
       "<Figure size 432x288 with 1 Axes>"
      ]
     },
     "metadata": {
      "needs_background": "light"
     },
     "output_type": "display_data"
    }
   ],
   "source": [
    "plt.plot(ag2_actor_losses)\n",
    "plt.show()"
   ]
  },
  {
   "cell_type": "code",
   "execution_count": null,
   "metadata": {},
   "outputs": [],
   "source": []
  }
 ],
 "metadata": {
  "kernelspec": {
   "display_name": "Python 3",
   "language": "python",
   "name": "python3"
  },
  "language_info": {
   "codemirror_mode": {
    "name": "ipython",
    "version": 3
   },
   "file_extension": ".py",
   "mimetype": "text/x-python",
   "name": "python",
   "nbconvert_exporter": "python",
   "pygments_lexer": "ipython3",
   "version": "3.6.8"
  }
 },
 "nbformat": 4,
 "nbformat_minor": 2
}
