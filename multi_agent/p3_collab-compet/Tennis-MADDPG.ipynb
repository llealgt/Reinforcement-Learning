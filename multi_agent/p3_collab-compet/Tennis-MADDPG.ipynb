{
 "cells": [
  {
   "cell_type": "markdown",
   "metadata": {},
   "source": [
    "# Multi-agent reinforcement learning(Collaboration and Competition)\n",
    "\n",
    "---\n",
    "Based on paper [Multi-Agent Actor-Critic for Mixed Cooperative-Competitive Environments](https://arxiv.org/pdf/1706.02275.pdf)\n",
    "\n",
    "In this notebook, you will learn how to use the Unity ML-Agents environment for the third project of the [Deep Reinforcement Learning Nanodegree](https://www.udacity.com/course/deep-reinforcement-learning-nanodegree--nd893) program.\n",
    "\n",
    "### 1. Start the Environment\n",
    "\n",
    "We begin by importing the necessary packages.  If the code cell below returns an error, please revisit the project instructions to double-check that you have installed [Unity ML-Agents](https://github.com/Unity-Technologies/ml-agents/blob/master/docs/Installation.md) and [NumPy](http://www.numpy.org/)."
   ]
  },
  {
   "cell_type": "code",
   "execution_count": 1,
   "metadata": {},
   "outputs": [],
   "source": [
    "from unityagents import UnityEnvironment\n",
    "import numpy as np\n",
    "import torch as torch\n",
    "import torch.nn.functional as F\n",
    "from torch import optim as optim\n",
    "import matplotlib.pyplot as plt\n",
    "from collections import namedtuple,deque\n",
    "import random\n",
    "import copy"
   ]
  },
  {
   "cell_type": "markdown",
   "metadata": {},
   "source": [
    "Next, we will start the environment!  **_Before running the code cell below_**, change the `file_name` parameter to match the location of the Unity environment that you downloaded.\n",
    "\n",
    "- **Mac**: `\"path/to/Tennis.app\"`\n",
    "- **Windows** (x86): `\"path/to/Tennis_Windows_x86/Tennis.exe\"`\n",
    "- **Windows** (x86_64): `\"path/to/Tennis_Windows_x86_64/Tennis.exe\"`\n",
    "- **Linux** (x86): `\"path/to/Tennis_Linux/Tennis.x86\"`\n",
    "- **Linux** (x86_64): `\"path/to/Tennis_Linux/Tennis.x86_64\"`\n",
    "- **Linux** (x86, headless): `\"path/to/Tennis_Linux_NoVis/Tennis.x86\"`\n",
    "- **Linux** (x86_64, headless): `\"path/to/Tennis_Linux_NoVis/Tennis.x86_64\"`\n",
    "\n",
    "For instance, if you are using a Mac, then you downloaded `Tennis.app`.  If this file is in the same folder as the notebook, then the line below should appear as follows:\n",
    "```\n",
    "env = UnityEnvironment(file_name=\"Tennis.app\")\n",
    "```"
   ]
  },
  {
   "cell_type": "code",
   "execution_count": 2,
   "metadata": {},
   "outputs": [
    {
     "name": "stderr",
     "output_type": "stream",
     "text": [
      "INFO:unityagents:\n",
      "'Academy' started successfully!\n",
      "Unity Academy name: Academy\n",
      "        Number of Brains: 1\n",
      "        Number of External Brains : 1\n",
      "        Lesson number : 0\n",
      "        Reset Parameters :\n",
      "\t\t\n",
      "Unity brain name: TennisBrain\n",
      "        Number of Visual Observations (per agent): 0\n",
      "        Vector Observation space type: continuous\n",
      "        Vector Observation space size (per agent): 8\n",
      "        Number of stacked Vector Observation: 3\n",
      "        Vector Action space type: continuous\n",
      "        Vector Action space size (per agent): 2\n",
      "        Vector Action descriptions: , \n"
     ]
    }
   ],
   "source": [
    "env = UnityEnvironment(file_name=\"./Tennis_Linux/Tennis.x86_64\")"
   ]
  },
  {
   "cell_type": "markdown",
   "metadata": {},
   "source": [
    "Environments contain **_brains_** which are responsible for deciding the actions of their associated agents. Here we check for the first brain available, and set it as the default brain we will be controlling from Python."
   ]
  },
  {
   "cell_type": "code",
   "execution_count": 3,
   "metadata": {},
   "outputs": [],
   "source": [
    "# get the default brain\n",
    "brain_name = env.brain_names[0]\n",
    "brain = env.brains[brain_name]"
   ]
  },
  {
   "cell_type": "markdown",
   "metadata": {},
   "source": [
    "### 2. Examine the State and Action Spaces\n",
    "\n",
    "In this environment, two agents control rackets to bounce a ball over a net. If an agent hits the ball over the net, it receives a reward of +0.1.  If an agent lets a ball hit the ground or hits the ball out of bounds, it receives a reward of -0.01.  Thus, the goal of each agent is to keep the ball in play.\n",
    "\n",
    "The observation space consists of 8 variables corresponding to the position and velocity of the ball and racket. Two continuous actions are available, corresponding to movement toward (or away from) the net, and jumping. \n",
    "\n",
    "Run the code cell below to print some information about the environment."
   ]
  },
  {
   "cell_type": "code",
   "execution_count": 4,
   "metadata": {},
   "outputs": [
    {
     "name": "stdout",
     "output_type": "stream",
     "text": [
      "Number of agents: 2\n",
      "Size of each action: 2\n",
      "There are 2 agents. Each observes a state with length: 24\n",
      "The state for the first agent looks like: [ 0.          0.          0.          0.          0.          0.\n",
      "  0.          0.          0.          0.          0.          0.\n",
      "  0.          0.          0.          0.         -6.65278625 -1.5\n",
      " -0.          0.          6.83172083  6.         -0.          0.        ]\n"
     ]
    }
   ],
   "source": [
    "# reset the environment\n",
    "env_info = env.reset(train_mode=True)[brain_name]\n",
    "\n",
    "# number of agents \n",
    "num_agents = len(env_info.agents)\n",
    "print('Number of agents:', num_agents)\n",
    "\n",
    "# size of each action\n",
    "action_size = brain.vector_action_space_size\n",
    "print('Size of each action:', action_size)\n",
    "\n",
    "# examine the state space \n",
    "states = env_info.vector_observations\n",
    "state_size = states.shape[1]\n",
    "print('There are {} agents. Each observes a state with length: {}'.format(states.shape[0], state_size))\n",
    "print('The state for the first agent looks like:', states[0])"
   ]
  },
  {
   "cell_type": "markdown",
   "metadata": {},
   "source": [
    "### 3. Take Random Actions in the Environment\n",
    "\n",
    "In the next code cell, you will learn how to use the Python API to control the agents and receive feedback from the environment.\n",
    "\n",
    "Once this cell is executed, you will watch the agents' performance, if they select actions at random with each time step.  A window should pop up that allows you to observe the agents.\n",
    "\n",
    "Of course, as part of the project, you'll have to change the code so that the agents are able to use their experiences to gradually choose better actions when interacting with the environment!"
   ]
  },
  {
   "cell_type": "code",
   "execution_count": 5,
   "metadata": {},
   "outputs": [
    {
     "name": "stdout",
     "output_type": "stream",
     "text": [
      "Score (max over agents) from episode 1: 0.10000000149011612\n",
      "Score (max over agents) from episode 2: 0.0\n",
      "Score (max over agents) from episode 3: 0.0\n",
      "Score (max over agents) from episode 4: 0.0\n",
      "Score (max over agents) from episode 5: 0.0\n"
     ]
    }
   ],
   "source": [
    "for i in range(1, 6):                                      # play game for 5 episodes\n",
    "    env_info = env.reset(train_mode=False)[brain_name]     # reset the environment    \n",
    "    states = env_info.vector_observations                  # get the current state (for each agent)\n",
    "    scores = np.zeros(num_agents)                          # initialize the score (for each agent)\n",
    "    while True:\n",
    "        actions = np.random.randn(num_agents, action_size) # select an action (for each agent)\n",
    "        actions = np.clip(actions, -1, 1)                  # all actions between -1 and 1\n",
    "        env_info = env.step(actions)[brain_name]           # send all actions to tne environment\n",
    "        next_states = env_info.vector_observations        # get next state (for each agent)\n",
    "        rewards = env_info.rewards                         # get reward (for each agent)\n",
    "        dones = env_info.local_done                        # see if episode finished\n",
    "        scores += env_info.rewards                         # update the score (for each agent)\n",
    "        states = next_states                               # roll over states to next time step\n",
    "        if np.any(dones):                                  # exit loop if episode finished\n",
    "            break\n",
    "    print('Score (max over agents) from episode {}: {}'.format(i, np.max(scores)))"
   ]
  },
  {
   "cell_type": "markdown",
   "metadata": {},
   "source": [
    "When finished, you can close the environment."
   ]
  },
  {
   "cell_type": "code",
   "execution_count": 6,
   "metadata": {},
   "outputs": [],
   "source": [
    "#env.close()"
   ]
  },
  {
   "cell_type": "markdown",
   "metadata": {},
   "source": [
    "### 4. It's Your Turn!\n",
    "\n",
    "Now it's your turn to train your own agent to solve the environment!  When training the environment, set `train_mode=True`, so that the line for resetting the environment looks like the following:\n",
    "```python\n",
    "env_info = env.reset(train_mode=True)[brain_name]\n",
    "```"
   ]
  },
  {
   "cell_type": "code",
   "execution_count": 7,
   "metadata": {},
   "outputs": [
    {
     "name": "stdout",
     "output_type": "stream",
     "text": [
      "cuda:0\n"
     ]
    }
   ],
   "source": [
    "device = torch.device(\"cuda:0\" if torch.cuda.is_available() else \"cpu\")\n",
    "\n",
    "print(device)"
   ]
  },
  {
   "cell_type": "code",
   "execution_count": 8,
   "metadata": {},
   "outputs": [],
   "source": [
    "REPLAY_BUFFER_SIZE = int(1e6)\n",
    "VISUALIZE_EVERY = 50 #how many episodes to train before watching unity env simulation\n",
    "PRINT_EVERY = 10 #how many steps to train before printing training info\n",
    "DESIRED_EPISODES_AVERAGE = 100\n",
    "DESIRED_AVERAGE_SCORE = 0.5\n",
    "TRAIN_EVERY = 1\n",
    "BATCH_SIZE = 128\n",
    "UPDATE_TARGET_NETWORK_EVERY = 10\n",
    "TAU = 1.0 \n",
    "SEED=0\n",
    "EPISODES = 5000\n",
    "ACTOR_LR = 1e-3\n",
    "CRITIC_LR = 2e-3\n",
    "CRITIC_CLIP = 0.5\n",
    "EXPLORATION_EPISODES = 100"
   ]
  },
  {
   "cell_type": "markdown",
   "metadata": {},
   "source": [
    "REPLAY_BUFFER_SIZE = int(1e6)\n",
    "VISUALIZE_EVERY = 50 #how many episodes to train before watching unity env simulation\n",
    "PRINT_EVERY = 10 #how many steps to train before printing training info\n",
    "DESIRED_EPISODES_AVERAGE = 100\n",
    "DESIRED_AVERAGE_SCORE = 0.5\n",
    "TRAIN_EVERY = 2\n",
    "BATCH_SIZE = 128\n",
    "UPDATE_TARGET_NETWORK_EVERY = TRAIN_EVERY\n",
    "TAU = 3e-3 \n",
    "SEED=0\n",
    "EPISODES = 5000\n",
    "ACTOR_LR = 1e-3\n",
    "CRITIC_LR = 2e-3\n",
    "CRITIC_CLIP = 0.5\n",
    "EXPLORATION_EPISODES = 100"
   ]
  },
  {
   "cell_type": "code",
   "execution_count": 9,
   "metadata": {},
   "outputs": [],
   "source": [
    "torch.manual_seed(SEED)\n",
    "np.random.seed(SEED)"
   ]
  },
  {
   "cell_type": "code",
   "execution_count": 10,
   "metadata": {},
   "outputs": [],
   "source": [
    "class ReplayBuffer:\n",
    "    \"\"\"Fixed-size buffer to store experience tuples for experience replay\"\"\"\n",
    "    \n",
    "    def __init__(self,action_size,buffer_size):\n",
    "        \"\"\"Initialize a ReplayBuffer objectParams\n",
    "        ======\n",
    "            action_size (int): dimension of each action\n",
    "            buffer_size (int): maximum size of buffer\n",
    "        \"\"\"\n",
    "        \n",
    "        self.action_size = action_size\n",
    "        self.buffer_size = buffer_size\n",
    "        self.memory = deque(maxlen=buffer_size)\n",
    "        self.experience = namedtuple(\"Experience\",field_names=[\"all_state\", \"all_action\", \"all_reward\",\"all_next_state\", \"done\"])\n",
    "        \n",
    "    def add(self,all_state,all_action,all_reward,all_next_state,done):\n",
    "        \"Add a new experience tuple to replay buffer\"\n",
    "        new_experience = self.experience(all_state,all_action,all_reward,all_next_state,done)\n",
    "        self.memory.append(new_experience)\n",
    "        \n",
    "    def sample(self,batch_size):\n",
    "        \"Get a sample of the buffer of size=batch size\"\n",
    "        experience_batch = random.sample(self.memory,k=batch_size)\n",
    "        \n",
    "        #states =  torch.from_numpy(np.vstack([e.state  for e in experience_batch if e is not None])).float().to(device)\n",
    "        all_states = torch.from_numpy(np.vstack([e.all_state.reshape(1,2,-1) for e in experience_batch if e is not None])).float().to(device)\n",
    "        #actions = torch.from_numpy(np.vstack([e.action for e in experience_batch if e is not None])).float().to(device)\n",
    "        all_actions = torch.from_numpy(np.vstack([e.all_action.reshape(1,2,-1) for e in experience_batch if e is not None])).float().to(device)\n",
    "        all_rewards = torch.from_numpy(np.vstack([e.all_reward.reshape(1,2,-1) for e in experience_batch if e is not None])).float().to(device)\n",
    "        #next_states = torch.from_numpy(np.vstack([e.next_state for e in experience_batch if e is not None])).float().to(device)\n",
    "        all_next_states = torch.from_numpy(np.vstack([e.all_next_state.reshape(1,2,-1) for e in experience_batch if e is not None])).float().to(device)\n",
    "        dones = torch.from_numpy(np.vstack([e.done.astype(np.uint8).reshape(1,2,-1) for e in experience_batch if e is not None]).astype(np.uint8)).float().to(device)\n",
    "        \n",
    "        return (all_states,all_actions,all_rewards,all_next_states,dones)\n",
    "    \n",
    "    def __len__(self):\n",
    "        \"\"\"Return the current size of internal memory\"\"\"\n",
    "        return len(self.memory)"
   ]
  },
  {
   "cell_type": "code",
   "execution_count": 11,
   "metadata": {},
   "outputs": [],
   "source": [
    "class OUNoise:\n",
    "    \"\"\"\n",
    "        Orstein-Ulenbeck process\n",
    "        used to add noise to actor selections for adding exploratoion\n",
    "    \"\"\"\n",
    "    def __init__(self,size,mu=0.0,theta=0.15,sigma=0.2):\n",
    "        self.size = size\n",
    "        self.mu = mu*np.ones(size)\n",
    "        self.theta = theta\n",
    "        self.sigma = sigma\n",
    "        self.reset()\n",
    "        \n",
    "    def reset(self):\n",
    "        self.state = copy.copy(self.mu)\n",
    "        \n",
    "    def sample(self):\n",
    "        x = self.state\n",
    "        dx = self.theta * (self.mu - x) + self.sigma * np.random.standard_normal(self.size)\n",
    "        self.state = x + dx\n",
    "        \n",
    "        return self.state"
   ]
  },
  {
   "cell_type": "code",
   "execution_count": 12,
   "metadata": {},
   "outputs": [],
   "source": [
    "def hidden_init(layer):\n",
    "    \"\"\"Used to set the initial weights of hidden layers\"\"\"\n",
    "    fan_in = layer.weight.data.size()[0]\n",
    "    lim = 1. / np.sqrt(fan_in)\n",
    "    return (-lim, lim)"
   ]
  },
  {
   "cell_type": "code",
   "execution_count": 13,
   "metadata": {},
   "outputs": [],
   "source": [
    "\n",
    "# one actor will be shared by the 2 players, trained by self-play\n",
    "class Actor(torch.nn.Module):\n",
    "    def __init__(self,state_size,action_size):\n",
    "        super(Actor,self).__init__()\n",
    "        self.action_size = action_size\n",
    "        self.bn=   torch.nn.BatchNorm1d(state_size)\n",
    "        self.fc1 = torch.nn.Linear(state_size,128)\n",
    "        self.fc2 = torch.nn.Linear(128,128)\n",
    "        self.fc_output = torch.nn.Linear(128,action_size)\n",
    "        self.reset_parameters()\n",
    "        \n",
    "    def forward(self,x):\n",
    "        x = self.bn(x.contiguous())\n",
    "        x = F.relu(self.fc1(x))\n",
    "        x = F.relu(self.fc2(x))\n",
    "        \n",
    "        y = F.tanh(self.fc_output(x))\n",
    "        \n",
    "        return y\n",
    "    \n",
    "    def reset_parameters(self):\n",
    "        self.fc1.weight.data.uniform_(*hidden_init(self.fc1))\n",
    "        self.fc2.weight.data.uniform_(*hidden_init(self.fc2))\n",
    "        self.fc_output.weight.data.uniform_(-0.0001, 0.0001)"
   ]
  },
  {
   "cell_type": "code",
   "execution_count": 14,
   "metadata": {},
   "outputs": [],
   "source": [
    "# one critic will be shared by the 2 players, trianed by self-play\n",
    "class Critic(torch.nn.Module):\n",
    "    def __init__(self,state_size,action_size):\n",
    "        super(Critic,self).__init__()\n",
    "        self.fc1 = torch.nn.Linear(2*state_size+ 2*action_size,128) #use actions of both agent\n",
    "        self.fc2 = torch.nn.Linear(128,128)\n",
    "        self.fc_output = torch.nn.Linear(128,1)\n",
    "        self.reset_parameters()\n",
    "        \n",
    "    def forward(self,x,actions):\n",
    "        x = torch.cat((x,actions),dim=1)\n",
    "        x = F.relu(self.fc1(x))\n",
    "        x = F.relu(self.fc2(x))\n",
    "        \n",
    "        y = self.fc_output(x)\n",
    "        \n",
    "        return y\n",
    "    \n",
    "    def reset_parameters(self):\n",
    "        self.fc1.weight.data.uniform_(*hidden_init(self.fc1))\n",
    "        self.fc2.weight.data.uniform_(*hidden_init(self.fc2))\n",
    "        self.fc_output.weight.data.uniform_(-3e-4, 3e-4)"
   ]
  },
  {
   "cell_type": "code",
   "execution_count": 15,
   "metadata": {},
   "outputs": [],
   "source": [
    "class Agent:\n",
    "    \n",
    "    agent1 = None\n",
    "    agent2 = None\n",
    "    \n",
    "    def __init__(self,agent_index,state_size,action_size,replay_buffer,noise,device):\n",
    "        self.agent_index = agent_index\n",
    "        self.state_size = state_size\n",
    "        self.action_size  = action_size\n",
    "        self.actor_local = Actor(state_size,action_size).to(device)\n",
    "        self.critic_local = Critic(state_size,action_size).to(device)\n",
    "\n",
    "        self.actor_target = Actor(state_size,action_size).to(device)\n",
    "        self.critic_target = Critic(state_size,action_size).to(device)\n",
    "\n",
    "        self.update_target_networks(1.0)\n",
    "\n",
    "        self.critic_optimizer = optim.Adam(self.critic_local.parameters(),lr=CRITIC_LR )\n",
    "        self.actor_optimizer = optim.Adam(self.actor_local.parameters(),lr=ACTOR_LR)\n",
    "        \n",
    "        self.device = device\n",
    "        \n",
    "        self.replay_buffer = replay_buffer\n",
    "        \n",
    "        self.noise = noise\n",
    "        \n",
    "        self.actor_local.eval()\n",
    "        \n",
    "    def act(self,state):\n",
    "        \n",
    "        state = torch.from_numpy(state).float().unsqueeze(0).detach().to(self.device)\n",
    "        self.actor_local.eval()\n",
    "        with torch.no_grad():\n",
    "            action = self.actor_local(state).cpu().data.numpy()\n",
    "            \n",
    "        self.actor_local.train()\n",
    "        noise = self.noise.sample()\n",
    "        action = np.clip(action + noise ,-1,1)\n",
    "        \n",
    "        return action\n",
    "    \n",
    "    def update_target_network(self,local_network,target_network,tau):\n",
    "        for target_param,local_param in zip(target_network.parameters(),local_network.parameters()):\n",
    "            target_param.data.copy_(tau*local_param.data + (1.0 - tau)*target_param.data)\n",
    "            \n",
    "    def update_target_networks(self,tau):\n",
    "        self.update_target_network(self.critic_local,self.critic_target,tau)\n",
    "        self.update_target_network(self.actor_local,self.actor_target,tau)\n",
    "            \n",
    "            \n",
    "    def train(self,batch_size=32,step_num=0,print_every = 100,critic_losses=[],actor_losses = []):\n",
    "        (states, actions, rewards, next_states, dones) = self.replay_buffer.sample(batch_size)\n",
    "        \n",
    "        all_states = states.view((batch_size,2*self.state_size))\n",
    "        all_next_states = next_states.view((batch_size,2*self.state_size))\n",
    "        all_actions = actions.view((batch_size,2*self.action_size))\n",
    "        \n",
    "        \n",
    "        agent1_next_states = next_states[:,0,:]\n",
    "        agent2_next_states = next_states[:,1,:]\n",
    "        \n",
    "        agent1_states = states[:,0,:]\n",
    "        agent2_states = states[:,1,:]\n",
    "        \n",
    "        states = states[:,self.agent_index,:]\n",
    "        actions = actions[:,self.agent_index,:]\n",
    "        rewards = rewards[:,self.agent_index,:]\n",
    "        next_states = next_states[:,self.agent_index,:]\n",
    "        dones = dones[:,self.agent_index,:]\n",
    "        \n",
    "        \n",
    "        \n",
    "        \n",
    "        #actor_target.eval()\n",
    "        #critic_target.eval()\n",
    "\n",
    "        \n",
    "        agent1_next_actions = self.agent1.actor_target(agent1_next_states)\n",
    "        agent2_next_actions = self.agent2.actor_target(agent2_next_states)\n",
    "        all_next_actions = torch.cat((agent1_next_actions,agent2_next_actions),dim=1)\n",
    "        \n",
    "        with torch.no_grad():\n",
    "            #next_target_actions = actor_target(next_states)\n",
    "            target_q_values = self.critic_target(all_next_states,all_next_actions)\n",
    "        target_return = rewards + (0.99*target_q_values*(1-dones))\n",
    "\n",
    "        #train critic\n",
    "        #critic_local.train()\n",
    "\n",
    "        current_critic_estimate = self.critic_local(all_states,all_actions)\n",
    "        critic_mse_loss = F.mse_loss(current_critic_estimate,target_return.detach())\n",
    "        \n",
    "\n",
    "        self.critic_optimizer.zero_grad()\n",
    "        critic_mse_loss.backward()\n",
    "        torch.nn.utils.clip_grad_norm_(self.critic_local.parameters(),CRITIC_CLIP)\n",
    "        self.critic_optimizer.step()\n",
    "\n",
    "        critic_losses.append(critic_mse_loss.cpu().data.numpy())\n",
    "\n",
    "        #train actor\n",
    "        \"\"\"local_actions = self.actor_local(states)\n",
    "        all_actions_clone = all_actions.clone()\n",
    "        actions_start_index = self.agent_index*self.action_size\n",
    "        actions_end_index = actions_start_index + self.action_size         \n",
    "        all_actions_clone[:,actions_start_index:actions_end_index] = local_actions\n",
    "        all_actions_local = all_actions_clone\n",
    "        \"\"\"\n",
    "        \n",
    "        agent1_local_actions = self.actor_local(agent1_states)\n",
    "        agent2_local_actions = self.actor_local(agent2_states)\n",
    "        all_actions_local = torch.cat((agent1_local_actions,agent2_local_actions),dim=1)\n",
    "        \n",
    "        actor_loss = -self.critic_local(all_states,all_actions_local).mean()\n",
    "       \n",
    "        self.actor_optimizer.zero_grad()\n",
    "        actor_loss.backward()\n",
    "        self.actor_optimizer.step()\n",
    "\n",
    "        actor_losses.append(actor_loss.cpu().data.numpy())\n",
    "        \n",
    "    def set_adversary_agent(self,other_agent):\n",
    "        self.adversary_agent = other_agent"
   ]
  },
  {
   "cell_type": "code",
   "execution_count": 16,
   "metadata": {},
   "outputs": [],
   "source": [
    "replay_buffer = ReplayBuffer(action_size,REPLAY_BUFFER_SIZE)\n",
    "noise = OUNoise(size=action_size)\n",
    "\n",
    "agent1 = Agent(0,state_size,action_size,replay_buffer,noise,device)\n",
    "agent2 = Agent(1,state_size,action_size,replay_buffer,noise,device)\n",
    "\n",
    "Agent.agent1 = agent1\n",
    "Agent.agent2 = agent2"
   ]
  },
  {
   "cell_type": "code",
   "execution_count": 17,
   "metadata": {},
   "outputs": [
    {
     "name": "stdout",
     "output_type": "stream",
     "text": [
      "Episode:10 steps:14 episode_reward:0.0 last n mean rew.0.009000000171363353,individual episode rew.[[ 0.  ]\n",
      " [-0.01]]\n",
      "Episode:20 steps:14 episode_reward:0.0 last n mean rew.0.004500000085681677,individual episode rew.[[-0.01]\n",
      " [ 0.  ]]\n",
      "Episode:30 steps:14 episode_reward:0.0 last n mean rew.0.00966666682312886,individual episode rew.[[-0.01]\n",
      " [ 0.  ]]\n",
      "Episode:40 steps:15 episode_reward:0.0 last n mean rew.0.009750000154599547,individual episode rew.[[ 0.  ]\n",
      " [-0.01]]\n",
      "Episode:50 steps:14 episode_reward:0.0 last n mean rew.0.007800000123679638,individual episode rew.[[ 0.  ]\n",
      " [-0.01]]\n",
      "Episode:60 steps:33 episode_reward:0.10000000149011612 last n mean rew.0.01150000017757217,individual episode rew.[[ 0.1 ]\n",
      " [-0.01]]\n",
      "Episode:70 steps:14 episode_reward:0.0 last n mean rew.0.011285714459206377,individual episode rew.[[-0.01]\n",
      " [ 0.  ]]\n",
      "Episode:80 steps:14 episode_reward:0.0 last n mean rew.0.00987500015180558,individual episode rew.[[-0.01]\n",
      " [ 0.  ]]\n",
      "Episode:90 steps:14 episode_reward:0.0 last n mean rew.0.008777777912716072,individual episode rew.[[-0.01]\n",
      " [ 0.  ]]\n",
      "Episode:100 steps:14 episode_reward:0.0 last n mean rew.0.008900000136345626,individual episode rew.[[-0.01]\n",
      " [ 0.  ]]\n",
      "Episode:110 steps:15 episode_reward:0.0 last n mean rew.0.009000000134110451,individual episode rew.[[ 0.  ]\n",
      " [-0.01]]\n",
      "Episode:120 steps:15 episode_reward:0.0 last n mean rew.0.009000000134110451,individual episode rew.[[-0.01]\n",
      " [ 0.  ]]\n",
      "Episode:130 steps:15 episode_reward:0.0 last n mean rew.0.007000000104308128,individual episode rew.[[ 0.  ]\n",
      " [-0.01]]\n",
      "Episode:140 steps:14 episode_reward:0.0 last n mean rew.0.00800000011920929,individual episode rew.[[-0.01]\n",
      " [ 0.  ]]\n",
      "Episode:150 steps:14 episode_reward:0.0 last n mean rew.0.010000000149011612,individual episode rew.[[-0.01]\n",
      " [ 0.  ]]\n",
      "Episode:160 steps:14 episode_reward:0.0 last n mean rew.0.00800000011920929,individual episode rew.[[ 0.  ]\n",
      " [-0.01]]\n",
      "Episode:170 steps:14 episode_reward:0.0 last n mean rew.0.007000000104308128,individual episode rew.[[ 0.  ]\n",
      " [-0.01]]\n",
      "Episode:180 steps:14 episode_reward:0.0 last n mean rew.0.007000000104308128,individual episode rew.[[-0.01]\n",
      " [ 0.  ]]\n",
      "Episode:190 steps:14 episode_reward:0.0 last n mean rew.0.009000000134110451,individual episode rew.[[ 0.  ]\n",
      " [-0.01]]\n",
      "Episode:200 steps:14 episode_reward:0.0 last n mean rew.0.009000000134110451,individual episode rew.[[ 0.  ]\n",
      " [-0.01]]\n",
      "Episode:210 steps:14 episode_reward:0.0 last n mean rew.0.009000000134110451,individual episode rew.[[ 0.  ]\n",
      " [-0.01]]\n",
      "Episode:220 steps:14 episode_reward:0.0 last n mean rew.0.010000000149011612,individual episode rew.[[-0.01]\n",
      " [ 0.  ]]\n",
      "Episode:230 steps:15 episode_reward:0.0 last n mean rew.0.010000000149011612,individual episode rew.[[-0.01]\n",
      " [ 0.  ]]\n",
      "Episode:240 steps:14 episode_reward:0.0 last n mean rew.0.013900000229477882,individual episode rew.[[ 0.  ]\n",
      " [-0.01]]\n",
      "Episode:250 steps:14 episode_reward:0.0 last n mean rew.0.014900000244379043,individual episode rew.[[-0.01]\n",
      " [ 0.  ]]\n",
      "Episode:260 steps:14 episode_reward:0.0 last n mean rew.0.014900000244379043,individual episode rew.[[-0.01]\n",
      " [ 0.  ]]\n",
      "Episode:270 steps:14 episode_reward:0.0 last n mean rew.0.016900000274181367,individual episode rew.[[ 0.  ]\n",
      " [-0.01]]\n",
      "Episode:280 steps:14 episode_reward:0.0 last n mean rew.0.01890000030398369,individual episode rew.[[ 0.  ]\n",
      " [-0.01]]\n",
      "Episode:290 steps:14 episode_reward:0.0 last n mean rew.0.017900000289082528,individual episode rew.[[ 0.  ]\n",
      " [-0.01]]\n",
      "Episode:300 steps:15 episode_reward:0.0 last n mean rew.0.01890000030398369,individual episode rew.[[-0.01]\n",
      " [ 0.  ]]\n",
      "Episode:310 steps:14 episode_reward:0.0 last n mean rew.0.01890000030398369,individual episode rew.[[-0.01]\n",
      " [ 0.  ]]\n",
      "Episode:320 steps:30 episode_reward:0.10000000149011612 last n mean rew.0.02090000033378601,individual episode rew.[[ 0.1 ]\n",
      " [-0.01]]\n",
      "Episode:330 steps:14 episode_reward:0.0 last n mean rew.0.02090000033378601,individual episode rew.[[ 0.  ]\n",
      " [-0.01]]\n",
      "Episode:340 steps:14 episode_reward:0.0 last n mean rew.0.018000000268220902,individual episode rew.[[ 0.  ]\n",
      " [-0.01]]\n",
      "Episode:350 steps:16 episode_reward:0.0 last n mean rew.0.018000000268220902,individual episode rew.[[-0.01]\n",
      " [ 0.  ]]\n",
      "Episode:360 steps:14 episode_reward:0.0 last n mean rew.0.021000000312924386,individual episode rew.[[-0.01]\n",
      " [ 0.  ]]\n",
      "Episode:370 steps:15 episode_reward:0.0 last n mean rew.0.021000000312924386,individual episode rew.[[ 0.  ]\n",
      " [-0.01]]\n",
      "Episode:380 steps:14 episode_reward:0.0 last n mean rew.0.023000000342726708,individual episode rew.[[ 0.  ]\n",
      " [-0.01]]\n",
      "Episode:390 steps:30 episode_reward:0.10000000149011612 last n mean rew.0.03090000046417117,individual episode rew.[[ 0.1 ]\n",
      " [-0.01]]\n",
      "Episode:400 steps:30 episode_reward:0.09000000171363354 last n mean rew.0.034700000528246164,individual episode rew.[[0.  ]\n",
      " [0.09]]\n",
      "Episode:410 steps:14 episode_reward:0.0 last n mean rew.0.03770000057294965,individual episode rew.[[ 0.  ]\n",
      " [-0.01]]\n",
      "Episode:420 steps:48 episode_reward:0.10000000149011612 last n mean rew.0.043500000666826966,individual episode rew.[[ 0.1 ]\n",
      " [-0.01]]\n",
      "Episode:430 steps:15 episode_reward:0.0 last n mean rew.0.046500000711530445,individual episode rew.[[ 0.  ]\n",
      " [-0.01]]\n",
      "Episode:440 steps:30 episode_reward:0.09000000171363354 last n mean rew.0.05030000077560544,individual episode rew.[[0.  ]\n",
      " [0.09]]\n",
      "Episode:450 steps:14 episode_reward:0.0 last n mean rew.0.0513000007905066,individual episode rew.[[ 0.  ]\n",
      " [-0.01]]\n",
      "Episode:460 steps:31 episode_reward:0.10000000149011612 last n mean rew.0.0513000007905066,individual episode rew.[[ 0.1 ]\n",
      " [-0.01]]\n",
      "Episode:470 steps:16 episode_reward:0.0 last n mean rew.0.0532000008225441,individual episode rew.[[-0.01]\n",
      " [ 0.  ]]\n",
      "Episode:480 steps:13 episode_reward:0.0 last n mean rew.0.055100000854581596,individual episode rew.[[-0.01]\n",
      " [ 0.  ]]\n",
      "Episode:490 steps:31 episode_reward:0.10000000149011612 last n mean rew.0.05210000080987811,individual episode rew.[[ 0.1 ]\n",
      " [-0.01]]\n",
      "Episode:500 steps:14 episode_reward:0.0 last n mean rew.0.04930000076070428,individual episode rew.[[ 0.  ]\n",
      " [-0.01]]\n",
      "Episode:510 steps:14 episode_reward:0.0 last n mean rew.0.04730000073090196,individual episode rew.[[ 0.  ]\n",
      " [-0.01]]\n",
      "Episode:520 steps:14 episode_reward:0.0 last n mean rew.0.04450000068172812,individual episode rew.[[ 0.  ]\n",
      " [-0.01]]\n",
      "Episode:530 steps:14 episode_reward:0.0 last n mean rew.0.046500000711530445,individual episode rew.[[ 0.  ]\n",
      " [-0.01]]\n",
      "Episode:540 steps:58 episode_reward:0.10000000149011612 last n mean rew.0.044700000677257774,individual episode rew.[[ 0.1 ]\n",
      " [-0.01]]\n",
      "Episode:550 steps:14 episode_reward:0.0 last n mean rew.0.046700000707060096,individual episode rew.[[ 0.  ]\n",
      " [-0.01]]\n",
      "Episode:560 steps:14 episode_reward:0.0 last n mean rew.0.046700000707060096,individual episode rew.[[ 0.  ]\n",
      " [-0.01]]\n",
      "Episode:570 steps:56 episode_reward:0.10000000149011612 last n mean rew.0.047600000724196435,individual episode rew.[[0.09]\n",
      " [0.1 ]]\n",
      "Episode:580 steps:49 episode_reward:0.10000000149011612 last n mean rew.0.04870000073686242,individual episode rew.[[ 0.1 ]\n",
      " [-0.01]]\n",
      "Episode:590 steps:31 episode_reward:0.09000000171363354 last n mean rew.0.04760000074282288,individual episode rew.[[0.  ]\n",
      " [0.09]]\n",
      "Episode:600 steps:68 episode_reward:0.20000000298023224 last n mean rew.0.049600000772625205,individual episode rew.[[0.2 ]\n",
      " [0.09]]\n",
      "Episode:610 steps:32 episode_reward:0.10000000149011612 last n mean rew.0.055500000864267346,individual episode rew.[[-0.01]\n",
      " [ 0.1 ]]\n",
      "Episode:620 steps:30 episode_reward:0.10000000149011612 last n mean rew.0.05540000086650252,individual episode rew.[[ 0.1 ]\n",
      " [-0.01]]\n",
      "Episode:630 steps:14 episode_reward:0.0 last n mean rew.0.05430000085383654,individual episode rew.[[-0.01]\n",
      " [ 0.  ]]\n",
      "Episode:640 steps:30 episode_reward:0.09000000171363354 last n mean rew.0.059200000930577514,individual episode rew.[[0.  ]\n",
      " [0.09]]\n",
      "Episode:650 steps:30 episode_reward:0.10000000149011612 last n mean rew.0.06310000099241733,individual episode rew.[[ 0.1 ]\n",
      " [-0.01]]\n",
      "Episode:660 steps:41 episode_reward:0.10000000149011612 last n mean rew.0.06980000110343099,individual episode rew.[[ 0.1 ]\n",
      " [-0.01]]\n",
      "Episode:670 steps:49 episode_reward:0.10000000149011612 last n mean rew.0.07180000113323332,individual episode rew.[[0.1 ]\n",
      " [0.09]]\n"
     ]
    },
    {
     "name": "stdout",
     "output_type": "stream",
     "text": [
      "Episode:680 steps:31 episode_reward:0.09000000171363354 last n mean rew.0.07430000118911266,individual episode rew.[[0.  ]\n",
      " [0.09]]\n",
      "Episode:690 steps:30 episode_reward:0.10000000149011612 last n mean rew.0.07920000124722719,individual episode rew.[[ 0.1 ]\n",
      " [-0.01]]\n",
      "Episode:700 steps:30 episode_reward:0.09000000171363354 last n mean rew.0.0838000013306737,individual episode rew.[[0.  ]\n",
      " [0.09]]\n",
      "Episode:710 steps:36 episode_reward:0.10000000149011612 last n mean rew.0.08460000135004521,individual episode rew.[[ 0.1 ]\n",
      " [-0.01]]\n",
      "Episode:720 steps:30 episode_reward:0.09000000171363354 last n mean rew.0.08750000139698386,individual episode rew.[[0.  ]\n",
      " [0.09]]\n",
      "Episode:730 steps:33 episode_reward:0.10000000149011612 last n mean rew.0.08940000142902135,individual episode rew.[[ 0.1 ]\n",
      " [-0.01]]\n",
      "Episode:740 steps:30 episode_reward:0.09000000171363354 last n mean rew.0.09020000144839287,individual episode rew.[[0.  ]\n",
      " [0.09]]\n",
      "Episode:750 steps:29 episode_reward:0.10000000149011612 last n mean rew.0.0892000014334917,individual episode rew.[[ 0.1 ]\n",
      " [-0.01]]\n",
      "Episode:760 steps:16 episode_reward:0.0 last n mean rew.0.08740000139921904,individual episode rew.[[-0.01]\n",
      " [ 0.  ]]\n",
      "Episode:770 steps:70 episode_reward:0.20000000298023224 last n mean rew.0.09850000156089664,individual episode rew.[[0.2 ]\n",
      " [0.09]]\n",
      "Episode:780 steps:30 episode_reward:0.10000000149011612 last n mean rew.0.10100000157952309,individual episode rew.[[ 0.1 ]\n",
      " [-0.01]]\n",
      "Episode:790 steps:29 episode_reward:0.10000000149011612 last n mean rew.0.1041000016219914,individual episode rew.[[ 0.1 ]\n",
      " [-0.01]]\n",
      "Episode:800 steps:67 episode_reward:0.20000000298023224 last n mean rew.0.1053000016324222,individual episode rew.[[0.2 ]\n",
      " [0.09]]\n",
      "Episode:810 steps:51 episode_reward:0.10000000149011612 last n mean rew.0.11150000171735883,individual episode rew.[[0.09]\n",
      " [0.1 ]]\n",
      "Episode:820 steps:14 episode_reward:0.0 last n mean rew.0.1137000017426908,individual episode rew.[[ 0.  ]\n",
      " [-0.01]]\n",
      "Episode:830 steps:181 episode_reward:0.4000000059604645 last n mean rew.0.12490000190213323,individual episode rew.[[0.40000001]\n",
      " [0.39000001]]\n",
      "Episode:840 steps:31 episode_reward:0.10000000149011612 last n mean rew.0.12500000189989804,individual episode rew.[[ 0.1 ]\n",
      " [-0.01]]\n",
      "Episode:850 steps:31 episode_reward:0.10000000149011612 last n mean rew.0.12700000192970037,individual episode rew.[[ 0.1 ]\n",
      " [-0.01]]\n",
      "Episode:860 steps:66 episode_reward:0.10000000149011612 last n mean rew.0.1279000019468367,individual episode rew.[[0.1 ]\n",
      " [0.09]]\n",
      "Episode:870 steps:42 episode_reward:0.10000000149011612 last n mean rew.0.1198000018298626,individual episode rew.[[0.1 ]\n",
      " [0.09]]\n",
      "Episode:880 steps:31 episode_reward:0.10000000149011612 last n mean rew.0.12150000186637044,individual episode rew.[[-0.01]\n",
      " [ 0.1 ]]\n",
      "Episode:890 steps:30 episode_reward:0.10000000149011612 last n mean rew.0.11650000179186464,individual episode rew.[[ 0.1 ]\n",
      " [-0.01]]\n",
      "Episode:900 steps:32 episode_reward:0.10000000149011612 last n mean rew.0.1145000017620623,individual episode rew.[[ 0.1 ]\n",
      " [-0.01]]\n",
      "Episode:910 steps:68 episode_reward:0.20000000298023224 last n mean rew.0.11210000174120069,individual episode rew.[[0.09]\n",
      " [0.2 ]]\n",
      "Episode:920 steps:14 episode_reward:0.0 last n mean rew.0.11390000177547335,individual episode rew.[[-0.01]\n",
      " [ 0.  ]]\n",
      "Episode:930 steps:64 episode_reward:0.10000000149011612 last n mean rew.0.10780000168830156,individual episode rew.[[0.1 ]\n",
      " [0.09]]\n",
      "Episode:940 steps:14 episode_reward:0.0 last n mean rew.0.10770000169053674,individual episode rew.[[-0.01]\n",
      " [ 0.  ]]\n",
      "Episode:950 steps:61 episode_reward:0.10000000149011612 last n mean rew.0.10580000165849925,individual episode rew.[[0.09]\n",
      " [0.1 ]]\n",
      "Episode:960 steps:31 episode_reward:0.10000000149011612 last n mean rew.0.10890000170096754,individual episode rew.[[-0.01]\n",
      " [ 0.1 ]]\n",
      "Episode:970 steps:51 episode_reward:0.10000000149011612 last n mean rew.0.11090000173076987,individual episode rew.[[-0.01]\n",
      " [ 0.1 ]]\n",
      "Episode:980 steps:34 episode_reward:0.10000000149011612 last n mean rew.0.11010000171139836,individual episode rew.[[-0.01]\n",
      " [ 0.1 ]]\n",
      "Episode:990 steps:31 episode_reward:0.10000000149011612 last n mean rew.0.11430000176653266,individual episode rew.[[ 0.1 ]\n",
      " [-0.01]]\n",
      "Episode:1000 steps:96 episode_reward:0.20000000298023224 last n mean rew.0.11740000180900097,individual episode rew.[[0.2 ]\n",
      " [0.19]]\n",
      "Episode:1010 steps:29 episode_reward:0.10000000149011612 last n mean rew.0.11270000172778964,individual episode rew.[[ 0.1 ]\n",
      " [-0.01]]\n",
      "Episode:1020 steps:84 episode_reward:0.20000000298023224 last n mean rew.0.10970000168308616,individual episode rew.[[0.09]\n",
      " [0.2 ]]\n",
      "Episode:1030 steps:67 episode_reward:0.10000000149011612 last n mean rew.0.10980000168085098,individual episode rew.[[0.09]\n",
      " [0.1 ]]\n",
      "Episode:1040 steps:52 episode_reward:0.10000000149011612 last n mean rew.0.11810000179335475,individual episode rew.[[0.1 ]\n",
      " [0.09]]\n",
      "Episode:1050 steps:108 episode_reward:0.30000000447034836 last n mean rew.0.12200000185519456,individual episode rew.[[0.19]\n",
      " [0.3 ]]\n",
      "Episode:1060 steps:51 episode_reward:0.10000000149011612 last n mean rew.0.1290000019595027,individual episode rew.[[0.1 ]\n",
      " [0.09]]\n",
      "Episode:1070 steps:69 episode_reward:0.20000000298023224 last n mean rew.0.13310000201687217,individual episode rew.[[0.09]\n",
      " [0.2 ]]\n",
      "Episode:1080 steps:169 episode_reward:0.3900000061839819 last n mean rew.0.13690000208094716,individual episode rew.[[0.3       ]\n",
      " [0.39000001]]\n",
      "Episode:1090 steps:51 episode_reward:0.10000000149011612 last n mean rew.0.135900002066046,individual episode rew.[[0.09]\n",
      " [0.1 ]]\n",
      "Episode:1100 steps:30 episode_reward:0.10000000149011612 last n mean rew.0.13690000208094716,individual episode rew.[[ 0.1 ]\n",
      " [-0.01]]\n",
      "Episode:1110 steps:30 episode_reward:0.09000000171363354 last n mean rew.0.137000002078712,individual episode rew.[[0.  ]\n",
      " [0.09]]\n",
      "Episode:1120 steps:51 episode_reward:0.10000000149011612 last n mean rew.0.14210000215098262,individual episode rew.[[ 0.1 ]\n",
      " [-0.01]]\n",
      "Episode:1130 steps:52 episode_reward:0.10000000149011612 last n mean rew.0.14310000216588378,individual episode rew.[[0.1 ]\n",
      " [0.08]]\n",
      "Episode:1140 steps:30 episode_reward:0.09000000171363354 last n mean rew.0.13490000205114483,individual episode rew.[[0.  ]\n",
      " [0.09]]\n",
      "Episode:1150 steps:55 episode_reward:0.10000000149011612 last n mean rew.0.12770000195130707,individual episode rew.[[0.1 ]\n",
      " [0.09]]\n",
      "Episode:1160 steps:140 episode_reward:0.4000000059604645 last n mean rew.0.12870000196620823,individual episode rew.[[0.40000001]\n",
      " [0.29      ]]\n",
      "Episode:1170 steps:183 episode_reward:0.490000007674098 last n mean rew.0.13260000202804803,individual episode rew.[[0.40000001]\n",
      " [0.49000001]]\n",
      "Episode:1180 steps:116 episode_reward:0.30000000447034836 last n mean rew.0.1279000019468367,individual episode rew.[[0.3 ]\n",
      " [0.19]]\n",
      "Episode:1190 steps:74 episode_reward:0.20000000298023224 last n mean rew.0.135900002066046,individual episode rew.[[0.09]\n",
      " [0.2 ]]\n",
      "Episode:1200 steps:30 episode_reward:0.10000000149011612 last n mean rew.0.14800000224262477,individual episode rew.[[-0.01]\n",
      " [ 0.1 ]]\n",
      "Episode:1210 steps:52 episode_reward:0.10000000149011612 last n mean rew.0.15610000235959887,individual episode rew.[[0.09]\n",
      " [0.1 ]]\n",
      "Episode:1220 steps:317 episode_reward:0.800000011920929 last n mean rew.0.17020000256597995,individual episode rew.[[0.79000001]\n",
      " [0.80000001]]\n",
      "Episode:1230 steps:92 episode_reward:0.20000000298023224 last n mean rew.0.18510000279173255,individual episode rew.[[0.2 ]\n",
      " [0.19]]\n",
      "Episode:1240 steps:29 episode_reward:0.09000000171363354 last n mean rew.0.20000000301748513,individual episode rew.[[0.  ]\n",
      " [0.09]]\n",
      "Episode:1250 steps:30 episode_reward:0.09000000171363354 last n mean rew.0.2440000036917627,individual episode rew.[[0.  ]\n",
      " [0.09]]\n",
      "Episode:1260 steps:15 episode_reward:0.0 last n mean rew.0.2441000036895275,individual episode rew.[[ 0.  ]\n",
      " [-0.01]]\n",
      "Episode:1270 steps:109 episode_reward:0.2900000046938658 last n mean rew.0.26720000403001903,individual episode rew.[[0.29]\n",
      " [0.2 ]]\n",
      "Episode:1280 steps:30 episode_reward:0.10000000149011612 last n mean rew.0.29220000440254806,individual episode rew.[[ 0.1 ]\n",
      " [-0.01]]\n",
      "Episode:1290 steps:218 episode_reward:0.5000000074505806 last n mean rew.0.3202000048197806,individual episode rew.[[0.50000001]\n",
      " [0.49000001]]\n"
     ]
    },
    {
     "name": "stdout",
     "output_type": "stream",
     "text": [
      "Episode:1300 steps:261 episode_reward:0.7000000104308128 last n mean rew.0.3241000048816204,individual episode rew.[[0.70000001]\n",
      " [0.59000001]]\n",
      "Episode:1310 steps:337 episode_reward:0.9000000134110451 last n mean rew.0.3400000051222742,individual episode rew.[[0.90000001]\n",
      " [0.79000001]]\n",
      "Episode:1320 steps:166 episode_reward:0.4000000059604645 last n mean rew.0.35280000532045963,individual episode rew.[[0.39000001]\n",
      " [0.40000001]]\n",
      "Episode:1330 steps:236 episode_reward:0.6000000089406967 last n mean rew.0.35990000542253253,individual episode rew.[[0.60000001]\n",
      " [0.59000001]]\n",
      "Episode:1340 steps:176 episode_reward:0.4000000059604645 last n mean rew.0.4182000062800944,individual episode rew.[[0.40000001]\n",
      " [0.39000001]]\n",
      "Episode:1350 steps:182 episode_reward:0.5000000074505806 last n mean rew.0.43850000655278565,individual episode rew.[[0.50000001]\n",
      " [0.39000001]]\n",
      "Episode:1360 steps:145 episode_reward:0.30000000447034836 last n mean rew.0.47150000704452394,individual episode rew.[[0.29]\n",
      " [0.3 ]]\n",
      "Episode:1370 steps:14 episode_reward:0.0 last n mean rew.0.4966000074148178,individual episode rew.[[ 0.  ]\n",
      " [-0.01]]\n",
      "Solved in 1371 episodes\n"
     ]
    }
   ],
   "source": [
    "def main(agent1,agent2,noise,episodes,visualize_every,print_every):\n",
    "    total_rewards = [[],[]]\n",
    "    critic_losses = []\n",
    "    actor_losses = []\n",
    "    \n",
    "    ag2_critic_losses = []\n",
    "    ag2_actor_losses = []\n",
    "    \n",
    "    episode_single_scores = [] # the max between scores of both agents\n",
    "    episode_window_scores = deque(maxlen = DESIRED_EPISODES_AVERAGE)\n",
    "    \n",
    "    for episode in range(1,episodes +1):\n",
    "        finished = False\n",
    "        step_count = 0\n",
    "        episode_scores = np.zeros((num_agents,1))\n",
    "        \n",
    "        noise.reset()\n",
    "        \n",
    "        train_mode = not(episode%visualize_every == 0)\n",
    "        env_info = env.reset(train_mode = train_mode)[brain_name]\n",
    "        states = env_info.vector_observations\n",
    "        \n",
    "        while not finished:\n",
    "            all_states = np.concatenate(states)\n",
    "            actions_ag1 = agent1.act(states[0])\n",
    "            actions_ag2 = agent2.act(states[1])\n",
    "            \n",
    "            all_actions = np.concatenate((actions_ag1,actions_ag2),axis = 0)\n",
    "            \n",
    "            env_info = env.step(all_actions)[brain_name]\n",
    "            next_states = env_info.vector_observations\n",
    "            rewards = np.expand_dims(env_info.rewards,axis=1)\n",
    "            dones = np.array(env_info.local_done)\n",
    "            \n",
    "            all_next_states = np.concatenate(next_states)\n",
    "            #add experience to shared replay buffer\n",
    "            #if np.sum(rewards) != 0.0:\n",
    "            #print(states.shape,all_actions.shape,rewards.shape,next_states.shape,dones)\n",
    "            replay_buffer.add(states,all_actions,rewards,next_states,dones)\n",
    "            \n",
    "            states = next_states\n",
    "            \n",
    "            episode_scores += rewards\n",
    "            finished = dones[0] or dones[1]\n",
    "            \n",
    "            if step_count % TRAIN_EVERY == 0 and len(replay_buffer) >= BATCH_SIZE and episode >= EXPLORATION_EPISODES:\n",
    "                agent1.train(batch_size = BATCH_SIZE, critic_losses = critic_losses,actor_losses = actor_losses)\n",
    "                agent2.train(batch_size = BATCH_SIZE , critic_losses=   ag2_critic_losses,actor_losses = ag2_actor_losses)\n",
    "                \n",
    "            if step_count % UPDATE_TARGET_NETWORK_EVERY == 0 and len(replay_buffer) >= BATCH_SIZE and episode >= EXPLORATION_EPISODES:\n",
    "                agent1.update_target_networks(TAU)\n",
    "                agent2.update_target_networks(TAU)\n",
    "                #update_target_network(actor_local,actor_target,TAU)\n",
    "                #update_target_network(critic_local,critic_target,TAU)\n",
    "                \n",
    "            step_count += 1\n",
    "            \n",
    "            \n",
    "        episode_single_score = max(episode_scores)[0]\n",
    "        episode_window_scores.append(episode_single_score)\n",
    "        episode_single_scores.append(episode_single_score)\n",
    "        \n",
    "        total_rewards[0].append(episode_scores[0])\n",
    "        total_rewards[1].append(episode_scores[1])\n",
    "        \n",
    "        if episode % print_every == 0:\n",
    "            print(\"Episode:{} steps:{} episode_reward:{} last n mean rew.{},individual episode rew.{}\".format(episode, step_count,\n",
    "                                                                                    episode_single_score,np.mean(episode_window_scores),episode_scores))\n",
    "                \n",
    "        \n",
    "        if np.mean(episode_window_scores) >= DESIRED_AVERAGE_SCORE:\n",
    "            print(\"Solved in {} episodes\".format(episode))\n",
    "            checkpoint_name = \"checkpoint_solved_\"+str(episode)+\".pth\"\n",
    "            break\n",
    "            \n",
    "    return total_rewards,critic_losses,actor_losses,episode_single_scores,ag2_critic_losses,ag2_actor_losses\n",
    "\n",
    "train_rewards,critic_losses,actor_losses,episode_single_scores,ag2_critic_losses,ag2_actor_losses = main(agent1,agent2,noise,\n",
    "                                                                                                         EPISODES,VISUALIZE_EVERY,PRINT_EVERY)"
   ]
  },
  {
   "cell_type": "code",
   "execution_count": 18,
   "metadata": {},
   "outputs": [
    {
     "name": "stdout",
     "output_type": "stream",
     "text": [
      "Score (max over agents) from episode 1: 0.10000000149011612\n",
      "Score (max over agents) from episode 2: 2.2000000327825546\n",
      "Score (max over agents) from episode 3: 0.09000000171363354\n",
      "Score (max over agents) from episode 4: 0.9000000134110451\n",
      "Score (max over agents) from episode 5: 2.600000038743019\n",
      "Score (max over agents) from episode 6: 0.6000000089406967\n",
      "Score (max over agents) from episode 7: 0.10000000149011612\n",
      "Score (max over agents) from episode 8: 0.10000000149011612\n",
      "Score (max over agents) from episode 9: 0.10000000149011612\n"
     ]
    }
   ],
   "source": [
    "for i in range(1, 10):                                      # play game for 5 episodes\n",
    "    env_info = env.reset(train_mode=False)[brain_name]     # reset the environment    \n",
    "    states = env_info.vector_observations                  # get the current state (for each agent)\n",
    "    scores = np.zeros(num_agents)                          # initialize the score (for each agent)\n",
    "    agent1.noise.reset()\n",
    "    agent2.noise.reset()\n",
    "    while True:\n",
    "        \n",
    "        actions_ag1 = agent1.act(states[0])\n",
    "        #actions_ag1 = [[1,-1]]\n",
    "        actions_ag2 = agent2.act(states[1])\n",
    "        #actions_ag2 = np.random.randn(1, action_size)\n",
    "        #actions_ag2 = [[1,-1]]\n",
    "        #print(actions_ag1,actions_ag2)\n",
    "        env_info = env.step(np.concatenate((actions_ag1,actions_ag2),axis=0))[brain_name]\n",
    "        next_states = env_info.vector_observations        # get next state (for each agent)\n",
    "        rewards = env_info.rewards                         # get reward (for each agent)\n",
    "        dones = env_info.local_done                        # see if episode finished\n",
    "        scores += env_info.rewards                         # update the score (for each agent)\n",
    "        states = next_states                               # roll over states to next time step\n",
    "        #print(states[0],states[1])\n",
    "        if np.any(dones):                                  # exit loop if episode finished\n",
    "            break\n",
    "    print('Score (max over agents) from episode {}: {}'.format(i, np.max(scores)))"
   ]
  },
  {
   "cell_type": "markdown",
   "metadata": {},
   "source": [
    "#### Agent 1 rewards"
   ]
  },
  {
   "cell_type": "code",
   "execution_count": 19,
   "metadata": {},
   "outputs": [
    {
     "data": {
      "image/png": "[encoded data removed]",
      "text/plain": [
       "<Figure size 432x288 with 1 Axes>"
      ]
     },
     "metadata": {
      "needs_background": "light"
     },
     "output_type": "display_data"
    }
   ],
   "source": [
    "plt.plot(train_rewards[0])\n",
    "plt.show()"
   ]
  },
  {
   "cell_type": "markdown",
   "metadata": {},
   "source": [
    "#### Agent 2 rewards"
   ]
  },
  {
   "cell_type": "code",
   "execution_count": 20,
   "metadata": {},
   "outputs": [
    {
     "data": {
      "image/png": "[encoded data removed]",
      "text/plain": [
       "<Figure size 432x288 with 1 Axes>"
      ]
     },
     "metadata": {
      "needs_background": "light"
     },
     "output_type": "display_data"
    }
   ],
   "source": [
    "plt.plot(train_rewards[1])\n",
    "plt.show()"
   ]
  },
  {
   "cell_type": "markdown",
   "metadata": {},
   "source": [
    "### episode rewards"
   ]
  },
  {
   "cell_type": "code",
   "execution_count": 21,
   "metadata": {},
   "outputs": [
    {
     "data": {
      "image/png": "[encoded data removed]",
      "text/plain": [
       "<Figure size 432x288 with 1 Axes>"
      ]
     },
     "metadata": {
      "needs_background": "light"
     },
     "output_type": "display_data"
    }
   ],
   "source": [
    "plt.plot(episode_single_scores)\n",
    "plt.show()"
   ]
  },
  {
   "cell_type": "markdown",
   "metadata": {},
   "source": [
    "#### Critic losses"
   ]
  },
  {
   "cell_type": "code",
   "execution_count": 22,
   "metadata": {},
   "outputs": [
    {
     "data": {
      "image/png": "[encoded data removed]",
      "text/plain": [
       "<Figure size 432x288 with 1 Axes>"
      ]
     },
     "metadata": {
      "needs_background": "light"
     },
     "output_type": "display_data"
    }
   ],
   "source": [
    "plt.plot(critic_losses)\n",
    "plt.show()"
   ]
  },
  {
   "cell_type": "code",
   "execution_count": 23,
   "metadata": {},
   "outputs": [
    {
     "data": {
      "image/png": "[encoded data removed]",
      "text/plain": [
       "<Figure size 432x288 with 1 Axes>"
      ]
     },
     "metadata": {
      "needs_background": "light"
     },
     "output_type": "display_data"
    }
   ],
   "source": [
    "plt.plot(ag2_critic_losses)\n",
    "plt.show()"
   ]
  },
  {
   "cell_type": "markdown",
   "metadata": {},
   "source": [
    "### Actor losses"
   ]
  },
  {
   "cell_type": "code",
   "execution_count": 24,
   "metadata": {},
   "outputs": [
    {
     "data": {
      "image/png": "[encoded data removed]",
      "text/plain": [
       "<Figure size 432x288 with 1 Axes>"
      ]
     },
     "metadata": {
      "needs_background": "light"
     },
     "output_type": "display_data"
    }
   ],
   "source": [
    "plt.plot(actor_losses)\n",
    "plt.show()"
   ]
  },
  {
   "cell_type": "code",
   "execution_count": 25,
   "metadata": {},
   "outputs": [
    {
     "data": {
      "image/png": "[encoded data removed]",
      "text/plain": [
       "<Figure size 432x288 with 1 Axes>"
      ]
     },
     "metadata": {
      "needs_background": "light"
     },
     "output_type": "display_data"
    }
   ],
   "source": [
    "plt.plot(ag2_actor_losses)\n",
    "plt.show()"
   ]
  },
  {
   "cell_type": "code",
   "execution_count": null,
   "metadata": {},
   "outputs": [],
   "source": []
  }
 ],
 "metadata": {
  "kernelspec": {
   "display_name": "Python 3",
   "language": "python",
   "name": "python3"
  },
  "language_info": {
   "codemirror_mode": {
    "name": "ipython",
    "version": 3
   },
   "file_extension": ".py",
   "mimetype": "text/x-python",
   "name": "python",
   "nbconvert_exporter": "python",
   "pygments_lexer": "ipython3",
   "version": "3.6.8"
  }
 },
 "nbformat": 4,
 "nbformat_minor": 2
}
