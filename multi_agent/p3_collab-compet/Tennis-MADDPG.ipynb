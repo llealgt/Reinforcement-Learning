{
 "cells": [
  {
   "cell_type": "markdown",
   "metadata": {},
   "source": [
    "# Multi-agent reinforcement learning(Collaboration and Competition)\n",
    "\n",
    "---\n",
    "Based on paper [Multi-Agent Actor-Critic for Mixed Cooperative-Competitive Environments](https://arxiv.org/pdf/1706.02275.pdf)\n",
    "\n",
    "In this notebook, you will learn how to use the Unity ML-Agents environment for the third project of the [Deep Reinforcement Learning Nanodegree](https://www.udacity.com/course/deep-reinforcement-learning-nanodegree--nd893) program.\n",
    "\n",
    "### 1. Start the Environment\n",
    "\n",
    "We begin by importing the necessary packages.  If the code cell below returns an error, please revisit the project instructions to double-check that you have installed [Unity ML-Agents](https://github.com/Unity-Technologies/ml-agents/blob/master/docs/Installation.md) and [NumPy](http://www.numpy.org/)."
   ]
  },
  {
   "cell_type": "code",
   "execution_count": 1,
   "metadata": {},
   "outputs": [],
   "source": [
    "from unityagents import UnityEnvironment\n",
    "import numpy as np\n",
    "import torch as torch\n",
    "import torch.nn.functional as F\n",
    "from torch import optim as optim\n",
    "import matplotlib.pyplot as plt\n",
    "from collections import namedtuple,deque\n",
    "import random\n",
    "import copy"
   ]
  },
  {
   "cell_type": "markdown",
   "metadata": {},
   "source": [
    "Next, we will start the environment!  **_Before running the code cell below_**, change the `file_name` parameter to match the location of the Unity environment that you downloaded.\n",
    "\n",
    "- **Mac**: `\"path/to/Tennis.app\"`\n",
    "- **Windows** (x86): `\"path/to/Tennis_Windows_x86/Tennis.exe\"`\n",
    "- **Windows** (x86_64): `\"path/to/Tennis_Windows_x86_64/Tennis.exe\"`\n",
    "- **Linux** (x86): `\"path/to/Tennis_Linux/Tennis.x86\"`\n",
    "- **Linux** (x86_64): `\"path/to/Tennis_Linux/Tennis.x86_64\"`\n",
    "- **Linux** (x86, headless): `\"path/to/Tennis_Linux_NoVis/Tennis.x86\"`\n",
    "- **Linux** (x86_64, headless): `\"path/to/Tennis_Linux_NoVis/Tennis.x86_64\"`\n",
    "\n",
    "For instance, if you are using a Mac, then you downloaded `Tennis.app`.  If this file is in the same folder as the notebook, then the line below should appear as follows:\n",
    "```\n",
    "env = UnityEnvironment(file_name=\"Tennis.app\")\n",
    "```"
   ]
  },
  {
   "cell_type": "code",
   "execution_count": 2,
   "metadata": {},
   "outputs": [
    {
     "name": "stderr",
     "output_type": "stream",
     "text": [
      "INFO:unityagents:\n",
      "'Academy' started successfully!\n",
      "Unity Academy name: Academy\n",
      "        Number of Brains: 1\n",
      "        Number of External Brains : 1\n",
      "        Lesson number : 0\n",
      "        Reset Parameters :\n",
      "\t\t\n",
      "Unity brain name: TennisBrain\n",
      "        Number of Visual Observations (per agent): 0\n",
      "        Vector Observation space type: continuous\n",
      "        Vector Observation space size (per agent): 8\n",
      "        Number of stacked Vector Observation: 3\n",
      "        Vector Action space type: continuous\n",
      "        Vector Action space size (per agent): 2\n",
      "        Vector Action descriptions: , \n"
     ]
    }
   ],
   "source": [
    "env = UnityEnvironment(file_name=\"./Tennis_Linux/Tennis.x86_64\")"
   ]
  },
  {
   "cell_type": "markdown",
   "metadata": {},
   "source": [
    "Environments contain **_brains_** which are responsible for deciding the actions of their associated agents. Here we check for the first brain available, and set it as the default brain we will be controlling from Python."
   ]
  },
  {
   "cell_type": "code",
   "execution_count": 3,
   "metadata": {},
   "outputs": [],
   "source": [
    "# get the default brain\n",
    "brain_name = env.brain_names[0]\n",
    "brain = env.brains[brain_name]"
   ]
  },
  {
   "cell_type": "markdown",
   "metadata": {},
   "source": [
    "### 2. Examine the State and Action Spaces\n",
    "\n",
    "In this environment, two agents control rackets to bounce a ball over a net. If an agent hits the ball over the net, it receives a reward of +0.1.  If an agent lets a ball hit the ground or hits the ball out of bounds, it receives a reward of -0.01.  Thus, the goal of each agent is to keep the ball in play.\n",
    "\n",
    "The observation space consists of 8 variables corresponding to the position and velocity of the ball and racket. Two continuous actions are available, corresponding to movement toward (or away from) the net, and jumping. \n",
    "\n",
    "Run the code cell below to print some information about the environment."
   ]
  },
  {
   "cell_type": "code",
   "execution_count": 4,
   "metadata": {},
   "outputs": [
    {
     "name": "stdout",
     "output_type": "stream",
     "text": [
      "Number of agents: 2\n",
      "Size of each action: 2\n",
      "There are 2 agents. Each observes a state with length: 24\n",
      "The state for the first agent looks like: [ 0.          0.          0.          0.          0.          0.\n",
      "  0.          0.          0.          0.          0.          0.\n",
      "  0.          0.          0.          0.         -6.65278625 -1.5\n",
      " -0.          0.          6.83172083  6.         -0.          0.        ]\n"
     ]
    }
   ],
   "source": [
    "# reset the environment\n",
    "env_info = env.reset(train_mode=True)[brain_name]\n",
    "\n",
    "# number of agents \n",
    "num_agents = len(env_info.agents)\n",
    "print('Number of agents:', num_agents)\n",
    "\n",
    "# size of each action\n",
    "action_size = brain.vector_action_space_size\n",
    "print('Size of each action:', action_size)\n",
    "\n",
    "# examine the state space \n",
    "states = env_info.vector_observations\n",
    "state_size = states.shape[1]\n",
    "print('There are {} agents. Each observes a state with length: {}'.format(states.shape[0], state_size))\n",
    "print('The state for the first agent looks like:', states[0])"
   ]
  },
  {
   "cell_type": "markdown",
   "metadata": {},
   "source": [
    "### 3. Take Random Actions in the Environment\n",
    "\n",
    "In the next code cell, you will learn how to use the Python API to control the agents and receive feedback from the environment.\n",
    "\n",
    "Once this cell is executed, you will watch the agents' performance, if they select actions at random with each time step.  A window should pop up that allows you to observe the agents.\n",
    "\n",
    "Of course, as part of the project, you'll have to change the code so that the agents are able to use their experiences to gradually choose better actions when interacting with the environment!"
   ]
  },
  {
   "cell_type": "code",
   "execution_count": 5,
   "metadata": {},
   "outputs": [
    {
     "name": "stdout",
     "output_type": "stream",
     "text": [
      "Score (max over agents) from episode 1: 0.0\n",
      "Score (max over agents) from episode 2: 0.0\n",
      "Score (max over agents) from episode 3: 0.0\n",
      "Score (max over agents) from episode 4: 0.0\n",
      "Score (max over agents) from episode 5: 0.10000000149011612\n"
     ]
    }
   ],
   "source": [
    "for i in range(1, 6):                                      # play game for 5 episodes\n",
    "    env_info = env.reset(train_mode=False)[brain_name]     # reset the environment    \n",
    "    states = env_info.vector_observations                  # get the current state (for each agent)\n",
    "    scores = np.zeros(num_agents)                          # initialize the score (for each agent)\n",
    "    while True:\n",
    "        actions = np.random.randn(num_agents, action_size) # select an action (for each agent)\n",
    "        actions = np.clip(actions, -1, 1)                  # all actions between -1 and 1\n",
    "        env_info = env.step(actions)[brain_name]           # send all actions to tne environment\n",
    "        next_states = env_info.vector_observations        # get next state (for each agent)\n",
    "        rewards = env_info.rewards                         # get reward (for each agent)\n",
    "        dones = env_info.local_done                        # see if episode finished\n",
    "        scores += env_info.rewards                         # update the score (for each agent)\n",
    "        states = next_states                               # roll over states to next time step\n",
    "        if np.any(dones):                                  # exit loop if episode finished\n",
    "            break\n",
    "    print('Score (max over agents) from episode {}: {}'.format(i, np.max(scores)))"
   ]
  },
  {
   "cell_type": "markdown",
   "metadata": {},
   "source": [
    "When finished, you can close the environment."
   ]
  },
  {
   "cell_type": "code",
   "execution_count": 6,
   "metadata": {},
   "outputs": [],
   "source": [
    "#env.close()"
   ]
  },
  {
   "cell_type": "markdown",
   "metadata": {},
   "source": [
    "### 4. It's Your Turn!\n",
    "\n",
    "Now it's your turn to train your own agent to solve the environment!  When training the environment, set `train_mode=True`, so that the line for resetting the environment looks like the following:\n",
    "```python\n",
    "env_info = env.reset(train_mode=True)[brain_name]\n",
    "```"
   ]
  },
  {
   "cell_type": "code",
   "execution_count": 7,
   "metadata": {},
   "outputs": [
    {
     "name": "stdout",
     "output_type": "stream",
     "text": [
      "cuda:0\n"
     ]
    }
   ],
   "source": [
    "device = torch.device(\"cuda:0\" if torch.cuda.is_available() else \"cpu\")\n",
    "\n",
    "print(device)"
   ]
  },
  {
   "cell_type": "markdown",
   "metadata": {},
   "source": [
    "### Hyper parameters and configuration"
   ]
  },
  {
   "cell_type": "code",
   "execution_count": 8,
   "metadata": {},
   "outputs": [],
   "source": [
    "REPLAY_BUFFER_SIZE = int(1e6)\n",
    "VISUALIZE_EVERY = 50 #how many episodes to train before watching unity env simulation\n",
    "PRINT_EVERY = 10 #how many steps to train before printing training info\n",
    "DESIRED_EPISODES_AVERAGE = 100 #across how many episodes to have the desired scored averaged\n",
    "DESIRED_AVERAGE_SCORE = 0.5 # whats the desired score averaged across desired episodes lenght\n",
    "TRAIN_EVERY = 1 # how many interaction steps before learning step\n",
    "BATCH_SIZE = 128 #now many experience tuples to use for learning\n",
    "UPDATE_TARGET_NETWORK_EVERY = 10 #to configure how many steps to wait before target networks update\n",
    "TAU = 1.0  # target network update control 1 = hard updates 0 = no updates\n",
    "SEED= 0 #rarndom seed\n",
    "EPISODES = 2000 #max training episodes\n",
    "ACTOR_LR = 1e-3 # learning rate for actors\n",
    "CRITIC_LR = 2e-3 # learning rate for critics\n",
    "CRITIC_CLIP = 0.5 # to clip critic gradients\n",
    "EXPLORATION_EPISODES = 100 #how many episodes to do completely random before start training\n",
    "GAMMA = 0.99 #discount factor"
   ]
  },
  {
   "cell_type": "markdown",
   "metadata": {},
   "source": [
    "REPLAY_BUFFER_SIZE = int(1e6)\n",
    "VISUALIZE_EVERY = 50 #how many episodes to train before watching unity env simulation\n",
    "PRINT_EVERY = 10 #how many steps to train before printing training info\n",
    "DESIRED_EPISODES_AVERAGE = 100 #across how many episodes to have the desired scored averaged\n",
    "DESIRED_AVERAGE_SCORE = 0.5 # whats the desired score averaged across desired episodes lenght\n",
    "TRAIN_EVERY = 1 # how many interaction steps before learning step\n",
    "BATCH_SIZE = 128 #now many experience tuples to use for learning\n",
    "UPDATE_TARGET_NETWORK_EVERY = 5#to configure how many steps to wait before target networks update\n",
    "TAU = 1.0  # target network update control 1 = hard updates 0 = no updates\n",
    "SEED= 0 #rarndom seed\n",
    "EPISODES = 3000 #max training episodes\n",
    "ACTOR_LR = 1e-3 # learning rate for actors\n",
    "CRITIC_LR = 2e-3 # learning rate for critics\n",
    "CRITIC_CLIP = 0.5 # to clip critic gradients\n",
    "EXPLORATION_EPISODES = 100 #how many episodes to do completely random before start training\n",
    "GAMMA = 0.99 #discount factor"
   ]
  },
  {
   "cell_type": "code",
   "execution_count": 9,
   "metadata": {},
   "outputs": [],
   "source": [
    "REPLAY_BUFFER_SIZE = int(1e6)\n",
    "VISUALIZE_EVERY = 50 #how many episodes to train before watching unity env simulation\n",
    "PRINT_EVERY = 10 #how many steps to train before printing training info\n",
    "DESIRED_EPISODES_AVERAGE = 100 #across how many episodes to have the desired scored averaged\n",
    "DESIRED_AVERAGE_SCORE = 0.5 # whats the desired score averaged across desired episodes lenght\n",
    "TRAIN_EVERY = 1 # how many interaction steps before learning step\n",
    "BATCH_SIZE = 128 #now many experience tuples to use for learning\n",
    "UPDATE_TARGET_NETWORK_EVERY = 10 #to configure how many steps to wait before target networks update\n",
    "TAU = 1.0  # target network update control 1 = hard updates 0 = no updates\n",
    "SEED= 0 #rarndom seed\n",
    "EPISODES = 2000 #max training episodes\n",
    "ACTOR_LR = 1e-3 # learning rate for actors\n",
    "CRITIC_LR = 2e-3 # learning rate for critics\n",
    "CRITIC_CLIP = 1.0 # to clip critic gradients\n",
    "EXPLORATION_EPISODES = 100 #how many episodes to do completely random before start training\n",
    "GAMMA = 0.99 #discount factor"
   ]
  },
  {
   "cell_type": "code",
   "execution_count": 10,
   "metadata": {},
   "outputs": [],
   "source": [
    "torch.manual_seed(SEED)\n",
    "np.random.seed(SEED)"
   ]
  },
  {
   "cell_type": "markdown",
   "metadata": {},
   "source": [
    "### Classes and objects definition\n",
    "\n",
    "Some of these classes can go to separate specific .py files but i let them here for readability"
   ]
  },
  {
   "cell_type": "code",
   "execution_count": 11,
   "metadata": {},
   "outputs": [],
   "source": [
    "class ReplayBuffer:\n",
    "    \"\"\"Fixed-size buffer to store experience tuples for experience replay\"\"\"\n",
    "    \n",
    "    def __init__(self,action_size,buffer_size):\n",
    "        \"\"\"Initialize a ReplayBuffer objectParams\n",
    "        ======\n",
    "            action_size (int): dimension of each action\n",
    "            buffer_size (int): maximum size of buffer\n",
    "        \"\"\"\n",
    "        \n",
    "        self.action_size = action_size\n",
    "        self.buffer_size = buffer_size\n",
    "        self.memory = deque(maxlen=buffer_size)\n",
    "        self.experience = namedtuple(\"Experience\",field_names=[\"all_state\", \"all_action\", \"all_reward\",\"all_next_state\", \"done\"])\n",
    "        \n",
    "    def add(self,all_state,all_action,all_reward,all_next_state,done):\n",
    "        \"Add a new experience tuple to replay buffer\"\n",
    "        new_experience = self.experience(all_state,all_action,all_reward,all_next_state,done)\n",
    "        self.memory.append(new_experience)\n",
    "        \n",
    "    def sample(self,batch_size):\n",
    "        \"Get a sample of the buffer of size=batch size\"\n",
    "        experience_batch = random.sample(self.memory,k=batch_size)\n",
    "        \n",
    "        all_states = torch.from_numpy(np.vstack([e.all_state.reshape(1,2,-1) for e in experience_batch if e is not None])).float().to(device)\n",
    "        all_actions = torch.from_numpy(np.vstack([e.all_action.reshape(1,2,-1) for e in experience_batch if e is not None])).float().to(device)\n",
    "        all_rewards = torch.from_numpy(np.vstack([e.all_reward.reshape(1,2,-1) for e in experience_batch if e is not None])).float().to(device)\n",
    "        all_next_states = torch.from_numpy(np.vstack([e.all_next_state.reshape(1,2,-1) for e in experience_batch if e is not None])).float().to(device)\n",
    "        dones = torch.from_numpy(np.vstack([e.done.astype(np.uint8).reshape(1,2,-1) for e in experience_batch if e is not None]).astype(np.uint8)).float().to(device)\n",
    "        \n",
    "        return (all_states,all_actions,all_rewards,all_next_states,dones)\n",
    "    \n",
    "    def __len__(self):\n",
    "        \"\"\"Return the current size of internal memory\"\"\"\n",
    "        return len(self.memory)"
   ]
  },
  {
   "cell_type": "code",
   "execution_count": 12,
   "metadata": {},
   "outputs": [],
   "source": [
    "class OUNoise:\n",
    "    \"\"\"\n",
    "        Orstein-Ulenbeck process\n",
    "        used to add noise to actor selections for adding exploratoion\n",
    "    \"\"\"\n",
    "    def __init__(self,size,mu=0.0,theta=0.15,sigma=0.2):\n",
    "        \"\"\"Initialize a random noise process\"\"\"\n",
    "        self.size = size\n",
    "        self.mu = mu*np.ones(size)\n",
    "        self.theta = theta\n",
    "        self.sigma = sigma\n",
    "        self.reset()\n",
    "        \n",
    "    def reset(self):\n",
    "        \"\"\"Reset the random process\"\"\"\n",
    "        self.state = copy.copy(self.mu)\n",
    "        \n",
    "    def sample(self):\n",
    "        \"\"\"Get a random sample\"\"\"\n",
    "        x = self.state\n",
    "        dx = self.theta * (self.mu - x) + self.sigma * np.random.standard_normal(self.size)\n",
    "        self.state = x + dx\n",
    "        \n",
    "        return self.state"
   ]
  },
  {
   "cell_type": "code",
   "execution_count": 13,
   "metadata": {},
   "outputs": [],
   "source": [
    "def hidden_init(layer):\n",
    "    \"\"\"Used to set the initial weights of hidden layers\"\"\"\n",
    "    fan_in = layer.weight.data.size()[0]\n",
    "    lim = 1. / np.sqrt(fan_in)\n",
    "    return (-lim, lim)"
   ]
  },
  {
   "cell_type": "code",
   "execution_count": 14,
   "metadata": {},
   "outputs": [],
   "source": [
    "# Every agent will have an actor which can only see the agents observations\n",
    "class Actor(torch.nn.Module):\n",
    "    def __init__(self,state_size,action_size):\n",
    "        super(Actor,self).__init__()\n",
    "        self.action_size = action_size\n",
    "        self.bn=   torch.nn.BatchNorm1d(state_size) #to normalize inputs\n",
    "        self.fc1 = torch.nn.Linear(state_size,128)\n",
    "        self.bn1 = torch.nn.BatchNorm1d(128)\n",
    "        self.fc2 = torch.nn.Linear(128,128)\n",
    "        self.bn2 = torch.nn.BatchNorm1d(128)\n",
    "        self.fc_output = torch.nn.Linear(128,action_size)\n",
    "        self.reset_parameters()\n",
    "        \n",
    "    def forward(self,x):\n",
    "        x = self.bn(x.contiguous())\n",
    "        x = self.bn1( F.relu(self.fc1(x)))\n",
    "        x = F.relu(self.fc2(x))\n",
    "        \n",
    "        y = F.tanh(self.fc_output(x))\n",
    "        \n",
    "        return y\n",
    "    \n",
    "    def reset_parameters(self):\n",
    "        self.fc1.weight.data.uniform_(*hidden_init(self.fc1))\n",
    "        self.fc2.weight.data.uniform_(*hidden_init(self.fc2))\n",
    "        self.fc_output.weight.data.uniform_(-0.0001, 0.0001)"
   ]
  },
  {
   "cell_type": "code",
   "execution_count": 15,
   "metadata": {},
   "outputs": [],
   "source": [
    "# Every agent will have it's own critic but the critics have access to obervations and actions of all agents\n",
    "class Critic(torch.nn.Module):\n",
    "    def __init__(self,state_size,action_size):\n",
    "        super(Critic,self).__init__()\n",
    "        self.fc1 = torch.nn.Linear(2*state_size+ 2*action_size,128) #use actions  and states of both agents\n",
    "        self.fc2 = torch.nn.Linear(128,128)\n",
    "        self.fc_output = torch.nn.Linear(128,1)\n",
    "        self.reset_parameters()\n",
    "        \n",
    "    def forward(self,x,actions):\n",
    "        x = torch.cat((x,actions),dim=1)\n",
    "        x = F.relu(self.fc1(x))\n",
    "        x = F.relu(self.fc2(x))\n",
    "        \n",
    "        y = self.fc_output(x)\n",
    "        \n",
    "        return y\n",
    "    \n",
    "    def reset_parameters(self):\n",
    "        self.fc1.weight.data.uniform_(*hidden_init(self.fc1))\n",
    "        self.fc2.weight.data.uniform_(*hidden_init(self.fc2))\n",
    "        self.fc_output.weight.data.uniform_(-3e-4, 3e-4)"
   ]
  },
  {
   "cell_type": "code",
   "execution_count": 16,
   "metadata": {},
   "outputs": [],
   "source": [
    "class Agent:\n",
    "    \"\"\"\n",
    "    Agent class\n",
    "    \"\"\"\n",
    "    \n",
    "    #class variables to make possible every agent critic having access to observations and actions of other agents\n",
    "    agent1 = None \n",
    "    agent2 = None\n",
    "    \n",
    "    def __init__(self,agent_index,state_size,action_size,replay_buffer,noise,device):\n",
    "        \"\"\"Initialize the agent class\"\"\"\n",
    "        self.agent_index = agent_index #every agent has an index to select it's own experiences from shared buffer\n",
    "        self.state_size = state_size\n",
    "        self.action_size  = action_size\n",
    "        \n",
    "        # local(online) actor and critic\n",
    "        self.actor_local = Actor(state_size,action_size).to(device)\n",
    "        self.critic_local = Critic(state_size,action_size).to(device)\n",
    "\n",
    "        # target(copy) actors and critics\n",
    "        self.actor_target = Actor(state_size,action_size).to(device)\n",
    "        self.critic_target = Critic(state_size,action_size).to(device)\n",
    "\n",
    "        # start target networks as copy of online networks\n",
    "        self.update_target_networks(1.0)\n",
    "\n",
    "        # adam optimizers for online actor and critic\n",
    "        self.critic_optimizer = optim.Adam(self.critic_local.parameters(),lr=CRITIC_LR )\n",
    "        self.actor_optimizer = optim.Adam(self.actor_local.parameters(),lr=ACTOR_LR)\n",
    "        \n",
    "        self.device = device\n",
    "        \n",
    "        #every agent has access to shared replay buffer and noise process\n",
    "        self.replay_buffer = replay_buffer\n",
    "        self.noise = noise\n",
    "        \n",
    "        # set target networks to evaluation mode\n",
    "        #self.actor_target.eval()\n",
    "        #self.critic_target.eval()\n",
    "        \n",
    "        \n",
    "        self.actor_local.eval()\n",
    "    def act(self,state):\n",
    "        \"\"\"\n",
    "            Action selection on a given state\n",
    "            the action is selected by actor network + random noise for exploration\n",
    "        \"\"\"\n",
    "        state = torch.from_numpy(state).float().unsqueeze(0).detach().to(self.device)\n",
    "        self.actor_local.eval()\n",
    "        with torch.no_grad():\n",
    "            action = self.actor_local(state).cpu().data.numpy()\n",
    "            \n",
    "        self.actor_local.train()\n",
    "        noise = self.noise.sample()\n",
    "        action = np.clip(action + noise ,-1,1)\n",
    "        \n",
    "        return action\n",
    "    \n",
    "    def update_target_network(self,local_network,target_network,tau):\n",
    "        \"\"\"Generic function for soft target networks update\"\"\"\n",
    "        for target_param,local_param in zip(target_network.parameters(),local_network.parameters()):\n",
    "            target_param.data.copy_(tau*local_param.data + (1.0 - tau)*target_param.data)\n",
    "            \n",
    "    def update_target_networks(self,tau):\n",
    "        \"\"\"Function to update both actor and critic target networks\"\"\"\n",
    "        self.update_target_network(self.critic_local,self.critic_target,tau)\n",
    "        self.update_target_network(self.actor_local,self.actor_target,tau)\n",
    "            \n",
    "            \n",
    "    def train(self,batch_size=32,step_num=0,print_every = 100,critic_losses=[],actor_losses = []):\n",
    "        (states, actions, rewards, next_states, dones) = self.replay_buffer.sample(batch_size)\n",
    "        \n",
    "        # vectors of all states, all next states and all actions taken\n",
    "        all_states = states.view((batch_size,2*self.state_size))\n",
    "        all_next_states = next_states.view((batch_size,2*self.state_size))\n",
    "        all_actions = actions.view((batch_size,2*self.action_size))\n",
    "        \n",
    "        # next states for both agents\n",
    "        agent1_next_states = next_states[:,0,:]\n",
    "        agent2_next_states = next_states[:,1,:]\n",
    "        \n",
    "        # states for both agents\n",
    "        agent1_states = states[:,0,:]\n",
    "        agent2_states = states[:,1,:]\n",
    "        \n",
    "        # states,actions,rewards and next states for this specific agent\n",
    "        states = states[:,self.agent_index,:]\n",
    "        actions = actions[:,self.agent_index,:]\n",
    "        rewards = rewards[:,self.agent_index,:]\n",
    "        next_states = next_states[:,self.agent_index,:]\n",
    "        dones = dones[:,self.agent_index,:]\n",
    "        \n",
    "        \n",
    "        # to calculate the target q values we need to calculate the \"next actions\" for all agents(based on next states)\n",
    "        agent1_next_actions = self.agent1.actor_target(agent1_next_states)\n",
    "        agent2_next_actions = self.agent2.actor_target(agent2_next_states)\n",
    "        all_next_actions = torch.cat((agent1_next_actions,agent2_next_actions),dim=1)\n",
    "        \n",
    "        # make sure we stop gradients from the target  q-values(if we do not, this is a semigradient unstable update)\n",
    "        with torch.no_grad():\n",
    "            target_q_values = self.critic_target(all_next_states,all_next_actions)\n",
    "            \n",
    "        target_return = rewards + (GAMMA*target_q_values*(1-dones))\n",
    "\n",
    "        #train critic\n",
    "        ## every critic has access to the observations and actions of all agents\n",
    "        current_critic_estimate = self.critic_local(all_states,all_actions)\n",
    "        critic_mse_loss = F.mse_loss(current_critic_estimate,target_return.detach())\n",
    "        \n",
    "\n",
    "        self.critic_optimizer.zero_grad()\n",
    "        critic_mse_loss.backward()\n",
    "        torch.nn.utils.clip_grad_norm_(self.critic_local.parameters(),CRITIC_CLIP)\n",
    "        self.critic_optimizer.step()\n",
    "\n",
    "        critic_losses.append(critic_mse_loss.cpu().data.numpy())\n",
    "\n",
    "        #train actor\n",
    "        ## we need to calculate the actions selected by local actor for both agents\n",
    "        ## because we need critic gradient for the update but the critic needs states and actions for all agents\n",
    "        ## we have to do it for every agent because the actor has access only to states for every aent\n",
    "        agent1_local_actions = self.actor_local(agent1_states)\n",
    "        agent2_local_actions = self.actor_local(agent2_states)\n",
    "        all_actions_local = torch.cat((agent1_local_actions,agent2_local_actions),dim=1)\n",
    "        \n",
    "        actor_loss = -self.critic_local(all_states,all_actions_local).mean()\n",
    "       \n",
    "        self.actor_optimizer.zero_grad()\n",
    "        actor_loss.backward()\n",
    "        self.actor_optimizer.step()\n",
    "\n",
    "        actor_losses.append(actor_loss.cpu().data.numpy())"
   ]
  },
  {
   "cell_type": "code",
   "execution_count": 17,
   "metadata": {},
   "outputs": [],
   "source": [
    "replay_buffer = ReplayBuffer(action_size,REPLAY_BUFFER_SIZE) # shared experience buffer for both agents\n",
    "noise = OUNoise(size=action_size) #shared random noise process for bot agents\n",
    "\n",
    "agent1 = Agent(0,state_size,action_size,replay_buffer,noise,device)\n",
    "agent2 = Agent(1,state_size,action_size,replay_buffer,noise,device)\n",
    "\n",
    "Agent.agent1 = agent1\n",
    "Agent.agent2 = agent2"
   ]
  },
  {
   "cell_type": "code",
   "execution_count": 18,
   "metadata": {},
   "outputs": [
    {
     "name": "stdout",
     "output_type": "stream",
     "text": [
      "Episode:10 steps:14 episode_reward:0.0 last n mean rew.0.010000000149011612,individual episode rew.[[ 0.  ]\n",
      " [-0.01]]\n",
      "Episode:20 steps:20 episode_reward:0.0 last n mean rew.0.015000000223517418,individual episode rew.[[-0.01]\n",
      " [ 0.  ]]\n",
      "Episode:30 steps:15 episode_reward:0.0 last n mean rew.0.010000000149011612,individual episode rew.[[-0.01]\n",
      " [ 0.  ]]\n",
      "Episode:40 steps:14 episode_reward:0.0 last n mean rew.0.012500000186264515,individual episode rew.[[ 0.  ]\n",
      " [-0.01]]\n",
      "Episode:50 steps:14 episode_reward:0.0 last n mean rew.0.010000000149011612,individual episode rew.[[ 0.  ]\n",
      " [-0.01]]\n",
      "Episode:60 steps:14 episode_reward:0.0 last n mean rew.0.011666666840513547,individual episode rew.[[-0.01]\n",
      " [ 0.  ]]\n",
      "Episode:70 steps:14 episode_reward:0.0 last n mean rew.0.010000000149011612,individual episode rew.[[-0.01]\n",
      " [ 0.  ]]\n",
      "Episode:80 steps:14 episode_reward:0.0 last n mean rew.0.010000000149011612,individual episode rew.[[-0.01]\n",
      " [ 0.  ]]\n",
      "Episode:90 steps:33 episode_reward:0.10000000149011612 last n mean rew.0.010000000149011612,individual episode rew.[[ 0.1 ]\n",
      " [-0.01]]\n",
      "Episode:100 steps:16 episode_reward:0.0 last n mean rew.0.011000000163912773,individual episode rew.[[-0.01]\n",
      " [ 0.  ]]\n",
      "Episode:110 steps:14 episode_reward:0.0 last n mean rew.0.010000000149011612,individual episode rew.[[ 0.  ]\n",
      " [-0.01]]\n",
      "Episode:120 steps:14 episode_reward:0.0 last n mean rew.0.009000000134110451,individual episode rew.[[-0.01]\n",
      " [ 0.  ]]\n",
      "Episode:130 steps:14 episode_reward:0.0 last n mean rew.0.010000000149011612,individual episode rew.[[ 0.  ]\n",
      " [-0.01]]\n",
      "Episode:140 steps:14 episode_reward:0.0 last n mean rew.0.00800000011920929,individual episode rew.[[-0.01]\n",
      " [ 0.  ]]\n",
      "Episode:150 steps:14 episode_reward:0.0 last n mean rew.0.00800000011920929,individual episode rew.[[-0.01]\n",
      " [ 0.  ]]\n",
      "Episode:160 steps:32 episode_reward:0.09000000171363354 last n mean rew.0.006900000106543303,individual episode rew.[[0.  ]\n",
      " [0.09]]\n",
      "Episode:170 steps:14 episode_reward:0.0 last n mean rew.0.009900000151246787,individual episode rew.[[ 0.  ]\n",
      " [-0.01]]\n",
      "Episode:180 steps:14 episode_reward:0.0 last n mean rew.0.008900000136345626,individual episode rew.[[-0.01]\n",
      " [ 0.  ]]\n",
      "Episode:190 steps:14 episode_reward:0.0 last n mean rew.0.007900000121444463,individual episode rew.[[ 0.  ]\n",
      " [-0.01]]\n",
      "Episode:200 steps:14 episode_reward:0.0 last n mean rew.0.005900000091642142,individual episode rew.[[ 0.  ]\n",
      " [-0.01]]\n",
      "Episode:210 steps:31 episode_reward:0.09000000171363354 last n mean rew.0.009500000160187483,individual episode rew.[[0.  ]\n",
      " [0.09]]\n",
      "Episode:220 steps:14 episode_reward:0.0 last n mean rew.0.012100000213831664,individual episode rew.[[-0.01]\n",
      " [ 0.  ]]\n",
      "Episode:230 steps:14 episode_reward:0.0 last n mean rew.0.01400000024586916,individual episode rew.[[-0.01]\n",
      " [ 0.  ]]\n",
      "Episode:240 steps:31 episode_reward:0.09000000171363354 last n mean rew.0.014900000263005496,individual episode rew.[[0.  ]\n",
      " [0.09]]\n",
      "Episode:250 steps:14 episode_reward:0.0 last n mean rew.0.01580000028014183,individual episode rew.[[-0.01]\n",
      " [ 0.  ]]\n",
      "Episode:260 steps:14 episode_reward:0.0 last n mean rew.0.016700000297278167,individual episode rew.[[-0.01]\n",
      " [ 0.  ]]\n",
      "Episode:270 steps:33 episode_reward:0.09000000171363354 last n mean rew.0.019300000350922344,individual episode rew.[[0.  ]\n",
      " [0.09]]\n",
      "Episode:280 steps:14 episode_reward:0.0 last n mean rew.0.023200000412762167,individual episode rew.[[ 0.  ]\n",
      " [-0.01]]\n",
      "Episode:290 steps:14 episode_reward:0.0 last n mean rew.0.027900000493973495,individual episode rew.[[ 0.  ]\n",
      " [-0.01]]\n",
      "Episode:300 steps:14 episode_reward:0.0 last n mean rew.0.030800000540912153,individual episode rew.[[-0.01]\n",
      " [ 0.  ]]\n",
      "Episode:310 steps:14 episode_reward:0.0 last n mean rew.0.028200000487267972,individual episode rew.[[-0.01]\n",
      " [ 0.  ]]\n",
      "Episode:320 steps:21 episode_reward:0.0 last n mean rew.0.02560000043362379,individual episode rew.[[-0.01]\n",
      " [ 0.  ]]\n",
      "Episode:330 steps:30 episode_reward:0.10000000149011612 last n mean rew.0.027400000467896462,individual episode rew.[[ 0.1 ]\n",
      " [-0.01]]\n",
      "Episode:340 steps:14 episode_reward:0.0 last n mean rew.0.03140000052750111,individual episode rew.[[ 0.  ]\n",
      " [-0.01]]\n",
      "Episode:350 steps:14 episode_reward:0.0 last n mean rew.0.03550000058487058,individual episode rew.[[-0.01]\n",
      " [ 0.  ]]\n",
      "Episode:360 steps:14 episode_reward:0.0 last n mean rew.0.03930000064894557,individual episode rew.[[-0.01]\n",
      " [ 0.  ]]\n",
      "Episode:370 steps:14 episode_reward:0.0 last n mean rew.0.04260000068694353,individual episode rew.[[-0.01]\n",
      " [ 0.  ]]\n",
      "Episode:380 steps:30 episode_reward:0.10000000149011612 last n mean rew.0.046700000744313,individual episode rew.[[-0.01]\n",
      " [ 0.1 ]]\n",
      "Episode:390 steps:17 episode_reward:0.0 last n mean rew.0.04890000076964498,individual episode rew.[[-0.01]\n",
      " [ 0.  ]]\n",
      "Episode:400 steps:44 episode_reward:0.10000000149011612 last n mean rew.0.05300000082701445,individual episode rew.[[-0.01]\n",
      " [ 0.1 ]]\n",
      "Episode:410 steps:14 episode_reward:0.0 last n mean rew.0.05600000087171793,individual episode rew.[[ 0.  ]\n",
      " [-0.01]]\n",
      "Episode:420 steps:32 episode_reward:0.10000000149011612 last n mean rew.0.06300000097602605,individual episode rew.[[-0.01]\n",
      " [ 0.1 ]]\n",
      "Episode:430 steps:52 episode_reward:0.10000000149011612 last n mean rew.0.06690000103786588,individual episode rew.[[0.09]\n",
      " [0.1 ]]\n",
      "Episode:440 steps:14 episode_reward:0.0 last n mean rew.0.06880000106990337,individual episode rew.[[-0.01]\n",
      " [ 0.  ]]\n",
      "Episode:450 steps:14 episode_reward:0.0 last n mean rew.0.07170000111684204,individual episode rew.[[ 0.  ]\n",
      " [-0.01]]\n",
      "Episode:460 steps:31 episode_reward:0.09000000171363354 last n mean rew.0.07550000118091703,individual episode rew.[[0.  ]\n",
      " [0.09]]\n",
      "Episode:470 steps:50 episode_reward:0.10000000149011612 last n mean rew.0.07520000118762254,individual episode rew.[[ 0.1 ]\n",
      " [-0.01]]\n",
      "Episode:480 steps:18 episode_reward:0.0 last n mean rew.0.07400000117719173,individual episode rew.[[ 0.  ]\n",
      " [-0.01]]\n",
      "Episode:490 steps:15 episode_reward:0.0 last n mean rew.0.07210000114515423,individual episode rew.[[ 0.  ]\n",
      " [-0.01]]\n",
      "Episode:500 steps:68 episode_reward:0.20000000298023224 last n mean rew.0.07490000119432808,individual episode rew.[[0.2 ]\n",
      " [0.09]]\n",
      "Episode:510 steps:52 episode_reward:0.10000000149011612 last n mean rew.0.07580000121146441,individual episode rew.[[-0.01]\n",
      " [ 0.1 ]]\n",
      "Episode:520 steps:14 episode_reward:0.0 last n mean rew.0.07880000125616789,individual episode rew.[[ 0.  ]\n",
      " [-0.01]]\n",
      "Episode:530 steps:51 episode_reward:0.10000000149011612 last n mean rew.0.08100000128149987,individual episode rew.[[0.1 ]\n",
      " [0.09]]\n",
      "Episode:540 steps:15 episode_reward:0.0 last n mean rew.0.09000000141561032,individual episode rew.[[-0.01]\n",
      " [ 0.  ]]\n",
      "Episode:550 steps:34 episode_reward:0.10000000149011612 last n mean rew.0.09310000145807862,individual episode rew.[[-0.01]\n",
      " [ 0.1 ]]\n",
      "Episode:560 steps:52 episode_reward:0.10000000149011612 last n mean rew.0.10160000156611204,individual episode rew.[[0.09]\n",
      " [0.1 ]]\n",
      "Episode:570 steps:90 episode_reward:0.20000000298023224 last n mean rew.0.10500000160187482,individual episode rew.[[0.19]\n",
      " [0.2 ]]\n",
      "Episode:580 steps:89 episode_reward:0.20000000298023224 last n mean rew.0.11120000168681145,individual episode rew.[[0.2 ]\n",
      " [0.19]]\n",
      "Episode:590 steps:96 episode_reward:0.20000000298023224 last n mean rew.0.12410000188276171,individual episode rew.[[0.2 ]\n",
      " [0.19]]\n",
      "Episode:600 steps:70 episode_reward:0.20000000298023224 last n mean rew.0.15630000235512853,individual episode rew.[[0.2 ]\n",
      " [0.09]]\n",
      "Episode:610 steps:113 episode_reward:0.30000000447034836 last n mean rew.0.17640000265091657,individual episode rew.[[0.3 ]\n",
      " [0.19]]\n",
      "Episode:620 steps:141 episode_reward:0.30000000447034836 last n mean rew.0.18610000280663372,individual episode rew.[[0.3 ]\n",
      " [0.29]]\n",
      "Episode:630 steps:35 episode_reward:0.10000000149011612 last n mean rew.0.18810000285506248,individual episode rew.[[-0.01]\n",
      " [ 0.1 ]]\n",
      "Episode:640 steps:15 episode_reward:0.0 last n mean rew.0.1843000027909875,individual episode rew.[[-0.01]\n",
      " [ 0.  ]]\n",
      "Episode:650 steps:324 episode_reward:0.800000011920929 last n mean rew.0.20030000302940607,individual episode rew.[[0.79000001]\n",
      " [0.80000001]]\n",
      "Episode:660 steps:264 episode_reward:0.6000000089406967 last n mean rew.0.19830000299960374,individual episode rew.[[0.59000001]\n",
      " [0.60000001]]\n"
     ]
    },
    {
     "name": "stdout",
     "output_type": "stream",
     "text": [
      "Episode:670 steps:31 episode_reward:0.10000000149011612 last n mean rew.0.20030000302940607,individual episode rew.[[-0.01]\n",
      " [ 0.1 ]]\n",
      "Episode:680 steps:91 episode_reward:0.20000000298023224 last n mean rew.0.1992000030167401,individual episode rew.[[0.09]\n",
      " [0.2 ]]\n",
      "Episode:690 steps:88 episode_reward:0.20000000298023224 last n mean rew.0.19720000298693777,individual episode rew.[[0.2 ]\n",
      " [0.19]]\n",
      "Episode:700 steps:51 episode_reward:0.10000000149011612 last n mean rew.0.16800000255927444,individual episode rew.[[0.09]\n",
      " [0.1 ]]\n",
      "Episode:710 steps:127 episode_reward:0.30000000447034836 last n mean rew.0.159000002425164,individual episode rew.[[0.3 ]\n",
      " [0.19]]\n",
      "Episode:720 steps:14 episode_reward:0.0 last n mean rew.0.15820000240579246,individual episode rew.[[ 0.  ]\n",
      " [-0.01]]\n",
      "Episode:730 steps:262 episode_reward:0.6000000089406967 last n mean rew.0.16320000246167182,individual episode rew.[[0.59000001]\n",
      " [0.60000001]]\n",
      "Episode:740 steps:30 episode_reward:0.10000000149011612 last n mean rew.0.16700000252574682,individual episode rew.[[ 0.1 ]\n",
      " [-0.01]]\n",
      "Episode:750 steps:51 episode_reward:0.10000000149011612 last n mean rew.0.16100000243633986,individual episode rew.[[-0.01]\n",
      " [ 0.1 ]]\n",
      "Episode:760 steps:29 episode_reward:0.10000000149011612 last n mean rew.0.1677000025473535,individual episode rew.[[ 0.1 ]\n",
      " [-0.01]]\n",
      "Episode:770 steps:32 episode_reward:0.10000000149011612 last n mean rew.0.20340000309050082,individual episode rew.[[-0.01]\n",
      " [ 0.1 ]]\n",
      "Episode:780 steps:32 episode_reward:0.10000000149011612 last n mean rew.0.20930000318214298,individual episode rew.[[ 0.1 ]\n",
      " [-0.01]]\n",
      "Episode:790 steps:51 episode_reward:0.10000000149011612 last n mean rew.0.22720000345259905,individual episode rew.[[0.09]\n",
      " [0.1 ]]\n",
      "Episode:800 steps:904 episode_reward:2.3000000342726707 last n mean rew.0.2844000042974949,individual episode rew.[[2.29000003]\n",
      " [2.30000003]]\n",
      "Episode:810 steps:69 episode_reward:0.20000000298023224 last n mean rew.0.31140000469982626,individual episode rew.[[0.2 ]\n",
      " [0.09]]\n",
      "Episode:820 steps:48 episode_reward:0.10000000149011612 last n mean rew.0.3445000051893294,individual episode rew.[[-0.01]\n",
      " [ 0.1 ]]\n",
      "Episode:830 steps:621 episode_reward:1.600000023841858 last n mean rew.0.4307000064663589,individual episode rew.[[1.59000002]\n",
      " [1.60000002]]\n",
      "Episode:840 steps:259 episode_reward:0.7000000104308128 last n mean rew.0.49090000735595823,individual episode rew.[[0.70000001]\n",
      " [0.59000001]]\n",
      "Solved in 842 episodes\n"
     ]
    }
   ],
   "source": [
    "def main(agent1,agent2,noise,episodes,visualize_every,print_every):\n",
    "    total_rewards = [[],[]]\n",
    "    critic_losses = []\n",
    "    actor_losses = []\n",
    "    \n",
    "    agents_list = [agent1,agent2]\n",
    "    \n",
    "    ag2_critic_losses = []\n",
    "    ag2_actor_losses = []\n",
    "    \n",
    "    episode_single_scores = [] # the max between scores of both agents\n",
    "    episode_window_scores = deque(maxlen = DESIRED_EPISODES_AVERAGE)\n",
    "    \n",
    "    for episode in range(1,episodes +1):\n",
    "        finished = False\n",
    "        step_count = 0\n",
    "        episode_scores = np.zeros((num_agents,1))\n",
    "        \n",
    "        noise.reset()\n",
    "        \n",
    "        train_mode = not(episode%visualize_every == 0) #to visualize unity simulation every n steps\n",
    "        env_info = env.reset(train_mode = train_mode)[brain_name]\n",
    "        states = env_info.vector_observations\n",
    "        \n",
    "        # loop of interaction with the environment\n",
    "        while not finished:\n",
    "            all_states = np.concatenate(states)\n",
    "            actions_ag1 = agent1.act(states[0])\n",
    "            actions_ag2 = agent2.act(states[1])\n",
    "            \n",
    "            all_actions = np.concatenate((actions_ag1,actions_ag2),axis = 0)\n",
    "            \n",
    "            env_info = env.step(all_actions)[brain_name]\n",
    "            next_states = env_info.vector_observations\n",
    "            rewards = np.expand_dims(env_info.rewards,axis=1)\n",
    "            dones = np.array(env_info.local_done)\n",
    "            \n",
    "            all_next_states = np.concatenate(next_states)\n",
    "            \n",
    "            #add experience to shared replay buffer\n",
    "            replay_buffer.add(states,all_actions,rewards,next_states,dones)\n",
    "            \n",
    "            states = next_states\n",
    "            \n",
    "            episode_scores += rewards\n",
    "            finished = dones[0] or dones[1]\n",
    "            \n",
    "            # train both agents\n",
    "            if step_count % TRAIN_EVERY == 0 and len(replay_buffer) >= BATCH_SIZE and episode >= EXPLORATION_EPISODES:\n",
    "                agent1.train(batch_size = BATCH_SIZE, critic_losses = critic_losses,actor_losses = actor_losses)\n",
    "                agent2.train(batch_size = BATCH_SIZE , critic_losses=   ag2_critic_losses,actor_losses = ag2_actor_losses)\n",
    "                \n",
    "            # update darget networks of both agents\n",
    "            if step_count % UPDATE_TARGET_NETWORK_EVERY == 0 and len(replay_buffer) >= BATCH_SIZE and episode >= EXPLORATION_EPISODES:\n",
    "                agent1.update_target_networks(TAU)\n",
    "                agent2.update_target_networks(TAU)\n",
    "                \n",
    "            step_count += 1\n",
    "            \n",
    "        episode_single_score = max(episode_scores)[0]\n",
    "        episode_window_scores.append(episode_single_score)\n",
    "        episode_single_scores.append(episode_single_score)\n",
    "        \n",
    "        total_rewards[0].append(episode_scores[0].item())\n",
    "        total_rewards[1].append(episode_scores[1].item())\n",
    "        \n",
    "        if episode % print_every == 0:\n",
    "            print(\"Episode:{} steps:{} episode_reward:{} last n mean rew.{},individual episode rew.{}\".format(episode, step_count,\n",
    "                                                                                    episode_single_score,np.mean(episode_window_scores),episode_scores))\n",
    "                \n",
    "        \n",
    "        if np.mean(episode_window_scores) >= DESIRED_AVERAGE_SCORE:\n",
    "            print(\"Solved in {} episodes\".format(episode))\n",
    "            \n",
    "            best_agent_position = np.argmax(np.sum(total_rewards,axis=1))\n",
    "            best_agent = agents_list[best_agent_position]\n",
    "            \n",
    "            checkpoint_name = \"checkpoint_solved_\"+str(episode)+\".pth\"\n",
    "            torch.save(best_agent.actor_local.state_dict(), \"actor_\"+ checkpoint_name)\n",
    "            torch.save(best_agent.critic_local.state_dict(),\"critic_\"+checkpoint_name)\n",
    "            \n",
    "            break\n",
    "            \n",
    "    \n",
    "    return total_rewards,critic_losses,actor_losses,episode_single_scores,ag2_critic_losses,ag2_actor_losses\n",
    "\n",
    "train_rewards,critic_losses,actor_losses,episode_single_scores,ag2_critic_losses,ag2_actor_losses = main(agent1,agent2,noise,\n",
    "                                                                                                         EPISODES,VISUALIZE_EVERY,PRINT_EVERY)"
   ]
  },
  {
   "cell_type": "code",
   "execution_count": 27,
   "metadata": {},
   "outputs": [
    {
     "name": "stdout",
     "output_type": "stream",
     "text": [
      "Score (max over agents) from episode 1: 0.10000000149011612\n",
      "Score (max over agents) from episode 2: 0.20000000298023224\n",
      "Score (max over agents) from episode 3: 0.30000000447034836\n",
      "Score (max over agents) from episode 4: 0.09000000171363354\n",
      "Score (max over agents) from episode 5: 0.10000000149011612\n",
      "Score (max over agents) from episode 6: 0.09000000171363354\n",
      "Score (max over agents) from episode 7: 0.4000000059604645\n",
      "Score (max over agents) from episode 8: 0.490000007674098\n",
      "Score (max over agents) from episode 9: 0.09000000171363354\n"
     ]
    }
   ],
   "source": [
    "for i in range(1, 10):                                      # play game for 5 episodes\n",
    "    env_info = env.reset(train_mode=False)[brain_name]     # reset the environment    \n",
    "    states = env_info.vector_observations                  # get the current state (for each agent)\n",
    "    scores = np.zeros(num_agents)                          # initialize the score (for each agent)\n",
    "    agent1.noise.reset()\n",
    "    agent2.noise.reset()\n",
    "    while True:\n",
    "        actions_ag1 = agent1.act(states[0])\n",
    "        actions_ag2 = agent2.act(states[1])\n",
    "\n",
    "        env_info = env.step(np.concatenate((actions_ag1,actions_ag2),axis=0))[brain_name]\n",
    "        next_states = env_info.vector_observations        # get next state (for each agent)\n",
    "        rewards = env_info.rewards                         # get reward (for each agent)\n",
    "        dones = env_info.local_done                        # see if episode finished\n",
    "        scores += env_info.rewards                         # update the score (for each agent)\n",
    "        states = next_states                               # roll over states to next time step\n",
    "\n",
    "        if np.any(dones):                                  # exit loop if episode finished\n",
    "            break\n",
    "    print('Score (max over agents) from episode {}: {}'.format(i, np.max(scores)))"
   ]
  },
  {
   "cell_type": "markdown",
   "metadata": {},
   "source": [
    "#### Agent 1 rewards"
   ]
  },
  {
   "cell_type": "code",
   "execution_count": 20,
   "metadata": {},
   "outputs": [
    {
     "data": {
      "image/png": "[encoded data removed]",
      "text/plain": [
       "<Figure size 432x288 with 1 Axes>"
      ]
     },
     "metadata": {
      "needs_background": "light"
     },
     "output_type": "display_data"
    }
   ],
   "source": [
    "plt.plot(train_rewards[0])\n",
    "plt.show()"
   ]
  },
  {
   "cell_type": "markdown",
   "metadata": {},
   "source": [
    "#### Agent 2 rewards"
   ]
  },
  {
   "cell_type": "code",
   "execution_count": 21,
   "metadata": {},
   "outputs": [
    {
     "data": {
      "image/png": "[encoded data removed]",
      "text/plain": [
       "<Figure size 432x288 with 1 Axes>"
      ]
     },
     "metadata": {
      "needs_background": "light"
     },
     "output_type": "display_data"
    }
   ],
   "source": [
    "plt.plot(train_rewards[1])\n",
    "plt.show()"
   ]
  },
  {
   "cell_type": "markdown",
   "metadata": {},
   "source": [
    "### episode rewards\n",
    "Calculated as the max reward of both agents"
   ]
  },
  {
   "cell_type": "code",
   "execution_count": 22,
   "metadata": {},
   "outputs": [
    {
     "data": {
      "image/png": "[encoded data removed]",
      "text/plain": [
       "<Figure size 432x288 with 1 Axes>"
      ]
     },
     "metadata": {
      "needs_background": "light"
     },
     "output_type": "display_data"
    }
   ],
   "source": [
    "plt.plot(episode_single_scores)\n",
    "plt.show()"
   ]
  },
  {
   "cell_type": "markdown",
   "metadata": {},
   "source": [
    "#### Critic losses\n",
    "##### agent 1 critic loss\n"
   ]
  },
  {
   "cell_type": "code",
   "execution_count": 23,
   "metadata": {},
   "outputs": [
    {
     "data": {
      "image/png": "[encoded data removed]",
      "text/plain": [
       "<Figure size 432x288 with 1 Axes>"
      ]
     },
     "metadata": {
      "needs_background": "light"
     },
     "output_type": "display_data"
    }
   ],
   "source": [
    "plt.plot(critic_losses)\n",
    "plt.show()"
   ]
  },
  {
   "cell_type": "markdown",
   "metadata": {},
   "source": [
    "##### agent 2 critic loss"
   ]
  },
  {
   "cell_type": "code",
   "execution_count": 24,
   "metadata": {},
   "outputs": [
    {
     "data": {
      "image/png": "[encoded data removed]",
      "text/plain": [
       "<Figure size 432x288 with 1 Axes>"
      ]
     },
     "metadata": {
      "needs_background": "light"
     },
     "output_type": "display_data"
    }
   ],
   "source": [
    "plt.plot(ag2_critic_losses)\n",
    "plt.show()"
   ]
  },
  {
   "cell_type": "markdown",
   "metadata": {},
   "source": [
    "### Actor losses\n",
    "\n",
    "#### Agent 1 actor loss"
   ]
  },
  {
   "cell_type": "code",
   "execution_count": 25,
   "metadata": {},
   "outputs": [
    {
     "data": {
      "image/png": "[encoded data removed]",
      "text/plain": [
       "<Figure size 432x288 with 1 Axes>"
      ]
     },
     "metadata": {
      "needs_background": "light"
     },
     "output_type": "display_data"
    }
   ],
   "source": [
    "plt.plot(actor_losses)\n",
    "plt.show()"
   ]
  },
  {
   "cell_type": "markdown",
   "metadata": {},
   "source": [
    "#### Agent 2 actor loss"
   ]
  },
  {
   "cell_type": "code",
   "execution_count": 26,
   "metadata": {},
   "outputs": [
    {
     "data": {
      "image/png": "[encoded data removed]",
      "text/plain": [
       "<Figure size 432x288 with 1 Axes>"
      ]
     },
     "metadata": {
      "needs_background": "light"
     },
     "output_type": "display_data"
    }
   ],
   "source": [
    "plt.plot(ag2_actor_losses)\n",
    "plt.show()"
   ]
  },
  {
   "cell_type": "code",
   "execution_count": null,
   "metadata": {},
   "outputs": [],
   "source": []
  }
 ],
 "metadata": {
  "kernelspec": {
   "display_name": "Python 3",
   "language": "python",
   "name": "python3"
  },
  "language_info": {
   "codemirror_mode": {
    "name": "ipython",
    "version": 3
   },
   "file_extension": ".py",
   "mimetype": "text/x-python",
   "name": "python",
   "nbconvert_exporter": "python",
   "pygments_lexer": "ipython3",
   "version": "3.6.8"
  }
 },
 "nbformat": 4,
 "nbformat_minor": 2
}
