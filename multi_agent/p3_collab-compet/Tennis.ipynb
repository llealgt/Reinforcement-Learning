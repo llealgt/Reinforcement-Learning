{
 "cells": [
  {
   "cell_type": "markdown",
   "metadata": {},
   "source": [
    "# Collaboration and Competition\n",
    "\n",
    "---\n",
    "\n",
    "In this notebook, you will learn how to use the Unity ML-Agents environment for the third project of the [Deep Reinforcement Learning Nanodegree](https://www.udacity.com/course/deep-reinforcement-learning-nanodegree--nd893) program.\n",
    "\n",
    "### 1. Start the Environment\n",
    "\n",
    "We begin by importing the necessary packages.  If the code cell below returns an error, please revisit the project instructions to double-check that you have installed [Unity ML-Agents](https://github.com/Unity-Technologies/ml-agents/blob/master/docs/Installation.md) and [NumPy](http://www.numpy.org/)."
   ]
  },
  {
   "cell_type": "code",
   "execution_count": 1,
   "metadata": {},
   "outputs": [],
   "source": [
    "from unityagents import UnityEnvironment\n",
    "import numpy as np\n",
    "import torch as torch\n",
    "import torch.nn.functional as F\n",
    "from torch import optim as optim\n",
    "import matplotlib.pyplot as plt\n",
    "from collections import namedtuple,deque\n",
    "import random\n",
    "import copy"
   ]
  },
  {
   "cell_type": "markdown",
   "metadata": {},
   "source": [
    "Next, we will start the environment!  **_Before running the code cell below_**, change the `file_name` parameter to match the location of the Unity environment that you downloaded.\n",
    "\n",
    "- **Mac**: `\"path/to/Tennis.app\"`\n",
    "- **Windows** (x86): `\"path/to/Tennis_Windows_x86/Tennis.exe\"`\n",
    "- **Windows** (x86_64): `\"path/to/Tennis_Windows_x86_64/Tennis.exe\"`\n",
    "- **Linux** (x86): `\"path/to/Tennis_Linux/Tennis.x86\"`\n",
    "- **Linux** (x86_64): `\"path/to/Tennis_Linux/Tennis.x86_64\"`\n",
    "- **Linux** (x86, headless): `\"path/to/Tennis_Linux_NoVis/Tennis.x86\"`\n",
    "- **Linux** (x86_64, headless): `\"path/to/Tennis_Linux_NoVis/Tennis.x86_64\"`\n",
    "\n",
    "For instance, if you are using a Mac, then you downloaded `Tennis.app`.  If this file is in the same folder as the notebook, then the line below should appear as follows:\n",
    "```\n",
    "env = UnityEnvironment(file_name=\"Tennis.app\")\n",
    "```"
   ]
  },
  {
   "cell_type": "code",
   "execution_count": 2,
   "metadata": {},
   "outputs": [
    {
     "name": "stderr",
     "output_type": "stream",
     "text": [
      "INFO:unityagents:\n",
      "'Academy' started successfully!\n",
      "Unity Academy name: Academy\n",
      "        Number of Brains: 1\n",
      "        Number of External Brains : 1\n",
      "        Lesson number : 0\n",
      "        Reset Parameters :\n",
      "\t\t\n",
      "Unity brain name: TennisBrain\n",
      "        Number of Visual Observations (per agent): 0\n",
      "        Vector Observation space type: continuous\n",
      "        Vector Observation space size (per agent): 8\n",
      "        Number of stacked Vector Observation: 3\n",
      "        Vector Action space type: continuous\n",
      "        Vector Action space size (per agent): 2\n",
      "        Vector Action descriptions: , \n"
     ]
    }
   ],
   "source": [
    "env = UnityEnvironment(file_name=\"./Tennis.app\")"
   ]
  },
  {
   "cell_type": "markdown",
   "metadata": {},
   "source": [
    "Environments contain **_brains_** which are responsible for deciding the actions of their associated agents. Here we check for the first brain available, and set it as the default brain we will be controlling from Python."
   ]
  },
  {
   "cell_type": "code",
   "execution_count": 3,
   "metadata": {},
   "outputs": [],
   "source": [
    "# get the default brain\n",
    "brain_name = env.brain_names[0]\n",
    "brain = env.brains[brain_name]"
   ]
  },
  {
   "cell_type": "markdown",
   "metadata": {},
   "source": [
    "### 2. Examine the State and Action Spaces\n",
    "\n",
    "In this environment, two agents control rackets to bounce a ball over a net. If an agent hits the ball over the net, it receives a reward of +0.1.  If an agent lets a ball hit the ground or hits the ball out of bounds, it receives a reward of -0.01.  Thus, the goal of each agent is to keep the ball in play.\n",
    "\n",
    "The observation space consists of 8 variables corresponding to the position and velocity of the ball and racket. Two continuous actions are available, corresponding to movement toward (or away from) the net, and jumping. \n",
    "\n",
    "Run the code cell below to print some information about the environment."
   ]
  },
  {
   "cell_type": "code",
   "execution_count": 4,
   "metadata": {},
   "outputs": [
    {
     "name": "stdout",
     "output_type": "stream",
     "text": [
      "Number of agents: 2\n",
      "Size of each action: 2\n",
      "There are 2 agents. Each observes a state with length: 24\n",
      "The state for the first agent looks like: [ 0.          0.          0.          0.          0.          0.\n",
      "  0.          0.          0.          0.          0.          0.\n",
      "  0.          0.          0.          0.         -6.65278625 -1.5\n",
      " -0.          0.          6.83172083  6.         -0.          0.        ]\n"
     ]
    }
   ],
   "source": [
    "# reset the environment\n",
    "env_info = env.reset(train_mode=True)[brain_name]\n",
    "\n",
    "# number of agents \n",
    "num_agents = len(env_info.agents)\n",
    "print('Number of agents:', num_agents)\n",
    "\n",
    "# size of each action\n",
    "action_size = brain.vector_action_space_size\n",
    "print('Size of each action:', action_size)\n",
    "\n",
    "# examine the state space \n",
    "states = env_info.vector_observations\n",
    "state_size = states.shape[1]\n",
    "print('There are {} agents. Each observes a state with length: {}'.format(states.shape[0], state_size))\n",
    "print('The state for the first agent looks like:', states[0])"
   ]
  },
  {
   "cell_type": "markdown",
   "metadata": {},
   "source": [
    "### 3. Take Random Actions in the Environment\n",
    "\n",
    "In the next code cell, you will learn how to use the Python API to control the agents and receive feedback from the environment.\n",
    "\n",
    "Once this cell is executed, you will watch the agents' performance, if they select actions at random with each time step.  A window should pop up that allows you to observe the agents.\n",
    "\n",
    "Of course, as part of the project, you'll have to change the code so that the agents are able to use their experiences to gradually choose better actions when interacting with the environment!"
   ]
  },
  {
   "cell_type": "code",
   "execution_count": 5,
   "metadata": {},
   "outputs": [
    {
     "name": "stdout",
     "output_type": "stream",
     "text": [
      "Score (max over agents) from episode 1: 0.0\n",
      "Score (max over agents) from episode 2: 0.0\n",
      "Score (max over agents) from episode 3: 0.0\n",
      "Score (max over agents) from episode 4: 0.0\n",
      "Score (max over agents) from episode 5: 0.09000000171363354\n"
     ]
    }
   ],
   "source": [
    "for i in range(1, 6):                                      # play game for 5 episodes\n",
    "    env_info = env.reset(train_mode=False)[brain_name]     # reset the environment    \n",
    "    states = env_info.vector_observations                  # get the current state (for each agent)\n",
    "    scores = np.zeros(num_agents)                          # initialize the score (for each agent)\n",
    "    while True:\n",
    "        actions = np.random.randn(num_agents, action_size) # select an action (for each agent)\n",
    "        actions = np.clip(actions, -1, 1)                  # all actions between -1 and 1\n",
    "        env_info = env.step(actions)[brain_name]           # send all actions to tne environment\n",
    "        next_states = env_info.vector_observations        # get next state (for each agent)\n",
    "        rewards = env_info.rewards                         # get reward (for each agent)\n",
    "        dones = env_info.local_done                        # see if episode finished\n",
    "        scores += env_info.rewards                         # update the score (for each agent)\n",
    "        states = next_states                               # roll over states to next time step\n",
    "        if np.any(dones):                                  # exit loop if episode finished\n",
    "            break\n",
    "    print('Score (max over agents) from episode {}: {}'.format(i, np.max(scores)))"
   ]
  },
  {
   "cell_type": "markdown",
   "metadata": {},
   "source": [
    "When finished, you can close the environment."
   ]
  },
  {
   "cell_type": "code",
   "execution_count": 6,
   "metadata": {},
   "outputs": [],
   "source": [
    "#env.close()"
   ]
  },
  {
   "cell_type": "markdown",
   "metadata": {},
   "source": [
    "### 4. It's Your Turn!\n",
    "\n",
    "Now it's your turn to train your own agent to solve the environment!  When training the environment, set `train_mode=True`, so that the line for resetting the environment looks like the following:\n",
    "```python\n",
    "env_info = env.reset(train_mode=True)[brain_name]\n",
    "```"
   ]
  },
  {
   "cell_type": "code",
   "execution_count": 7,
   "metadata": {},
   "outputs": [
    {
     "name": "stdout",
     "output_type": "stream",
     "text": [
      "cpu\n"
     ]
    }
   ],
   "source": [
    "device = torch.device(\"cuda:0\" if torch.cuda.is_available() else \"cpu\")\n",
    "\n",
    "print(device)"
   ]
  },
  {
   "cell_type": "code",
   "execution_count": 8,
   "metadata": {},
   "outputs": [],
   "source": [
    "REPLAY_BUFFER_SIZE = 10000\n",
    "VISUALIZE_EVERY = 50 #how many episodes to train before watching unity env simulation\n",
    "PRINT_EVERY = 10 #how many steps to train before printing training info\n",
    "DESIRED_EPISODES_AVERAGE = 100\n",
    "DESIRED_AVERAGE_SCORE = 0.5\n",
    "TRAIN_EVERY = 4\n",
    "BATCH_SIZE =64\n",
    "UPDATE_TARGET_NETWORK_EVERY = TRAIN_EVERY\n",
    "TAU = 0.001"
   ]
  },
  {
   "cell_type": "code",
   "execution_count": 9,
   "metadata": {},
   "outputs": [],
   "source": [
    "class ReplayBuffer:\n",
    "    \"\"\"Fixed-size buffer to store experience tuples for experience replay\"\"\"\n",
    "    \n",
    "    def __init__(self,action_size,buffer_size):\n",
    "        \"\"\"Initialize a ReplayBuffer objectParams\n",
    "        ======\n",
    "            action_size (int): dimension of each action\n",
    "            buffer_size (int): maximum size of buffer\n",
    "        \"\"\"\n",
    "        \n",
    "        self.action_size = action_size\n",
    "        self.buffer_size = buffer_size\n",
    "        self.memory = deque(maxlen=buffer_size)\n",
    "        self.experience = namedtuple(\"Experience\",field_names=[\"state\", \"action\", \"reward\", \"next_state\", \"done\"])\n",
    "        \n",
    "    def add(self,state,action,reward,next_state,done):\n",
    "        \"Add a new experience tuple to replay buffer\"\n",
    "        new_experience = self.experience(state,action,reward,next_state,done)\n",
    "        self.memory.append(new_experience)\n",
    "        \n",
    "    def sample(self,batch_size):\n",
    "        \"Get a sample of the buffer of size=batch size\"\n",
    "        experience_batch = random.sample(self.memory,k=batch_size)\n",
    "        \n",
    "        states =  torch.from_numpy(np.vstack([e.state  for e in experience_batch if e is not None])).float().to(device)\n",
    "        actions = torch.from_numpy(np.vstack([e.action for e in experience_batch if e is not None])).float().to(device)\n",
    "        rewards = torch.from_numpy(np.vstack([e.reward for e in experience_batch if e is not None])).float().to(device)\n",
    "        next_states = torch.from_numpy(np.vstack([e.next_state for e in experience_batch if e is not None])).float().to(device)\n",
    "        dones = torch.from_numpy(np.vstack([e.done for e in experience_batch if e is not None]).astype(np.uint8)).to(device)\n",
    "        \n",
    "        return (states,actions,rewards,next_states,dones)\n",
    "    \n",
    "    def __len__(self):\n",
    "        \"\"\"Return the current size of internal memory\"\"\"\n",
    "        return len(self.memory)"
   ]
  },
  {
   "cell_type": "code",
   "execution_count": 10,
   "metadata": {},
   "outputs": [],
   "source": [
    "class OUNoise:\n",
    "    \"\"\"\n",
    "        Orstein-Ulenbeck process\n",
    "        used to add noise to actor selections for adding exploratoion\n",
    "    \"\"\"\n",
    "    def __init__(self,size,mu=0.0,theta=0.15,sigma=0.2):\n",
    "        self.size = size\n",
    "        self.mu = mu*np.ones(size)\n",
    "        self.theta = theta\n",
    "        self.sigma = sigma\n",
    "        self.reset()\n",
    "        \n",
    "    def reset(self):\n",
    "        self.state = copy.copy(self.mu)\n",
    "        \n",
    "    def sample(self):\n",
    "        x = self.state\n",
    "        dx = self.theta * (self.mu - x) + self.sigma * np.random.standard_normal(self.size)\n",
    "        self.state = x + dx\n",
    "        \n",
    "        return self.state"
   ]
  },
  {
   "cell_type": "code",
   "execution_count": 11,
   "metadata": {},
   "outputs": [],
   "source": [
    "def hidden_init(layer):\n",
    "    \"\"\"Used to set the initial weights of hidden layers\"\"\"\n",
    "    fan_in = layer.weight.data.size()[0]\n",
    "    lim = 1. / np.sqrt(fan_in)\n",
    "    return (-lim, lim)"
   ]
  },
  {
   "cell_type": "code",
   "execution_count": 12,
   "metadata": {},
   "outputs": [],
   "source": [
    "\n",
    "# one actor will be shared by the 2 players, trained by self-play\n",
    "class Actor(torch.nn.Module):\n",
    "    def __init__(self,state_size,action_size):\n",
    "        super(Actor,self).__init__()\n",
    "        self.action_size = action_size\n",
    "        self.fc1 = torch.nn.Linear(state_size,400)\n",
    "        self.fc2 = torch.nn.Linear(400,300)\n",
    "        self.fc_output = torch.nn.Linear(300,action_size)\n",
    "        self.reset_parameters()\n",
    "        \n",
    "    def forward(self,x):\n",
    "        x = F.relu(self.fc1(x))\n",
    "        x = F.relu(self.fc2(x))\n",
    "        \n",
    "        y = F.tanh(self.fc_output(x))\n",
    "        \n",
    "        return y\n",
    "    \n",
    "    def reset_parameters(self):\n",
    "        self.fc1.weight.data.uniform_(*hidden_init(self.fc1))\n",
    "        self.fc2.weight.data.uniform_(*hidden_init(self.fc2))\n",
    "        self.fc_output.weight.data.uniform_(-3e-3, 3e-3)"
   ]
  },
  {
   "cell_type": "code",
   "execution_count": 13,
   "metadata": {},
   "outputs": [],
   "source": [
    "# one critic will be shared by the 2 players, trianed by self-play\n",
    "class Critic(torch.nn.Module):\n",
    "    def __init__(self,state_size,action_size):\n",
    "        super(Critic,self).__init__()\n",
    "        self.fc1 = torch.nn.Linear(state_size+ action_size,400) #use actions of both agent\n",
    "        self.fc2 = torch.nn.Linear(400,300)\n",
    "        self.fc_output = torch.nn.Linear(300,1)\n",
    "        self.reset_parameters()\n",
    "        \n",
    "    def forward(self,x,actions):\n",
    "        x = torch.cat((x,actions),dim=1)\n",
    "        x = F.relu(self.fc1(x))\n",
    "        x = F.relu(self.fc2(x))\n",
    "        \n",
    "        y = self.fc_output(x)\n",
    "        \n",
    "        return y\n",
    "    \n",
    "    def reset_parameters(self):\n",
    "        self.fc1.weight.data.uniform_(*hidden_init(self.fc1))\n",
    "        self.fc2.weight.data.uniform_(*hidden_init(self.fc2))\n",
    "        self.fc_output.weight.data.uniform_(-3e-4, 3e-4)"
   ]
  },
  {
   "cell_type": "code",
   "execution_count": 14,
   "metadata": {},
   "outputs": [],
   "source": [
    "class Agent:\n",
    "    def __init__(self,state_size,action_size,actor_local,replay_buffer,device):\n",
    "        self.action_size  = action_size\n",
    "        self.actor_local = actor_local\n",
    "        self.device = device\n",
    "        \n",
    "        self.replay_buffer = replay_buffer\n",
    "        \n",
    "        self.noise = OUNoise(size=action_size)\n",
    "        \n",
    "    def act(self,state):\n",
    "        \n",
    "        state = torch.from_numpy(state).float().unsqueeze(0).to(self.device)\n",
    "        self.actor_local.eval()\n",
    "        with torch.no_grad():\n",
    "            action = self.actor_local(state).cpu().data.numpy()\n",
    "            \n",
    "        self.actor_local.train()\n",
    "        noise = self.noise.sample()\n",
    "        action = np.clip(action + noise ,-1,1)\n",
    "        \n",
    "        return action"
   ]
  },
  {
   "cell_type": "code",
   "execution_count": 15,
   "metadata": {},
   "outputs": [],
   "source": [
    "def update_target_network(local_network,target_network,tau):\n",
    "    for target_param,local_param in zip(target_network.parameters(),local_network.parameters()):\n",
    "        target_param.data.copy_(tau*local_param.data + (1.0 - tau)*target_param.data)"
   ]
  },
  {
   "cell_type": "code",
   "execution_count": 16,
   "metadata": {},
   "outputs": [],
   "source": [
    "replay_buffer = ReplayBuffer(action_size,REPLAY_BUFFER_SIZE)\n",
    "\n",
    "actor_local = Actor(state_size,action_size).to(device)\n",
    "critic_local = Critic(state_size,action_size).to(device)\n",
    "\n",
    "actor_target = Actor(state_size,action_size).to(device)\n",
    "critic_target = Critic(state_size,action_size).to(device)\n",
    "\n",
    "update_target_network(actor_local,actor_target,1.0)\n",
    "update_target_network(critic_local,critic_target,1.0)\n",
    "\n",
    "critic_optimizer = optim.Adam(critic_local.parameters(),lr=3e-5)\n",
    "actor_optimizer = optim.Adam(actor_local.parameters(),lr=3e-5)\n",
    "\n",
    "agent1 = Agent(state_size,action_size,actor_local,replay_buffer,device)\n",
    "agent2 = Agent(state_size,action_size,actor_local,replay_buffer,device)"
   ]
  },
  {
   "cell_type": "code",
   "execution_count": 17,
   "metadata": {},
   "outputs": [],
   "source": [
    "def train(batch_size=32,step_num=0,print_every = 100,critic_losses=[],actor_losses = []):\n",
    "    (states, actions, rewards, next_states, dones) = replay_buffer.sample(batch_size)\n",
    "    \n",
    "    actor_target.eval()\n",
    "    critic_target.eval()\n",
    "    \n",
    "    with torch.no_grad():\n",
    "        next_target_actions = actor_target(next_states)\n",
    "        target_q_values = critic_target(next_states,next_target_actions)\n",
    "        target_return = rewards + 0.99*target_q_values\n",
    "    \n",
    "    #train critic\n",
    "    critic_local.train()\n",
    "    \n",
    "    current_critic_estimate = critic_local(states,actions)\n",
    "    critic_mse_loss = F.mse_loss(current_critic_estimate,target_return)\n",
    "    \n",
    "    critic_optimizer.zero_grad()\n",
    "    critic_mse_loss.backward()\n",
    "    torch.nn.utils.clip_grad_norm_(critic_local.parameters(),1)\n",
    "    critic_optimizer.step()\n",
    "    \n",
    "    critic_losses.append(critic_mse_loss)\n",
    "    \n",
    "    #train actor\n",
    "    local_actions = actor_local(states)\n",
    "    actor_loss = -critic_local(states,local_actions).mean()\n",
    "    \n",
    "    actor_optimizer.zero_grad()\n",
    "    actor_loss.backward()\n",
    "    actor_optimizer.step()\n",
    "    \n",
    "    actor_losses.append(actor_loss)"
   ]
  },
  {
   "cell_type": "code",
   "execution_count": null,
   "metadata": {},
   "outputs": [
    {
     "name": "stdout",
     "output_type": "stream",
     "text": [
      "Episode:10 steps:30 episode_reward:0.10000000149011612 last n mean rew.0.010000000149011612,individual episode rew.[-0.01  0.1 ]\n",
      "Episode:20 steps:21 episode_reward:0.0 last n mean rew.0.005000000074505806,individual episode rew.[-0.01  0.  ]\n",
      "Episode:30 steps:15 episode_reward:0.0 last n mean rew.0.0033333333830038708,individual episode rew.[-0.01  0.  ]\n",
      "Episode:40 steps:15 episode_reward:0.0 last n mean rew.0.002500000037252903,individual episode rew.[ 0.   -0.01]\n",
      "Episode:50 steps:15 episode_reward:0.0 last n mean rew.0.0020000000298023225,individual episode rew.[ 0.   -0.01]\n",
      "Episode:60 steps:15 episode_reward:0.0 last n mean rew.0.0016666666915019354,individual episode rew.[-0.01  0.  ]\n",
      "Episode:70 steps:15 episode_reward:0.0 last n mean rew.0.0014285714498588017,individual episode rew.[-0.01  0.  ]\n",
      "Episode:80 steps:15 episode_reward:0.0 last n mean rew.0.0012500000186264515,individual episode rew.[-0.01  0.  ]\n",
      "Episode:90 steps:15 episode_reward:0.0 last n mean rew.0.0011111111276679568,individual episode rew.[-0.01  0.  ]\n",
      "Episode:100 steps:15 episode_reward:0.0 last n mean rew.0.0010000000149011613,individual episode rew.[-0.01  0.  ]\n",
      "Episode:110 steps:15 episode_reward:0.0 last n mean rew.0.0,individual episode rew.[ 0.   -0.01]\n",
      "Episode:120 steps:15 episode_reward:0.0 last n mean rew.0.0,individual episode rew.[-0.01  0.  ]\n",
      "Episode:130 steps:15 episode_reward:0.0 last n mean rew.0.0,individual episode rew.[ 0.   -0.01]\n",
      "Episode:140 steps:15 episode_reward:0.0 last n mean rew.0.0,individual episode rew.[-0.01  0.  ]\n",
      "Episode:150 steps:15 episode_reward:0.0 last n mean rew.0.0,individual episode rew.[-0.01  0.  ]\n",
      "Episode:160 steps:15 episode_reward:0.0 last n mean rew.0.0,individual episode rew.[ 0.   -0.01]\n",
      "Episode:170 steps:15 episode_reward:0.0 last n mean rew.0.0,individual episode rew.[ 0.   -0.01]\n",
      "Episode:180 steps:15 episode_reward:0.0 last n mean rew.0.0,individual episode rew.[-0.01  0.  ]\n",
      "Episode:190 steps:15 episode_reward:0.0 last n mean rew.0.0,individual episode rew.[ 0.   -0.01]\n",
      "Episode:200 steps:15 episode_reward:0.0 last n mean rew.0.0,individual episode rew.[ 0.   -0.01]\n",
      "Episode:210 steps:15 episode_reward:0.0 last n mean rew.0.0,individual episode rew.[ 0.   -0.01]\n",
      "Episode:220 steps:15 episode_reward:0.0 last n mean rew.0.0,individual episode rew.[-0.01  0.  ]\n",
      "Episode:230 steps:15 episode_reward:0.0 last n mean rew.0.0,individual episode rew.[-0.01  0.  ]\n",
      "Episode:240 steps:15 episode_reward:0.0 last n mean rew.0.0,individual episode rew.[ 0.   -0.01]\n",
      "Episode:250 steps:15 episode_reward:0.0 last n mean rew.0.0,individual episode rew.[-0.01  0.  ]\n",
      "Episode:260 steps:15 episode_reward:0.0 last n mean rew.0.0,individual episode rew.[-0.01  0.  ]\n"
     ]
    }
   ],
   "source": [
    "def main(agent1,agent2,episodes,visualize_every,print_every):\n",
    "    total_rewards = [[],[]]\n",
    "    critic_losses = []\n",
    "    actor_losses = []\n",
    "    episode_single_scores = [] # the max between scores of both agents\n",
    "    episode_window_scores = deque(maxlen = DESIRED_EPISODES_AVERAGE)\n",
    "    \n",
    "    for episode in range(1,episodes +1):\n",
    "        finished = False\n",
    "        step_count = 0\n",
    "        episode_scores = np.zeros(num_agents)\n",
    "        \n",
    "        agent1.noise.reset()\n",
    "        agent2.noise.reset()\n",
    "        train_mode = not(episode%visualize_every == 0)\n",
    "        env_info = env.reset(train_mode = train_mode)[brain_name]\n",
    "        states = env_info.vector_observations\n",
    "        \n",
    "        while not finished:\n",
    "            actions_ag1 = agent1.act(states[0])\n",
    "            actions_ag2 = agent2.act(states[1])\n",
    "            env_info = env.step(np.concatenate((actions_ag1,actions_ag2),axis=0))[brain_name]\n",
    "            next_states = env_info.vector_observations\n",
    "            rewards = env_info.rewards\n",
    "            dones = env_info.local_done\n",
    "            \n",
    "            #add experience to shared replay buffer\n",
    "            #if np.sum(rewards) != 0.0:\n",
    "            replay_buffer.add(states[0],actions_ag1,rewards[0],next_states[0],dones[0])\n",
    "            replay_buffer.add(states[1],actions_ag2,rewards[1],next_states[1],dones[1])\n",
    "            \n",
    "            states = next_states\n",
    "            \n",
    "            episode_scores += rewards\n",
    "            finished = dones[0] or dones[1]\n",
    "            \n",
    "            if step_count % TRAIN_EVERY == 0 and len(replay_buffer) >= BATCH_SIZE:\n",
    "                train(critic_losses = critic_losses,actor_losses = actor_losses)\n",
    "                \n",
    "            if step_count % UPDATE_TARGET_NETWORK_EVERY == 0 and len(replay_buffer) >= BATCH_SIZE:\n",
    "                update_target_network(actor_local,actor_target,TAU)\n",
    "                update_target_network(critic_local,critic_target,TAU)\n",
    "                \n",
    "            step_count += 1\n",
    "            \n",
    "            \n",
    "        episode_single_score = max(episode_scores)\n",
    "        episode_window_scores.append(episode_single_score)\n",
    "        episode_single_scores.append(episode_single_score)\n",
    "        \n",
    "        total_rewards[0].append(episode_scores[0])\n",
    "        total_rewards[1].append(episode_scores[1])\n",
    "        \n",
    "        if episode % print_every == 0:\n",
    "            print(\"Episode:{} steps:{} episode_reward:{} last n mean rew.{},individual episode rew.{}\".format(episode, step_count,\n",
    "                                                                                    episode_single_score,np.mean(episode_window_scores),episode_scores))\n",
    "                \n",
    "        \n",
    "        if np.mean(episode_window_scores) >= DESIRED_AVERAGE_SCORE:\n",
    "            print(\"Solved in {} episodes\".format(episode))\n",
    "            checkpoint_name = \"checkpoint_solved_\"+str(episode)+\".pth\"\n",
    "            break\n",
    "            \n",
    "    return total_rewards,critic_losses,actor_losses,episode_single_scores\n",
    "\n",
    "train_rewards,critic_losses,actor_losses,episode_single_scores = main(agent1,agent2,1000,VISUALIZE_EVERY,PRINT_EVERY)"
   ]
  },
  {
   "cell_type": "code",
   "execution_count": null,
   "metadata": {},
   "outputs": [],
   "source": [
    "for i in range(1, 6):                                      # play game for 5 episodes\n",
    "    env_info = env.reset(train_mode=False)[brain_name]     # reset the environment    \n",
    "    states = env_info.vector_observations                  # get the current state (for each agent)\n",
    "    scores = np.zeros(num_agents)                          # initialize the score (for each agent)\n",
    "    agent1.noise.reset()\n",
    "    agent2.noise.reset()\n",
    "    while True:\n",
    "        actions_ag1 = agent1.act(states[0])\n",
    "        actions_ag2 = agent2.act(states[1])\n",
    "        print(actions_ag1,actions_ag2)\n",
    "        env_info = env.step(np.concatenate((actions_ag1,actions_ag2),axis=0))[brain_name]\n",
    "        next_states = env_info.vector_observations        # get next state (for each agent)\n",
    "        rewards = env_info.rewards                         # get reward (for each agent)\n",
    "        dones = env_info.local_done                        # see if episode finished\n",
    "        scores += env_info.rewards                         # update the score (for each agent)\n",
    "        states = next_states                               # roll over states to next time step\n",
    "        if np.any(dones):                                  # exit loop if episode finished\n",
    "            break\n",
    "    print('Score (max over agents) from episode {}: {}'.format(i, np.max(scores)))"
   ]
  },
  {
   "cell_type": "markdown",
   "metadata": {},
   "source": [
    "#### Agent 1 rewards"
   ]
  },
  {
   "cell_type": "code",
   "execution_count": null,
   "metadata": {},
   "outputs": [],
   "source": [
    "plt.plot(train_rewards[0])\n",
    "plt.show()"
   ]
  },
  {
   "cell_type": "markdown",
   "metadata": {},
   "source": [
    "#### Agent 2 rewards"
   ]
  },
  {
   "cell_type": "code",
   "execution_count": null,
   "metadata": {},
   "outputs": [],
   "source": [
    "plt.plot(train_rewards[1])\n",
    "plt.show()"
   ]
  },
  {
   "cell_type": "markdown",
   "metadata": {},
   "source": [
    "### episode rewards"
   ]
  },
  {
   "cell_type": "code",
   "execution_count": null,
   "metadata": {},
   "outputs": [],
   "source": [
    "plt.plot(episode_single_scores)\n",
    "plt.show()"
   ]
  },
  {
   "cell_type": "markdown",
   "metadata": {},
   "source": [
    "#### Critic losses"
   ]
  },
  {
   "cell_type": "code",
   "execution_count": null,
   "metadata": {},
   "outputs": [],
   "source": [
    "plt.plot(critic_losses)\n",
    "plt.show()"
   ]
  },
  {
   "cell_type": "markdown",
   "metadata": {},
   "source": [
    "### Actor losses"
   ]
  },
  {
   "cell_type": "code",
   "execution_count": null,
   "metadata": {},
   "outputs": [],
   "source": [
    "plt.plot(actor_losses)\n",
    "plt.show()"
   ]
  },
  {
   "cell_type": "code",
   "execution_count": null,
   "metadata": {},
   "outputs": [],
   "source": [
    "replay_buffer.sample(100)[2]"
   ]
  },
  {
   "cell_type": "code",
   "execution_count": null,
   "metadata": {},
   "outputs": [],
   "source": []
  }
 ],
 "metadata": {
  "kernelspec": {
   "display_name": "Python 3",
   "language": "python",
   "name": "python3"
  },
  "language_info": {
   "codemirror_mode": {
    "name": "ipython",
    "version": 3
   },
   "file_extension": ".py",
   "mimetype": "text/x-python",
   "name": "python",
   "nbconvert_exporter": "python",
   "pygments_lexer": "ipython3",
   "version": "3.6.9"
  }
 },
 "nbformat": 4,
 "nbformat_minor": 2
}
