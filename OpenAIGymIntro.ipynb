{
 "cells": [
  {
   "attachments": {},
   "cell_type": "markdown",
   "metadata": {},
   "source": [
    "# OpenAI Gym Introduction\n",
    "\n",
    "Just a simple example of OpenAI gym to get  familiar with it"
   ]
  },
  {
   "cell_type": "code",
   "execution_count": 12,
   "metadata": {},
   "outputs": [],
   "source": [
    "import gym\n",
    "import seaborn as sns\n",
    "import matplotlib.pyplot as plt\n",
    "import pandas as pd\n",
    "import numpy as np\n",
    "from PIL import Image\n",
    "from IPython import display"
   ]
  },
  {
   "cell_type": "code",
   "execution_count": 2,
   "metadata": {},
   "outputs": [
    {
     "name": "stderr",
     "output_type": "stream",
     "text": [
      "/home/luis/anaconda3/envs/python311_torch113_tf212/lib/python3.10/site-packages/gym/envs/registration.py:555: UserWarning: \u001b[33mWARN: The environment CartPole-v0 is out of date. You should consider upgrading to version `v1`.\u001b[0m\n",
      "  logger.warn(\n"
     ]
    }
   ],
   "source": [
    "# create the environment\n",
    "env = gym.make(\"CartPole-v0\")"
   ]
  },
  {
   "cell_type": "code",
   "execution_count": 3,
   "metadata": {},
   "outputs": [
    {
     "data": {
      "text/plain": [
       "(array([-0.01961699,  0.02858653, -0.04867275,  0.03061158], dtype=float32),\n",
       " {})"
      ]
     },
     "execution_count": 3,
     "metadata": {},
     "output_type": "execute_result"
    }
   ],
   "source": [
    "# start an episode, it returns an array that represents the initial state\n",
    "env.reset()"
   ]
  },
  {
   "attachments": {},
   "cell_type": "markdown",
   "metadata": {},
   "source": [
    "The states/observations are 4 numbers:\n",
    "* Cart Position\n",
    "* Cart velocityh\n",
    "* Pole Angle\n",
    "* Pole velocity at tip\n",
    "\n",
    "We can also get information about the state space with code, for example a sample of the state space or validate if a state is part of it"
   ]
  },
  {
   "cell_type": "code",
   "execution_count": 4,
   "metadata": {},
   "outputs": [
    {
     "data": {
      "text/plain": [
       "['__annotations__',\n",
       " '__class__',\n",
       " '__class_getitem__',\n",
       " '__contains__',\n",
       " '__delattr__',\n",
       " '__dict__',\n",
       " '__dir__',\n",
       " '__doc__',\n",
       " '__eq__',\n",
       " '__format__',\n",
       " '__ge__',\n",
       " '__getattribute__',\n",
       " '__gt__',\n",
       " '__hash__',\n",
       " '__init__',\n",
       " '__init_subclass__',\n",
       " '__le__',\n",
       " '__lt__',\n",
       " '__module__',\n",
       " '__ne__',\n",
       " '__new__',\n",
       " '__orig_bases__',\n",
       " '__parameters__',\n",
       " '__reduce__',\n",
       " '__reduce_ex__',\n",
       " '__repr__',\n",
       " '__setattr__',\n",
       " '__setstate__',\n",
       " '__sizeof__',\n",
       " '__slots__',\n",
       " '__str__',\n",
       " '__subclasshook__',\n",
       " '__weakref__',\n",
       " '_is_protocol',\n",
       " '_np_random',\n",
       " '_shape',\n",
       " 'bounded_above',\n",
       " 'bounded_below',\n",
       " 'contains',\n",
       " 'dtype',\n",
       " 'from_jsonable',\n",
       " 'high',\n",
       " 'high_repr',\n",
       " 'is_bounded',\n",
       " 'is_np_flattenable',\n",
       " 'low',\n",
       " 'low_repr',\n",
       " 'np_random',\n",
       " 'sample',\n",
       " 'seed',\n",
       " 'shape',\n",
       " 'to_jsonable']"
      ]
     },
     "execution_count": 4,
     "metadata": {},
     "output_type": "execute_result"
    }
   ],
   "source": [
    "box = env.observation_space\n",
    "dir(box)"
   ]
  },
  {
   "attachments": {},
   "cell_type": "markdown",
   "metadata": {},
   "source": [
    "For  this problem there are 2 actions:\n",
    "* push car to the left\n",
    "* push car to the right\n",
    "\n",
    "We can also get information about the sample space"
   ]
  },
  {
   "cell_type": "code",
   "execution_count": 5,
   "metadata": {},
   "outputs": [
    {
     "data": {
      "text/plain": [
       "['__annotations__',\n",
       " '__class__',\n",
       " '__class_getitem__',\n",
       " '__contains__',\n",
       " '__delattr__',\n",
       " '__dict__',\n",
       " '__dir__',\n",
       " '__doc__',\n",
       " '__eq__',\n",
       " '__format__',\n",
       " '__ge__',\n",
       " '__getattribute__',\n",
       " '__gt__',\n",
       " '__hash__',\n",
       " '__init__',\n",
       " '__init_subclass__',\n",
       " '__le__',\n",
       " '__lt__',\n",
       " '__module__',\n",
       " '__ne__',\n",
       " '__new__',\n",
       " '__orig_bases__',\n",
       " '__parameters__',\n",
       " '__reduce__',\n",
       " '__reduce_ex__',\n",
       " '__repr__',\n",
       " '__setattr__',\n",
       " '__setstate__',\n",
       " '__sizeof__',\n",
       " '__slots__',\n",
       " '__str__',\n",
       " '__subclasshook__',\n",
       " '__weakref__',\n",
       " '_is_protocol',\n",
       " '_np_random',\n",
       " '_shape',\n",
       " 'contains',\n",
       " 'dtype',\n",
       " 'from_jsonable',\n",
       " 'is_np_flattenable',\n",
       " 'n',\n",
       " 'np_random',\n",
       " 'sample',\n",
       " 'seed',\n",
       " 'shape',\n",
       " 'start',\n",
       " 'to_jsonable']"
      ]
     },
     "execution_count": 5,
     "metadata": {},
     "output_type": "execute_result"
    }
   ],
   "source": [
    "action_space = env.action_space\n",
    "\n",
    "dir(action_space)"
   ]
  },
  {
   "attachments": {},
   "cell_type": "markdown",
   "metadata": {},
   "source": [
    "Every step of the agent in the environment returns 5 elements:\n",
    "* the next state/observation\n",
    "* the reward\n",
    "* done flag(is the episode over?)\n",
    "* truncation flag(was the episode prematurely terminated? some conditions like time or physical agent constraints can trigger this)\n",
    "* Info(additional details)"
   ]
  },
  {
   "cell_type": "code",
   "execution_count": 6,
   "metadata": {},
   "outputs": [
    {
     "name": "stdout",
     "output_type": "stream",
     "text": [
      "[-0.01904526 -0.16580486 -0.04806052  0.3075492 ] 1.0 False False {}\n"
     ]
    }
   ],
   "source": [
    "state, reward, done, truncated, info = env.step(env.action_space.sample())\n",
    "\n",
    "print(state, reward, done, truncated, info)"
   ]
  },
  {
   "attachments": {},
   "cell_type": "markdown",
   "metadata": {},
   "source": [
    "This example has no \"learning\" so the following example runs episodes randomly.\n",
    "It takes random actions without considering the state. \n",
    "Multiple episodes are run and then a distribution of number steps to finish is calculated"
   ]
  },
  {
   "cell_type": "code",
   "execution_count": 7,
   "metadata": {},
   "outputs": [],
   "source": [
    "EPISODES = 10000\n",
    "steps_counts = []\n",
    "\n",
    "for i in range(EPISODES):\n",
    "    done = False\n",
    "    steps_count = 0\n",
    "    state = env.reset()\n",
    "    while not done:\n",
    "        # next state, step reward, is episode finished, is episode truncated, info\n",
    "        state, reward, done, truncated, info = env.step(env.action_space.sample())\n",
    "        steps_count+=1\n",
    "\n",
    "    steps_counts.append(steps_count)"
   ]
  },
  {
   "cell_type": "code",
   "execution_count": 8,
   "metadata": {},
   "outputs": [
    {
     "name": "stdout",
     "output_type": "stream",
     "text": [
      "        steps_count\n",
      "count  10000.000000\n",
      "mean      22.212400\n",
      "std       11.886741\n",
      "min        8.000000\n",
      "25%       14.000000\n",
      "50%       19.000000\n",
      "75%       27.000000\n",
      "max      132.000000\n"
     ]
    },
    {
     "data": {
      "image/png": "[encoded data removed]",
      "text/plain": [
       "<Figure size 500x500 with 1 Axes>"
      ]
     },
     "metadata": {},
     "output_type": "display_data"
    }
   ],
   "source": [
    "print(pd.DataFrame(data=steps_counts,columns=[\"steps_count\"]).describe())\n",
    "sns.displot(steps_counts)\n",
    "plt.show()"
   ]
  },
  {
   "attachments": {},
   "cell_type": "markdown",
   "metadata": {},
   "source": [
    "The following example shows how to display/render in a notebook the environment as the process goes on\n",
    "(it will also capture the animation frames in a list renders what will be used to create a gif in the next cell.)\n",
    "\n",
    "Note: the animation can also be displayed in a separate window, just use render_mode=\"human\", it needs some additional packages(like pygame) to work"
   ]
  },
  {
   "cell_type": "code",
   "execution_count": 10,
   "metadata": {},
   "outputs": [
    {
     "data": {
      "text/plain": [
       "<function IPython.core.display_functions.display(*objs, include=None, exclude=None, metadata=None, transient=None, display_id=None, raw=False, clear=False, **kwargs)>"
      ]
     },
     "execution_count": 10,
     "metadata": {},
     "output_type": "execute_result"
    }
   ],
   "source": [
    "display"
   ]
  },
  {
   "cell_type": "code",
   "execution_count": 17,
   "metadata": {},
   "outputs": [
    {
     "data": {
      "image/png": "[encoded data removed]",
      "text/plain": [
       "<Figure size 640x480 with 1 Axes>"
      ]
     },
     "metadata": {},
     "output_type": "display_data"
    }
   ],
   "source": [
    "\n",
    "env = gym.make(\"CartPole-v0\",render_mode=\"rgb_array\")\n",
    "renders = [] # will store the environment frames to create a gif later\n",
    "\n",
    "done = False\n",
    "state = env.reset()\n",
    "img = plt.imshow(env.render()) \n",
    "for i in range(2000):\n",
    "    while not done:\n",
    "        state, reward, done, truncated, info = env.step(env.action_space.sample())\n",
    "        frame = env.render()\n",
    "        img.set_data(frame)\n",
    "        renders.append(frame)\n",
    "        display.display(plt.gcf())\n",
    "        display.clear_output(wait=True)"
   ]
  },
  {
   "attachments": {},
   "cell_type": "markdown",
   "metadata": {},
   "source": [
    "With the renders captured in a list, we can create a gif using Image package, we just need to convert the renders(in numpy arrays) to Image objects"
   ]
  },
  {
   "cell_type": "code",
   "execution_count": 21,
   "metadata": {},
   "outputs": [
    {
     "ename": "SyntaxError",
     "evalue": "invalid syntax (1690792689.py, line 4)",
     "output_type": "error",
     "traceback": [
      "\u001b[0;36m  Cell \u001b[0;32mIn[21], line 4\u001b[0;36m\u001b[0m\n\u001b[0;31m    <img src=\"./animations/introCartPole0.gif\" width=\"750\" align=\"center\">\u001b[0m\n\u001b[0m    ^\u001b[0m\n\u001b[0;31mSyntaxError\u001b[0m\u001b[0;31m:\u001b[0m invalid syntax\n"
     ]
    }
   ],
   "source": [
    "imgs = [Image.fromarray(img) for img in renders]\n",
    "imgs[0].save(\"./animations/introCartPole0.gif\",save_all=True, append_images=imgs[1:],loop=0)\n",
    "\n",
    "<img src=\"./animations/introCartPole0.gif\" width=\"750\" align=\"center\">"
   ]
  }
 ],
 "metadata": {
  "kernelspec": {
   "display_name": "python311_torch113_tf212",
   "language": "python",
   "name": "python3"
  },
  "language_info": {
   "codemirror_mode": {
    "name": "ipython",
    "version": 3
   },
   "file_extension": ".py",
   "mimetype": "text/x-python",
   "name": "python",
   "nbconvert_exporter": "python",
   "pygments_lexer": "ipython3",
   "version": "3.10.9"
  },
  "orig_nbformat": 4
 },
 "nbformat": 4,
 "nbformat_minor": 2
}
