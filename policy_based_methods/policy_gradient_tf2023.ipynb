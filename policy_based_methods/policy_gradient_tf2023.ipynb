{
 "cells": [
  {
   "attachments": {},
   "cell_type": "markdown",
   "metadata": {},
   "source": [
    "# Policy Gradient 2023(tf)\n",
    "\n",
    "An implementation of a simple policy gradient coded in 2023 to refresh my memory(I already coded this many years ago using pytorch) but using tensorflow."
   ]
  },
  {
   "cell_type": "code",
   "execution_count": 1,
   "metadata": {},
   "outputs": [
    {
     "name": "stderr",
     "output_type": "stream",
     "text": [
      "2023-09-02 10:28:25.611789: I tensorflow/core/platform/cpu_feature_guard.cc:182] This TensorFlow binary is optimized to use available CPU instructions in performance-critical operations.\n",
      "To enable the following instructions: AVX2 FMA, in other operations, rebuild TensorFlow with the appropriate compiler flags.\n",
      "2023-09-02 10:28:26.106423: W tensorflow/compiler/tf2tensorrt/utils/py_utils.cc:38] TF-TRT Warning: Could not find TensorRT\n"
     ]
    }
   ],
   "source": [
    "import gym\n",
    "import os\n",
    "import sys\n",
    "import numpy as np\n",
    "import matplotlib.pyplot as plt\n",
    "from datetime import datetime\n",
    "import tensorflow as tf\n",
    "from PIL import Image\n",
    "import pandas as pd\n",
    "import matplotlib.pyplot as plt\n",
    "import matplotlib\n",
    "from sklearn.preprocessing import StandardScaler\n",
    "from sklearn.pipeline import FeatureUnion\n",
    "from sklearn.kernel_approximation import RBFSampler\n",
    "from sklearn.linear_model import SGDRegressor"
   ]
  },
  {
   "cell_type": "code",
   "execution_count": 2,
   "metadata": {},
   "outputs": [],
   "source": [
    "ENV =  \"MountainCar-v0\"\n",
    "ENV = \"CartPole-v1\" \n",
    "environment = gym.make(ENV,render_mode=\"rgb_array\")"
   ]
  },
  {
   "cell_type": "code",
   "execution_count": 3,
   "metadata": {},
   "outputs": [],
   "source": [
    "class FeatureTransformer:\n",
    "    def __init__(self,env:gym.Env,sample_size,rbf_components) -> None:\n",
    "        state_samples = np.array([np.array(env.observation_space.sample(),dtype=np.float64) for _ in range(sample_size)])\n",
    "\n",
    "        self.scaler = StandardScaler()\n",
    "        self.scaler.fit_transform(state_samples)\n",
    "\n",
    "        self.rbf_transformer = FeatureUnion([\n",
    "             (\"rbf1\",RBFSampler(gamma=5.0, n_components=rbf_components)),\n",
    "            (\"rbf2\",RBFSampler(gamma=2.0, n_components=rbf_components)),\n",
    "             (\"rbf3\",RBFSampler(gamma=1.0, n_components=rbf_components)),\n",
    "            (\"rbf4\",RBFSampler(gamma=0.5, n_components=rbf_components)),\n",
    "        ])\n",
    "\n",
    "        self.rbf_transformer.fit(self.scaler.transform(state_samples))\n",
    "\n",
    "    def transform(self, states):\n",
    "        normalized_states = self.scaler.transform(states)\n",
    "        return self.rbf_transformer.transform(normalized_states)"
   ]
  },
  {
   "cell_type": "code",
   "execution_count": 4,
   "metadata": {},
   "outputs": [],
   "source": [
    "def softmax(vec):\n",
    "  try:\n",
    "    exponential = np.exp(vec)+0.000001\n",
    "    probabilities = exponential / np.sum(exponential)\n",
    "\n",
    "    if np.any(np.isnan(probabilities)):\n",
    "      raise Exception()\n",
    "  except:\n",
    "    print(\"prob error\")\n",
    "  return probabilities"
   ]
  },
  {
   "cell_type": "code",
   "execution_count": 5,
   "metadata": {},
   "outputs": [],
   "source": [
    "class PolicyModel:\n",
    "    def __init__(self,nn_model,lr=0.0001) -> None:\n",
    "        self.lr = lr\n",
    "        self.model = nn_model\n",
    "\n",
    "\n",
    "    def select_action(self,state):\n",
    "        action_probs = self.model(tf.expand_dims(state,0)).numpy()[0]\n",
    "        #action_probs = list(self.model(tf.expand_dims(state,0)).numpy()[0].round(decimals=3))\n",
    "        #action_probs = softmax(action_probs)\n",
    "        action = np.random.choice(environment.action_space.n,1,p=action_probs)[0]\n",
    "        return action\n",
    "        #return action\n",
    "    \n",
    "    def predict(self,state):\n",
    "        return self.model(tf.expand_dims(state,0))\n",
    "\n",
    "    def update(self,state,action,td_error):\n",
    "        with tf.GradientTape(persistent=True) as tape:\n",
    "            state_probs = self.predict(state)# + 0.00000001\n",
    "            score_function = tf.math.log(state_probs)\n",
    "            action_score = score_function[0][action]\n",
    "\n",
    "\n",
    "        for weights in self.model.trainable_weights:\n",
    "\n",
    "            grads = tape.gradient(action_score,weights)\n",
    "            weights_delta = self.lr*td_error*grads\n",
    "            new_weights = weights + weights_delta\n",
    "\n",
    "            if np.any(np.isnan(new_weights)):\n",
    "                print(\"error in  actor model weights\")\n",
    "\n",
    "                raise Exception()\n",
    "            weights.assign(new_weights)\n",
    "\n",
    "        del tape\n",
    "\n",
    "\n",
    "        \n",
    "\n",
    "        #current_weights = self.model.get_weights()\n",
    "        #weights_delta = [self.lr*td_error*grad for grad in grads]\n",
    "        #new_weights = [current_weights[i] + weights_delta[i] for i in range(len(current_weights))]\n",
    "\n",
    "        #self.model.set_weights(new_weights)\n"
   ]
  },
  {
   "cell_type": "code",
   "execution_count": 6,
   "metadata": {},
   "outputs": [],
   "source": [
    "class VModel:\n",
    "    def __init__(self,env:gym.Env, state_transformer:FeatureTransformer,  nn_model:tf.keras.models.Model,lr=0.00001) -> None:\n",
    "        self.lr = lr\n",
    "        self.model = nn_model\n",
    "        self.state_transformer = state_transformer\n",
    "        self.linear_model = SGDRegressor(learning_rate=\"constant\")\n",
    "        self.linear_model.partial_fit(state_transformer.transform([env.reset()[0]]),[0])\n",
    "        self.optimizer = tf.keras.optimizers.Adam(learning_rate=lr)\n",
    "        self.models = []\n",
    "\n",
    "        for i in range(env.action_space.n):\n",
    "            model = SGDRegressor(learning_rate=\"constant\")\n",
    "            model.partial_fit(state_transformer.transform([env.reset()[0]]),[0])\n",
    "            self.models.append(model)\n",
    "        \n",
    "    def predict(self,state):\n",
    "        transformed_state = self.state_transformer.transform(tf.expand_dims(state,0))\n",
    "        state_value = self.linear_model.predict(transformed_state)\n",
    "        #state_value = self.model(tf.expand_dims(state,0))\n",
    "        return state_value\n",
    "    \n",
    "    def predict_Q(self,state):\n",
    "        transformed_state = self.state_transformer.transform([state])\n",
    "        return np.array([model.predict(transformed_state)[0] for model in self.models])\n",
    "    \n",
    "    def update(self,state,next_state,action,reward,state_policy):\n",
    "        \n",
    "        \"\"\"with tf.GradientTape() as tape:\n",
    "            state_value = self.predict(state)\n",
    "            state_value_bootstrap = reward + 0.999*tf.stop_gradient(self.predict(next_state))\n",
    "            td_error_loss = tf.keras.losses.mean_squared_error(state_value_bootstrap,state_value)\n",
    "        grads = tape.gradient(td_error_loss,self.model.trainable_variables)\n",
    "        self.optimizer.apply_gradients(zip(grads,self.model.trainable_variables))\"\"\"\n",
    "\n",
    "        transformed_state = self.state_transformer.transform([state])\n",
    "        G_return = reward + 0.99*np.max(self.predict_Q(next_state))\n",
    "        V_state =  sum([state_policy[i]*self.predict_Q(state)[i]   for i in range(len(state_policy))])\n",
    "        self.models[action].partial_fit(transformed_state,[G_return])\n",
    "        # -----------------------------------------------------------\n",
    "\n",
    "        advantage = G_return - V_state\n",
    "        return advantage\n",
    "        transformed_state = self.state_transformer.transform([state])\n",
    "        state_value = self.predict(state)[0]\n",
    "        next_state_value = self.predict(next_state)[0]\n",
    "        #state_value_bootstrap = reward + 0.999*tf.stop_gradient(self.predict(next_state))\n",
    "        state_value_bootstrap = reward + 0.99*next_state_value\n",
    "        td_error = state_value_bootstrap - state_value\n",
    "        self.linear_model.partial_fit(transformed_state,[state_value_bootstrap])\n",
    "\n",
    "        return td_error\n",
    "\n",
    "        with tf.GradientTape(persistent=True) as tape:\n",
    "            state_value = self.predict(state)\n",
    "        state_value_bootstrap = reward + 0.999*tf.stop_gradient(self.predict(next_state))\n",
    "        td_error = (tf.stop_gradient(state_value_bootstrap).numpy()[0][0] - tf.stop_gradient(state_value).numpy()[0][0])\n",
    "\n",
    "        for weights in self.model.trainable_weights:\n",
    "\n",
    "            grads = tape.gradient(state_value,weights)\n",
    "            weights_delta = self.lr*td_error*grads\n",
    "            new_weights = weights + weights_delta\n",
    "\n",
    "            if np.any(np.isnan(new_weights)):\n",
    "                print(\"error in model weights\")\n",
    "\n",
    "                raise Exception()\n",
    "            weights.assign(new_weights)\n",
    "\n",
    "        del tape\n",
    "\n",
    "        #td_error = tf.stop_gradient(state_value_bootstrap).numpy()[0][0] - tf.stop_gradient(state_value).numpy()[0][0]\n",
    "        new_td_error = reward + 0.999*tf.stop_gradient(self.predict(next_state)).numpy()[0][0] - tf.stop_gradient(self.predict(state)).numpy()[0][0]\n",
    "\n",
    "        return td_error\n",
    "\n",
    "        #current_weights = self.model.get_weights()\n",
    "        #weights_delta = [self.lr*td_error*grad for grad in grads]\n",
    "        #new_weights = [current_weights[i] + weights_delta[i]  for i in range(len(current_weights))]\n",
    "        \n",
    "        #self.model.set_weights(new_weights)"
   ]
  },
  {
   "cell_type": "code",
   "execution_count": 7,
   "metadata": {},
   "outputs": [],
   "source": [
    "def run_episode(environment:gym.Env,  actor:PolicyModel,critic:VModel,epsilon,gamma,lambda_factor):\n",
    "    \"\"\"\n",
    "    n = the number of rewards to use, the n in the n-step bootstrapping\n",
    "    \"\"\"\n",
    "    state,_ = environment.reset()\n",
    "    done = False\n",
    "    total_reward = 0\n",
    "    iterations = 0\n",
    "    total_td_error = 0\n",
    "\n",
    "    while not done and iterations < 500:\n",
    "        action = actor.select_action(state)\n",
    "\n",
    "        new_state, reward, done, trunc, info = environment.step(action)\n",
    "\n",
    "        # newer versions of gym will preliminary terminate the episode in 200 iterations\n",
    "        # if it is done in less than that that means the poll fell so it is a big negative reward\n",
    "        #if done:#and iterations < 199:\n",
    "        #    reward = -300\n",
    "\n",
    "        # cartpole\n",
    "        #if  environment.action_space.n == 2 and  done and iterations < 199:\n",
    "        #    reward = -15\n",
    "\n",
    "        # mountaincar\n",
    "        if environment.action_space.n == 3 and done:\n",
    "            reward = 10\n",
    "\n",
    "        td_error = critic.update(state,new_state,action,reward,actor.predict(state).numpy()[0])\n",
    "\n",
    "        # this is also the advantage function to reduce variance with  baselines\n",
    "        #td_error = reward + gamma * tf.stop_gradient(critic.predict(new_state)).numpy()[0][0] - tf.stop_gradient(critic.predict(state)).numpy()[0][0]\n",
    "        actor.update(state,action,td_error)\n",
    "\n",
    "        total_reward+=reward\n",
    "        total_td_error+=td_error\n",
    "        #print(f\"    ---{reward}, {total_reward}\")\n",
    "        iterations+=1\n",
    "\n",
    "        state = new_state\n",
    "    \n",
    "   \n",
    "    return total_reward, iterations\n",
    "    return total_reward, iterations"
   ]
  },
  {
   "cell_type": "code",
   "execution_count": 8,
   "metadata": {},
   "outputs": [
    {
     "name": "stderr",
     "output_type": "stream",
     "text": [
      "2023-09-02 10:28:27.051940: I tensorflow/compiler/xla/stream_executor/cuda/cuda_gpu_executor.cc:996] successful NUMA node read from SysFS had negative value (-1), but there must be at least one NUMA node, so returning NUMA node zero. See more at https://github.com/torvalds/linux/blob/v6.0/Documentation/ABI/testing/sysfs-bus-pci#L344-L355\n",
      "2023-09-02 10:28:27.052114: I tensorflow/compiler/xla/stream_executor/cuda/cuda_gpu_executor.cc:996] successful NUMA node read from SysFS had negative value (-1), but there must be at least one NUMA node, so returning NUMA node zero. See more at https://github.com/torvalds/linux/blob/v6.0/Documentation/ABI/testing/sysfs-bus-pci#L344-L355\n",
      "2023-09-02 10:28:27.069838: I tensorflow/compiler/xla/stream_executor/cuda/cuda_gpu_executor.cc:996] successful NUMA node read from SysFS had negative value (-1), but there must be at least one NUMA node, so returning NUMA node zero. See more at https://github.com/torvalds/linux/blob/v6.0/Documentation/ABI/testing/sysfs-bus-pci#L344-L355\n",
      "2023-09-02 10:28:27.070164: I tensorflow/compiler/xla/stream_executor/cuda/cuda_gpu_executor.cc:996] successful NUMA node read from SysFS had negative value (-1), but there must be at least one NUMA node, so returning NUMA node zero. See more at https://github.com/torvalds/linux/blob/v6.0/Documentation/ABI/testing/sysfs-bus-pci#L344-L355\n",
      "2023-09-02 10:28:27.070350: I tensorflow/compiler/xla/stream_executor/cuda/cuda_gpu_executor.cc:996] successful NUMA node read from SysFS had negative value (-1), but there must be at least one NUMA node, so returning NUMA node zero. See more at https://github.com/torvalds/linux/blob/v6.0/Documentation/ABI/testing/sysfs-bus-pci#L344-L355\n",
      "2023-09-02 10:28:27.070624: I tensorflow/compiler/xla/stream_executor/cuda/cuda_gpu_executor.cc:996] successful NUMA node read from SysFS had negative value (-1), but there must be at least one NUMA node, so returning NUMA node zero. See more at https://github.com/torvalds/linux/blob/v6.0/Documentation/ABI/testing/sysfs-bus-pci#L344-L355\n",
      "2023-09-02 10:28:27.171086: I tensorflow/compiler/xla/stream_executor/cuda/cuda_gpu_executor.cc:996] successful NUMA node read from SysFS had negative value (-1), but there must be at least one NUMA node, so returning NUMA node zero. See more at https://github.com/torvalds/linux/blob/v6.0/Documentation/ABI/testing/sysfs-bus-pci#L344-L355\n",
      "2023-09-02 10:28:27.171408: I tensorflow/compiler/xla/stream_executor/cuda/cuda_gpu_executor.cc:996] successful NUMA node read from SysFS had negative value (-1), but there must be at least one NUMA node, so returning NUMA node zero. See more at https://github.com/torvalds/linux/blob/v6.0/Documentation/ABI/testing/sysfs-bus-pci#L344-L355\n",
      "2023-09-02 10:28:27.171549: I tensorflow/compiler/xla/stream_executor/cuda/cuda_gpu_executor.cc:996] successful NUMA node read from SysFS had negative value (-1), but there must be at least one NUMA node, so returning NUMA node zero. See more at https://github.com/torvalds/linux/blob/v6.0/Documentation/ABI/testing/sysfs-bus-pci#L344-L355\n",
      "2023-09-02 10:28:27.171663: I tensorflow/compiler/xla/stream_executor/cuda/cuda_gpu_executor.cc:996] successful NUMA node read from SysFS had negative value (-1), but there must be at least one NUMA node, so returning NUMA node zero. See more at https://github.com/torvalds/linux/blob/v6.0/Documentation/ABI/testing/sysfs-bus-pci#L344-L355\n",
      "2023-09-02 10:28:27.171785: I tensorflow/compiler/xla/stream_executor/cuda/cuda_gpu_executor.cc:996] successful NUMA node read from SysFS had negative value (-1), but there must be at least one NUMA node, so returning NUMA node zero. See more at https://github.com/torvalds/linux/blob/v6.0/Documentation/ABI/testing/sysfs-bus-pci#L344-L355\n",
      "2023-09-02 10:28:27.171894: I tensorflow/compiler/xla/stream_executor/cuda/cuda_gpu_executor.cc:996] successful NUMA node read from SysFS had negative value (-1), but there must be at least one NUMA node, so returning NUMA node zero. See more at https://github.com/torvalds/linux/blob/v6.0/Documentation/ABI/testing/sysfs-bus-pci#L344-L355\n",
      "2023-09-02 10:28:27.853310: I tensorflow/compiler/xla/stream_executor/cuda/cuda_gpu_executor.cc:996] successful NUMA node read from SysFS had negative value (-1), but there must be at least one NUMA node, so returning NUMA node zero. See more at https://github.com/torvalds/linux/blob/v6.0/Documentation/ABI/testing/sysfs-bus-pci#L344-L355\n",
      "2023-09-02 10:28:27.853567: I tensorflow/compiler/xla/stream_executor/cuda/cuda_gpu_executor.cc:996] successful NUMA node read from SysFS had negative value (-1), but there must be at least one NUMA node, so returning NUMA node zero. See more at https://github.com/torvalds/linux/blob/v6.0/Documentation/ABI/testing/sysfs-bus-pci#L344-L355\n",
      "2023-09-02 10:28:27.853919: I tensorflow/compiler/xla/stream_executor/cuda/cuda_gpu_executor.cc:996] successful NUMA node read from SysFS had negative value (-1), but there must be at least one NUMA node, so returning NUMA node zero. See more at https://github.com/torvalds/linux/blob/v6.0/Documentation/ABI/testing/sysfs-bus-pci#L344-L355\n",
      "2023-09-02 10:28:27.854123: I tensorflow/compiler/xla/stream_executor/cuda/cuda_gpu_executor.cc:996] successful NUMA node read from SysFS had negative value (-1), but there must be at least one NUMA node, so returning NUMA node zero. See more at https://github.com/torvalds/linux/blob/v6.0/Documentation/ABI/testing/sysfs-bus-pci#L344-L355\n",
      "2023-09-02 10:28:27.854238: I tensorflow/compiler/xla/stream_executor/cuda/cuda_gpu_executor.cc:996] successful NUMA node read from SysFS had negative value (-1), but there must be at least one NUMA node, so returning NUMA node zero. See more at https://github.com/torvalds/linux/blob/v6.0/Documentation/ABI/testing/sysfs-bus-pci#L344-L355\n",
      "2023-09-02 10:28:27.854335: I tensorflow/core/common_runtime/gpu/gpu_device.cc:1635] Created device /job:localhost/replica:0/task:0/device:GPU:0 with 11066 MB memory:  -> device: 0, name: NVIDIA TITAN Xp COLLECTORS EDITION, pci bus id: 0000:02:00.0, compute capability: 6.1\n",
      "2023-09-02 10:28:27.854563: I tensorflow/compiler/xla/stream_executor/cuda/cuda_gpu_executor.cc:996] successful NUMA node read from SysFS had negative value (-1), but there must be at least one NUMA node, so returning NUMA node zero. See more at https://github.com/torvalds/linux/blob/v6.0/Documentation/ABI/testing/sysfs-bus-pci#L344-L355\n",
      "2023-09-02 10:28:27.854650: I tensorflow/core/common_runtime/gpu/gpu_device.cc:1635] Created device /job:localhost/replica:0/task:0/device:GPU:1 with 12 MB memory:  -> device: 1, name: NVIDIA GeForce GTX 1060 6GB, pci bus id: 0000:01:00.0, compute capability: 6.1\n"
     ]
    }
   ],
   "source": [
    "actor_nn = tf.keras.Sequential([\n",
    "    tf.keras.layers.Dense(20,activation=\"relu\"),\n",
    "    tf.keras.layers.Dense(10,activation=\"relu\"),\n",
    "    tf.keras.layers.Dense(2,activation=tf.nn.softmax)]\n",
    ")"
   ]
  },
  {
   "cell_type": "code",
   "execution_count": 9,
   "metadata": {},
   "outputs": [],
   "source": [
    "critic_nn = tf.keras.Sequential([\n",
    "    tf.keras.layers.Dense(20,activation=\"relu\"),\n",
    "    tf.keras.layers.Dense(1,activation=None)]\n",
    ")"
   ]
  },
  {
   "attachments": {},
   "cell_type": "markdown",
   "metadata": {},
   "source": [
    "environment = gym.make(\"CartPole-v0\",render_mode=\"rgb_array\")\n",
    "actor = PolicyModel(actor_nn)\n",
    "critic = VModel(critic_nn)\n",
    "\n",
    "state,_ = environment.reset()\n",
    "done = False\n",
    "total_reward = 0 \n",
    "iterations = 0\n",
    "epsilon = 0.0\n",
    "renders = [] # will store the environment frames to create a gif later\n",
    "\n",
    "while not done and iterations<=500:\n",
    "    action = actor.select_action(state)\n",
    "    new_state, reward, done, trunc, info = environment.step(action)\n",
    "    total_reward += reward\n",
    "    frame = environment.render()\n",
    "    renders.append(frame)\n",
    "    \n",
    "    if iterations % 1000 == 0:\n",
    "        print(f\"iteration {iterations} with total reward {total_reward}\")\n",
    "        \n",
    "    state = new_state\n",
    "    iterations += 1\n",
    "\n",
    "print(f\"Total reward {total_reward} in {iterations} iterations\")"
   ]
  },
  {
   "cell_type": "code",
   "execution_count": 10,
   "metadata": {},
   "outputs": [],
   "source": [
    "del actor_nn\n",
    "actor_nn = tf.keras.Sequential([\n",
    "    tf.keras.layers.Dense(4,activation=None),\n",
    "    tf.keras.layers.LeakyReLU(alpha=0.1),\n",
    "    tf.keras.layers.BatchNormalization(),\n",
    "\n",
    "    tf.keras.layers.Dense(4,activation=None),\n",
    "    tf.keras.layers.BatchNormalization(),\n",
    "    tf.keras.layers.LeakyReLU(alpha=0.1),\n",
    "\n",
    "    tf.keras.layers.Dense(environment.action_space.n,activation=tf.nn.softmax,kernel_initializer=\n",
    "                          tf.keras.initializers.RandomNormal(stddev=0.01))]\n",
    ")"
   ]
  },
  {
   "cell_type": "code",
   "execution_count": 11,
   "metadata": {},
   "outputs": [],
   "source": [
    "del critic_nn\n",
    "critic_nn = tf.keras.Sequential([\n",
    "    tf.keras.layers.Dense(4,activation=None),\n",
    "    tf.keras.layers.BatchNormalization(),\n",
    "    tf.keras.layers.LeakyReLU(alpha=0.1),\n",
    "\n",
    "    #tf.keras.layers.Dense(4,activation=None),\n",
    "    #tf.keras.layers.BatchNormalization(),\n",
    "    #tf.keras.layers.LeakyReLU(alpha=0.1),\n",
    "    \n",
    "    tf.keras.layers.Dense(1,activation=None,\n",
    "                          kernel_initializer=tf.keras.initializers.RandomNormal(stddev=0.05),\n",
    "                          #bias_initializer=tf.keras.initializers.RandomNormal()\n",
    "                          )]\n",
    ")"
   ]
  },
  {
   "cell_type": "code",
   "execution_count": 12,
   "metadata": {},
   "outputs": [
    {
     "name": "stdout",
     "output_type": "stream",
     "text": [
      "Episode 0, epsilon:1.0, total_reward 18.0, 18 iterations\n",
      "Episode 2, epsilon:0.9409, total_reward 12.0, 12 iterations\n",
      "Episode 4, epsilon:0.8852928099999999, total_reward 58.0, 58 iterations\n",
      "Episode 6, epsilon:0.8329720049289999, total_reward 19.0, 19 iterations\n",
      "Episode 8, epsilon:0.783743359437696, total_reward 12.0, 12 iterations\n",
      "Episode 10, epsilon:0.7374241268949281, total_reward 22.0, 22 iterations\n",
      "Episode 12, epsilon:0.6938423609954378, total_reward 25.0, 25 iterations\n",
      "Episode 14, epsilon:0.6528362774606075, total_reward 12.0, 12 iterations\n",
      "Episode 16, epsilon:0.6142536534626856, total_reward 16.0, 16 iterations\n",
      "Episode 18, epsilon:0.5779512625430409, total_reward 29.0, 29 iterations\n",
      "Episode 20, epsilon:0.5437943429267471, total_reward 19.0, 19 iterations\n"
     ]
    }
   ],
   "source": [
    "EPISODES = 500000 \n",
    "PRINT_EVERY = 2\n",
    "\n",
    "with tf.device('/GPU:0'):\n",
    "    rbf_sampler = FeatureTransformer(environment,10000,500)\n",
    "\n",
    "    actor = PolicyModel(actor_nn,lr=0.00001)\n",
    "    critic = VModel(environment,rbf_sampler,critic_nn,lr=0.00001)\n",
    "    \n",
    "\n",
    "\n",
    "    gamma  = 0.99#0.999 # disccount factor\n",
    "    epsilon_decay = 0.97 #\n",
    "    epsilon = 1.0 # start fully exploring\n",
    "    lambda_factor = 0.5 # 0 is 1 step td, 1 is monte carlo\n",
    "\n",
    "    total_rewards = []\n",
    "    total_iterations = []\n",
    "\n",
    "    for episode_num in range(EPISODES):\n",
    "        total_reward,iterations = run_episode(environment,actor,critic,epsilon,gamma,lambda_factor)\n",
    "        total_rewards.append(total_reward)\n",
    "        total_iterations.append(iterations)\n",
    "        \n",
    "\n",
    "        if episode_num % PRINT_EVERY == 0:\n",
    "            print(f\"Episode {episode_num}, epsilon:{epsilon}, total_reward {total_reward}, {iterations} iterations\")\n",
    "        epsilon = epsilon*epsilon_decay if epsilon > 0.05 else 0.05\n",
    "    print(f\"Mean reward for last 100 episodes:{np.array(total_rewards[-100:]).mean()}\")"
   ]
  },
  {
   "cell_type": "code",
   "execution_count": null,
   "metadata": {},
   "outputs": [],
   "source": [
    "environment.action_space.n"
   ]
  },
  {
   "cell_type": "code",
   "execution_count": null,
   "metadata": {},
   "outputs": [
    {
     "data": {
      "image/png": "[encoded data removed]",
      "text/plain": [
       "<Figure size 640x480 with 1 Axes>"
      ]
     },
     "metadata": {},
     "output_type": "display_data"
    },
    {
     "ename": "",
     "evalue": "",
     "output_type": "error",
     "traceback": [
      "\u001b[1;31mThe Kernel crashed while executing code in the the current cell or a previous cell. Please review the code in the cell(s) to identify a possible cause of the failure. Click <a href='https://aka.ms/vscodeJupyterKernelCrash'>here</a> for more info. View Jupyter <a href='command:jupyter.viewOutput'>log</a> for further details."
     ]
    }
   ],
   "source": [
    "df = pd.DataFrame(data=total_rewards,columns=[\"reward\"])\n",
    "df[\"running_mean\"] = df[\"reward\"].rolling(window=1).mean()\n",
    "plt.plot(df.running_mean[-20000:])\n",
    "plt.show()"
   ]
  },
  {
   "cell_type": "code",
   "execution_count": null,
   "metadata": {},
   "outputs": [],
   "source": [
    "np.array([np.random.choice([0,1]) for i in range(100000)]).mean()"
   ]
  },
  {
   "cell_type": "code",
   "execution_count": null,
   "metadata": {},
   "outputs": [],
   "source": [
    "np.array([np.random.choice([0,1],1,[0.1,0.9]) for i in range(100)]).mean(\n",
    ")"
   ]
  },
  {
   "cell_type": "code",
   "execution_count": null,
   "metadata": {},
   "outputs": [],
   "source": [
    "nums = []\n",
    "for i in range(100):\n",
    "    nums.append(np.random.choice(2,1,p=[0.1,0.9])[0])\n",
    "\n",
    "sum(nums)"
   ]
  },
  {
   "cell_type": "code",
   "execution_count": null,
   "metadata": {},
   "outputs": [],
   "source": []
  }
 ],
 "metadata": {
  "kernelspec": {
   "display_name": "python311_torch113_tf212",
   "language": "python",
   "name": "python3"
  },
  "language_info": {
   "codemirror_mode": {
    "name": "ipython",
    "version": 3
   },
   "file_extension": ".py",
   "mimetype": "text/x-python",
   "name": "python",
   "nbconvert_exporter": "python",
   "pygments_lexer": "ipython3",
   "version": "3.10.9"
  },
  "orig_nbformat": 4
 },
 "nbformat": 4,
 "nbformat_minor": 2
}
