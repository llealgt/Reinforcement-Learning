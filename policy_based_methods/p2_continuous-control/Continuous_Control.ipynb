{
 "cells": [
  {
   "cell_type": "markdown",
   "metadata": {},
   "source": [
    "# Continuous Control\n",
    "\n",
    "---\n",
    "\n",
    "In this notebook, you will learn how to use the Unity ML-Agents environment for the second project of the [Deep Reinforcement Learning Nanodegree](https://www.udacity.com/course/deep-reinforcement-learning-nanodegree--nd893) program.\n",
    "\n",
    "### 1. Start the Environment\n",
    "\n",
    "We begin by importing the necessary packages.  If the code cell below returns an error, please revisit the project instructions to double-check that you have installed [Unity ML-Agents](https://github.com/Unity-Technologies/ml-agents/blob/master/docs/Installation.md) and [NumPy](http://www.numpy.org/)."
   ]
  },
  {
   "cell_type": "code",
   "execution_count": 1,
   "metadata": {},
   "outputs": [],
   "source": [
    "from unityagents import UnityEnvironment\n",
    "import numpy as np\n",
    "import torch as torch\n",
    "import torch.nn.functional as F\n",
    "import matplotlib.pyplot as plt\n",
    "from collections import namedtuple,deque\n",
    "from torch import optim as optim\n",
    "import random"
   ]
  },
  {
   "cell_type": "markdown",
   "metadata": {},
   "source": [
    "Next, we will start the environment!  **_Before running the code cell below_**, change the `file_name` parameter to match the location of the Unity environment that you downloaded.\n",
    "\n",
    "- **Mac**: `\"path/to/Reacher.app\"`\n",
    "- **Windows** (x86): `\"path/to/Reacher_Windows_x86/Reacher.exe\"`\n",
    "- **Windows** (x86_64): `\"path/to/Reacher_Windows_x86_64/Reacher.exe\"`\n",
    "- **Linux** (x86): `\"path/to/Reacher_Linux/Reacher.x86\"`\n",
    "- **Linux** (x86_64): `\"path/to/Reacher_Linux/Reacher.x86_64\"`\n",
    "- **Linux** (x86, headless): `\"path/to/Reacher_Linux_NoVis/Reacher.x86\"`\n",
    "- **Linux** (x86_64, headless): `\"path/to/Reacher_Linux_NoVis/Reacher.x86_64\"`\n",
    "\n",
    "For instance, if you are using a Mac, then you downloaded `Reacher.app`.  If this file is in the same folder as the notebook, then the line below should appear as follows:\n",
    "```\n",
    "env = UnityEnvironment(file_name=\"Reacher.app\")\n",
    "```"
   ]
  },
  {
   "cell_type": "code",
   "execution_count": 2,
   "metadata": {},
   "outputs": [],
   "source": [
    "FILE_NAME = \"./Reacher_Linux/Reacher.x86_64\""
   ]
  },
  {
   "cell_type": "code",
   "execution_count": 3,
   "metadata": {},
   "outputs": [
    {
     "name": "stderr",
     "output_type": "stream",
     "text": [
      "INFO:unityagents:\n",
      "'Academy' started successfully!\n",
      "Unity Academy name: Academy\n",
      "        Number of Brains: 1\n",
      "        Number of External Brains : 1\n",
      "        Lesson number : 0\n",
      "        Reset Parameters :\n",
      "\t\tgoal_speed -> 1.0\n",
      "\t\tgoal_size -> 5.0\n",
      "Unity brain name: ReacherBrain\n",
      "        Number of Visual Observations (per agent): 0\n",
      "        Vector Observation space type: continuous\n",
      "        Vector Observation space size (per agent): 33\n",
      "        Number of stacked Vector Observation: 1\n",
      "        Vector Action space type: continuous\n",
      "        Vector Action space size (per agent): 4\n",
      "        Vector Action descriptions: , , , \n"
     ]
    }
   ],
   "source": [
    "env = UnityEnvironment(file_name=FILE_NAME)"
   ]
  },
  {
   "cell_type": "markdown",
   "metadata": {},
   "source": [
    "Environments contain **_brains_** which are responsible for deciding the actions of their associated agents. Here we check for the first brain available, and set it as the default brain we will be controlling from Python."
   ]
  },
  {
   "cell_type": "code",
   "execution_count": 4,
   "metadata": {},
   "outputs": [],
   "source": [
    "# get the default brain\n",
    "brain_name = env.brain_names[0]\n",
    "brain = env.brains[brain_name]"
   ]
  },
  {
   "cell_type": "markdown",
   "metadata": {},
   "source": [
    "### 2. Examine the State and Action Spaces\n",
    "\n",
    "In this environment, a double-jointed arm can move to target locations. A reward of `+0.1` is provided for each step that the agent's hand is in the goal location. Thus, the goal of your agent is to maintain its position at the target location for as many time steps as possible.\n",
    "\n",
    "The observation space consists of `33` variables corresponding to position, rotation, velocity, and angular velocities of the arm.  Each action is a vector with four numbers, corresponding to torque applicable to two joints.  Every entry in the action vector must be a number between `-1` and `1`.\n",
    "\n",
    "Run the code cell below to print some information about the environment."
   ]
  },
  {
   "cell_type": "code",
   "execution_count": 5,
   "metadata": {},
   "outputs": [
    {
     "name": "stdout",
     "output_type": "stream",
     "text": [
      "Number of agents: 1\n",
      "Size of each action: 4\n",
      "There are 1 agents. Each observes a state with length: 33\n",
      "The state for the first agent looks like: [ 0.00000000e+00 -4.00000000e+00  0.00000000e+00  1.00000000e+00\n",
      " -0.00000000e+00 -0.00000000e+00 -4.37113883e-08  0.00000000e+00\n",
      "  0.00000000e+00  0.00000000e+00  0.00000000e+00  0.00000000e+00\n",
      "  0.00000000e+00  0.00000000e+00 -1.00000000e+01  0.00000000e+00\n",
      "  1.00000000e+00 -0.00000000e+00 -0.00000000e+00 -4.37113883e-08\n",
      "  0.00000000e+00  0.00000000e+00  0.00000000e+00  0.00000000e+00\n",
      "  0.00000000e+00  0.00000000e+00  5.75471878e+00 -1.00000000e+00\n",
      "  5.55726671e+00  0.00000000e+00  1.00000000e+00  0.00000000e+00\n",
      " -1.68164849e-01]\n"
     ]
    }
   ],
   "source": [
    "# reset the environment\n",
    "env_info = env.reset(train_mode=True)[brain_name]\n",
    "\n",
    "# number of agents\n",
    "num_agents = len(env_info.agents)\n",
    "print('Number of agents:', num_agents)\n",
    "\n",
    "# size of each action\n",
    "action_size = brain.vector_action_space_size\n",
    "print('Size of each action:', action_size)\n",
    "\n",
    "# examine the state space \n",
    "states = env_info.vector_observations\n",
    "state_size = states.shape[1]\n",
    "print('There are {} agents. Each observes a state with length: {}'.format(states.shape[0], state_size))\n",
    "print('The state for the first agent looks like:', states[0])"
   ]
  },
  {
   "cell_type": "markdown",
   "metadata": {},
   "source": [
    "### 3. Take Random Actions in the Environment\n",
    "\n",
    "In the next code cell, you will learn how to use the Python API to control the agent and receive feedback from the environment.\n",
    "\n",
    "Once this cell is executed, you will watch the agent's performance, if it selects an action at random with each time step.  A window should pop up that allows you to observe the agent, as it moves through the environment.  \n",
    "\n",
    "Of course, as part of the project, you'll have to change the code so that the agent is able to use its experience to gradually choose better actions when interacting with the environment!"
   ]
  },
  {
   "cell_type": "code",
   "execution_count": 6,
   "metadata": {},
   "outputs": [
    {
     "name": "stdout",
     "output_type": "stream",
     "text": [
      "Total score (averaged over agents) this episode: 0.36999999172985554\n"
     ]
    }
   ],
   "source": [
    "env_info = env.reset(train_mode=True)[brain_name]     # reset the environment    \n",
    "states = env_info.vector_observations                  # get the current state (for each agent)\n",
    "scores = np.zeros(num_agents)                          # initialize the score (for each agent)\n",
    "while True:\n",
    "    actions = np.random.randn(num_agents, action_size) # select an action (for each agent)\n",
    "    actions = np.clip(actions, -1, 1)                  # all actions between -1 and 1\n",
    "    env_info = env.step(actions)[brain_name]           # send all actions to tne environment\n",
    "    next_states = env_info.vector_observations         # get next state (for each agent)\n",
    "    rewards = env_info.rewards                         # get reward (for each agent)\n",
    "    dones = env_info.local_done                        # see if episode finished\n",
    "    scores += env_info.rewards                         # update the score (for each agent)\n",
    "    states = next_states                               # roll over states to next time step\n",
    "    if np.any(dones):                                  # exit loop if episode finished\n",
    "        break\n",
    "print('Total score (averaged over agents) this episode: {}'.format(np.mean(scores)))"
   ]
  },
  {
   "cell_type": "markdown",
   "metadata": {},
   "source": [
    "When finished, you can close the environment."
   ]
  },
  {
   "cell_type": "code",
   "execution_count": 7,
   "metadata": {},
   "outputs": [],
   "source": [
    "#env.close()"
   ]
  },
  {
   "cell_type": "markdown",
   "metadata": {},
   "source": [
    "### 4. It's Your Turn!\n",
    "\n",
    "Now it's your turn to train your own agent to solve the environment!  When training the environment, set `train_mode=True`, so that the line for resetting the environment looks like the following:\n",
    "```python\n",
    "env_info = env.reset(train_mode=True)[brain_name]\n",
    "```"
   ]
  },
  {
   "cell_type": "code",
   "execution_count": 8,
   "metadata": {},
   "outputs": [],
   "source": [
    "STATE_SIZE = 33 #TODO: obtain it from unity env\n",
    "ACTION_SIZE = 4 #TODO: obtain it from unity env\n",
    "REPLAY_BUFFER_SIZE = 100000 #same as deepmind paper\n",
    "TRAIN_EVERY = 4  #same as DQN paper\n",
    "UPDATE_TARGET_NETWORK_EVERY = TRAIN_EVERY\n",
    "TAU = 0.001 #used for soft updates of target networks,same as deepmind paper\n",
    "BATCH_SIZE =64 #same as deepmind paper\n",
    "VISUALIZE_EVERY = 50 #how many episodes to train before watching unity env simulation\n",
    "PRINT_EVERY = 10 #how many steps to train before printing training info\n",
    "\n",
    "DESIRED_AVERAGE_SCORE = 33\n",
    "DESIRED_EPISODES_AVERAGE = 100"
   ]
  },
  {
   "cell_type": "code",
   "execution_count": 9,
   "metadata": {},
   "outputs": [
    {
     "name": "stdout",
     "output_type": "stream",
     "text": [
      "cuda:0\n"
     ]
    }
   ],
   "source": [
    "device = torch.device(\"cuda:0\" if torch.cuda.is_available() else \"cpu\")\n",
    "\n",
    "print(device)"
   ]
  },
  {
   "cell_type": "code",
   "execution_count": 10,
   "metadata": {},
   "outputs": [],
   "source": [
    "class ReplayBuffer:\n",
    "    \"\"\"Fixed-size buffer to store experience tuples for experience replay\"\"\"\n",
    "    def __init__(self,action_size,buffer_size):\n",
    "        \"\"\"Initialize a ReplayBuffer object.\n",
    "\n",
    "        Params\n",
    "        ======\n",
    "            action_size (int): dimension of each action\n",
    "            buffer_size (int): maximum size of buffer\n",
    "        \"\"\"\n",
    "        self.action_size =  action_size\n",
    "        self.buffer_size = buffer_size\n",
    "        self.memory  = deque(maxlen = buffer_size)\n",
    "        self.experience = namedtuple(\"Experience\",field_names=[\"state\", \"action\", \"reward\", \"next_state\", \"done\"])\n",
    "        \n",
    "    def add(self,state,action,reward,next_state,done):\n",
    "        \"Add a new experience tuple to replay buffer\"\n",
    "        new_experience = self.experience(state,action,reward,next_state,done)\n",
    "        self.memory.append(new_experience)\n",
    "        \n",
    "    def sample(self,batch_size):\n",
    "        \"Get a sample of the buffer of size=batch_size\"\n",
    "        experience_batch = random.sample(self.memory,k=batch_size)\n",
    "        \n",
    "        states =  torch.from_numpy(np.vstack([e.state  for e in experience_batch if e is not None])).float().to(device)\n",
    "        actions = torch.from_numpy(np.vstack([e.action for e in experience_batch if e is not None])).float().to(device)\n",
    "        rewards = torch.from_numpy(np.vstack([e.reward for e in experience_batch if e is not None])).float().to(device)\n",
    "        next_states = torch.from_numpy(np.vstack([e.next_state for e in experience_batch if e is not None])).float().to(device)\n",
    "        dones = torch.from_numpy(np.vstack([e.done for e in experience_batch if e is not None]).astype(np.uint8)).to(device)\n",
    "        \n",
    "        return (states,actions,rewards,next_states,dones)\n",
    "    \n",
    "    def __len__(self):\n",
    "        \"\"\"\"Return the current size of internal memory.\"\"\"\n",
    "        return len(self.memory)"
   ]
  },
  {
   "cell_type": "code",
   "execution_count": 11,
   "metadata": {},
   "outputs": [],
   "source": [
    "import copy\n",
    "class OUNoise:\n",
    "    \"\"\"Orstein-uhlenbeck process\"\"\"\n",
    "    \n",
    "    def __init__(self,size,mu=0.0,theta=0.15,sigma=0.2):\n",
    "        self.size = size\n",
    "        self.mu = mu*np.ones(size)\n",
    "        self.theta = theta\n",
    "        self.sigma = sigma\n",
    "        self.reset()\n",
    "        \n",
    "    def reset(self):\n",
    "        self.state = copy.copy(self.mu)\n",
    "        \n",
    "    def sample(self):\n",
    "        x = self.state\n",
    "        dx = self.theta * (self.mu - x) + self.sigma * np.random.standard_normal(self.size)\n",
    "        self.state = x + dx\n",
    "        \n",
    "        \n",
    "        return self.state"
   ]
  },
  {
   "cell_type": "code",
   "execution_count": 12,
   "metadata": {},
   "outputs": [],
   "source": [
    "def hidden_init(layer):\n",
    "    fan_in = layer.weight.data.size()[0]\n",
    "    lim = 1. / np.sqrt(fan_in)\n",
    "    return (-lim, lim)"
   ]
  },
  {
   "cell_type": "code",
   "execution_count": 13,
   "metadata": {},
   "outputs": [],
   "source": [
    "class Actor(torch.nn.Module):\n",
    "    def __init__(self,state_size,action_size):\n",
    "        super(Actor,self).__init__()\n",
    "        self.action_size = action_size\n",
    "        self.fc1 = torch.nn.Linear(state_size,400)\n",
    "        #torch.nn.init.xavier_uniform_(self.fc1.weight)\n",
    "        #self.bn1 = torch.nn.BatchNorm1d(num_features = state_size)\n",
    "        self.fc2 = torch.nn.Linear(400,300)\n",
    "        #torch.nn.init.xavier_uniform_(self.fc2.weight)\n",
    "        self.fc_output = torch.nn.Linear(300,action_size)\n",
    "        #torch.nn.init.xavier_uniform_(self.fc_output.weight,gain=0.01)\n",
    "        self.reset_parameters()\n",
    "    \n",
    "    def forward(self,x):\n",
    "        #x = F.relu(self.fc1(self.bn1(x)))\n",
    "        x = F.relu(self.fc1(x))\n",
    "        x = F.relu(self.fc2(x))\n",
    "        \n",
    "        y = F.tanh(self.fc_output(x))\n",
    "        #y = self.fc_output(x)\n",
    "        return y\n",
    "    \n",
    "    def reset_parameters(self):\n",
    "        self.fc1.weight.data.uniform_(*hidden_init(self.fc1))\n",
    "        self.fc2.weight.data.uniform_(*hidden_init(self.fc2))\n",
    "        self.fc_output.weight.data.uniform_(-3e-3, 3e-3)"
   ]
  },
  {
   "cell_type": "code",
   "execution_count": 14,
   "metadata": {},
   "outputs": [],
   "source": [
    "class Critic(torch.nn.Module):\n",
    "    def __init__(self,state_size,action_size):\n",
    "        super(Critic,self).__init__()\n",
    "        self.fc1 = torch.nn.Linear(state_size+action_size,400)\n",
    "        #torch.nn.init.xavier_uniform_(self.fc1.weight)\n",
    "        #self.bn1 = torch.nn.BatchNorm1d(num_features=state_size)\n",
    "        self.fc2 = torch.nn.Linear(400,300)\n",
    "        #torch.nn.init.xavier_uniform_(self.fc2.weight)\n",
    "        self.fc_output = torch.nn.Linear(300,1)\n",
    "        #torch.nn.init.xavier_uniform_(self.fc_output.weight,gain=0.01)\n",
    "        self.reset_parameters()\n",
    "    \n",
    "    def forward(self,x,actions):\n",
    "        #x_norm = self.bn1(x)\n",
    "        #x = torch.cat((x_norm,actions),dim=1)\n",
    "        x = torch.cat((x,actions),dim=1)\n",
    "        x = F.relu(self.fc1(x))\n",
    "        x = F.relu(self.fc2(x))\n",
    "        \n",
    "        y = self.fc_output(x)\n",
    "        \n",
    "        return y\n",
    "    \n",
    "    def reset_parameters(self):\n",
    "        self.fc1.weight.data.uniform_(*hidden_init(self.fc1))\n",
    "        self.fc2.weight.data.uniform_(*hidden_init(self.fc2))\n",
    "        self.fc_output.weight.data.uniform_(-3e-4, 3e-4)"
   ]
  },
  {
   "cell_type": "code",
   "execution_count": 15,
   "metadata": {},
   "outputs": [],
   "source": [
    "class Agent:\n",
    "    def __init__(self,state_size,action_size,replay_buffer_size,device):\n",
    "        self.actor_local = Actor(state_size,action_size).to(device)\n",
    "        self.critic_local = Critic(state_size,action_size).to(device)\n",
    "        self.actor_target =  Actor(state_size,action_size).to(device)\n",
    "        self.critic_target = Critic(state_size,action_size).to(device)\n",
    "        \n",
    "        self.device = device\n",
    "        \n",
    "        self.replay_buffer = ReplayBuffer(action_size,replay_buffer_size)\n",
    "        \n",
    "        #start target networks with copy of local networks(tau=1)\n",
    "        self.update_target_actor(1)\n",
    "        self.update_target_critic(1)\n",
    "        self.actor_target.eval()\n",
    "        self.critic_target.eval()\n",
    "        \n",
    "        # same learning rate used in deepmind paper https://arxiv.org/pdf/1509.02971.pdf\n",
    "        self.actor_optimizer = optim.Adam(self.actor_local.parameters(),lr=3e-4)\n",
    "        self.critic_optimizer = optim.Adam(self.critic_local.parameters(),lr=3e-4)\n",
    "        \n",
    "        #noise\n",
    "        self.noise = OUNoise(size=action_size)\n",
    "        \n",
    "        self.critic_losses = []\n",
    "        self.actor_losses = []\n",
    "        \n",
    "    def act(self,state):\n",
    "        state = torch.from_numpy(state).float().unsqueeze(0).to(self.device)\n",
    "        \n",
    "        # get action from actor in evaluation mode and specifying no need no gradient is needed,\n",
    "        #after that return to train mode\n",
    "        self.actor_local.eval()\n",
    "        with torch.no_grad():\n",
    "            action = self.actor_local(state).cpu().data.numpy()\n",
    "            \n",
    "        self.actor_local.train()\n",
    "        noise = self.noise.sample()\n",
    "        #print(action,noise)\n",
    "        action = np.clip(action + noise,-1,1)\n",
    "        #print(action)\n",
    "        \n",
    "        \n",
    "        return action\n",
    "    \n",
    "    def train(self,batch_size,step_num=0,print_every= 100):\n",
    "        (states, actions, rewards, next_states, dones) = self.replay_buffer.sample(batch_size)\n",
    "        \n",
    "        \n",
    "        # train critic\n",
    "        self.actor_target.eval()\n",
    "        self.critic_target.eval()\n",
    "        \n",
    "        with torch.no_grad():\n",
    "            next_target_actions = self.actor_target(next_states)\n",
    "            #next_states_stack_actions = torch.cat((next_states,next_target_actions),dim=1)\n",
    "            target_q_values = self.critic_target(next_states,next_target_actions)\n",
    "            target_return  = rewards + 0.99*target_q_values#*(1.0-dones)\n",
    "        \n",
    "        #next_target_actions = self.actor_target(next_states)\n",
    "            #next_states_stack_actions = torch.cat((next_states,next_target_actions),dim=1)\n",
    "        #target_q_values = self.critic_target(next_states,next_target_actions)\n",
    "        #target_return  = rewards + 0.99*target_q_values#*(1.0-dones)\n",
    "            \n",
    "        #concatenate(stack) states and actions to feed to q network wich returns a value\n",
    "        #states_stack_actions = torch.cat((states,actions),dim=1)\n",
    "        self.critic_local.train()\n",
    "        \n",
    "        current_critic_estimate = self.critic_local(states,actions)\n",
    "        critic_mse_loss = F.mse_loss(current_critic_estimate,target_return)\n",
    "        \n",
    "        self.critic_optimizer.zero_grad()\n",
    "        critic_mse_loss.backward()\n",
    "        torch.nn.utils.clip_grad_norm_(self.critic_local.parameters(),1)\n",
    "        self.critic_optimizer.step()\n",
    "        \n",
    "        #train actor\n",
    "        local_actions = self.actor_local(states)\n",
    "        #actor_states_stack_actions = torch.cat((states,local_actions),dim=1)\n",
    "        actor_mse_loss = -self.critic_local(states,local_actions).mean()\n",
    "        \n",
    "        self.actor_optimizer.zero_grad()\n",
    "        actor_mse_loss.backward()\n",
    "        self.actor_optimizer.step()\n",
    "        \n",
    "        if step_num % print_every == 0:\n",
    "            self.actor_losses.append(actor_mse_loss.cpu().data.numpy())\n",
    "            self.critic_losses.append(critic_mse_loss.cpu().data.numpy())\n",
    "    \n",
    "    \n",
    "    def update_target_network(self,local_network,target_network,tau):\n",
    "        \"\"\"\n",
    "        Do a soft update of target network with local network\n",
    "        Params:\n",
    "            local_network: PyTorch model (weights will be copied from)\n",
    "            target_network: PyTorch model (weights will be copied to)\n",
    "            tau (float): interpolation parameter \n",
    "        \"\"\"\n",
    "        for target_param,local_param in zip(target_network.parameters(),local_network.parameters()):\n",
    "            target_param.data.copy_(tau*local_param.data + (1.0 - tau)*target_param.data)\n",
    "        \"\"\"for target_param, local_param in zip(target_network.parameters(), local_network.parameters()):\n",
    "            target_param.data.copy_(local_param.data )\"\"\"\n",
    "        \n",
    "            \n",
    "    def update_target_actor(self,tau):\n",
    "        self.update_target_network(self.actor_local,self.actor_target,tau)\n",
    "        \n",
    "    def update_target_critic(self,tau):\n",
    "        self.update_target_network(self.critic_local,self.critic_target,tau)"
   ]
  },
  {
   "cell_type": "code",
   "execution_count": 16,
   "metadata": {},
   "outputs": [],
   "source": [
    "#actor = Actor(STATE_SIZE,ACTION_SIZE)\n",
    "#critic = Critic(STATE_SIZE)\n",
    "\n",
    "agent = Agent(STATE_SIZE,ACTION_SIZE,REPLAY_BUFFER_SIZE,device)"
   ]
  },
  {
   "cell_type": "code",
   "execution_count": 19,
   "metadata": {},
   "outputs": [
    {
     "name": "stdout",
     "output_type": "stream",
     "text": [
      "Episode:10 steps:1001 episode_reward:0.7499999832361937 last n mean rew.0.7429999833926558\n",
      "Episode:20 steps:1001 episode_reward:0.30999999307096004 last n mean rew.0.7529999831691384\n",
      "Episode:30 steps:1001 episode_reward:0.6899999845772982 last n mean rew.0.8659999806433916\n",
      "Episode:40 steps:1001 episode_reward:1.4699999671429396 last n mean rew.0.9202499794308097\n",
      "Episode:50 steps:1001 episode_reward:3.9599999114871025 last n mean rew.1.1565999741479756\n",
      "Episode:60 steps:1001 episode_reward:2.6899999398738146 last n mean rew.1.4058333019105096\n",
      "Episode:70 steps:1001 episode_reward:3.7499999161809683 last n mean rew.1.7284285327951823\n",
      "Episode:80 steps:1001 episode_reward:4.019999910145998 last n mean rew.2.105374952941202\n",
      "Episode:90 steps:1001 episode_reward:15.429999655112624 last n mean rew.2.4505555007813706\n",
      "Episode:100 steps:1001 episode_reward:4.419999901205301 last n mean rew.2.6595999405533077\n",
      "Episode:110 steps:1001 episode_reward:9.859999779611826 last n mean rew.3.2974999262951314\n",
      "Episode:120 steps:1001 episode_reward:7.519999831914902 last n mean rew.3.960899911466986\n",
      "Episode:130 steps:1001 episode_reward:9.339999791234732 last n mean rew.4.747499893885106\n",
      "Episode:140 steps:1001 episode_reward:11.439999744296074 last n mean rew.5.594499874953181\n",
      "Episode:150 steps:1001 episode_reward:8.78999980352819 last n mean rew.6.406599856801331\n",
      "Episode:160 steps:1001 episode_reward:10.349999768659472 last n mean rew.7.271799837462604\n",
      "Episode:170 steps:1001 episode_reward:12.329999724403024 last n mean rew.8.151399817802012\n",
      "Episode:180 steps:1001 episode_reward:9.9899997767061 last n mean rew.8.83809980245307\n",
      "Episode:190 steps:1001 episode_reward:9.779999781399965 last n mean rew.9.712699782904238\n",
      "Episode:200 steps:1001 episode_reward:15.939999643713236 last n mean rew.10.42619976695627\n",
      "Episode:210 steps:1001 episode_reward:22.219999503344297 last n mean rew.11.114299751576036\n",
      "Episode:220 steps:1001 episode_reward:11.96999973244965 last n mean rew.11.722499737981707\n",
      "Episode:230 steps:1001 episode_reward:15.039999663829803 last n mean rew.12.336099724266678\n",
      "Episode:240 steps:1001 episode_reward:13.699999693781137 last n mean rew.12.813999713584781\n",
      "Episode:250 steps:1001 episode_reward:17.109999617561698 last n mean rew.13.58939969625324\n",
      "Episode:260 steps:1001 episode_reward:28.879999354481697 last n mean rew.14.29789968041703\n",
      "Episode:270 steps:1001 episode_reward:11.449999744072556 last n mean rew.14.545199674889446\n",
      "Episode:280 steps:1001 episode_reward:22.69999949261546 last n mean rew.15.434099655020981\n",
      "Episode:290 steps:1001 episode_reward:17.07999961823225 last n mean rew.16.047299641314893\n",
      "Episode:300 steps:1001 episode_reward:27.139999393373728 last n mean rew.17.01579961966723\n",
      "Episode:310 steps:1001 episode_reward:24.12999946065247 last n mean rew.18.008699597474187\n",
      "Episode:320 steps:1001 episode_reward:34.96999921835959 last n mean rew.19.149199571982027\n",
      "Episode:330 steps:1001 episode_reward:25.619999427348375 last n mean rew.19.91209955492988\n",
      "Episode:340 steps:1001 episode_reward:30.00999932922423 last n mean rew.20.998999530635775\n",
      "Episode:350 steps:1001 episode_reward:25.12999943830073 last n mean rew.21.466699520181866\n",
      "Episode:360 steps:1001 episode_reward:29.00999935157597 last n mean rew.22.353799500353634\n",
      "Episode:370 steps:1001 episode_reward:30.149999326094985 last n mean rew.23.692399470433593\n",
      "Episode:380 steps:1001 episode_reward:28.599999360740185 last n mean rew.24.536399451568723\n",
      "Episode:390 steps:1001 episode_reward:31.55999929457903 last n mean rew.25.560999428667127\n",
      "Episode:400 steps:1001 episode_reward:37.98999915085733 last n mean rew.26.380599410347642\n",
      "Episode:410 steps:1001 episode_reward:26.969999397173524 last n mean rew.27.097699394319207\n",
      "Episode:420 steps:1001 episode_reward:28.909999353811145 last n mean rew.27.888399376645683\n",
      "Episode:430 steps:1001 episode_reward:33.289999255910516 last n mean rew.28.674199359081687\n",
      "Episode:440 steps:1001 episode_reward:33.73999924585223 last n mean rew.29.48369934098795\n",
      "Episode:450 steps:1001 episode_reward:33.749999245628715 last n mean rew.30.617299315650016\n",
      "Episode:460 steps:1001 episode_reward:37.01999917253852 last n mean rew.31.311899300124495\n",
      "Episode:470 steps:1001 episode_reward:35.28999921120703 last n mean rew.31.653199292495845\n",
      "Episode:480 steps:1001 episode_reward:36.42999918572605 last n mean rew.32.24869927918539\n",
      "Episode:490 steps:1001 episode_reward:30.159999325871468 last n mean rew.32.75369926789776\n",
      "Solved in 495 episodes\n"
     ]
    }
   ],
   "source": [
    "def train(agent,episodes,visualize_every,print_every):\n",
    "    \n",
    "    total_rewards = []\n",
    "    episode_window_scores = deque(maxlen = DESIRED_EPISODES_AVERAGE)\n",
    "    \n",
    "    for episode in range(1,episodes+1):\n",
    "        finished = False\n",
    "        step_count = 0\n",
    "        episode_rewards = []\n",
    "        episode_return = 0\n",
    "        \n",
    "        agent.noise.reset()\n",
    "        train_mode = not(episode%visualize_every == 0)\n",
    "        env_info = env.reset(train_mode=train_mode)[brain_name]\n",
    "        state = env_info.vector_observations[0]\n",
    "        \n",
    "    \n",
    "        \n",
    "        while not finished:\n",
    "            action = agent.act(state)\n",
    "            \n",
    "            env_info = env.step(action)[brain_name]\n",
    "            next_state = env_info.vector_observations[0]\n",
    "            reward = env_info.rewards[0]\n",
    "            finished = env_info.local_done[0]\n",
    "            \n",
    "            # add experience to replay buffer\n",
    "            agent.replay_buffer.add(state,action,reward,next_state,finished)\n",
    "            episode_return += reward\n",
    "            episode_rewards.append(reward)\n",
    "            \n",
    "            #critic_loss(reward,state,next_state,device)\n",
    "            \n",
    "            #critic_loss = 0.0001*td_error*agent.critic()\n",
    "            \n",
    "            state = next_state\n",
    "            \n",
    "            if step_count % TRAIN_EVERY == 0 and len(agent.replay_buffer) >= BATCH_SIZE:\n",
    "                agent.train(BATCH_SIZE,step_count,100)\n",
    "            \n",
    "            if step_count % UPDATE_TARGET_NETWORK_EVERY == 0 and len(agent.replay_buffer) >= BATCH_SIZE:\n",
    "                agent.update_target_actor(TAU)\n",
    "                agent.update_target_critic(TAU)\n",
    "                \n",
    "            step_count += 1\n",
    "                \n",
    "        total_rewards.append(episode_return)\n",
    "        episode_window_scores.append(episode_return)\n",
    "        \n",
    "        if episode % print_every == 0:\n",
    "            print(\"Episode:{} steps:{} episode_reward:{} last n mean rew.{}\".format(episode, step_count,\n",
    "                                                                                    episode_return,np.mean(episode_window_scores)))\n",
    "                \n",
    "    \n",
    "        \n",
    "        \n",
    "        if np.mean(episode_window_scores) >= DESIRED_AVERAGE_SCORE:\n",
    "            print(\"Solved in {} episodes\".format(episode))\n",
    "            checkpoint_name = \"checkpoint_solved_\"+str(episode)+\".pth\"\n",
    "            torch.save(agent.actor_local.state_dict(), \"actor_\"+ checkpoint_name)\n",
    "            torch.save(agent.critic_local.state_dict(),\"critic_\"+checkpoint_name)\n",
    "            solved = True\n",
    "            break\n",
    "            \n",
    "    return total_rewards\n",
    "        \n",
    "        \n",
    "\n",
    "rewards = train(agent,1000,VISUALIZE_EVERY,PRINT_EVERY)"
   ]
  },
  {
   "cell_type": "markdown",
   "metadata": {},
   "source": [
    "## Train plots"
   ]
  },
  {
   "cell_type": "markdown",
   "metadata": {},
   "source": [
    "#### Rewards"
   ]
  },
  {
   "cell_type": "code",
   "execution_count": 20,
   "metadata": {},
   "outputs": [
    {
     "data": {
      "text/plain": [
       "[<matplotlib.lines.Line2D at 0x7f825d12bd30>]"
      ]
     },
     "execution_count": 20,
     "metadata": {},
     "output_type": "execute_result"
    },
    {
     "data": {
      "image/png": "[encoded data removed]",
      "text/plain": [
       "<Figure size 432x288 with 1 Axes>"
      ]
     },
     "metadata": {
      "needs_background": "light"
     },
     "output_type": "display_data"
    }
   ],
   "source": [
    "plt.plot(rewards)"
   ]
  },
  {
   "cell_type": "markdown",
   "metadata": {},
   "source": [
    "#### Critic loss"
   ]
  },
  {
   "cell_type": "code",
   "execution_count": 21,
   "metadata": {},
   "outputs": [
    {
     "data": {
      "text/plain": [
       "[<matplotlib.lines.Line2D at 0x7f825cc75978>]"
      ]
     },
     "execution_count": 21,
     "metadata": {},
     "output_type": "execute_result"
    },
    {
     "data": {
      "image/png": "[encoded data removed]",
      "text/plain": [
       "<Figure size 432x288 with 1 Axes>"
      ]
     },
     "metadata": {
      "needs_background": "light"
     },
     "output_type": "display_data"
    }
   ],
   "source": [
    "plt.plot(agent.critic_losses)"
   ]
  },
  {
   "cell_type": "markdown",
   "metadata": {},
   "source": [
    "#### Actor Loss"
   ]
  },
  {
   "cell_type": "code",
   "execution_count": 22,
   "metadata": {},
   "outputs": [
    {
     "data": {
      "text/plain": [
       "[<matplotlib.lines.Line2D at 0x7f825cbe04a8>]"
      ]
     },
     "execution_count": 22,
     "metadata": {},
     "output_type": "execute_result"
    },
    {
     "data": {
      "image/png": "[encoded data removed]",
      "text/plain": [
       "<Figure size 432x288 with 1 Axes>"
      ]
     },
     "metadata": {
      "needs_background": "light"
     },
     "output_type": "display_data"
    }
   ],
   "source": [
    "plt.plot(agent.actor_losses)"
   ]
  },
  {
   "cell_type": "code",
   "execution_count": null,
   "metadata": {},
   "outputs": [],
   "source": []
  }
 ],
 "metadata": {
  "kernelspec": {
   "display_name": "Python 3",
   "language": "python",
   "name": "python3"
  },
  "language_info": {
   "codemirror_mode": {
    "name": "ipython",
    "version": 3
   },
   "file_extension": ".py",
   "mimetype": "text/x-python",
   "name": "python",
   "nbconvert_exporter": "python",
   "pygments_lexer": "ipython3",
   "version": "3.6.8"
  }
 },
 "nbformat": 4,
 "nbformat_minor": 2
}
