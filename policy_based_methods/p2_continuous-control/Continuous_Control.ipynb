{
 "cells": [
  {
   "cell_type": "markdown",
   "metadata": {},
   "source": [
    "# Continuous Control\n",
    "\n",
    "---\n",
    "\n",
    "In this notebook, you will learn how to use the Unity ML-Agents environment for the second project of the [Deep Reinforcement Learning Nanodegree](https://www.udacity.com/course/deep-reinforcement-learning-nanodegree--nd893) program.\n",
    "\n",
    "### 1. Start the Environment\n",
    "\n",
    "We begin by importing the necessary packages.  If the code cell below returns an error, please revisit the project instructions to double-check that you have installed [Unity ML-Agents](https://github.com/Unity-Technologies/ml-agents/blob/master/docs/Installation.md) and [NumPy](http://www.numpy.org/)."
   ]
  },
  {
   "cell_type": "code",
   "execution_count": 1,
   "metadata": {},
   "outputs": [],
   "source": [
    "from unityagents import UnityEnvironment\n",
    "import numpy as np\n",
    "import torch as torch\n",
    "import torch.nn.functional as F\n",
    "import matplotlib.pyplot as plt\n",
    "from collections import namedtuple,deque\n",
    "from torch import optim as optim\n",
    "import random"
   ]
  },
  {
   "cell_type": "markdown",
   "metadata": {},
   "source": [
    "Next, we will start the environment!  **_Before running the code cell below_**, change the `file_name` parameter to match the location of the Unity environment that you downloaded.\n",
    "\n",
    "- **Mac**: `\"path/to/Reacher.app\"`\n",
    "- **Windows** (x86): `\"path/to/Reacher_Windows_x86/Reacher.exe\"`\n",
    "- **Windows** (x86_64): `\"path/to/Reacher_Windows_x86_64/Reacher.exe\"`\n",
    "- **Linux** (x86): `\"path/to/Reacher_Linux/Reacher.x86\"`\n",
    "- **Linux** (x86_64): `\"path/to/Reacher_Linux/Reacher.x86_64\"`\n",
    "- **Linux** (x86, headless): `\"path/to/Reacher_Linux_NoVis/Reacher.x86\"`\n",
    "- **Linux** (x86_64, headless): `\"path/to/Reacher_Linux_NoVis/Reacher.x86_64\"`\n",
    "\n",
    "For instance, if you are using a Mac, then you downloaded `Reacher.app`.  If this file is in the same folder as the notebook, then the line below should appear as follows:\n",
    "```\n",
    "env = UnityEnvironment(file_name=\"Reacher.app\")\n",
    "```"
   ]
  },
  {
   "cell_type": "code",
   "execution_count": 2,
   "metadata": {},
   "outputs": [],
   "source": [
    "FILE_NAME = \"./Reacher_Linux/Reacher.x86_64\""
   ]
  },
  {
   "cell_type": "code",
   "execution_count": 3,
   "metadata": {},
   "outputs": [
    {
     "name": "stderr",
     "output_type": "stream",
     "text": [
      "INFO:unityagents:\n",
      "'Academy' started successfully!\n",
      "Unity Academy name: Academy\n",
      "        Number of Brains: 1\n",
      "        Number of External Brains : 1\n",
      "        Lesson number : 0\n",
      "        Reset Parameters :\n",
      "\t\tgoal_speed -> 1.0\n",
      "\t\tgoal_size -> 5.0\n",
      "Unity brain name: ReacherBrain\n",
      "        Number of Visual Observations (per agent): 0\n",
      "        Vector Observation space type: continuous\n",
      "        Vector Observation space size (per agent): 33\n",
      "        Number of stacked Vector Observation: 1\n",
      "        Vector Action space type: continuous\n",
      "        Vector Action space size (per agent): 4\n",
      "        Vector Action descriptions: , , , \n"
     ]
    }
   ],
   "source": [
    "env = UnityEnvironment(file_name=FILE_NAME)"
   ]
  },
  {
   "cell_type": "markdown",
   "metadata": {},
   "source": [
    "Environments contain **_brains_** which are responsible for deciding the actions of their associated agents. Here we check for the first brain available, and set it as the default brain we will be controlling from Python."
   ]
  },
  {
   "cell_type": "code",
   "execution_count": 4,
   "metadata": {},
   "outputs": [],
   "source": [
    "# get the default brain\n",
    "brain_name = env.brain_names[0]\n",
    "brain = env.brains[brain_name]"
   ]
  },
  {
   "cell_type": "markdown",
   "metadata": {},
   "source": [
    "### 2. Examine the State and Action Spaces\n",
    "\n",
    "In this environment, a double-jointed arm can move to target locations. A reward of `+0.1` is provided for each step that the agent's hand is in the goal location. Thus, the goal of your agent is to maintain its position at the target location for as many time steps as possible.\n",
    "\n",
    "The observation space consists of `33` variables corresponding to position, rotation, velocity, and angular velocities of the arm.  Each action is a vector with four numbers, corresponding to torque applicable to two joints.  Every entry in the action vector must be a number between `-1` and `1`.\n",
    "\n",
    "Run the code cell below to print some information about the environment."
   ]
  },
  {
   "cell_type": "code",
   "execution_count": 5,
   "metadata": {},
   "outputs": [
    {
     "name": "stdout",
     "output_type": "stream",
     "text": [
      "Number of agents: 1\n",
      "Size of each action: 4\n",
      "There are 1 agents. Each observes a state with length: 33\n",
      "The state for the first agent looks like: [ 0.00000000e+00 -4.00000000e+00  0.00000000e+00  1.00000000e+00\n",
      " -0.00000000e+00 -0.00000000e+00 -4.37113883e-08  0.00000000e+00\n",
      "  0.00000000e+00  0.00000000e+00  0.00000000e+00  0.00000000e+00\n",
      "  0.00000000e+00  0.00000000e+00 -1.00000000e+01  0.00000000e+00\n",
      "  1.00000000e+00 -0.00000000e+00 -0.00000000e+00 -4.37113883e-08\n",
      "  0.00000000e+00  0.00000000e+00  0.00000000e+00  0.00000000e+00\n",
      "  0.00000000e+00  0.00000000e+00  5.75471878e+00 -1.00000000e+00\n",
      "  5.55726671e+00  0.00000000e+00  1.00000000e+00  0.00000000e+00\n",
      " -1.68164849e-01]\n"
     ]
    }
   ],
   "source": [
    "# reset the environment\n",
    "env_info = env.reset(train_mode=True)[brain_name]\n",
    "\n",
    "# number of agents\n",
    "num_agents = len(env_info.agents)\n",
    "print('Number of agents:', num_agents)\n",
    "\n",
    "# size of each action\n",
    "action_size = brain.vector_action_space_size\n",
    "print('Size of each action:', action_size)\n",
    "\n",
    "# examine the state space \n",
    "states = env_info.vector_observations\n",
    "state_size = states.shape[1]\n",
    "print('There are {} agents. Each observes a state with length: {}'.format(states.shape[0], state_size))\n",
    "print('The state for the first agent looks like:', states[0])"
   ]
  },
  {
   "cell_type": "markdown",
   "metadata": {},
   "source": [
    "### 3. Take Random Actions in the Environment\n",
    "\n",
    "In the next code cell, you will learn how to use the Python API to control the agent and receive feedback from the environment.\n",
    "\n",
    "Once this cell is executed, you will watch the agent's performance, if it selects an action at random with each time step.  A window should pop up that allows you to observe the agent, as it moves through the environment.  \n",
    "\n",
    "Of course, as part of the project, you'll have to change the code so that the agent is able to use its experience to gradually choose better actions when interacting with the environment!"
   ]
  },
  {
   "cell_type": "code",
   "execution_count": 6,
   "metadata": {},
   "outputs": [
    {
     "name": "stdout",
     "output_type": "stream",
     "text": [
      "Total score (averaged over agents) this episode: 0.6599999852478504\n"
     ]
    }
   ],
   "source": [
    "env_info = env.reset(train_mode=False)[brain_name]     # reset the environment    \n",
    "states = env_info.vector_observations                  # get the current state (for each agent)\n",
    "scores = np.zeros(num_agents)                          # initialize the score (for each agent)\n",
    "while True:\n",
    "    actions = np.random.randn(num_agents, action_size) # select an action (for each agent)\n",
    "    actions = np.clip(actions, -1, 1)                  # all actions between -1 and 1\n",
    "    env_info = env.step(actions)[brain_name]           # send all actions to tne environment\n",
    "    next_states = env_info.vector_observations         # get next state (for each agent)\n",
    "    rewards = env_info.rewards                         # get reward (for each agent)\n",
    "    dones = env_info.local_done                        # see if episode finished\n",
    "    scores += env_info.rewards                         # update the score (for each agent)\n",
    "    states = next_states                               # roll over states to next time step\n",
    "    if np.any(dones):                                  # exit loop if episode finished\n",
    "        break\n",
    "print('Total score (averaged over agents) this episode: {}'.format(np.mean(scores)))"
   ]
  },
  {
   "cell_type": "markdown",
   "metadata": {},
   "source": [
    "When finished, you can close the environment."
   ]
  },
  {
   "cell_type": "code",
   "execution_count": 7,
   "metadata": {},
   "outputs": [],
   "source": [
    "#env.close()"
   ]
  },
  {
   "cell_type": "markdown",
   "metadata": {},
   "source": [
    "### 4. It's Your Turn!\n",
    "\n",
    "Now it's your turn to train your own agent to solve the environment!  When training the environment, set `train_mode=True`, so that the line for resetting the environment looks like the following:\n",
    "```python\n",
    "env_info = env.reset(train_mode=True)[brain_name]\n",
    "```"
   ]
  },
  {
   "cell_type": "code",
   "execution_count": 8,
   "metadata": {},
   "outputs": [],
   "source": [
    "STATE_SIZE = 33 #TODO: obtain it from unity env\n",
    "ACTION_SIZE = 4 #TODO: obtain it from unity env\n",
    "REPLAY_BUFFER_SIZE = 10**6 #same as deepmind paper\n",
    "UPDATE_TARGET_NETWORK_EVERY = 50\n",
    "TRAIN_EVERY = 4 #same as DQN paper\n",
    "TAU = 0.001 #used for soft updates of target networks,same as deepmind paper\n",
    "BATCH_SIZE = 64 #same as deepmind paper"
   ]
  },
  {
   "cell_type": "code",
   "execution_count": 26,
   "metadata": {},
   "outputs": [
    {
     "name": "stdout",
     "output_type": "stream",
     "text": [
      "cpu\n"
     ]
    }
   ],
   "source": [
    "device = torch.device(\"cuda:0\" if torch.cuda.is_available() else \"cpu\")\n",
    "\n",
    "print(device)"
   ]
  },
  {
   "cell_type": "code",
   "execution_count": 45,
   "metadata": {},
   "outputs": [],
   "source": [
    "class ReplayBuffer:\n",
    "    \"\"\"Fixed-size buffer to store experience tuples for experience replay\"\"\"\n",
    "    def __init__(self,action_size,buffer_size):\n",
    "        \"\"\"Initialize a ReplayBuffer object.\n",
    "\n",
    "        Params\n",
    "        ======\n",
    "            action_size (int): dimension of each action\n",
    "            buffer_size (int): maximum size of buffer\n",
    "        \"\"\"\n",
    "        self.action_size =  action_size\n",
    "        self.buffer_size = buffer_size\n",
    "        self.memory  = deque(maxlen = buffer_size)\n",
    "        self.experience = namedtuple(\"Experience\",field_names=[\"state\", \"action\", \"reward\", \"next_state\", \"done\"])\n",
    "        \n",
    "    def add(self,state,action,reward,next_state,done):\n",
    "        \"Add a new experience tuple to replay buffer\"\n",
    "        new_experience = self.experience(state,action,reward,next_state,done)\n",
    "        self.memory.append(new_experience)\n",
    "        \n",
    "    def sample(self,batch_size):\n",
    "        \"Get a sample of the buffer of size=batch_size\"\n",
    "        experience_batch = random.sample(self.memory,k=batch_size)\n",
    "        \n",
    "        states =  torch.from_numpy(np.vstack([e.state  for e in experience_batch if e is not None])).float().to(device)\n",
    "        actions = torch.from_numpy(np.vstack([e.action for e in experience_batch if e is not None])).float().to(device)\n",
    "        rewards = torch.from_numpy(np.vstack([e.reward for e in experience_batch if e is not None])).float().to(device)\n",
    "        next_states = torch.from_numpy(np.vstack([e.next_state for e in experience_batch if e is not None])).float().to(device)\n",
    "        dones = torch.from_numpy(np.vstack([e.done for e in experience_batch if e is not None]).astype(np.uint8)).to(device)\n",
    "        \n",
    "        return (states,actions,rewards,next_states,dones)\n",
    "    \n",
    "    def __len__(self):\n",
    "        \"\"\"\"Return the current size of internal memory.\"\"\"\n",
    "        return len(self.memory)"
   ]
  },
  {
   "cell_type": "code",
   "execution_count": 46,
   "metadata": {},
   "outputs": [],
   "source": [
    "class Actor(torch.nn.Module):\n",
    "    def __init__(self,state_size,action_size):\n",
    "        super(Actor,self).__init__()\n",
    "        self.action_size = action_size\n",
    "        self.fc1 = torch.nn.Linear(state_size,100)\n",
    "        self.fc_output = torch.nn.Linear(100,action_size)\n",
    "    \n",
    "    def forward(self,x):\n",
    "        x = F.relu(self.fc1(x))\n",
    "        \n",
    "        y = F.tanh(self.fc_output(x))\n",
    "        \n",
    "        return y"
   ]
  },
  {
   "cell_type": "code",
   "execution_count": 55,
   "metadata": {},
   "outputs": [],
   "source": [
    "class Critic(torch.nn.Module):\n",
    "    def __init__(self,state_size,action_size):\n",
    "        super(Critic,self).__init__()\n",
    "        self.fc1 = torch.nn.Linear(state_size+action_size,100)\n",
    "        self.fc_output = torch.nn.Linear(100,1)\n",
    "    \n",
    "    def forward(self,x):\n",
    "        x = F.relu(self.fc1(x))\n",
    "        \n",
    "        y = self.fc_output(x)\n",
    "        \n",
    "        return y"
   ]
  },
  {
   "cell_type": "code",
   "execution_count": 56,
   "metadata": {},
   "outputs": [],
   "source": [
    "class Agent:\n",
    "    def __init__(self,state_size,action_size,replay_buffer_size,device):\n",
    "        self.actor_local = Actor(state_size,action_size).to(device)\n",
    "        self.critic_local = Critic(state_size,action_size).to(device)\n",
    "        self.actor_target =  Actor(state_size,action_size).to(device)\n",
    "        self.critic_target = Critic(state_size,action_size).to(device)\n",
    "        \n",
    "        self.device = device\n",
    "        \n",
    "        self.replay_buffer = ReplayBuffer(action_size,replay_buffer_size)\n",
    "        \n",
    "        #start target networks with copy of local networks(tau=1)\n",
    "        self.update_target_actor(1)\n",
    "        self.update_target_critic(1)\n",
    "        self.actor_target.eval()\n",
    "        self.critic_target.eval()\n",
    "        \n",
    "        # same learning rate used in deepmind paper https://arxiv.org/pdf/1509.02971.pdf\n",
    "        self.actor_optimizer = optim.Adam(self.actor_local.parameters(),lr=10e-4)\n",
    "        self.critic_optimizer = optim.Adam(self.critic_local.parameters(),lr=10e-3)\n",
    "        \n",
    "    def act(self,state):\n",
    "        state = torch.from_numpy(state).float().unsqueeze(0).to(self.device)\n",
    "        \n",
    "        # get action from actor in evaluation mode and specifying no need no gradient is needed,\n",
    "        #after that return to train mode\n",
    "        self.actor_local.eval()\n",
    "        with torch.no_grad():\n",
    "            action = self.actor_local(state)\n",
    "        self.actor_local.train()\n",
    "        \n",
    "        return action\n",
    "    \n",
    "    def train(self,batch_size):\n",
    "        (states, actions, rewards, next_states, dones) = self.replay_buffer.sample(batch_size)\n",
    "        #concatenate(stack) states and actions to feed to q network wich returns a value\n",
    "        states_stack_actions = torch.cat((states,actions),dim=1)\n",
    "        \n",
    "        with torch.no_grad():\n",
    "            next_target_actions = self.actor_target(next_states)\n",
    "            next_states_stack_actions = torch.cat((next_states,next_target_actions),dim=1)\n",
    "            target_q_values = self.critic_target(next_states_stack_actions)\n",
    "            target_return  = rewards + 0.99*target_q_values\n",
    "            \n",
    "        self.critic_local.train()\n",
    "        current_critic_estimate = self.critic_local(states_stack_actions)\n",
    "        critic_mse_loss = F.mse_loss(target_return,current_critic_estimate)\n",
    "        self.critic_optimizer.zero_grad()\n",
    "        critic_mse_loss.backward()\n",
    "        self.critic_optimizer.step()\n",
    "    \n",
    "    \n",
    "    def update_target_network(self,local_network,target_network,tau):\n",
    "        \"\"\"\n",
    "        Do a soft update of target network with local network\n",
    "        Params:\n",
    "            local_network: PyTorch model (weights will be copied from)\n",
    "            target_network: PyTorch model (weights will be copied to)\n",
    "            tau (float): interpolation parameter \n",
    "        \"\"\"\n",
    "        for target_param,local_param in zip(target_network.parameters(),local_network.parameters()):\n",
    "            target_param.data.copy_(tau*local_param.data + (1.0 - tau)*target_param.data)\n",
    "            \n",
    "    def update_target_actor(self,tau):\n",
    "        self.update_target_network(self.actor_local,self.actor_target,tau)\n",
    "        \n",
    "    def update_target_critic(self,tau):\n",
    "        self.update_target_network(self.critic_local,self.critic_target,tau)"
   ]
  },
  {
   "cell_type": "code",
   "execution_count": 57,
   "metadata": {},
   "outputs": [],
   "source": [
    "#actor = Actor(STATE_SIZE,ACTION_SIZE)\n",
    "#critic = Critic(STATE_SIZE)\n",
    "\n",
    "agent = Agent(STATE_SIZE,ACTION_SIZE,REPLAY_BUFFER_SIZE,device)"
   ]
  },
  {
   "cell_type": "code",
   "execution_count": 58,
   "metadata": {},
   "outputs": [],
   "source": [
    "#env = UnityEnvironment(FILE_NAME)"
   ]
  },
  {
   "cell_type": "code",
   "execution_count": 59,
   "metadata": {},
   "outputs": [],
   "source": [
    "def critic_loss(reward,state,next_state,device):\n",
    "    state = torch.from_numpy(state).float().to(device)\n",
    "    next_state = torch.from_numpy(next_states).float().to(device)\n",
    "    reward = torch.from_numpy(np.array(reward)).float().to(device)\n",
    "    \n",
    "    td_error = reward + agent.critic(next_state) - agent.critic(state)\n",
    "    print(td_error)"
   ]
  },
  {
   "cell_type": "code",
   "execution_count": 60,
   "metadata": {},
   "outputs": [
    {
     "name": "stdout",
     "output_type": "stream",
     "text": [
      "finishing 0\n",
      "finishing 1\n",
      "finishing 2\n",
      "finishing 3\n",
      "finishing 4\n"
     ]
    }
   ],
   "source": [
    "def train(agent,episodes,train_mode=True):\n",
    "    \n",
    "    total_rewards = []\n",
    "    for episode in range(episodes):\n",
    "        finished = False\n",
    "        step_count = 0\n",
    "        episode_rewards = []\n",
    "        env_info = env.reset(train_mode=train_mode)[brain_name]\n",
    "        state = env_info.vector_observations[0]\n",
    "        \n",
    "    \n",
    "        \n",
    "        while not finished:\n",
    "            action = agent.act(state)\n",
    "            \n",
    "            env_info = env.step(action.detach().cpu().numpy())[brain_name]\n",
    "            next_state = env_info.vector_observations[0]\n",
    "            reward = env_info.rewards[0]\n",
    "            finished = env_info.local_done[0]\n",
    "            \n",
    "            # add experience to replay buffer\n",
    "            agent.replay_buffer.add(state,action,reward,next_state,finished)\n",
    "            episode_rewards.append(reward)\n",
    "            \n",
    "            #critic_loss(reward,state,next_state,device)\n",
    "            \n",
    "            #critic_loss = 0.0001*td_error*agent.critic()\n",
    "            \n",
    "            state = next_state\n",
    "            \n",
    "            if step_count % TRAIN_EVERY == 0 and len(agent.replay_buffer) >= BATCH_SIZE:\n",
    "                agent.train(BATCH_SIZE)\n",
    "            \n",
    "            if episode%UPDATE_TARGET_NETWORK_EVERY == 0:\n",
    "                agent.update_target_actor(TAU)\n",
    "                agent.update_target_critic(TAU)\n",
    "                \n",
    "                \n",
    "            step_count += 1\n",
    "    \n",
    "        total_rewards.append(np.sum(episode_rewards))\n",
    "        print(\"finishing {}\".format(episode))\n",
    "        \n",
    "    return total_rewards\n",
    "        \n",
    "        \n",
    "\n",
    "rewards = train(agent,5,True)"
   ]
  },
  {
   "cell_type": "code",
   "execution_count": 61,
   "metadata": {},
   "outputs": [
    {
     "data": {
      "text/plain": [
       "[<matplotlib.lines.Line2D at 0x7f2e51721c50>]"
      ]
     },
     "execution_count": 61,
     "metadata": {},
     "output_type": "execute_result"
    },
    {
     "data": {
      "image/png": "[encoded data removed]",
      "text/plain": [
       "<Figure size 432x288 with 1 Axes>"
      ]
     },
     "metadata": {
      "needs_background": "light"
     },
     "output_type": "display_data"
    }
   ],
   "source": [
    "plt.plot(rewards)"
   ]
  },
  {
   "cell_type": "code",
   "execution_count": 62,
   "metadata": {},
   "outputs": [
    {
     "data": {
      "text/plain": [
       "(tensor([[  1.9721,   3.3036,   1.2272,   0.2494,   0.9519,   0.1721,\n",
       "           -0.0452,   0.4821,  -0.5213,   1.4356,  -5.2570,   2.4204,\n",
       "            2.6441,   1.6849,   8.0283,   3.0154,   0.3053,  -0.9364,\n",
       "           -0.1684,  -0.0407,   0.3588,  -0.6649,   2.1698, -17.6255,\n",
       "           -1.5510,   4.2428,   2.4126,  -1.0000,   7.6276,   0.0000,\n",
       "            1.0000,   0.0000,   0.9637]]),\n",
       " tensor([[ 0.1031,  0.7876, -0.3490,  0.2659]]),\n",
       " tensor([[ 0.]]),\n",
       " tensor([[  1.4790,   3.4293,   1.5414,   0.1829,   0.9603,   0.2071,\n",
       "           -0.0396,   1.0484,  -0.6870,   1.6051,  -6.4359,   1.0662,\n",
       "            4.6602,   0.4429,   7.9662,   3.3799,   0.3909,  -0.9117,\n",
       "           -0.1261,   0.0006,  -2.2588,   0.5809,   2.4198, -17.9747,\n",
       "           -2.9734,   3.0049,   2.9198,  -1.0000,   7.4481,   0.0000,\n",
       "            1.0000,   0.0000,   0.9637]]),\n",
       " tensor([[ 0]], dtype=torch.uint8))"
      ]
     },
     "execution_count": 62,
     "metadata": {},
     "output_type": "execute_result"
    }
   ],
   "source": [
    "agent.replay_buffer.sample(1)"
   ]
  },
  {
   "cell_type": "code",
   "execution_count": null,
   "metadata": {},
   "outputs": [],
   "source": []
  }
 ],
 "metadata": {
  "kernelspec": {
   "display_name": "Python 3",
   "language": "python",
   "name": "python3"
  },
  "language_info": {
   "codemirror_mode": {
    "name": "ipython",
    "version": 3
   },
   "file_extension": ".py",
   "mimetype": "text/x-python",
   "name": "python",
   "nbconvert_exporter": "python",
   "pygments_lexer": "ipython3",
   "version": "3.6.8"
  }
 },
 "nbformat": 4,
 "nbformat_minor": 2
}
