{
 "cells": [
  {
   "cell_type": "markdown",
   "metadata": {},
   "source": [
    "# Continuous Control\n",
    "\n",
    "---\n",
    "\n",
    "In this notebook, you will learn how to use the Unity ML-Agents environment for the second project of the [Deep Reinforcement Learning Nanodegree](https://www.udacity.com/course/deep-reinforcement-learning-nanodegree--nd893) program.\n",
    "\n",
    "Models and algorithm based(but no exactly the same) on  \"CONTINUOUS CONTROL WITH DEEP REINFORCEMENT\n",
    "LEARNING\" paper https://arxiv.org/pdf/1509.02971.pdf\n",
    "\n",
    "### 1. Start the Environment\n",
    "\n",
    "We begin by importing the necessary packages.  If the code cell below returns an error, please revisit the project instructions to double-check that you have installed [Unity ML-Agents](https://github.com/Unity-Technologies/ml-agents/blob/master/docs/Installation.md) and [NumPy](http://www.numpy.org/)."
   ]
  },
  {
   "cell_type": "code",
   "execution_count": 1,
   "metadata": {},
   "outputs": [],
   "source": [
    "from unityagents import UnityEnvironment\n",
    "import numpy as np\n",
    "import torch as torch\n",
    "import torch.nn.functional as F\n",
    "import matplotlib.pyplot as plt\n",
    "from collections import namedtuple,deque\n",
    "from torch import optim as optim\n",
    "import random"
   ]
  },
  {
   "cell_type": "markdown",
   "metadata": {},
   "source": [
    "Next, we will start the environment!  **_Before running the code cell below_**, change the `file_name` parameter to match the location of the Unity environment that you downloaded.\n",
    "\n",
    "- **Mac**: `\"path/to/Reacher.app\"`\n",
    "- **Windows** (x86): `\"path/to/Reacher_Windows_x86/Reacher.exe\"`\n",
    "- **Windows** (x86_64): `\"path/to/Reacher_Windows_x86_64/Reacher.exe\"`\n",
    "- **Linux** (x86): `\"path/to/Reacher_Linux/Reacher.x86\"`\n",
    "- **Linux** (x86_64): `\"path/to/Reacher_Linux/Reacher.x86_64\"`\n",
    "- **Linux** (x86, headless): `\"path/to/Reacher_Linux_NoVis/Reacher.x86\"`\n",
    "- **Linux** (x86_64, headless): `\"path/to/Reacher_Linux_NoVis/Reacher.x86_64\"`\n",
    "\n",
    "For instance, if you are using a Mac, then you downloaded `Reacher.app`.  If this file is in the same folder as the notebook, then the line below should appear as follows:\n",
    "```\n",
    "env = UnityEnvironment(file_name=\"Reacher.app\")\n",
    "```"
   ]
  },
  {
   "cell_type": "code",
   "execution_count": 2,
   "metadata": {},
   "outputs": [],
   "source": [
    "FILE_NAME = \"./Reacher_Linux/Reacher.x86_64\""
   ]
  },
  {
   "cell_type": "code",
   "execution_count": 3,
   "metadata": {},
   "outputs": [
    {
     "name": "stderr",
     "output_type": "stream",
     "text": [
      "INFO:unityagents:\n",
      "'Academy' started successfully!\n",
      "Unity Academy name: Academy\n",
      "        Number of Brains: 1\n",
      "        Number of External Brains : 1\n",
      "        Lesson number : 0\n",
      "        Reset Parameters :\n",
      "\t\tgoal_size -> 5.0\n",
      "\t\tgoal_speed -> 1.0\n",
      "Unity brain name: ReacherBrain\n",
      "        Number of Visual Observations (per agent): 0\n",
      "        Vector Observation space type: continuous\n",
      "        Vector Observation space size (per agent): 33\n",
      "        Number of stacked Vector Observation: 1\n",
      "        Vector Action space type: continuous\n",
      "        Vector Action space size (per agent): 4\n",
      "        Vector Action descriptions: , , , \n"
     ]
    }
   ],
   "source": [
    "env = UnityEnvironment(file_name=FILE_NAME)"
   ]
  },
  {
   "cell_type": "markdown",
   "metadata": {},
   "source": [
    "Environments contain **_brains_** which are responsible for deciding the actions of their associated agents. Here we check for the first brain available, and set it as the default brain we will be controlling from Python."
   ]
  },
  {
   "cell_type": "code",
   "execution_count": 4,
   "metadata": {},
   "outputs": [],
   "source": [
    "# get the default brain\n",
    "brain_name = env.brain_names[0]\n",
    "brain = env.brains[brain_name]"
   ]
  },
  {
   "cell_type": "markdown",
   "metadata": {},
   "source": [
    "### 2. Examine the State and Action Spaces\n",
    "\n",
    "In this environment, a double-jointed arm can move to target locations. A reward of `+0.1` is provided for each step that the agent's hand is in the goal location. Thus, the goal of your agent is to maintain its position at the target location for as many time steps as possible.\n",
    "\n",
    "The observation space consists of `33` variables corresponding to position, rotation, velocity, and angular velocities of the arm.  Each action is a vector with four numbers, corresponding to torque applicable to two joints.  Every entry in the action vector must be a number between `-1` and `1`.\n",
    "\n",
    "Run the code cell below to print some information about the environment."
   ]
  },
  {
   "cell_type": "code",
   "execution_count": 5,
   "metadata": {},
   "outputs": [
    {
     "name": "stdout",
     "output_type": "stream",
     "text": [
      "Number of agents: 1\n",
      "Size of each action: 4\n",
      "There are 1 agents. Each observes a state with length: 33\n",
      "The state for the first agent looks like: [ 0.00000000e+00 -4.00000000e+00  0.00000000e+00  1.00000000e+00\n",
      " -0.00000000e+00 -0.00000000e+00 -4.37113883e-08  0.00000000e+00\n",
      "  0.00000000e+00  0.00000000e+00  0.00000000e+00  0.00000000e+00\n",
      "  0.00000000e+00  0.00000000e+00 -1.00000000e+01  0.00000000e+00\n",
      "  1.00000000e+00 -0.00000000e+00 -0.00000000e+00 -4.37113883e-08\n",
      "  0.00000000e+00  0.00000000e+00  0.00000000e+00  0.00000000e+00\n",
      "  0.00000000e+00  0.00000000e+00  5.75471878e+00 -1.00000000e+00\n",
      "  5.55726671e+00  0.00000000e+00  1.00000000e+00  0.00000000e+00\n",
      " -1.68164849e-01]\n"
     ]
    }
   ],
   "source": [
    "# reset the environment\n",
    "env_info = env.reset(train_mode=True)[brain_name]\n",
    "\n",
    "# number of agents\n",
    "num_agents = len(env_info.agents)\n",
    "print('Number of agents:', num_agents)\n",
    "\n",
    "# size of each action\n",
    "action_size = brain.vector_action_space_size\n",
    "print('Size of each action:', action_size)\n",
    "\n",
    "# examine the state space \n",
    "states = env_info.vector_observations\n",
    "state_size = states.shape[1]\n",
    "print('There are {} agents. Each observes a state with length: {}'.format(states.shape[0], state_size))\n",
    "print('The state for the first agent looks like:', states[0])"
   ]
  },
  {
   "cell_type": "markdown",
   "metadata": {},
   "source": [
    "### 3. Take Random Actions in the Environment\n",
    "\n",
    "In the next code cell, you will learn how to use the Python API to control the agent and receive feedback from the environment.\n",
    "\n",
    "Once this cell is executed, you will watch the agent's performance, if it selects an action at random with each time step.  A window should pop up that allows you to observe the agent, as it moves through the environment.  \n",
    "\n",
    "Of course, as part of the project, you'll have to change the code so that the agent is able to use its experience to gradually choose better actions when interacting with the environment!"
   ]
  },
  {
   "cell_type": "code",
   "execution_count": 6,
   "metadata": {},
   "outputs": [
    {
     "name": "stdout",
     "output_type": "stream",
     "text": [
      "Total score (averaged over agents) this episode: 0.0\n"
     ]
    }
   ],
   "source": [
    "env_info = env.reset(train_mode=True)[brain_name]     # reset the environment    \n",
    "states = env_info.vector_observations                  # get the current state (for each agent)\n",
    "scores = np.zeros(num_agents)                          # initialize the score (for each agent)\n",
    "while True:\n",
    "    actions = np.random.randn(num_agents, action_size) # select an action (for each agent)\n",
    "    actions = np.clip(actions, -1, 1)                  # all actions between -1 and 1\n",
    "    env_info = env.step(actions)[brain_name]           # send all actions to tne environment\n",
    "    next_states = env_info.vector_observations         # get next state (for each agent)\n",
    "    rewards = env_info.rewards                         # get reward (for each agent)\n",
    "    dones = env_info.local_done                        # see if episode finished\n",
    "    scores += env_info.rewards                         # update the score (for each agent)\n",
    "    states = next_states                               # roll over states to next time step\n",
    "    if np.any(dones):                                  # exit loop if episode finished\n",
    "        break\n",
    "print('Total score (averaged over agents) this episode: {}'.format(np.mean(scores)))"
   ]
  },
  {
   "cell_type": "markdown",
   "metadata": {},
   "source": [
    "When finished, you can close the environment."
   ]
  },
  {
   "cell_type": "code",
   "execution_count": 7,
   "metadata": {},
   "outputs": [],
   "source": [
    "#env.close()"
   ]
  },
  {
   "cell_type": "markdown",
   "metadata": {},
   "source": [
    "### 4. It's Your Turn!\n",
    "\n",
    "Now it's your turn to train your own agent to solve the environment!  When training the environment, set `train_mode=True`, so that the line for resetting the environment looks like the following:\n",
    "```python\n",
    "env_info = env.reset(train_mode=True)[brain_name]\n",
    "```"
   ]
  },
  {
   "cell_type": "code",
   "execution_count": 8,
   "metadata": {},
   "outputs": [],
   "source": [
    "STATE_SIZE = state_size \n",
    "ACTION_SIZE = action_size \n",
    "REPLAY_BUFFER_SIZE = 100000 \n",
    "TRAIN_EVERY = 4  #same as DQN paper\n",
    "UPDATE_TARGET_NETWORK_EVERY = TRAIN_EVERY\n",
    "TAU = 0.001 #used for soft updates of target networks,same as deepmind paper\n",
    "BATCH_SIZE =64 #same as deepmind paper\n",
    "VISUALIZE_EVERY = 50 #how many episodes to train before watching unity env simulation\n",
    "PRINT_EVERY = 10 #how many steps to train before printing training info\n",
    "\n",
    "DESIRED_AVERAGE_SCORE = 35 #whats the desired score to consider the probem solved\n",
    "DESIRED_EPISODES_AVERAGE = 100 #how many episodes to calculate the desired score on"
   ]
  },
  {
   "cell_type": "code",
   "execution_count": 9,
   "metadata": {},
   "outputs": [
    {
     "name": "stdout",
     "output_type": "stream",
     "text": [
      "cuda:0\n"
     ]
    }
   ],
   "source": [
    "device = torch.device(\"cuda:0\" if torch.cuda.is_available() else \"cpu\")\n",
    "\n",
    "print(device)"
   ]
  },
  {
   "cell_type": "code",
   "execution_count": 10,
   "metadata": {},
   "outputs": [],
   "source": [
    "class ReplayBuffer:\n",
    "    \"\"\"Fixed-size buffer to store experience tuples for experience replay\"\"\"\n",
    "    def __init__(self,action_size,buffer_size):\n",
    "        \"\"\"Initialize a ReplayBuffer object.\n",
    "\n",
    "        Params\n",
    "        ======\n",
    "            action_size (int): dimension of each action\n",
    "            buffer_size (int): maximum size of buffer\n",
    "        \"\"\"\n",
    "        self.action_size =  action_size\n",
    "        self.buffer_size = buffer_size\n",
    "        self.memory  = deque(maxlen = buffer_size)\n",
    "        self.experience = namedtuple(\"Experience\",field_names=[\"state\", \"action\", \"reward\", \"next_state\", \"done\"])\n",
    "        \n",
    "    def add(self,state,action,reward,next_state,done):\n",
    "        \"Add a new experience tuple to replay buffer\"\n",
    "        new_experience = self.experience(state,action,reward,next_state,done)\n",
    "        self.memory.append(new_experience)\n",
    "        \n",
    "    def sample(self,batch_size):\n",
    "        \"Get a sample of the buffer of size=batch_size\"\n",
    "        experience_batch = random.sample(self.memory,k=batch_size)\n",
    "        \n",
    "        states =  torch.from_numpy(np.vstack([e.state  for e in experience_batch if e is not None])).float().to(device)\n",
    "        actions = torch.from_numpy(np.vstack([e.action for e in experience_batch if e is not None])).float().to(device)\n",
    "        rewards = torch.from_numpy(np.vstack([e.reward for e in experience_batch if e is not None])).float().to(device)\n",
    "        next_states = torch.from_numpy(np.vstack([e.next_state for e in experience_batch if e is not None])).float().to(device)\n",
    "        dones = torch.from_numpy(np.vstack([e.done for e in experience_batch if e is not None]).astype(np.uint8)).to(device)\n",
    "        \n",
    "        return (states,actions,rewards,next_states,dones)\n",
    "    \n",
    "    def __len__(self):\n",
    "        \"\"\"\"Return the current size of internal memory.\"\"\"\n",
    "        return len(self.memory)"
   ]
  },
  {
   "cell_type": "code",
   "execution_count": 11,
   "metadata": {},
   "outputs": [],
   "source": [
    "import copy\n",
    "class OUNoise:\n",
    "    \"\"\"\n",
    "        Orstein-uhlenbeck process\n",
    "        noise will be added when the actor select actions to  add exploration\n",
    "    \"\"\"\n",
    "    \n",
    "    def __init__(self,size,mu=0.0,theta=0.15,sigma=0.2):\n",
    "        self.size = size\n",
    "        self.mu = mu*np.ones(size)\n",
    "        self.theta = theta\n",
    "        self.sigma = sigma\n",
    "        self.reset()\n",
    "        \n",
    "    def reset(self):\n",
    "        self.state = copy.copy(self.mu)\n",
    "        \n",
    "    def sample(self):\n",
    "        x = self.state\n",
    "        dx = self.theta * (self.mu - x) + self.sigma * np.random.standard_normal(self.size)\n",
    "        self.state = x + dx\n",
    "        \n",
    "        \n",
    "        return self.state"
   ]
  },
  {
   "cell_type": "code",
   "execution_count": 12,
   "metadata": {},
   "outputs": [],
   "source": [
    "def hidden_init(layer):\n",
    "    \"\"\"Used to set the initial weights of hidden layers\"\"\"\n",
    "    fan_in = layer.weight.data.size()[0]\n",
    "    lim = 1. / np.sqrt(fan_in)\n",
    "    return (-lim, lim)"
   ]
  },
  {
   "cell_type": "code",
   "execution_count": 13,
   "metadata": {},
   "outputs": [],
   "source": [
    "class Actor(torch.nn.Module):\n",
    "    def __init__(self,state_size,action_size):\n",
    "        super(Actor,self).__init__()\n",
    "        self.action_size = action_size\n",
    "        self.fc1 = torch.nn.Linear(state_size,400)\n",
    "        #torch.nn.init.xavier_uniform_(self.fc1.weight)\n",
    "        #self.bn1 = torch.nn.BatchNorm1d(num_features = state_size)\n",
    "        self.fc2 = torch.nn.Linear(400,300)\n",
    "        #torch.nn.init.xavier_uniform_(self.fc2.weight)\n",
    "        self.fc_output = torch.nn.Linear(300,action_size)\n",
    "        #torch.nn.init.xavier_uniform_(self.fc_output.weight,gain=0.01)\n",
    "        self.reset_parameters()\n",
    "    \n",
    "    def forward(self,x):\n",
    "        #x = F.relu(self.fc1(self.bn1(x)))\n",
    "        x = F.relu(self.fc1(x))\n",
    "        x = F.relu(self.fc2(x))\n",
    "        \n",
    "        y = F.tanh(self.fc_output(x))\n",
    "        #y = self.fc_output(x)\n",
    "        return y\n",
    "    \n",
    "    def reset_parameters(self):\n",
    "        self.fc1.weight.data.uniform_(*hidden_init(self.fc1))\n",
    "        self.fc2.weight.data.uniform_(*hidden_init(self.fc2))\n",
    "        self.fc_output.weight.data.uniform_(-3e-3, 3e-3)"
   ]
  },
  {
   "cell_type": "code",
   "execution_count": 14,
   "metadata": {},
   "outputs": [],
   "source": [
    "class Critic(torch.nn.Module):\n",
    "    def __init__(self,state_size,action_size):\n",
    "        super(Critic,self).__init__()\n",
    "        self.fc1 = torch.nn.Linear(state_size+action_size,400)\n",
    "        #torch.nn.init.xavier_uniform_(self.fc1.weight)\n",
    "        #self.bn1 = torch.nn.BatchNorm1d(num_features=state_size)\n",
    "        self.fc2 = torch.nn.Linear(400,300)\n",
    "        #torch.nn.init.xavier_uniform_(self.fc2.weight)\n",
    "        self.fc_output = torch.nn.Linear(300,1)\n",
    "        #torch.nn.init.xavier_uniform_(self.fc_output.weight,gain=0.01)\n",
    "        self.reset_parameters()\n",
    "    \n",
    "    def forward(self,x,actions):\n",
    "        #x_norm = self.bn1(x)\n",
    "        #x = torch.cat((x_norm,actions),dim=1)\n",
    "        x = torch.cat((x,actions),dim=1)\n",
    "        x = F.relu(self.fc1(x))\n",
    "        x = F.relu(self.fc2(x))\n",
    "        \n",
    "        y = self.fc_output(x)\n",
    "        \n",
    "        return y\n",
    "    \n",
    "    def reset_parameters(self):\n",
    "        self.fc1.weight.data.uniform_(*hidden_init(self.fc1))\n",
    "        self.fc2.weight.data.uniform_(*hidden_init(self.fc2))\n",
    "        self.fc_output.weight.data.uniform_(-3e-4, 3e-4)"
   ]
  },
  {
   "cell_type": "code",
   "execution_count": 15,
   "metadata": {},
   "outputs": [],
   "source": [
    "class Agent:\n",
    "    def __init__(self,state_size,action_size,replay_buffer_size,device):\n",
    "        self.actor_local = Actor(state_size,action_size).to(device)\n",
    "        self.critic_local = Critic(state_size,action_size).to(device)\n",
    "        self.actor_target =  Actor(state_size,action_size).to(device)\n",
    "        self.critic_target = Critic(state_size,action_size).to(device)\n",
    "        \n",
    "        self.device = device\n",
    "        \n",
    "        self.replay_buffer = ReplayBuffer(action_size,replay_buffer_size)\n",
    "        \n",
    "        #start target networks with copy of local networks(tau=1)\n",
    "        self.update_target_actor(1)\n",
    "        self.update_target_critic(1)\n",
    "        self.actor_target.eval()\n",
    "        self.critic_target.eval()\n",
    "        \n",
    "        # same learning rate used in deepmind paper https://arxiv.org/pdf/1509.02971.pdf\n",
    "        self.actor_optimizer = optim.Adam(self.actor_local.parameters(),lr=3e-4)\n",
    "        self.critic_optimizer = optim.Adam(self.critic_local.parameters(),lr=3e-4)\n",
    "        \n",
    "        #noise\n",
    "        self.noise = OUNoise(size=action_size)\n",
    "        \n",
    "        self.critic_losses = []\n",
    "        self.actor_losses = []\n",
    "        \n",
    "    def act(self,state):\n",
    "        state = torch.from_numpy(state).float().unsqueeze(0).to(self.device)\n",
    "        \n",
    "        # get action from actor in evaluation mode and specifying no need no gradient is needed,\n",
    "        #after that return to train mode\n",
    "        self.actor_local.eval()\n",
    "        with torch.no_grad():\n",
    "            action = self.actor_local(state).cpu().data.numpy()\n",
    "            \n",
    "        self.actor_local.train()\n",
    "        noise = self.noise.sample()\n",
    "        #print(action,noise)\n",
    "        action = np.clip(action + noise,-1,1)\n",
    "        #print(action)\n",
    "        \n",
    "        \n",
    "        return action\n",
    "    \n",
    "    def train(self,batch_size,step_num=0,print_every= 100):\n",
    "        (states, actions, rewards, next_states, dones) = self.replay_buffer.sample(batch_size)\n",
    "        \n",
    "        \n",
    "        # train critic\n",
    "        self.actor_target.eval()\n",
    "        self.critic_target.eval()\n",
    "        \n",
    "        with torch.no_grad():\n",
    "            next_target_actions = self.actor_target(next_states)\n",
    "            target_q_values = self.critic_target(next_states,next_target_actions)\n",
    "            target_return  = rewards + 0.99*target_q_values#*(1.0-dones)\n",
    "        \n",
    "\n",
    "        self.critic_local.train()\n",
    "        \n",
    "        current_critic_estimate = self.critic_local(states,actions)\n",
    "        critic_mse_loss = F.mse_loss(current_critic_estimate,target_return)\n",
    "        \n",
    "        self.critic_optimizer.zero_grad()\n",
    "        critic_mse_loss.backward()\n",
    "        torch.nn.utils.clip_grad_norm_(self.critic_local.parameters(),1)\n",
    "        self.critic_optimizer.step()\n",
    "        \n",
    "        #train actor\n",
    "        local_actions = self.actor_local(states)\n",
    "        actor_mse_loss = -self.critic_local(states,local_actions).mean()\n",
    "        \n",
    "        self.actor_optimizer.zero_grad()\n",
    "        actor_mse_loss.backward()\n",
    "        self.actor_optimizer.step()\n",
    "        \n",
    "        if step_num % print_every == 0:\n",
    "            self.actor_losses.append(actor_mse_loss.cpu().data.numpy())\n",
    "            self.critic_losses.append(critic_mse_loss.cpu().data.numpy())\n",
    "    \n",
    "    \n",
    "    def update_target_network(self,local_network,target_network,tau):\n",
    "        \"\"\"\n",
    "        Do a soft update of target network with local network\n",
    "        Params:\n",
    "            local_network: PyTorch model (weights will be copied from)\n",
    "            target_network: PyTorch model (weights will be copied to)\n",
    "            tau (float): interpolation parameter \n",
    "        \"\"\"\n",
    "        for target_param,local_param in zip(target_network.parameters(),local_network.parameters()):\n",
    "            target_param.data.copy_(tau*local_param.data + (1.0 - tau)*target_param.data)\n",
    "        \"\"\"for target_param, local_param in zip(target_network.parameters(), local_network.parameters()):\n",
    "            target_param.data.copy_(local_param.data )\"\"\"\n",
    "        \n",
    "            \n",
    "    def update_target_actor(self,tau):\n",
    "        self.update_target_network(self.actor_local,self.actor_target,tau)\n",
    "        \n",
    "    def update_target_critic(self,tau):\n",
    "        self.update_target_network(self.critic_local,self.critic_target,tau)"
   ]
  },
  {
   "cell_type": "code",
   "execution_count": 16,
   "metadata": {},
   "outputs": [],
   "source": [
    "#actor = Actor(STATE_SIZE,ACTION_SIZE)\n",
    "#critic = Critic(STATE_SIZE)\n",
    "\n",
    "agent = Agent(STATE_SIZE,ACTION_SIZE,REPLAY_BUFFER_SIZE,device)"
   ]
  },
  {
   "cell_type": "code",
   "execution_count": 17,
   "metadata": {},
   "outputs": [
    {
     "name": "stdout",
     "output_type": "stream",
     "text": [
      "Episode:10 steps:1001 episode_reward:0.36999999172985554 last n mean rew.0.6089999863877893\n",
      "Episode:20 steps:1001 episode_reward:0.669999985024333 last n mean rew.0.6219999860972166\n",
      "Episode:30 steps:1001 episode_reward:2.2599999494850636 last n mean rew.0.830333314773937\n",
      "Episode:40 steps:1001 episode_reward:1.889999957755208 last n mean rew.1.0334999768994748\n",
      "Episode:50 steps:1001 episode_reward:2.9799999333918095 last n mean rew.1.2081999729946256\n",
      "Episode:60 steps:1001 episode_reward:2.0999999530613422 last n mean rew.1.4601666340293984\n",
      "Episode:70 steps:1001 episode_reward:4.069999909028411 last n mean rew.1.6712856769295676\n",
      "Episode:80 steps:1001 episode_reward:4.209999905899167 last n mean rew.1.882624957920052\n",
      "Episode:90 steps:1001 episode_reward:7.499999832361937 last n mean rew.2.2564443940089807\n",
      "Episode:100 steps:1001 episode_reward:6.219999860972166 last n mean rew.2.636999941058457\n",
      "Episode:110 steps:1001 episode_reward:10.769999759271741 last n mean rew.3.2703999269008635\n",
      "Episode:120 steps:1001 episode_reward:8.649999806657434 last n mean rew.4.0628999091871085\n",
      "Episode:130 steps:1001 episode_reward:12.46999972127378 last n mean rew.5.076599886529148\n",
      "Episode:140 steps:1001 episode_reward:10.99999975413084 last n mean rew.6.176699861939997\n",
      "Episode:150 steps:1001 episode_reward:15.689999649301171 last n mean rew.7.665699828658253\n",
      "Episode:160 steps:1001 episode_reward:19.889999555423856 last n mean rew.9.054099797625094\n",
      "Episode:170 steps:1001 episode_reward:20.069999551400542 last n mean rew.10.835399757809936\n",
      "Episode:180 steps:1001 episode_reward:20.48999954201281 last n mean rew.12.606599718220531\n",
      "Episode:190 steps:1001 episode_reward:25.40999943204224 last n mean rew.14.33869967950508\n",
      "Episode:200 steps:1001 episode_reward:27.089999394491315 last n mean rew.16.120099639687687\n",
      "Episode:210 steps:1001 episode_reward:26.049999417737126 last n mean rew.17.8178996017389\n",
      "Episode:220 steps:1001 episode_reward:20.809999534860253 last n mean rew.19.169299571532758\n",
      "Episode:230 steps:1001 episode_reward:24.20999945886433 last n mean rew.20.56459954034537\n",
      "Episode:240 steps:1001 episode_reward:23.15999948233366 last n mean rew.21.90609951036051\n",
      "Episode:250 steps:1001 episode_reward:27.399999387562275 last n mean rew.23.17139948207885\n",
      "Episode:260 steps:1001 episode_reward:28.959999352693558 last n mean rew.24.44409945363179\n",
      "Episode:270 steps:1001 episode_reward:26.68999940343201 last n mean rew.25.395299432370813\n",
      "Episode:280 steps:1001 episode_reward:30.879999309778214 last n mean rew.26.461499408539385\n",
      "Episode:290 steps:1001 episode_reward:28.329999366775155 last n mean rew.27.237699391189963\n",
      "Episode:300 steps:1001 episode_reward:36.1699991915375 last n mean rew.27.856999377347528\n",
      "Episode:310 steps:1001 episode_reward:34.12999923713505 last n mean rew.28.844999355264008\n",
      "Episode:320 steps:1001 episode_reward:26.399999409914017 last n mean rew.29.664299336951228\n",
      "Episode:330 steps:1001 episode_reward:31.119999304413795 last n mean rew.30.244699323978274\n",
      "Episode:340 steps:1001 episode_reward:36.98999917320907 last n mean rew.30.797999311611058\n",
      "Episode:350 steps:1001 episode_reward:35.499999206513166 last n mean rew.30.73699931297451\n",
      "Episode:360 steps:1001 episode_reward:33.96999924071133 last n mean rew.30.948799308240414\n",
      "Episode:370 steps:1001 episode_reward:37.589999159798026 last n mean rew.31.247999301552774\n",
      "Episode:380 steps:1001 episode_reward:33.709999246522784 last n mean rew.31.32819929976016\n",
      "Episode:390 steps:1001 episode_reward:36.659999180585146 last n mean rew.31.69139929164201\n",
      "Episode:400 steps:1001 episode_reward:35.569999204948545 last n mean rew.32.1462992814742\n",
      "Episode:410 steps:1001 episode_reward:38.8099991325289 last n mean rew.32.29199927821755\n",
      "Episode:420 steps:1001 episode_reward:36.419999185949564 last n mean rew.32.76059926774353\n",
      "Episode:430 steps:1001 episode_reward:37.12999917007983 last n mean rew.32.926599264033136\n",
      "Episode:440 steps:1001 episode_reward:34.46999922953546 last n mean rew.33.113599259853366\n",
      "Episode:450 steps:1001 episode_reward:37.43999916315079 last n mean rew.33.76069924538955\n",
      "Episode:460 steps:1001 episode_reward:36.74999917857349 last n mean rew.34.164299236368386\n",
      "Episode:470 steps:1001 episode_reward:31.59999929368496 last n mean rew.34.384299231451\n",
      "Episode:480 steps:1001 episode_reward:29.639999337494373 last n mean rew.34.664099225196985\n",
      "Episode:490 steps:1001 episode_reward:34.76999922282994 last n mean rew.34.72279922388494\n",
      "Episode:500 steps:1001 episode_reward:33.61999924853444 last n mean rew.34.69109922459349\n",
      "Episode:510 steps:1001 episode_reward:34.879999220371246 last n mean rew.34.55129922771826\n",
      "Episode:520 steps:1001 episode_reward:33.81999924406409 last n mean rew.34.51319922856987\n",
      "Episode:530 steps:1001 episode_reward:33.10999925993383 last n mean rew.34.75509922316298\n",
      "Episode:540 steps:1001 episode_reward:34.80999922193587 last n mean rew.34.88729922020808\n",
      "Episode:550 steps:1001 episode_reward:32.669999269768596 last n mean rew.34.77389922274276\n",
      "Episode:560 steps:1001 episode_reward:37.36999916471541 last n mean rew.34.65309922544286\n",
      "Episode:570 steps:1001 episode_reward:36.269999189302325 last n mean rew.34.581999227032064\n",
      "Episode:580 steps:1001 episode_reward:32.94999926351011 last n mean rew.34.584499226976185\n",
      "Episode:590 steps:1001 episode_reward:34.7899992223829 last n mean rew.34.57739922713488\n",
      "Episode:600 steps:1001 episode_reward:33.80999924428761 last n mean rew.34.444999230094254\n",
      "Episode:610 steps:1001 episode_reward:31.029999306425452 last n mean rew.34.574799227193\n",
      "Episode:620 steps:1001 episode_reward:32.76999926753342 last n mean rew.34.65869922531769\n",
      "Episode:630 steps:1001 episode_reward:33.64999924786389 last n mean rew.34.542199227921664\n",
      "Episode:640 steps:1001 episode_reward:33.30999925546348 last n mean rew.34.488699229117486\n",
      "Episode:650 steps:1001 episode_reward:37.29999916628003 last n mean rew.34.48229922926053\n",
      "Episode:660 steps:1001 episode_reward:34.179999236017466 last n mean rew.34.22809923494235\n",
      "Episode:670 steps:1001 episode_reward:36.5699991825968 last n mean rew.34.232599234841764\n",
      "Episode:680 steps:1001 episode_reward:34.369999231770635 last n mean rew.34.085799238123\n",
      "Episode:690 steps:1001 episode_reward:36.90999917499721 last n mean rew.34.02929923938587\n",
      "Episode:700 steps:1001 episode_reward:34.20999923534691 last n mean rew.34.09759923785925\n",
      "Episode:710 steps:1001 episode_reward:35.39999920874834 last n mean rew.34.027499239426106\n",
      "Episode:720 steps:1001 episode_reward:37.319999165832996 last n mean rew.33.95749924099073\n",
      "Episode:730 steps:1001 episode_reward:35.85999919846654 last n mean rew.34.01449923971668\n",
      "Episode:740 steps:1001 episode_reward:26.229999413713813 last n mean rew.34.0041992399469\n",
      "Episode:750 steps:1001 episode_reward:33.749999245628715 last n mean rew.34.0439992390573\n",
      "Episode:760 steps:1001 episode_reward:36.13999919220805 last n mean rew.34.32679923273623\n",
      "Episode:770 steps:1001 episode_reward:36.63999918103218 last n mean rew.34.42259923059493\n",
      "Episode:780 steps:1001 episode_reward:36.349999187514186 last n mean rew.34.57119922727347\n",
      "Episode:790 steps:1001 episode_reward:36.40999918617308 last n mean rew.34.60949922641739\n",
      "Episode:800 steps:1001 episode_reward:34.139999236911535 last n mean rew.34.85979922082275\n",
      "Episode:810 steps:1001 episode_reward:37.36999916471541 last n mean rew.35.00499921757728\n",
      "Solved in 810 episodes\n"
     ]
    }
   ],
   "source": [
    "def train(agent,episodes,visualize_every,print_every):\n",
    "    \n",
    "    total_rewards = []\n",
    "    episode_window_scores = deque(maxlen = DESIRED_EPISODES_AVERAGE)\n",
    "    \n",
    "    for episode in range(1,episodes+1):\n",
    "        finished = False\n",
    "        step_count = 0\n",
    "        episode_rewards = []\n",
    "        episode_return = 0\n",
    "        \n",
    "        agent.noise.reset()\n",
    "        train_mode = not(episode%visualize_every == 0)\n",
    "        env_info = env.reset(train_mode=train_mode)[brain_name]\n",
    "        state = env_info.vector_observations[0]\n",
    "        \n",
    "    \n",
    "        \n",
    "        while not finished:\n",
    "            action = agent.act(state)\n",
    "            \n",
    "            env_info = env.step(action)[brain_name]\n",
    "            next_state = env_info.vector_observations[0]\n",
    "            reward = env_info.rewards[0]\n",
    "            finished = env_info.local_done[0]\n",
    "            \n",
    "            # add experience to replay buffer\n",
    "            agent.replay_buffer.add(state,action,reward,next_state,finished)\n",
    "            episode_return += reward\n",
    "            episode_rewards.append(reward)\n",
    "            \n",
    "            state = next_state\n",
    "            \n",
    "            if step_count % TRAIN_EVERY == 0 and len(agent.replay_buffer) >= BATCH_SIZE:\n",
    "                agent.train(BATCH_SIZE,step_count,100)\n",
    "            \n",
    "            if step_count % UPDATE_TARGET_NETWORK_EVERY == 0 and len(agent.replay_buffer) >= BATCH_SIZE:\n",
    "                agent.update_target_actor(TAU)\n",
    "                agent.update_target_critic(TAU)\n",
    "                \n",
    "            step_count += 1\n",
    "                \n",
    "        total_rewards.append(episode_return)\n",
    "        episode_window_scores.append(episode_return)\n",
    "        \n",
    "        if episode % print_every == 0:\n",
    "            print(\"Episode:{} steps:{} episode_reward:{} last n mean rew.{}\".format(episode, step_count,\n",
    "                                                                                    episode_return,np.mean(episode_window_scores)))\n",
    "                \n",
    "    \n",
    "        if np.mean(episode_window_scores) >= DESIRED_AVERAGE_SCORE:\n",
    "            print(\"Solved in {} episodes\".format(episode))\n",
    "            checkpoint_name = \"checkpoint_solved_\"+str(episode)+\".pth\"\n",
    "            torch.save(agent.actor_local.state_dict(), \"actor_\"+ checkpoint_name)\n",
    "            torch.save(agent.critic_local.state_dict(),\"critic_\"+checkpoint_name)\n",
    "            solved = True\n",
    "            break\n",
    "            \n",
    "    return total_rewards\n",
    "        \n",
    "        \n",
    "\n",
    "rewards = train(agent,2000,VISUALIZE_EVERY,PRINT_EVERY)"
   ]
  },
  {
   "cell_type": "markdown",
   "metadata": {},
   "source": [
    "## Train plots"
   ]
  },
  {
   "cell_type": "markdown",
   "metadata": {},
   "source": [
    "#### Rewards"
   ]
  },
  {
   "cell_type": "code",
   "execution_count": 18,
   "metadata": {},
   "outputs": [
    {
     "data": {
      "text/plain": [
       "[<matplotlib.lines.Line2D at 0x7f914de07b70>]"
      ]
     },
     "execution_count": 18,
     "metadata": {},
     "output_type": "execute_result"
    },
    {
     "data": {
      "image/png": "[encoded data removed]",
      "text/plain": [
       "<Figure size 432x288 with 1 Axes>"
      ]
     },
     "metadata": {
      "needs_background": "light"
     },
     "output_type": "display_data"
    }
   ],
   "source": [
    "plt.plot(rewards)"
   ]
  },
  {
   "cell_type": "markdown",
   "metadata": {},
   "source": [
    "#### Critic loss"
   ]
  },
  {
   "cell_type": "code",
   "execution_count": 19,
   "metadata": {},
   "outputs": [
    {
     "data": {
      "text/plain": [
       "[<matplotlib.lines.Line2D at 0x7f914d95d860>]"
      ]
     },
     "execution_count": 19,
     "metadata": {},
     "output_type": "execute_result"
    },
    {
     "data": {
      "image/png": "[encoded data removed]",
      "text/plain": [
       "<Figure size 432x288 with 1 Axes>"
      ]
     },
     "metadata": {
      "needs_background": "light"
     },
     "output_type": "display_data"
    }
   ],
   "source": [
    "plt.plot(agent.critic_losses)"
   ]
  },
  {
   "cell_type": "markdown",
   "metadata": {},
   "source": [
    "#### Actor Loss"
   ]
  },
  {
   "cell_type": "code",
   "execution_count": 20,
   "metadata": {},
   "outputs": [
    {
     "data": {
      "text/plain": [
       "[<matplotlib.lines.Line2D at 0x7f914d8ca240>]"
      ]
     },
     "execution_count": 20,
     "metadata": {},
     "output_type": "execute_result"
    },
    {
     "data": {
      "image/png": "[encoded data removed]",
      "text/plain": [
       "<Figure size 432x288 with 1 Axes>"
      ]
     },
     "metadata": {
      "needs_background": "light"
     },
     "output_type": "display_data"
    }
   ],
   "source": [
    "plt.plot(agent.actor_losses)"
   ]
  },
  {
   "cell_type": "code",
   "execution_count": null,
   "metadata": {},
   "outputs": [],
   "source": []
  }
 ],
 "metadata": {
  "kernelspec": {
   "display_name": "Python 3",
   "language": "python",
   "name": "python3"
  },
  "language_info": {
   "codemirror_mode": {
    "name": "ipython",
    "version": 3
   },
   "file_extension": ".py",
   "mimetype": "text/x-python",
   "name": "python",
   "nbconvert_exporter": "python",
   "pygments_lexer": "ipython3",
   "version": "3.6.8"
  }
 },
 "nbformat": 4,
 "nbformat_minor": 2
}
