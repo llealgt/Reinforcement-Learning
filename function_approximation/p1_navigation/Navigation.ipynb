{
 "cells": [
  {
   "cell_type": "markdown",
   "metadata": {},
   "source": [
    "# Navigation\n",
    "\n",
    "---\n",
    "\n",
    "In this notebook, you will learn how to use the Unity ML-Agents environment for the first project of the [Deep Reinforcement Learning Nanodegree](https://www.udacity.com/course/deep-reinforcement-learning-nanodegree--nd893).\n",
    "\n",
    "### 1. Start the Environment\n",
    "\n",
    "We begin by importing some necessary packages.  If the code cell below returns an error, please revisit the project instructions to double-check that you have installed [Unity ML-Agents](https://github.com/Unity-Technologies/ml-agents/blob/master/docs/Installation.md) and [NumPy](http://www.numpy.org/)."
   ]
  },
  {
   "cell_type": "code",
   "execution_count": 1,
   "metadata": {},
   "outputs": [],
   "source": [
    "from unityagents import UnityEnvironment\n",
    "import numpy as np\n",
    "import matplotlib.pyplot as plt"
   ]
  },
  {
   "cell_type": "markdown",
   "metadata": {},
   "source": [
    "Next, we will start the environment!  **_Before running the code cell below_**, change the `file_name` parameter to match the location of the Unity environment that you downloaded.\n",
    "\n",
    "- **Mac**: `\"path/to/Banana.app\"`\n",
    "- **Windows** (x86): `\"path/to/Banana_Windows_x86/Banana.exe\"`\n",
    "- **Windows** (x86_64): `\"path/to/Banana_Windows_x86_64/Banana.exe\"`\n",
    "- **Linux** (x86): `\"path/to/Banana_Linux/Banana.x86\"`\n",
    "- **Linux** (x86_64): `\"path/to/Banana_Linux/Banana.x86_64\"`\n",
    "- **Linux** (x86, headless): `\"path/to/Banana_Linux_NoVis/Banana.x86\"`\n",
    "- **Linux** (x86_64, headless): `\"path/to/Banana_Linux_NoVis/Banana.x86_64\"`\n",
    "\n",
    "For instance, if you are using a Mac, then you downloaded `Banana.app`.  If this file is in the same folder as the notebook, then the line below should appear as follows:\n",
    "```\n",
    "env = UnityEnvironment(file_name=\"Banana.app\")\n",
    "```"
   ]
  },
  {
   "cell_type": "code",
   "execution_count": 2,
   "metadata": {},
   "outputs": [
    {
     "name": "stderr",
     "output_type": "stream",
     "text": [
      "INFO:unityagents:\n",
      "'Academy' started successfully!\n",
      "Unity Academy name: Academy\n",
      "        Number of Brains: 1\n",
      "        Number of External Brains : 1\n",
      "        Lesson number : 0\n",
      "        Reset Parameters :\n",
      "\t\t\n",
      "Unity brain name: BananaBrain\n",
      "        Number of Visual Observations (per agent): 0\n",
      "        Vector Observation space type: continuous\n",
      "        Vector Observation space size (per agent): 37\n",
      "        Number of stacked Vector Observation: 1\n",
      "        Vector Action space type: discrete\n",
      "        Vector Action space size (per agent): 4\n",
      "        Vector Action descriptions: , , , \n"
     ]
    }
   ],
   "source": [
    "env = UnityEnvironment(file_name=\"./Banana_Linux/Banana.x86_64\")"
   ]
  },
  {
   "cell_type": "markdown",
   "metadata": {},
   "source": [
    "Environments contain **_brains_** which are responsible for deciding the actions of their associated agents. Here we check for the first brain available, and set it as the default brain we will be controlling from Python."
   ]
  },
  {
   "cell_type": "code",
   "execution_count": 3,
   "metadata": {},
   "outputs": [],
   "source": [
    "# get the default brain\n",
    "brain_name = env.brain_names[0]\n",
    "brain = env.brains[brain_name]"
   ]
  },
  {
   "cell_type": "markdown",
   "metadata": {},
   "source": [
    "### 2. Examine the State and Action Spaces\n",
    "\n",
    "The simulation contains a single agent that navigates a large environment.  At each time step, it has four actions at its disposal:\n",
    "- `0` - walk forward \n",
    "- `1` - walk backward\n",
    "- `2` - turn left\n",
    "- `3` - turn right\n",
    "\n",
    "The state space has `37` dimensions and contains the agent's velocity, along with ray-based perception of objects around agent's forward direction.  A reward of `+1` is provided for collecting a yellow banana, and a reward of `-1` is provided for collecting a blue banana. \n",
    "\n",
    "Run the code cell below to print some information about the environment."
   ]
  },
  {
   "cell_type": "code",
   "execution_count": 4,
   "metadata": {},
   "outputs": [
    {
     "name": "stdout",
     "output_type": "stream",
     "text": [
      "Number of agents: 1\n",
      "Number of actions: 4\n",
      "States look like: [1.         0.         0.         0.         0.84408134 0.\n",
      " 0.         1.         0.         0.0748472  0.         1.\n",
      " 0.         0.         0.25755    1.         0.         0.\n",
      " 0.         0.74177343 0.         1.         0.         0.\n",
      " 0.25854847 0.         0.         1.         0.         0.09355672\n",
      " 0.         1.         0.         0.         0.31969345 0.\n",
      " 0.        ]\n",
      "States have length: 37\n"
     ]
    }
   ],
   "source": [
    "# reset the environment\n",
    "env_info = env.reset(train_mode=True)[brain_name]\n",
    "\n",
    "# number of agents in the environment\n",
    "print('Number of agents:', len(env_info.agents))\n",
    "\n",
    "# number of actions\n",
    "action_size = brain.vector_action_space_size\n",
    "print('Number of actions:', action_size)\n",
    "\n",
    "# examine the state space \n",
    "state = env_info.vector_observations[0]\n",
    "print('States look like:', state)\n",
    "state_size = len(state)\n",
    "print('States have length:', state_size)"
   ]
  },
  {
   "cell_type": "markdown",
   "metadata": {},
   "source": [
    "### 3. Take Random Actions in the Environment\n",
    "\n",
    "In the next code cell, you will learn how to use the Python API to control the agent and receive feedback from the environment.\n",
    "\n",
    "Once this cell is executed, you will watch the agent's performance, if it selects an action (uniformly) at random with each time step.  A window should pop up that allows you to observe the agent, as it moves through the environment.  \n",
    "\n",
    "Of course, as part of the project, you'll have to change the code so that the agent is able to use its experience to gradually choose better actions when interacting with the environment!"
   ]
  },
  {
   "cell_type": "markdown",
   "metadata": {},
   "source": [
    "env_info = env.reset(train_mode=False)[brain_name] # reset the environment\n",
    "state = env_info.vector_observations[0]            # get the current state\n",
    "score = 0                                          # initialize the score\n",
    "step_count = 1\n",
    "while True:\n",
    "    action = np.random.randint(action_size)        # select an action\n",
    "    env_info = env.step(action)[brain_name]        # send the action to the environment\n",
    "    next_state = env_info.vector_observations[0]   # get the next state\n",
    "    reward = env_info.rewards[0]                   # get the reward\n",
    "    done = env_info.local_done[0]                  # see if episode has finished\n",
    "    score += reward                                # update the score\n",
    "    step_count+=1\n",
    "    state = next_state                             # roll over the state to next time step\n",
    "    if done:                                       # exit loop if episode finished\n",
    "        break\n",
    "    \n",
    "print(\"Score: {}\".format(score),\" steps \",step_count)"
   ]
  },
  {
   "cell_type": "markdown",
   "metadata": {},
   "source": [
    "When finished, you can close the environment."
   ]
  },
  {
   "cell_type": "markdown",
   "metadata": {},
   "source": [
    "env.close()"
   ]
  },
  {
   "cell_type": "markdown",
   "metadata": {},
   "source": [
    "### 4. It's Your Turn!\n",
    "\n",
    "Now it's your turn to train your own agent to solve the environment!  When training the environment, set `train_mode=True`, so that the line for resetting the environment looks like the following:\n",
    "```python\n",
    "env_info = env.reset(train_mode=True)[brain_name]\n",
    "```"
   ]
  },
  {
   "cell_type": "code",
   "execution_count": 5,
   "metadata": {},
   "outputs": [],
   "source": [
    "import torch\n",
    "import torch.nn as nn\n",
    "import torch.nn.functional as F\n",
    "import torch.optim as optim\n",
    "from collections import namedtuple, deque\n",
    "import random"
   ]
  },
  {
   "cell_type": "code",
   "execution_count": 6,
   "metadata": {},
   "outputs": [],
   "source": [
    "EPISODES = 1500\n",
    "MAX_STEPS = 200000\n",
    "START_EPSILON = 1.0\n",
    "END_EPSILON = 0.1\n",
    "EPSILON_DECAY = 0.999\n",
    "UPDATE_TARGET_NETWORK_EVERY = 50\n",
    "REPLAY_BUFFER_SIZE = 100000\n",
    "TRAIN_EVERY  = 4\n",
    "BATCH_SIZE = 32\n",
    "PRINT_EVERY = 10\n",
    "LEARNING_RATE = 0.00025\n",
    "VISUALIZE_EVERY = 100 #visualize the agent in the unity environment\n",
    "\n",
    "DESIRED_AVERAGE = 13"
   ]
  },
  {
   "cell_type": "code",
   "execution_count": 7,
   "metadata": {},
   "outputs": [
    {
     "name": "stdout",
     "output_type": "stream",
     "text": [
      "cuda:0\n"
     ]
    }
   ],
   "source": [
    "device = torch.device(\"cuda:0\" if torch.cuda.is_available() else \"cpu\")\n",
    "\n",
    "print(device)"
   ]
  },
  {
   "cell_type": "code",
   "execution_count": 8,
   "metadata": {},
   "outputs": [],
   "source": [
    "class ReplayBuffer:\n",
    "    \"\"\"Fixed-size buffer to store experience tuples for experience replay\"\"\"\n",
    "\n",
    "    def __init__(self, action_size, buffer_size):\n",
    "        \"\"\"Initialize a ReplayBuffer object.\n",
    "\n",
    "        Params\n",
    "        ======\n",
    "            action_size (int): dimension of each action\n",
    "            buffer_size (int): maximum size of buffer\n",
    "        \"\"\"\n",
    "        self.action_size = action_size\n",
    "        self.memory = deque(maxlen=buffer_size)  \n",
    "        self.experience = namedtuple(\"Experience\", field_names=[\"state\", \"action\", \"reward\", \"next_state\", \"done\"])\n",
    "        #self.seed = random.seed(seed)\n",
    "    \n",
    "    def add(self, state, action, reward, next_state, done):\n",
    "        \"\"\"Add a new experience to memory.\"\"\"\n",
    "        e = self.experience(state, action, reward, next_state, done)\n",
    "        self.memory.append(e)\n",
    "    \n",
    "    def sample(self,batch_size):\n",
    "        \"\"\"Randomly sample a batch of experiences from memory.\"\"\"\n",
    "        experiences = random.sample(self.memory, k=batch_size)\n",
    "\n",
    "        states = torch.from_numpy(np.vstack([e.state for e in experiences if e is not None])).float().to(device)\n",
    "        actions = torch.from_numpy(np.vstack([e.action for e in experiences if e is not None])).long().to(device)\n",
    "        rewards = torch.from_numpy(np.vstack([e.reward for e in experiences if e is not None])).float().to(device)\n",
    "        next_states = torch.from_numpy(np.vstack([e.next_state for e in experiences if e is not None])).float().to(device)\n",
    "        dones = torch.from_numpy(np.vstack([e.done for e in experiences if e is not None]).astype(np.uint8)).float().to(device)\n",
    "  \n",
    "        return (states, actions, rewards, next_states, dones)\n",
    "\n",
    "    def __len__(self):\n",
    "        \"\"\"Return the current size of internal memory.\"\"\"\n",
    "        return len(self.memory)"
   ]
  },
  {
   "cell_type": "code",
   "execution_count": 9,
   "metadata": {},
   "outputs": [],
   "source": [
    "class QNetwork(nn.Module):\n",
    "    def __init__(self,state_size,action_size):\n",
    "        super(QNetwork, self).__init__()\n",
    "        self.state_size = state_size\n",
    "        self.action_size = action_size\n",
    "        \n",
    "        #assert len(hidden_sizes) > 0\n",
    "        self.fc1 = nn.Linear(state_size,50)\n",
    "        #self.hidden_layers = [] # list of nn.Linear\n",
    "        \n",
    "        #for i,size in enumerate(hidden_sizes[1:]):\n",
    "        #    self.hidden_layers.append(nn.Linear(hidden_sizes[i],size))\n",
    "         \n",
    "        self.fc2 = nn.Linear(50,50)\n",
    "        self.output_layer = nn.Linear(50,action_size)\n",
    "        \n",
    "    def forward(self,x):\n",
    "        x = F.relu(self.fc1(x))\n",
    "        \n",
    "        x = F.relu(self.fc2(x))\n",
    "            \n",
    "        x = self.output_layer(x)\n",
    "        \n",
    "        return x"
   ]
  },
  {
   "cell_type": "code",
   "execution_count": 10,
   "metadata": {},
   "outputs": [
    {
     "data": {
      "text/plain": [
       "4"
      ]
     },
     "execution_count": 10,
     "metadata": {},
     "output_type": "execute_result"
    }
   ],
   "source": [
    "action_size"
   ]
  },
  {
   "cell_type": "code",
   "execution_count": 11,
   "metadata": {},
   "outputs": [],
   "source": [
    "class Agent():\n",
    "    \n",
    "    def __init__(self,state_size, action_size,lr=0.001):\n",
    "        print(\"agent created\")\n",
    "        self.action_size = action_size\n",
    "        self.q_network_local = QNetwork(state_size,action_size).to(device) #network used to make desicion and with online updates\n",
    "        self.q_network_target = QNetwork(state_size,action_size).to(device) #network to calclate the target (copy of local)\n",
    "        self.q_network_target.eval()\n",
    "        self.optimizer = optim.Adam(self.q_network_local.parameters(),lr =lr) #TODO:ADD lr as parameter\n",
    "        \n",
    "        self.replay_buffer = ReplayBuffer(action_size,REPLAY_BUFFER_SIZE) #TODO: make them variables of constructor\n",
    "        \n",
    "        self.explore_count = 0\n",
    "        self.exploit_count = 0\n",
    "        \n",
    "    def act(self,state,epsilon=0.0):\n",
    "        state = torch.from_numpy(state).float().unsqueeze(0).to(device)\n",
    "        \n",
    "        random_sampled = np.random.random()\n",
    "        \n",
    "        #explore\n",
    "        if random_sampled <= epsilon:\n",
    "            action = np.random.randint(action_size)\n",
    "            self.explore_count += 1 \n",
    "        else: #exploit\n",
    "            self.q_network_local.eval()\n",
    "            with torch.no_grad():\n",
    "                q_values = self.q_network_local(state)\n",
    "                \n",
    "            greedy_action = np.argmax(q_values.cpu().data.numpy())   \n",
    "            action = greedy_action\n",
    "            self.exploit_count += 1\n",
    "\n",
    "        return action\n",
    "    \n",
    "    def update_target_network(self):\n",
    "        for target_param, local_param in zip(self.q_network_target.parameters(), self.q_network_local.parameters()):\n",
    "            target_param.data.copy_(local_param.data )\n",
    "            \n",
    "    def train(self,batch_size):\n",
    "        (states, actions, rewards, next_states, dones) = self.replay_buffer.sample(batch_size)\n",
    "        \n",
    "        \n",
    "        with torch.no_grad():\n",
    "            local_max_action = self.q_network_local(next_states).detach().argmax(1).unsqueeze(1)\n",
    "            current_target  = rewards + 0.99*self.q_network_target(next_states).gather(dim=1,index=local_max_action)\n",
    "            \n",
    "        self.q_network_local.train()\n",
    "        current_estimate =  self.q_network_local(states).gather(1,actions)\n",
    "        \n",
    "        mse_loss = F.mse_loss(current_target,current_estimate)\n",
    "        self.optimizer.zero_grad()\n",
    "        mse_loss.backward()\n",
    "        self.optimizer.step()\n",
    "        \n",
    "    def reset_explore_exploit_counts(self):\n",
    "        self.explore_count = 0\n",
    "        self.exploit_count = 0\n",
    "        \n",
    "    def get_explore_explit_counts(self):\n",
    "        return str((self.explore_count,self.exploit_count))"
   ]
  },
  {
   "cell_type": "code",
   "execution_count": 12,
   "metadata": {},
   "outputs": [
    {
     "name": "stdout",
     "output_type": "stream",
     "text": [
      "agent created\n",
      "Episode: 0  steps: 300  episode reward: 0.0  epsilon: 1.0  explore,exploit counts: (300, 0)\n",
      "Episode: 10  steps: 300  episode reward: -1.0  epsilon: 0.9900448802097482  explore,exploit counts: (294, 6)\n",
      "Episode: 20  steps: 300  episode reward: 1.0  epsilon: 0.9801888648295347  explore,exploit counts: (293, 7)\n",
      "Episode: 30  steps: 300  episode reward: -2.0  epsilon: 0.9704309672630859  explore,exploit counts: (290, 10)\n",
      "Episode: 40  steps: 300  episode reward: 0.0  epsilon: 0.9607702107358118  explore,exploit counts: (286, 14)\n",
      "Episode: 50  steps: 300  episode reward: 0.0  epsilon: 0.9512056281970315  explore,exploit counts: (285, 15)\n",
      "Episode: 60  steps: 300  episode reward: 0.0  epsilon: 0.9417362622231683  explore,exploit counts: (275, 25)\n",
      "Episode: 70  steps: 300  episode reward: 0.0  epsilon: 0.9323611649219127  explore,exploit counts: (273, 27)\n",
      "Episode: 80  steps: 300  episode reward: 1.0  epsilon: 0.9230793978373364  explore,exploit counts: (276, 24)\n",
      "Episode: 90  steps: 300  episode reward: 0.0  epsilon: 0.9138900318559524  explore,exploit counts: (257, 43)\n",
      "Episode: 100  steps: 300  episode reward: 0.0  epsilon: 0.9047921471137096  explore,exploit counts: (280, 20)\n",
      "Episode: 110  steps: 300  episode reward: 0.0  epsilon: 0.8957848329039134  explore,exploit counts: (269, 31)\n",
      "Episode: 120  steps: 300  episode reward: -2.0  epsilon: 0.8868671875860644  explore,exploit counts: (264, 36)\n",
      "Episode: 130  steps: 300  episode reward: 1.0  epsilon: 0.8780383184956015  explore,exploit counts: (251, 49)\n",
      "Episode: 140  steps: 300  episode reward: 0.0  epsilon: 0.8692973418545467  explore,exploit counts: (256, 44)\n",
      "Episode: 150  steps: 300  episode reward: -1.0  epsilon: 0.8606433826830369  explore,exploit counts: (261, 39)\n",
      "Episode: 160  steps: 300  episode reward: 1.0  epsilon: 0.8520755747117399  explore,exploit counts: (252, 48)\n",
      "Episode: 170  steps: 300  episode reward: 0.0  epsilon: 0.8435930602951368  explore,exploit counts: (263, 37)\n",
      "Episode: 180  steps: 300  episode reward: 0.0  epsilon: 0.8351949903256736  explore,exploit counts: (253, 47)\n",
      "Episode: 190  steps: 300  episode reward: 1.0  epsilon: 0.8268805241487632  explore,exploit counts: (259, 41)\n",
      "Episode: 200  steps: 300  episode reward: 0.0  epsilon: 0.818648829478636  explore,exploit counts: (241, 59)\n",
      "Episode: 210  steps: 300  episode reward: 0.0  epsilon: 0.8104990823150267  explore,exploit counts: (248, 52)\n",
      "Episode: 220  steps: 300  episode reward: 1.0  epsilon: 0.8024304668606914  explore,exploit counts: (237, 63)\n",
      "Episode: 230  steps: 300  episode reward: 0.0  epsilon: 0.7944421754397457  explore,exploit counts: (235, 65)\n",
      "Episode: 240  steps: 300  episode reward: 2.0  epsilon: 0.7865334084168147  explore,exploit counts: (226, 74)\n",
      "Episode: 250  steps: 300  episode reward: -1.0  epsilon: 0.7787033741169904  explore,exploit counts: (230, 70)\n",
      "Episode: 260  steps: 300  episode reward: 3.0  epsilon: 0.7709512887465825  explore,exploit counts: (224, 76)\n",
      "Episode: 270  steps: 300  episode reward: 3.0  epsilon: 0.7632763763146613  explore,exploit counts: (233, 67)\n",
      "Episode: 280  steps: 300  episode reward: 2.0  epsilon: 0.7556778685553796  explore,exploit counts: (228, 72)\n",
      "Episode: 290  steps: 300  episode reward: 2.0  epsilon: 0.7481550048510686  explore,exploit counts: (226, 74)\n",
      "Episode: 300  steps: 300  episode reward: 3.0  epsilon: 0.7407070321560997  explore,exploit counts: (228, 72)\n",
      "Episode: 310  steps: 300  episode reward: 2.0  epsilon: 0.7333332049215037  explore,exploit counts: (228, 72)\n",
      "Episode: 320  steps: 300  episode reward: 1.0  epsilon: 0.7260327850203407  explore,exploit counts: (217, 83)\n",
      "Episode: 330  steps: 300  episode reward: 3.0  epsilon: 0.7188050416738131  explore,exploit counts: (214, 86)\n",
      "Episode: 340  steps: 300  episode reward: 0.0  epsilon: 0.7116492513781133  explore,exploit counts: (213, 87)\n",
      "Episode: 350  steps: 300  episode reward: 3.0  epsilon: 0.704564697832001  explore,exploit counts: (212, 88)\n",
      "Episode: 360  steps: 300  episode reward: 4.0  epsilon: 0.6975506718651011  explore,exploit counts: (198, 102)\n",
      "Episode: 370  steps: 300  episode reward: 0.0  epsilon: 0.6906064713669134  explore,exploit counts: (204, 96)\n",
      "Episode: 380  steps: 300  episode reward: 0.0  epsilon: 0.6837314012165328  explore,exploit counts: (206, 94)\n",
      "Episode: 390  steps: 300  episode reward: 0.0  epsilon: 0.6769247732130653  explore,exploit counts: (212, 88)\n",
      "Episode: 400  steps: 300  episode reward: 5.0  epsilon: 0.6701859060067403  explore,exploit counts: (207, 93)\n",
      "Episode: 410  steps: 300  episode reward: 4.0  epsilon: 0.6635141250307047  explore,exploit counts: (191, 109)\n",
      "Episode: 420  steps: 300  episode reward: 4.0  epsilon: 0.6569087624334999  explore,exploit counts: (199, 101)\n",
      "Episode: 430  steps: 300  episode reward: 2.0  epsilon: 0.6503691570122084  explore,exploit counts: (203, 97)\n",
      "Episode: 440  steps: 300  episode reward: 7.0  epsilon: 0.6438946541462667  explore,exploit counts: (179, 121)\n",
      "Episode: 450  steps: 300  episode reward: 6.0  epsilon: 0.6374846057319378  explore,exploit counts: (207, 93)\n",
      "Episode: 460  steps: 300  episode reward: 2.0  epsilon: 0.6311383701174348  explore,exploit counts: (197, 103)\n",
      "Episode: 470  steps: 300  episode reward: 2.0  epsilon: 0.6248553120386914  explore,exploit counts: (189, 111)\n",
      "Episode: 480  steps: 300  episode reward: 5.0  epsilon: 0.6186348025557711  explore,exploit counts: (179, 121)\n",
      "Episode: 490  steps: 300  episode reward: 1.0  epsilon: 0.6124762189899097  explore,exploit counts: (193, 107)\n",
      "Episode: 500  steps: 300  episode reward: 4.0  epsilon: 0.6063789448611848  explore,exploit counts: (183, 117)\n",
      "Episode: 510  steps: 300  episode reward: 3.0  epsilon: 0.6003423698268052  explore,exploit counts: (176, 124)\n",
      "Episode: 520  steps: 300  episode reward: 4.0  epsilon: 0.5943658896200158  explore,exploit counts: (159, 141)\n",
      "Episode: 530  steps: 300  episode reward: 4.0  epsilon: 0.5884489059896089  explore,exploit counts: (168, 132)\n",
      "Episode: 540  steps: 300  episode reward: 3.0  epsilon: 0.5825908266400397  explore,exploit counts: (167, 133)\n",
      "Episode: 550  steps: 300  episode reward: 3.0  epsilon: 0.5767910651721362  explore,exploit counts: (182, 118)\n",
      "Episode: 560  steps: 300  episode reward: 3.0  epsilon: 0.5710490410244006  explore,exploit counts: (165, 135)\n",
      "Episode: 570  steps: 300  episode reward: 2.0  epsilon: 0.5653641794148941  explore,exploit counts: (162, 138)\n",
      "Episode: 580  steps: 300  episode reward: 7.0  epsilon: 0.5597359112837013  explore,exploit counts: (183, 117)\n",
      "Episode: 590  steps: 300  episode reward: 3.0  epsilon: 0.5541636732359665  explore,exploit counts: (182, 118)\n",
      "Episode: 600  steps: 300  episode reward: 7.0  epsilon: 0.5486469074854965  explore,exploit counts: (155, 145)\n",
      "Episode: 610  steps: 300  episode reward: 7.0  epsilon: 0.5431850617989273  explore,exploit counts: (158, 142)\n",
      "Episode: 620  steps: 300  episode reward: 2.0  epsilon: 0.5377775894404436  explore,exploit counts: (163, 137)\n",
      "Episode: 630  steps: 300  episode reward: 2.0  epsilon: 0.532423949117051  explore,exploit counts: (177, 123)\n",
      "Episode: 640  steps: 300  episode reward: 0.0  epsilon: 0.5271236049243919  explore,exploit counts: (150, 150)\n",
      "Episode: 650  steps: 300  episode reward: 5.0  epsilon: 0.5218760262931003  explore,exploit counts: (147, 153)\n",
      "Episode: 660  steps: 300  episode reward: 2.0  epsilon: 0.5166806879356919  explore,exploit counts: (144, 156)\n",
      "Episode: 670  steps: 300  episode reward: 8.0  epsilon: 0.5115370697939825  explore,exploit counts: (153, 147)\n",
      "Episode: 680  steps: 300  episode reward: 6.0  epsilon: 0.506444656987029  explore,exploit counts: (152, 148)\n",
      "Episode: 690  steps: 300  episode reward: 7.0  epsilon: 0.5014029397595902  explore,exploit counts: (151, 149)\n",
      "Episode: 700  steps: 300  episode reward: 7.0  epsilon: 0.4964114134310989  explore,exploit counts: (148, 152)\n",
      "Episode: 710  steps: 300  episode reward: 3.0  epsilon: 0.4914695783451441  explore,exploit counts: (165, 135)\n",
      "Episode: 720  steps: 300  episode reward: 3.0  epsilon: 0.4865769398194536  explore,exploit counts: (153, 147)\n",
      "Episode: 730  steps: 300  episode reward: 4.0  epsilon: 0.48173300809637676  explore,exploit counts: (154, 146)\n",
      "Episode: 740  steps: 300  episode reward: 7.0  epsilon: 0.4769372982938589  explore,exploit counts: (145, 155)\n"
     ]
    },
    {
     "name": "stdout",
     "output_type": "stream",
     "text": [
      "Episode: 750  steps: 300  episode reward: 4.0  epsilon: 0.47218933035690447  explore,exploit counts: (134, 166)\n",
      "Episode: 760  steps: 300  episode reward: 5.0  epsilon: 0.46748862900952265  explore,exploit counts: (156, 144)\n",
      "Episode: 770  steps: 300  episode reward: 8.0  epsilon: 0.46283472370715234  explore,exploit counts: (140, 160)\n",
      "Episode: 780  steps: 300  episode reward: 3.0  epsilon: 0.45822714858955943  explore,exploit counts: (125, 175)\n",
      "Episode: 790  steps: 300  episode reward: 5.0  epsilon: 0.4536654424342049  explore,exploit counts: (134, 166)\n",
      "Episode: 800  steps: 300  episode reward: 8.0  epsilon: 0.4491491486100748  explore,exploit counts: (135, 165)\n",
      "Episode: 810  steps: 300  episode reward: 5.0  epsilon: 0.44467781503197196  explore,exploit counts: (111, 189)\n",
      "Episode: 820  steps: 300  episode reward: 5.0  epsilon: 0.4402509941152613  explore,exploit counts: (138, 162)\n",
      "Episode: 830  steps: 300  episode reward: 3.0  epsilon: 0.43586824273106645  explore,exploit counts: (114, 186)\n",
      "Episode: 840  steps: 300  episode reward: 2.0  epsilon: 0.43152912216191214  explore,exploit counts: (131, 169)\n",
      "Episode: 850  steps: 300  episode reward: 12.0  epsilon: 0.427233198057808  explore,exploit counts: (135, 165)\n",
      "Episode: 860  steps: 300  episode reward: 8.0  epsilon: 0.4229800403927701  explore,exploit counts: (136, 164)\n",
      "Episode: 870  steps: 300  episode reward: 9.0  epsilon: 0.41876922342177453  explore,exploit counts: (128, 172)\n",
      "Episode: 880  steps: 300  episode reward: 8.0  epsilon: 0.41460032563814003  explore,exploit counts: (126, 174)\n",
      "Episode: 890  steps: 300  episode reward: 6.0  epsilon: 0.410472929731335  explore,exploit counts: (126, 174)\n",
      "Episode: 900  steps: 300  episode reward: 7.0  epsilon: 0.4063866225452039  explore,exploit counts: (128, 172)\n",
      "Episode: 910  steps: 300  episode reward: 0.0  epsilon: 0.4023409950366106  explore,exploit counts: (127, 173)\n",
      "Episode: 920  steps: 300  episode reward: 9.0  epsilon: 0.398335642234492  explore,exploit counts: (121, 179)\n",
      "Episode: 930  steps: 300  episode reward: 5.0  epsilon: 0.3943701631993207  explore,exploit counts: (115, 185)\n",
      "Episode: 940  steps: 300  episode reward: 4.0  epsilon: 0.3904441609829703  explore,exploit counts: (110, 190)\n",
      "Episode: 950  steps: 300  episode reward: 10.0  epsilon: 0.3865572425889805  explore,exploit counts: (113, 187)\n",
      "Episode: 960  steps: 300  episode reward: 9.0  epsilon: 0.3827090189332178  explore,exploit counts: (121, 179)\n",
      "Episode: 970  steps: 300  episode reward: 6.0  epsilon: 0.3788991048049279  explore,exploit counts: (111, 189)\n",
      "Episode: 980  steps: 300  episode reward: 13.0  epsilon: 0.3751271188281757  explore,exploit counts: (91, 209)\n",
      "Episode: 990  steps: 300  episode reward: 11.0  epsilon: 0.3713926834236692  explore,exploit counts: (113, 187)\n",
      "Episode: 1000  steps: 300  episode reward: 2.0  epsilon: 0.3676954247709635  explore,exploit counts: (97, 203)\n",
      "Episode: 1010  steps: 300  episode reward: 3.0  epsilon: 0.36403497277104113  explore,exploit counts: (121, 179)\n",
      "Episode: 1020  steps: 300  episode reward: 11.0  epsilon: 0.36041096100926434  explore,exploit counts: (106, 194)\n",
      "Episode: 1030  steps: 300  episode reward: 5.0  epsilon: 0.3568230267186975  explore,exploit counts: (105, 195)\n",
      "Episode: 1040  steps: 300  episode reward: 6.0  epsilon: 0.35327081074379274  explore,exploit counts: (96, 204)\n",
      "Episode: 1050  steps: 300  episode reward: 9.0  epsilon: 0.349753957504439  explore,exploit counts: (110, 190)\n",
      "Episode: 1060  steps: 300  episode reward: 12.0  epsilon: 0.34627211496036764  explore,exploit counts: (105, 195)\n",
      "Episode: 1070  steps: 300  episode reward: 7.0  epsilon: 0.34282493457591334  explore,exploit counts: (107, 193)\n",
      "Episode: 1080  steps: 300  episode reward: 11.0  epsilon: 0.33941207128512485  explore,exploit counts: (100, 200)\n",
      "Episode: 1090  steps: 300  episode reward: 8.0  epsilon: 0.336033183457224  explore,exploit counts: (95, 205)\n",
      "Episode: 1100  steps: 300  episode reward: 1.0  epsilon: 0.33268793286240766  explore,exploit counts: (102, 198)\n",
      "Episode: 1110  steps: 300  episode reward: 10.0  epsilon: 0.3293759846379912  explore,exploit counts: (98, 202)\n",
      "Episode: 1120  steps: 300  episode reward: 6.0  epsilon: 0.3260970072548879  explore,exploit counts: (103, 197)\n",
      "Episode: 1130  steps: 300  episode reward: 4.0  epsilon: 0.32285067248442284  explore,exploit counts: (104, 196)\n",
      "Episode: 1140  steps: 300  episode reward: 3.0  epsilon: 0.31963665536547703  explore,exploit counts: (99, 201)\n",
      "Episode: 1150  steps: 300  episode reward: 12.0  epsilon: 0.31645463417195824  explore,exploit counts: (91, 209)\n",
      "Episode: 1160  steps: 300  episode reward: 10.0  epsilon: 0.31330429038059615  explore,exploit counts: (88, 212)\n",
      "Episode: 1170  steps: 300  episode reward: 7.0  epsilon: 0.3101853086390574  explore,exploit counts: (93, 207)\n",
      "Episode: 1180  steps: 300  episode reward: 5.0  epsilon: 0.30709737673437937  explore,exploit counts: (100, 200)\n",
      "Episode: 1190  steps: 300  episode reward: 10.0  epsilon: 0.30404018556171647  explore,exploit counts: (95, 205)\n",
      "Episode: 1200  steps: 300  episode reward: 11.0  epsilon: 0.3010134290933992  explore,exploit counts: (107, 193)\n",
      "Episode: 1210  steps: 300  episode reward: 8.0  epsilon: 0.29801680434829997  explore,exploit counts: (83, 217)\n",
      "Episode: 1220  steps: 300  episode reward: 6.0  epsilon: 0.2950500113615046  explore,exploit counts: (94, 206)\n",
      "Episode: 1230  steps: 300  episode reward: 7.0  epsilon: 0.29211275315428575  explore,exploit counts: (100, 200)\n",
      "Episode: 1240  steps: 300  episode reward: 14.0  epsilon: 0.2892047357043746  explore,exploit counts: (93, 207)\n",
      "Episode: 1250  steps: 300  episode reward: 11.0  epsilon: 0.28632566791652947  explore,exploit counts: (92, 208)\n",
      "Episode: 1260  steps: 300  episode reward: 10.0  epsilon: 0.28347526159339653  explore,exploit counts: (89, 211)\n",
      "Episode: 1270  steps: 300  episode reward: 8.0  epsilon: 0.2806532314066613  explore,exploit counts: (96, 204)\n",
      "Episode: 1280  steps: 300  episode reward: 7.0  epsilon: 0.27785929486848676  explore,exploit counts: (97, 203)\n",
      "Episode: 1290  steps: 300  episode reward: 8.0  epsilon: 0.2750931723032361  explore,exploit counts: (93, 207)\n",
      "Episode: 1300  steps: 300  episode reward: 10.0  epsilon: 0.27235458681947705  explore,exploit counts: (87, 213)\n",
      "Episode: 1310  steps: 300  episode reward: 7.0  epsilon: 0.2696432642822646  explore,exploit counts: (84, 216)\n",
      "Episode: 1320  steps: 300  episode reward: 9.0  epsilon: 0.2669589332857002  explore,exploit counts: (78, 222)\n",
      "Episode: 1330  steps: 300  episode reward: 7.0  epsilon: 0.2643013251257632  explore,exploit counts: (89, 211)\n",
      "Episode: 1340  steps: 300  episode reward: 6.0  epsilon: 0.261670173773414  explore,exploit counts: (70, 230)\n",
      "Episode: 1350  steps: 300  episode reward: 10.0  epsilon: 0.25906521584796366  explore,exploit counts: (59, 241)\n",
      "Episode: 1360  steps: 300  episode reward: 12.0  epsilon: 0.2564861905907097  explore,exploit counts: (69, 231)\n",
      "Episode: 1370  steps: 300  episode reward: 10.0  epsilon: 0.25393283983883386  explore,exploit counts: (71, 229)\n",
      "Episode: 1380  steps: 300  episode reward: 6.0  epsilon: 0.25140490799955945  explore,exploit counts: (77, 223)\n",
      "Episode: 1390  steps: 300  episode reward: 11.0  epsilon: 0.24890214202456656  explore,exploit counts: (80, 220)\n",
      "Episode: 1400  steps: 300  episode reward: 13.0  epsilon: 0.24642429138466176  explore,exploit counts: (83, 217)\n",
      "Episode: 1410  steps: 300  episode reward: 8.0  epsilon: 0.24397110804469957  explore,exploit counts: (66, 234)\n",
      "Episode: 1420  steps: 300  episode reward: 12.0  epsilon: 0.24154234643875414  explore,exploit counts: (68, 232)\n",
      "Episode: 1430  steps: 300  episode reward: 5.0  epsilon: 0.23913776344553783  explore,exploit counts: (79, 221)\n",
      "Episode: 1440  steps: 300  episode reward: 11.0  epsilon: 0.23675711836406457  explore,exploit counts: (69, 231)\n",
      "Episode: 1450  steps: 300  episode reward: 13.0  epsilon: 0.23440017288955545  explore,exploit counts: (64, 236)\n",
      "Episode: 1460  steps: 300  episode reward: 7.0  epsilon: 0.23206669108958414  explore,exploit counts: (70, 230)\n",
      "Episode: 1470  steps: 300  episode reward: 8.0  epsilon: 0.22975643938045995  explore,exploit counts: (83, 217)\n",
      "Episode: 1480  steps: 300  episode reward: 7.0  epsilon: 0.22746918650384582  explore,exploit counts: (72, 228)\n"
     ]
    },
    {
     "name": "stdout",
     "output_type": "stream",
     "text": [
      "Episode: 1490  steps: 300  episode reward: 6.0  epsilon: 0.22520470350360888  explore,exploit counts: (68, 232)\n",
      "Last 10 average reward: 10.1\n"
     ]
    }
   ],
   "source": [
    "#env = UnityEnvironment(file_name=\"./Banana_Linux/Banana.x86_64\")\n",
    "agent = Agent(state_size,action_size,LEARNING_RATE)\n",
    "\n",
    "episodes_rewards = []\n",
    "solved = False\n",
    "epsilon = START_EPSILON\n",
    "for episode in range(EPISODES):\n",
    "    finished = False\n",
    "    step_count = 0\n",
    "    episode_score = 0\n",
    "    \n",
    "    agent.reset_explore_exploit_counts()\n",
    "    \n",
    "    train_mode = not (episode % VISUALIZE_EVERY == 0)\n",
    "    env_info = env.reset(train_mode=train_mode)[brain_name]\n",
    "    state = env_info.vector_observations[0]\n",
    "    \n",
    "    while not finished: #and step_count < MAX_STEPS:\n",
    "        action = agent.act(state,epsilon) \n",
    "        if action > 3 :\n",
    "            print(action,episode,step_count)\n",
    "        env_info = env.step(action)[brain_name]\n",
    "        next_state = env_info.vector_observations[0]\n",
    "        reward = env_info.rewards[0]\n",
    "        finished = env_info.local_done[0]\n",
    "        \n",
    "        # add experience tuple to experience replay buffer\n",
    "        agent.replay_buffer.add(state,action,reward,next_state,finished)\n",
    "        episode_score += reward\n",
    "        state = next_state\n",
    "        \n",
    "        # create a copy of local network to target network\n",
    "        if step_count % UPDATE_TARGET_NETWORK_EVERY == 0:\n",
    "            agent.update_target_network()\n",
    "            \n",
    "            \n",
    "        if step_count % TRAIN_EVERY == 0 and len(agent.replay_buffer) >=  BATCH_SIZE:\n",
    "            agent.train(BATCH_SIZE)\n",
    "            \n",
    "        step_count += 1\n",
    "        \n",
    "    if episode % PRINT_EVERY == 0:\n",
    "        print(\"Episode:\",episode, \" steps:\",step_count, \" episode reward:\",episode_score, \" epsilon:\",epsilon,\" explore,exploit counts:\",agent.get_explore_explit_counts())\n",
    "    \n",
    "    episodes_rewards.append(episode_score)\n",
    "    last_10_episode_rewards = np.mean(episodes_rewards[-10:])\n",
    "    \n",
    "    if last_10_episode_rewards >= DESIRED_AVERAGE:\n",
    "        print(\"Solved in \",episode, \" episodes \")\n",
    "        checkpoint_name = \"checkpoint_solved_\"+str(episode)+\".pth\"\n",
    "        torch.save(agent.q_network_local.state_dict(), checkpoint_name)\n",
    "        solved = True\n",
    "        break\n",
    "    \n",
    "    epsilon = max(END_EPSILON, EPSILON_DECAY*epsilon)\n",
    "    \n",
    "if not solved:\n",
    "    checkpoint_name = \"checkpoint_not_solved_\"+str(episode)+\".pth\"\n",
    "    torch.save(agent.q_network_local.state_dict(), checkpoint_name)\n",
    "\n",
    "print(\"Last 10 average reward:\",last_10_episode_rewards)\n",
    "env.close()"
   ]
  },
  {
   "cell_type": "code",
   "execution_count": 13,
   "metadata": {},
   "outputs": [
    {
     "data": {
      "image/png": "[encoded data removed]",
      "text/plain": [
       "<Figure size 432x288 with 1 Axes>"
      ]
     },
     "metadata": {
      "needs_background": "light"
     },
     "output_type": "display_data"
    }
   ],
   "source": [
    "# plot the scores\n",
    "fig = plt.figure()\n",
    "ax = fig.add_subplot(111)\n",
    "plt.plot(np.arange(len(episodes_rewards)), episodes_rewards)\n",
    "plt.ylabel('Score')\n",
    "plt.xlabel('Episode #')\n",
    "plt.show()"
   ]
  },
  {
   "cell_type": "code",
   "execution_count": null,
   "metadata": {},
   "outputs": [],
   "source": []
  }
 ],
 "metadata": {
  "kernelspec": {
   "display_name": "Python 3",
   "language": "python",
   "name": "python3"
  },
  "language_info": {
   "codemirror_mode": {
    "name": "ipython",
    "version": 3
   },
   "file_extension": ".py",
   "mimetype": "text/x-python",
   "name": "python",
   "nbconvert_exporter": "python",
   "pygments_lexer": "ipython3",
   "version": "3.6.8"
  }
 },
 "nbformat": 4,
 "nbformat_minor": 2
}
