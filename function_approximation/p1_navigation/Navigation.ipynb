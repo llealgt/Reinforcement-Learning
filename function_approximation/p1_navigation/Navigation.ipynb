{
 "cells": [
  {
   "cell_type": "markdown",
   "metadata": {},
   "source": [
    "# Navigation\n",
    "\n",
    "---\n",
    "\n",
    "In this notebook, you will learn how to use the Unity ML-Agents environment for the first project of the [Deep Reinforcement Learning Nanodegree](https://www.udacity.com/course/deep-reinforcement-learning-nanodegree--nd893).\n",
    "\n",
    "### 1. Start the Environment\n",
    "\n",
    "We begin by importing some necessary packages.  If the code cell below returns an error, please revisit the project instructions to double-check that you have installed [Unity ML-Agents](https://github.com/Unity-Technologies/ml-agents/blob/master/docs/Installation.md) and [NumPy](http://www.numpy.org/)."
   ]
  },
  {
   "cell_type": "code",
   "execution_count": 1,
   "metadata": {},
   "outputs": [],
   "source": [
    "from unityagents import UnityEnvironment\n",
    "import numpy as np\n",
    "import matplotlib.pyplot as plt"
   ]
  },
  {
   "cell_type": "markdown",
   "metadata": {},
   "source": [
    "Next, we will start the environment!  **_Before running the code cell below_**, change the `file_name` parameter to match the location of the Unity environment that you downloaded.\n",
    "\n",
    "- **Mac**: `\"path/to/Banana.app\"`\n",
    "- **Windows** (x86): `\"path/to/Banana_Windows_x86/Banana.exe\"`\n",
    "- **Windows** (x86_64): `\"path/to/Banana_Windows_x86_64/Banana.exe\"`\n",
    "- **Linux** (x86): `\"path/to/Banana_Linux/Banana.x86\"`\n",
    "- **Linux** (x86_64): `\"path/to/Banana_Linux/Banana.x86_64\"`\n",
    "- **Linux** (x86, headless): `\"path/to/Banana_Linux_NoVis/Banana.x86\"`\n",
    "- **Linux** (x86_64, headless): `\"path/to/Banana_Linux_NoVis/Banana.x86_64\"`\n",
    "\n",
    "For instance, if you are using a Mac, then you downloaded `Banana.app`.  If this file is in the same folder as the notebook, then the line below should appear as follows:\n",
    "```\n",
    "env = UnityEnvironment(file_name=\"Banana.app\")\n",
    "```"
   ]
  },
  {
   "cell_type": "code",
   "execution_count": 2,
   "metadata": {},
   "outputs": [
    {
     "name": "stderr",
     "output_type": "stream",
     "text": [
      "INFO:unityagents:\n",
      "'Academy' started successfully!\n",
      "Unity Academy name: Academy\n",
      "        Number of Brains: 1\n",
      "        Number of External Brains : 1\n",
      "        Lesson number : 0\n",
      "        Reset Parameters :\n",
      "\t\t\n",
      "Unity brain name: BananaBrain\n",
      "        Number of Visual Observations (per agent): 0\n",
      "        Vector Observation space type: continuous\n",
      "        Vector Observation space size (per agent): 37\n",
      "        Number of stacked Vector Observation: 1\n",
      "        Vector Action space type: discrete\n",
      "        Vector Action space size (per agent): 4\n",
      "        Vector Action descriptions: , , , \n"
     ]
    }
   ],
   "source": [
    "env = UnityEnvironment(file_name=\"./Banana_Linux/Banana.x86_64\")"
   ]
  },
  {
   "cell_type": "markdown",
   "metadata": {},
   "source": [
    "Environments contain **_brains_** which are responsible for deciding the actions of their associated agents. Here we check for the first brain available, and set it as the default brain we will be controlling from Python."
   ]
  },
  {
   "cell_type": "code",
   "execution_count": 3,
   "metadata": {},
   "outputs": [],
   "source": [
    "# get the default brain\n",
    "brain_name = env.brain_names[0]\n",
    "brain = env.brains[brain_name]"
   ]
  },
  {
   "cell_type": "markdown",
   "metadata": {},
   "source": [
    "### 2. Examine the State and Action Spaces\n",
    "\n",
    "The simulation contains a single agent that navigates a large environment.  At each time step, it has four actions at its disposal:\n",
    "- `0` - walk forward \n",
    "- `1` - walk backward\n",
    "- `2` - turn left\n",
    "- `3` - turn right\n",
    "\n",
    "The state space has `37` dimensions and contains the agent's velocity, along with ray-based perception of objects around agent's forward direction.  A reward of `+1` is provided for collecting a yellow banana, and a reward of `-1` is provided for collecting a blue banana. \n",
    "\n",
    "Run the code cell below to print some information about the environment."
   ]
  },
  {
   "cell_type": "code",
   "execution_count": 4,
   "metadata": {},
   "outputs": [
    {
     "name": "stdout",
     "output_type": "stream",
     "text": [
      "Number of agents: 1\n",
      "Number of actions: 4\n",
      "States look like: [1.         0.         0.         0.         0.84408134 0.\n",
      " 0.         1.         0.         0.0748472  0.         1.\n",
      " 0.         0.         0.25755    1.         0.         0.\n",
      " 0.         0.74177343 0.         1.         0.         0.\n",
      " 0.25854847 0.         0.         1.         0.         0.09355672\n",
      " 0.         1.         0.         0.         0.31969345 0.\n",
      " 0.        ]\n",
      "States have length: 37\n"
     ]
    }
   ],
   "source": [
    "# reset the environment\n",
    "env_info = env.reset(train_mode=True)[brain_name]\n",
    "\n",
    "# number of agents in the environment\n",
    "print('Number of agents:', len(env_info.agents))\n",
    "\n",
    "# number of actions\n",
    "action_size = brain.vector_action_space_size\n",
    "print('Number of actions:', action_size)\n",
    "\n",
    "# examine the state space \n",
    "state = env_info.vector_observations[0]\n",
    "print('States look like:', state)\n",
    "state_size = len(state)\n",
    "print('States have length:', state_size)"
   ]
  },
  {
   "cell_type": "markdown",
   "metadata": {},
   "source": [
    "### 3. Take Random Actions in the Environment\n",
    "\n",
    "In the next code cell, you will learn how to use the Python API to control the agent and receive feedback from the environment.\n",
    "\n",
    "Once this cell is executed, you will watch the agent's performance, if it selects an action (uniformly) at random with each time step.  A window should pop up that allows you to observe the agent, as it moves through the environment.  \n",
    "\n",
    "Of course, as part of the project, you'll have to change the code so that the agent is able to use its experience to gradually choose better actions when interacting with the environment!"
   ]
  },
  {
   "cell_type": "markdown",
   "metadata": {},
   "source": [
    "env_info = env.reset(train_mode=False)[brain_name] # reset the environment\n",
    "state = env_info.vector_observations[0]            # get the current state\n",
    "score = 0                                          # initialize the score\n",
    "step_count = 1\n",
    "while True:\n",
    "    action = np.random.randint(action_size)        # select an action\n",
    "    env_info = env.step(action)[brain_name]        # send the action to the environment\n",
    "    next_state = env_info.vector_observations[0]   # get the next state\n",
    "    reward = env_info.rewards[0]                   # get the reward\n",
    "    done = env_info.local_done[0]                  # see if episode has finished\n",
    "    score += reward                                # update the score\n",
    "    step_count+=1\n",
    "    state = next_state                             # roll over the state to next time step\n",
    "    if done:                                       # exit loop if episode finished\n",
    "        break\n",
    "    \n",
    "print(\"Score: {}\".format(score),\" steps \",step_count)"
   ]
  },
  {
   "cell_type": "markdown",
   "metadata": {},
   "source": [
    "When finished, you can close the environment."
   ]
  },
  {
   "cell_type": "markdown",
   "metadata": {},
   "source": [
    "env.close()"
   ]
  },
  {
   "cell_type": "markdown",
   "metadata": {},
   "source": [
    "### 4. It's Your Turn!\n",
    "\n",
    "Now it's your turn to train your own agent to solve the environment!  When training the environment, set `train_mode=True`, so that the line for resetting the environment looks like the following:\n",
    "```python\n",
    "env_info = env.reset(train_mode=True)[brain_name]\n",
    "```"
   ]
  },
  {
   "cell_type": "code",
   "execution_count": 5,
   "metadata": {},
   "outputs": [],
   "source": [
    "import torch\n",
    "import torch.nn as nn\n",
    "import torch.nn.functional as F\n",
    "import torch.optim as optim\n",
    "from collections import namedtuple, deque\n",
    "import random"
   ]
  },
  {
   "cell_type": "code",
   "execution_count": 6,
   "metadata": {},
   "outputs": [],
   "source": [
    "EPISODES = 999999 #\n",
    "MAX_STEPS = 200000\n",
    "START_EPSILON = 1.0\n",
    "END_EPSILON = 0.01\n",
    "EPSILON_DECAY = 0.990\n",
    "UPDATE_TARGET_NETWORK_EVERY = 50\n",
    "REPLAY_BUFFER_SIZE = 100000\n",
    "TRAIN_EVERY  = 4\n",
    "BATCH_SIZE = 32\n",
    "PRINT_EVERY = 10\n",
    "LEARNING_RATE = 0.00025\n",
    "VISUALIZE_EVERY = 100 #visualize the agent in the unity environment\n",
    "\n",
    "DESIRED_AVERAGE = 13\n",
    "DESIRED_EPISODES_AVERAGE = 100"
   ]
  },
  {
   "cell_type": "code",
   "execution_count": 7,
   "metadata": {},
   "outputs": [
    {
     "name": "stdout",
     "output_type": "stream",
     "text": [
      "cuda:0\n"
     ]
    }
   ],
   "source": [
    "device = torch.device(\"cuda:0\" if torch.cuda.is_available() else \"cpu\")\n",
    "\n",
    "print(device)"
   ]
  },
  {
   "cell_type": "code",
   "execution_count": 8,
   "metadata": {},
   "outputs": [],
   "source": [
    "class ReplayBuffer:\n",
    "    \"\"\"Fixed-size buffer to store experience tuples for experience replay\"\"\"\n",
    "\n",
    "    def __init__(self, action_size, buffer_size):\n",
    "        \"\"\"Initialize a ReplayBuffer object.\n",
    "\n",
    "        Params\n",
    "        ======\n",
    "            action_size (int): dimension of each action\n",
    "            buffer_size (int): maximum size of buffer\n",
    "        \"\"\"\n",
    "        self.action_size = action_size\n",
    "        self.memory = deque(maxlen=buffer_size)  \n",
    "        self.experience = namedtuple(\"Experience\", field_names=[\"state\", \"action\", \"reward\", \"next_state\", \"done\"])\n",
    "        #self.seed = random.seed(seed)\n",
    "    \n",
    "    def add(self, state, action, reward, next_state, done):\n",
    "        \"\"\"Add a new experience to memory.\"\"\"\n",
    "        e = self.experience(state, action, reward, next_state, done)\n",
    "        self.memory.append(e)\n",
    "    \n",
    "    def sample(self,batch_size):\n",
    "        \"\"\"Randomly sample a batch of experiences from memory.\"\"\"\n",
    "        experiences = random.sample(self.memory, k=batch_size)\n",
    "\n",
    "        states = torch.from_numpy(np.vstack([e.state for e in experiences if e is not None])).float().to(device)\n",
    "        actions = torch.from_numpy(np.vstack([e.action for e in experiences if e is not None])).long().to(device)\n",
    "        rewards = torch.from_numpy(np.vstack([e.reward for e in experiences if e is not None])).float().to(device)\n",
    "        next_states = torch.from_numpy(np.vstack([e.next_state for e in experiences if e is not None])).float().to(device)\n",
    "        dones = torch.from_numpy(np.vstack([e.done for e in experiences if e is not None]).astype(np.uint8)).float().to(device)\n",
    "  \n",
    "        return (states, actions, rewards, next_states, dones)\n",
    "\n",
    "    def __len__(self):\n",
    "        \"\"\"Return the current size of internal memory.\"\"\"\n",
    "        return len(self.memory)"
   ]
  },
  {
   "cell_type": "code",
   "execution_count": 9,
   "metadata": {},
   "outputs": [],
   "source": [
    "class QNetwork(nn.Module):\n",
    "    def __init__(self,state_size,action_size):\n",
    "        super(QNetwork, self).__init__()\n",
    "        self.state_size = state_size\n",
    "        self.action_size = action_size\n",
    "        \n",
    "        #assert len(hidden_sizes) > 0\n",
    "        self.fc1 = nn.Linear(state_size,100)\n",
    "        #self.hidden_layers = [] # list of nn.Linear\n",
    "        \n",
    "        #for i,size in enumerate(hidden_sizes[1:]):\n",
    "        #    self.hidden_layers.append(nn.Linear(hidden_sizes[i],size))\n",
    "         \n",
    "        self.fc2 = nn.Linear(100,100)\n",
    "        self.output_layer = nn.Linear(100,action_size)\n",
    "        \n",
    "    def forward(self,x):\n",
    "        x = F.relu(self.fc1(x))\n",
    "        \n",
    "        x = F.relu(self.fc2(x))\n",
    "            \n",
    "        x = self.output_layer(x)\n",
    "        \n",
    "        return x"
   ]
  },
  {
   "cell_type": "code",
   "execution_count": 10,
   "metadata": {},
   "outputs": [
    {
     "data": {
      "text/plain": [
       "4"
      ]
     },
     "execution_count": 10,
     "metadata": {},
     "output_type": "execute_result"
    }
   ],
   "source": [
    "action_size"
   ]
  },
  {
   "cell_type": "code",
   "execution_count": 11,
   "metadata": {},
   "outputs": [],
   "source": [
    "class Agent():\n",
    "    \n",
    "    def __init__(self,state_size, action_size,lr=0.001):\n",
    "        print(\"agent created\")\n",
    "        self.action_size = action_size\n",
    "        self.q_network_local = QNetwork(state_size,action_size).to(device) #network used to make desicion and with online updates\n",
    "        self.q_network_target = QNetwork(state_size,action_size).to(device) #network to calclate the target (copy of local)\n",
    "        self.q_network_target.eval()\n",
    "        self.optimizer = optim.Adam(self.q_network_local.parameters(),lr =lr) #TODO:ADD lr as parameter\n",
    "        \n",
    "        self.replay_buffer = ReplayBuffer(action_size,REPLAY_BUFFER_SIZE) #TODO: make them variables of constructor\n",
    "        \n",
    "        self.explore_count = 0\n",
    "        self.exploit_count = 0\n",
    "        \n",
    "    def act(self,state,epsilon=0.0):\n",
    "        state = torch.from_numpy(state).float().unsqueeze(0).to(device)\n",
    "        \n",
    "        random_sampled = np.random.random()\n",
    "        \n",
    "        #explore\n",
    "        if random_sampled <= epsilon:\n",
    "            action = np.random.randint(action_size)\n",
    "            self.explore_count += 1 \n",
    "        else: #exploit\n",
    "            self.q_network_local.eval()\n",
    "            with torch.no_grad():\n",
    "                q_values = self.q_network_local(state)\n",
    "                \n",
    "            greedy_action = np.argmax(q_values.cpu().data.numpy())   \n",
    "            action = greedy_action\n",
    "            self.exploit_count += 1\n",
    "\n",
    "        return action\n",
    "    \n",
    "    def update_target_network(self):\n",
    "        for target_param, local_param in zip(self.q_network_target.parameters(), self.q_network_local.parameters()):\n",
    "            target_param.data.copy_(local_param.data )\n",
    "            \n",
    "    def train(self,batch_size):\n",
    "        (states, actions, rewards, next_states, dones) = self.replay_buffer.sample(batch_size)\n",
    "        \n",
    "        \n",
    "        with torch.no_grad():\n",
    "            local_max_action = self.q_network_local(next_states).detach().argmax(1).unsqueeze(1)\n",
    "            current_target  = rewards + 0.99*self.q_network_target(next_states).gather(dim=1,index=local_max_action)\n",
    "            \n",
    "        self.q_network_local.train()\n",
    "        current_estimate =  self.q_network_local(states).gather(1,actions)\n",
    "        \n",
    "        mse_loss = F.mse_loss(current_target,current_estimate)\n",
    "        self.optimizer.zero_grad()\n",
    "        mse_loss.backward()\n",
    "        self.optimizer.step()\n",
    "        \n",
    "    def reset_explore_exploit_counts(self):\n",
    "        self.explore_count = 0\n",
    "        self.exploit_count = 0\n",
    "        \n",
    "    def get_explore_explit_counts(self):\n",
    "        return str((self.explore_count,self.exploit_count))"
   ]
  },
  {
   "cell_type": "code",
   "execution_count": 12,
   "metadata": {},
   "outputs": [
    {
     "name": "stdout",
     "output_type": "stream",
     "text": [
      "agent created\n",
      "Episode: 0  steps: 300  episode reward: 0.0  epsilon: 1.0  explore,exploit counts: (300, 0)\n",
      "Episode: 10  steps: 300  episode reward: -1.0  epsilon: 0.9043820750088043  explore,exploit counts: (271, 29)\n",
      "Episode: 20  steps: 300  episode reward: 0.0  epsilon: 0.8179069375972307  explore,exploit counts: (242, 58)\n",
      "Episode: 30  steps: 300  episode reward: -2.0  epsilon: 0.7397003733882802  explore,exploit counts: (224, 76)\n",
      "Episode: 40  steps: 300  episode reward: 0.0  epsilon: 0.6689717585696803  explore,exploit counts: (191, 109)\n",
      "Episode: 50  steps: 300  episode reward: -1.0  epsilon: 0.6050060671375365  explore,exploit counts: (184, 116)\n",
      "Episode: 60  steps: 300  episode reward: 1.0  epsilon: 0.5471566423907612  explore,exploit counts: (174, 126)\n",
      "Episode: 70  steps: 300  episode reward: -2.0  epsilon: 0.49483865960020695  explore,exploit counts: (149, 151)\n",
      "Episode: 80  steps: 300  episode reward: 1.0  epsilon: 0.44752321376381066  explore,exploit counts: (131, 169)\n",
      "Episode: 90  steps: 300  episode reward: 0.0  epsilon: 0.4047319726783239  explore,exploit counts: (124, 176)\n",
      "Episode: 100  steps: 300  episode reward: -4.0  epsilon: 0.36603234127322926  explore,exploit counts: (111, 189)\n",
      "Episode: 110  steps: 300  episode reward: -2.0  epsilon: 0.33103308832101386  explore,exploit counts: (107, 193)\n",
      "Episode: 120  steps: 300  episode reward: -1.0  epsilon: 0.29938039131233124  explore,exploit counts: (93, 207)\n",
      "Episode: 130  steps: 300  episode reward: 0.0  epsilon: 0.270754259511994  explore,exploit counts: (88, 212)\n",
      "Episode: 140  steps: 300  episode reward: 0.0  epsilon: 0.24486529903492946  explore,exploit counts: (73, 227)\n",
      "Episode: 150  steps: 300  episode reward: -1.0  epsilon: 0.22145178723886094  explore,exploit counts: (60, 240)\n",
      "Episode: 160  steps: 300  episode reward: 2.0  epsilon: 0.20027702685748935  explore,exploit counts: (50, 250)\n",
      "Episode: 170  steps: 300  episode reward: 1.0  epsilon: 0.18112695312597027  explore,exploit counts: (41, 259)\n",
      "Episode: 180  steps: 300  episode reward: 3.0  epsilon: 0.16380796970808745  explore,exploit counts: (46, 254)\n",
      "Episode: 190  steps: 300  episode reward: 0.0  epsilon: 0.1481449915475795  explore,exploit counts: (42, 258)\n",
      "Episode: 200  steps: 300  episode reward: 2.0  epsilon: 0.13397967485796175  explore,exploit counts: (53, 247)\n",
      "Episode: 210  steps: 300  episode reward: 1.0  epsilon: 0.1211688163570484  explore,exploit counts: (40, 260)\n",
      "Episode: 220  steps: 300  episode reward: 3.0  epsilon: 0.10958290556334822  explore,exploit counts: (40, 260)\n",
      "Episode: 230  steps: 300  episode reward: 7.0  epsilon: 0.09910481551887473  explore,exploit counts: (32, 268)\n",
      "Episode: 240  steps: 300  episode reward: 6.0  epsilon: 0.08962861870232469  explore,exploit counts: (24, 276)\n",
      "Episode: 250  steps: 300  episode reward: 7.0  epsilon: 0.08105851616218133  explore,exploit counts: (21, 279)\n",
      "Episode: 260  steps: 300  episode reward: 12.0  epsilon: 0.07330786904388827  explore,exploit counts: (21, 279)\n",
      "Episode: 270  steps: 300  episode reward: 5.0  epsilon: 0.06629832272038537  explore,exploit counts: (13, 287)\n",
      "Episode: 280  steps: 300  episode reward: -1.0  epsilon: 0.05995901467146548  explore,exploit counts: (19, 281)\n",
      "Episode: 290  steps: 300  episode reward: 11.0  epsilon: 0.054225858104063294  explore,exploit counts: (15, 285)\n",
      "Episode: 300  steps: 300  episode reward: 5.0  epsilon: 0.04904089407128576  explore,exploit counts: (16, 284)\n",
      "Episode: 310  steps: 300  episode reward: 7.0  epsilon: 0.04435170554047638  explore,exploit counts: (18, 282)\n",
      "Episode: 320  steps: 300  episode reward: 2.0  epsilon: 0.04011088748687551  explore,exploit counts: (9, 291)\n",
      "Episode: 330  steps: 300  episode reward: 7.0  epsilon: 0.036275567655825146  explore,exploit counts: (11, 289)\n",
      "Episode: 340  steps: 300  episode reward: 6.0  epsilon: 0.03280697314869741  explore,exploit counts: (12, 288)\n",
      "Episode: 350  steps: 300  episode reward: 5.0  epsilon: 0.029670038450977095  explore,exploit counts: (11, 289)\n",
      "Episode: 360  steps: 300  episode reward: 4.0  epsilon: 0.026833050939885677  explore,exploit counts: (8, 292)\n",
      "Episode: 370  steps: 300  episode reward: 0.0  epsilon: 0.024267330287830756  explore,exploit counts: (6, 294)\n",
      "Episode: 380  steps: 300  episode reward: 13.0  epsilon: 0.02194693852063239  explore,exploit counts: (5, 295)\n",
      "Episode: 390  steps: 300  episode reward: 7.0  epsilon: 0.01984841779938018  explore,exploit counts: (9, 291)\n",
      "Episode: 400  steps: 300  episode reward: 1.0  epsilon: 0.017950553275045134  explore,exploit counts: (9, 291)\n",
      "Episode: 410  steps: 300  episode reward: 7.0  epsilon: 0.01623415861844141  explore,exploit counts: (6, 294)\n",
      "Episode: 420  steps: 300  episode reward: 3.0  epsilon: 0.014681882057368112  explore,exploit counts: (6, 294)\n",
      "Episode: 430  steps: 300  episode reward: 15.0  epsilon: 0.013278030960077106  explore,exploit counts: (2, 298)\n",
      "Episode: 440  steps: 300  episode reward: 11.0  epsilon: 0.01200841319170568  explore,exploit counts: (2, 298)\n",
      "Episode: 450  steps: 300  episode reward: 6.0  epsilon: 0.010860193639877886  explore,exploit counts: (1, 299)\n",
      "Episode: 460  steps: 300  episode reward: 12.0  epsilon: 0.01  explore,exploit counts: (3, 297)\n",
      "Episode: 470  steps: 300  episode reward: 12.0  epsilon: 0.01  explore,exploit counts: (3, 297)\n",
      "Episode: 480  steps: 300  episode reward: 12.0  epsilon: 0.01  explore,exploit counts: (3, 297)\n",
      "Episode: 490  steps: 300  episode reward: 11.0  epsilon: 0.01  explore,exploit counts: (3, 297)\n",
      "Episode: 500  steps: 300  episode reward: 6.0  epsilon: 0.01  explore,exploit counts: (3, 297)\n",
      "Episode: 510  steps: 300  episode reward: 5.0  epsilon: 0.01  explore,exploit counts: (1, 299)\n",
      "Episode: 520  steps: 300  episode reward: 5.0  epsilon: 0.01  explore,exploit counts: (2, 298)\n",
      "Episode: 530  steps: 300  episode reward: 13.0  epsilon: 0.01  explore,exploit counts: (3, 297)\n",
      "Episode: 540  steps: 300  episode reward: 11.0  epsilon: 0.01  explore,exploit counts: (2, 298)\n",
      "Episode: 550  steps: 300  episode reward: 12.0  epsilon: 0.01  explore,exploit counts: (3, 297)\n",
      "Episode: 560  steps: 300  episode reward: 9.0  epsilon: 0.01  explore,exploit counts: (3, 297)\n",
      "Episode: 570  steps: 300  episode reward: 17.0  epsilon: 0.01  explore,exploit counts: (3, 297)\n",
      "Episode: 580  steps: 300  episode reward: 13.0  epsilon: 0.01  explore,exploit counts: (5, 295)\n",
      "Episode: 590  steps: 300  episode reward: 14.0  epsilon: 0.01  explore,exploit counts: (4, 296)\n",
      "Episode: 600  steps: 300  episode reward: 7.0  epsilon: 0.01  explore,exploit counts: (1, 299)\n",
      "Episode: 610  steps: 300  episode reward: 7.0  epsilon: 0.01  explore,exploit counts: (7, 293)\n",
      "Episode: 620  steps: 300  episode reward: 2.0  epsilon: 0.01  explore,exploit counts: (4, 296)\n",
      "Episode: 630  steps: 300  episode reward: 6.0  epsilon: 0.01  explore,exploit counts: (2, 298)\n",
      "Episode: 640  steps: 300  episode reward: 13.0  epsilon: 0.01  explore,exploit counts: (1, 299)\n",
      "Episode: 650  steps: 300  episode reward: 14.0  epsilon: 0.01  explore,exploit counts: (3, 297)\n",
      "Episode: 660  steps: 300  episode reward: 13.0  epsilon: 0.01  explore,exploit counts: (1, 299)\n",
      "Episode: 670  steps: 300  episode reward: 14.0  epsilon: 0.01  explore,exploit counts: (3, 297)\n",
      "Episode: 680  steps: 300  episode reward: 10.0  epsilon: 0.01  explore,exploit counts: (3, 297)\n",
      "Episode: 690  steps: 300  episode reward: 16.0  epsilon: 0.01  explore,exploit counts: (4, 296)\n",
      "Episode: 700  steps: 300  episode reward: 14.0  epsilon: 0.01  explore,exploit counts: (4, 296)\n",
      "Episode: 710  steps: 300  episode reward: 10.0  epsilon: 0.01  explore,exploit counts: (3, 297)\n",
      "Episode: 720  steps: 300  episode reward: 7.0  epsilon: 0.01  explore,exploit counts: (2, 298)\n",
      "Episode: 730  steps: 300  episode reward: 10.0  epsilon: 0.01  explore,exploit counts: (0, 300)\n",
      "Episode: 740  steps: 300  episode reward: 14.0  epsilon: 0.01  explore,exploit counts: (1, 299)\n",
      "Episode: 750  steps: 300  episode reward: 17.0  epsilon: 0.01  explore,exploit counts: (4, 296)\n",
      "Episode: 760  steps: 300  episode reward: 9.0  epsilon: 0.01  explore,exploit counts: (5, 295)\n",
      "Episode: 770  steps: 300  episode reward: 11.0  epsilon: 0.01  explore,exploit counts: (5, 295)\n",
      "Episode: 780  steps: 300  episode reward: 19.0  epsilon: 0.01  explore,exploit counts: (2, 298)\n"
     ]
    },
    {
     "name": "stdout",
     "output_type": "stream",
     "text": [
      "Episode: 790  steps: 300  episode reward: 20.0  epsilon: 0.01  explore,exploit counts: (5, 295)\n",
      "Episode: 800  steps: 300  episode reward: 11.0  epsilon: 0.01  explore,exploit counts: (0, 300)\n",
      "Episode: 810  steps: 300  episode reward: 17.0  epsilon: 0.01  explore,exploit counts: (1, 299)\n",
      "Episode: 820  steps: 300  episode reward: 13.0  epsilon: 0.01  explore,exploit counts: (3, 297)\n",
      "Episode: 830  steps: 300  episode reward: 11.0  epsilon: 0.01  explore,exploit counts: (1, 299)\n",
      "Episode: 840  steps: 300  episode reward: 5.0  epsilon: 0.01  explore,exploit counts: (7, 293)\n",
      "Episode: 850  steps: 300  episode reward: 12.0  epsilon: 0.01  explore,exploit counts: (3, 297)\n",
      "Episode: 860  steps: 300  episode reward: 22.0  epsilon: 0.01  explore,exploit counts: (1, 299)\n",
      "Episode: 870  steps: 300  episode reward: 19.0  epsilon: 0.01  explore,exploit counts: (1, 299)\n",
      "Episode: 880  steps: 300  episode reward: 2.0  epsilon: 0.01  explore,exploit counts: (4, 296)\n",
      "Episode: 890  steps: 300  episode reward: 19.0  epsilon: 0.01  explore,exploit counts: (4, 296)\n",
      "Episode: 900  steps: 300  episode reward: 15.0  epsilon: 0.01  explore,exploit counts: (0, 300)\n",
      "Episode: 910  steps: 300  episode reward: 15.0  epsilon: 0.01  explore,exploit counts: (1, 299)\n",
      "Episode: 920  steps: 300  episode reward: 19.0  epsilon: 0.01  explore,exploit counts: (4, 296)\n",
      "Episode: 930  steps: 300  episode reward: 19.0  epsilon: 0.01  explore,exploit counts: (2, 298)\n",
      "Episode: 940  steps: 300  episode reward: 11.0  epsilon: 0.01  explore,exploit counts: (1, 299)\n",
      "Episode: 950  steps: 300  episode reward: 14.0  epsilon: 0.01  explore,exploit counts: (0, 300)\n",
      "Episode: 960  steps: 300  episode reward: 10.0  epsilon: 0.01  explore,exploit counts: (1, 299)\n",
      "Episode: 970  steps: 300  episode reward: 12.0  epsilon: 0.01  explore,exploit counts: (1, 299)\n",
      "Episode: 980  steps: 300  episode reward: 18.0  epsilon: 0.01  explore,exploit counts: (3, 297)\n",
      "Episode: 990  steps: 300  episode reward: 15.0  epsilon: 0.01  explore,exploit counts: (4, 296)\n",
      "Episode: 1000  steps: 300  episode reward: 19.0  epsilon: 0.01  explore,exploit counts: (4, 296)\n",
      "Solved in  1007  episodes \n",
      "Last  100  average reward: 13.01\n"
     ]
    }
   ],
   "source": [
    "#env = UnityEnvironment(file_name=\"./Banana_Linux/Banana.x86_64\")\n",
    "agent = Agent(state_size,action_size,LEARNING_RATE)\n",
    "\n",
    "episodes_rewards = []\n",
    "solved = False\n",
    "epsilon = START_EPSILON\n",
    "for episode in range(EPISODES):\n",
    "    finished = False\n",
    "    step_count = 0\n",
    "    episode_score = 0\n",
    "    \n",
    "    agent.reset_explore_exploit_counts()\n",
    "    \n",
    "    train_mode = not (episode % VISUALIZE_EVERY == 0)\n",
    "    env_info = env.reset(train_mode=train_mode)[brain_name]\n",
    "    state = env_info.vector_observations[0]\n",
    "    \n",
    "    while not finished: #and step_count < MAX_STEPS:\n",
    "        action = agent.act(state,epsilon) \n",
    "\n",
    "        env_info = env.step(action)[brain_name]\n",
    "        next_state = env_info.vector_observations[0]\n",
    "        reward = env_info.rewards[0]\n",
    "        finished = env_info.local_done[0]\n",
    "        \n",
    "        # add experience tuple to experience replay buffer\n",
    "        agent.replay_buffer.add(state,action,reward,next_state,finished)\n",
    "        episode_score += reward\n",
    "        state = next_state\n",
    "        \n",
    "        # create a copy of local network to target network\n",
    "        if step_count % UPDATE_TARGET_NETWORK_EVERY == 0:\n",
    "            agent.update_target_network()\n",
    "            \n",
    "            \n",
    "        if step_count % TRAIN_EVERY == 0 and len(agent.replay_buffer) >=  BATCH_SIZE:\n",
    "            agent.train(BATCH_SIZE)\n",
    "            \n",
    "        step_count += 1\n",
    "        \n",
    "    if episode % PRINT_EVERY == 0:\n",
    "        print(\"Episode:\",episode, \" steps:\",step_count, \" episode reward:\",episode_score, \" epsilon:\",epsilon,\" explore,exploit counts:\",agent.get_explore_explit_counts())\n",
    "    \n",
    "    episodes_rewards.append(episode_score)\n",
    "    last_n_episode_rewards = np.mean(episodes_rewards[-DESIRED_EPISODES_AVERAGE:])\n",
    "    \n",
    "    if last_n_episode_rewards >= DESIRED_AVERAGE:\n",
    "        print(\"Solved in \",episode, \" episodes \")\n",
    "        checkpoint_name = \"checkpoint_solved_\"+str(episode)+\".pth\"\n",
    "        torch.save(agent.q_network_local.state_dict(), checkpoint_name)\n",
    "        solved = True\n",
    "        break\n",
    "    \n",
    "    epsilon = max(END_EPSILON, EPSILON_DECAY*epsilon)\n",
    "    \n",
    "if not solved:\n",
    "    checkpoint_name = \"checkpoint_not_solved_\"+str(episode)+\".pth\"\n",
    "    torch.save(agent.q_network_local.state_dict(), checkpoint_name)\n",
    "\n",
    "print(\"Last \", DESIRED_EPISODES_AVERAGE,\" average reward:\",last_n_episode_rewards)\n",
    "env.close()"
   ]
  },
  {
   "cell_type": "code",
   "execution_count": 13,
   "metadata": {},
   "outputs": [
    {
     "data": {
      "image/png": "[encoded data removed]",
      "text/plain": [
       "<Figure size 432x288 with 1 Axes>"
      ]
     },
     "metadata": {
      "needs_background": "light"
     },
     "output_type": "display_data"
    }
   ],
   "source": [
    "# plot the scores\n",
    "fig = plt.figure()\n",
    "ax = fig.add_subplot(111)\n",
    "plt.plot(np.arange(len(episodes_rewards)), episodes_rewards)\n",
    "plt.ylabel('Score')\n",
    "plt.xlabel('Episode #')\n",
    "plt.show()"
   ]
  },
  {
   "cell_type": "code",
   "execution_count": null,
   "metadata": {},
   "outputs": [],
   "source": []
  }
 ],
 "metadata": {
  "kernelspec": {
   "display_name": "Python 3",
   "language": "python",
   "name": "python3"
  },
  "language_info": {
   "codemirror_mode": {
    "name": "ipython",
    "version": 3
   },
   "file_extension": ".py",
   "mimetype": "text/x-python",
   "name": "python",
   "nbconvert_exporter": "python",
   "pygments_lexer": "ipython3",
   "version": "3.6.8"
  }
 },
 "nbformat": 4,
 "nbformat_minor": 2
}
