{
 "cells": [
  {
   "cell_type": "markdown",
   "metadata": {},
   "source": [
    "# averaging n-step return\n",
    "\n",
    "An implementation of \"averaging n-step return \"  using a gridworld.\n",
    "\n",
    "Based on: https://youtu.be/PnHCvfgC_ZA?t=5005 \n",
    "\n",
    "More info about this can be found in \"Reinforcement Learning: an introduction\" 2nd edition by Barto and Sutton\n"
   ]
  },
  {
   "cell_type": "markdown",
   "metadata": {},
   "source": [
    "The gridworld has the shape(3,4) with a winning state \"w\"(0,3), and a lossing state \"l\"(1,3), a non valid state \"x\"(2,1) and a start state s(3,0)\n",
    "\n",
    "|  |  |  |  |\n",
    "|---|---|---|---|\n",
    "|  |  |  | w |\n",
    "|  |  |  | l |\n",
    "|  | x |  |  |\n",
    "| s |  |  |  |"
   ]
  },
  {
   "cell_type": "code",
   "execution_count": 1,
   "metadata": {},
   "outputs": [
    {
     "name": "stdout",
     "output_type": "stream",
     "text": [
      "Pixiedust database opened successfully\n"
     ]
    },
    {
     "data": {
      "text/html": [
       "\n",
       "        <div style=\"margin:10px\">\n",
       "            <a href=\"https://github.com/ibm-watson-data-lab/pixiedust\" target=\"_new\">\n",
       "                <img src=\"https://github.com/ibm-watson-data-lab/pixiedust/raw/master/docs/_static/pd_icon32.png\" style=\"float:left;margin-right:10px\"/>\n",
       "            </a>\n",
       "            <span>Pixiedust version 1.1.14</span>\n",
       "        </div>\n",
       "        "
      ],
      "text/plain": [
       "<IPython.core.display.HTML object>"
      ]
     },
     "metadata": {},
     "output_type": "display_data"
    },
    {
     "data": {
      "text/html": [
       "<div>Warning: You are not running the latest version of PixieDust. Current is 1.1.14, Latest is 1.1.15</div>"
      ],
      "text/plain": [
       "<IPython.core.display.HTML object>"
      ]
     },
     "metadata": {},
     "output_type": "display_data"
    },
    {
     "data": {
      "text/html": [
       "\n",
       "                <div>Please copy and run the following command in a new cell to upgrade: <span style=\"background-color:#ececec;font-family:monospace;padding:0 5px\">!pip install --user --upgrade pixiedust</span></div>\n",
       "            "
      ],
      "text/plain": [
       "<IPython.core.display.HTML object>"
      ]
     },
     "metadata": {},
     "output_type": "display_data"
    },
    {
     "data": {
      "text/html": [
       "<div>Please restart kernel after upgrading.</div>"
      ],
      "text/plain": [
       "<IPython.core.display.HTML object>"
      ]
     },
     "metadata": {},
     "output_type": "display_data"
    }
   ],
   "source": [
    "import numpy as np\n",
    "import matplotlib.pyplot as plt\n",
    "from collections import defaultdict\n",
    "import pixiedust\n",
    "\n",
    "import grid_world"
   ]
  },
  {
   "cell_type": "markdown",
   "metadata": {},
   "source": [
    "### Disccount factor and step size"
   ]
  },
  {
   "cell_type": "code",
   "execution_count": 2,
   "metadata": {
    "collapsed": true
   },
   "outputs": [],
   "source": [
    "\n",
    "GAMMA = 0.9\n",
    "ALPHA =0.1"
   ]
  },
  {
   "cell_type": "markdown",
   "metadata": {},
   "source": [
    "### Auxiliary function to display the values of a policy after finishing iterative policy evaluation"
   ]
  },
  {
   "cell_type": "code",
   "execution_count": 3,
   "metadata": {
    "collapsed": true
   },
   "outputs": [],
   "source": [
    "def print_values(V,grid):\n",
    "    for i in range(grid.width):\n",
    "        print(\"--------------------------\")\n",
    "        for j in range(grid.height):\n",
    "            v = V.get((i,j),0)\n",
    "            if v >= 0:\n",
    "                print(\" %.2f|\" % v, end=\"\")\n",
    "            else:\n",
    "                print(\"%.2f|\" % v, end=\"\")\n",
    "        print(\"\")"
   ]
  },
  {
   "cell_type": "markdown",
   "metadata": {},
   "source": [
    "### Auxiliary function to display a stochastic policy"
   ]
  },
  {
   "cell_type": "code",
   "execution_count": 4,
   "metadata": {
    "collapsed": true
   },
   "outputs": [],
   "source": [
    "def print_policy(P,grid):\n",
    "    for i in range(grid.width):\n",
    "        print(\"---------------------------\")\n",
    "        for j in range(grid.height):\n",
    "            a = P.get((i,j),' ')\n",
    "            if isinstance(a,dict):\n",
    "                a = list(a)[0]\n",
    "            print(\"  %s  |\" % a, end=\"\")\n",
    "        print(\"\")"
   ]
  },
  {
   "cell_type": "markdown",
   "metadata": {},
   "source": [
    "### From or defined grid world file, import a negative grid ,retrieve all actions and states and print grid rewards\n",
    "Negative grid is used to encourage the agent to find a shortest path to the goal"
   ]
  },
  {
   "cell_type": "code",
   "execution_count": 5,
   "metadata": {
    "collapsed": true
   },
   "outputs": [],
   "source": [
    "grid = grid_world.Grid.standard_grid()\n",
    "states = grid.all_states()\n",
    "actions = list(set([action   for action_tup in grid.actions.values() for action in action_tup]))"
   ]
  },
  {
   "cell_type": "code",
   "execution_count": 6,
   "metadata": {
    "scrolled": true
   },
   "outputs": [
    {
     "data": {
      "text/plain": [
       "['U', 'L', 'R', 'D']"
      ]
     },
     "execution_count": 6,
     "metadata": {},
     "output_type": "execute_result"
    }
   ],
   "source": [
    "actions"
   ]
  },
  {
   "cell_type": "code",
   "execution_count": 7,
   "metadata": {
    "scrolled": true
   },
   "outputs": [
    {
     "name": "stdout",
     "output_type": "stream",
     "text": [
      "Rewards of grid\n",
      "--------------------------\n",
      " 0.00| 0.00| 0.00| 1.00|\n",
      "--------------------------\n",
      " 0.00| 0.00| 0.00|-1.00|\n",
      "--------------------------\n",
      " 0.00| 0.00| 0.00| 0.00|\n"
     ]
    }
   ],
   "source": [
    "print(\"Rewards of grid\")\n",
    "print_values(grid.rewards,grid)"
   ]
  },
  {
   "cell_type": "markdown",
   "metadata": {},
   "source": [
    "### Initialize  policy"
   ]
  },
  {
   "cell_type": "code",
   "execution_count": 8,
   "metadata": {},
   "outputs": [
    {
     "name": "stdout",
     "output_type": "stream",
     "text": [
      "---------------------------\n",
      "  R  |  R  |  R  |     |\n",
      "---------------------------\n",
      "  U  |     |  R  |     |\n",
      "---------------------------\n",
      "  U  |  R  |  R  |  U  |\n"
     ]
    }
   ],
   "source": [
    "policy = {(2,0):'U',\n",
    "         (1,0):'U',\n",
    "         (0,0):'R',\n",
    "         (0,1):'R',\n",
    "         (0,2):'R',\n",
    "         (1,2):'R',\n",
    "         (2,1):'R',\n",
    "         (2,2):'R',\n",
    "         (2,3):'U'}\n",
    "\n",
    "print_policy(policy,grid)"
   ]
  },
  {
   "cell_type": "code",
   "execution_count": 24,
   "metadata": {
    "pixiedust": {
     "displayParams": {}
    }
   },
   "outputs": [],
   "source": [
    "#%%pixie_debugger\n",
    "def average_n_step_returns(policy,episodes ,gamma = 1,alpha = 0.9,steps_to_average = [2,3,4]):\n",
    "    V = defaultdict(lambda:0)\n",
    "    n = max(steps_to_average)\n",
    "    \n",
    "    for episode in range(episodes):\n",
    "        s = (2,0)\n",
    "        grid.set_state(s)\n",
    "        T = np.inf # book code sets it to infinite\n",
    "        finished = False\n",
    "        t = 0\n",
    "        \n",
    "        rewards = dict() #to store the sequence of rewards\n",
    "        states = dict() # to store the sequence of actions\n",
    "        \n",
    "        states[0] = s\n",
    "        \n",
    "        while not finished: # finished when tao = T  - 1 (update time is before end of episode)\n",
    "\n",
    "            if t < T:\n",
    "                a = policy[s] #take action given by the policy for state s\n",
    "                \n",
    "                r = grid.move(a) # observe reward   \n",
    "                s1 = grid.current_state() #observe the new state\n",
    "                rewards[t+1] = r\n",
    "                states[t+1] = s1\n",
    "                \n",
    "                if grid.game_over(): #if St+1 is terminal set T to last timestemp\n",
    "                    T = t + 1\n",
    "                    \n",
    "            updated_time =  t  - n +1 # in the book the variable is represente by \"tao\"\n",
    "            \n",
    "            if updated_time >= 0: #update only if  at least \"n\" steps are already performed\n",
    "                n_step_returns = dict().fromkeys(steps_to_average,0)\n",
    "                update_limit = min(updated_time+n,T) \n",
    "                G = 0\n",
    "                for i in range(updated_time +1 , update_limit + 1): # i is the  reward un time i from the next step of the update time\n",
    "                    \n",
    "                    for n_step in steps_to_average:\n",
    "                        \n",
    "                        if i <= updated_time + n_step:\n",
    "                            n_step_returns[n_step] = n_step_returns[n_step] + ((gamma**(i - updated_time - 1))* rewards[i])\n",
    "                    \n",
    "                if updated_time + n <= T:\n",
    "                    for n_step in steps_to_average:\n",
    "                        n_step_returns[n_step] =  n_step_returns[n_step] +  (gamma**n_step)*V[states[updated_time+n_step]]\n",
    "                        G += n_step_returns[n_step]\n",
    "                        \n",
    "                    G/= len(steps_to_average)\n",
    "                    \n",
    "                    V[states[updated_time]]  = V[states[updated_time]] + alpha*(G -  V[states[updated_time]])\n",
    "            \n",
    "            s  = s1\n",
    "            t += 1\n",
    "                \n",
    "            finished = updated_time == T -1\n",
    "                \n",
    "    return V\n",
    "\n",
    "V = average_n_step_returns(policy,10000,0.9,0.5,[1,2,3,4])"
   ]
  },
  {
   "cell_type": "code",
   "execution_count": 15,
   "metadata": {},
   "outputs": [
    {
     "data": {
      "text/plain": [
       "{(0, 0): 'R',\n",
       " (0, 1): 'R',\n",
       " (0, 2): 'R',\n",
       " (1, 0): 'U',\n",
       " (1, 2): 'R',\n",
       " (2, 0): 'U',\n",
       " (2, 1): 'R',\n",
       " (2, 2): 'R',\n",
       " (2, 3): 'U'}"
      ]
     },
     "execution_count": 15,
     "metadata": {},
     "output_type": "execute_result"
    }
   ],
   "source": [
    "policy\n"
   ]
  },
  {
   "cell_type": "code",
   "execution_count": 25,
   "metadata": {},
   "outputs": [
    {
     "name": "stdout",
     "output_type": "stream",
     "text": [
      "Policy\n",
      "---------------------------\n",
      "  R  |  R  |  R  |     |\n",
      "---------------------------\n",
      "  U  |     |  R  |     |\n",
      "---------------------------\n",
      "  U  |  R  |  R  |  U  |\n"
     ]
    }
   ],
   "source": [
    "print(\"Policy\")\n",
    "\n",
    "print_policy(policy,grid)"
   ]
  },
  {
   "cell_type": "code",
   "execution_count": 26,
   "metadata": {},
   "outputs": [
    {
     "name": "stdout",
     "output_type": "stream",
     "text": [
      "--------------------------\n",
      " 0.00| 0.00| 0.00| 0.00|\n",
      "--------------------------\n",
      " 0.18| 0.00| 0.00| 0.00|\n",
      "--------------------------\n",
      " 0.04| 0.00| 0.00| 0.00|\n"
     ]
    }
   ],
   "source": [
    "print_values(grid=grid,V=V)"
   ]
  },
  {
   "cell_type": "markdown",
   "metadata": {},
   "source": [
    "## Conclusions\n",
    "* The average of n-step returns works better than simple n-step return.\n",
    "* One of the main problems in this implementation is that states closer to finish state are not uptated to to the restriction that if we average a n-step return for an n that is never reached, the average is not performed and the update is not performed.\n",
    "* Possible solution is to average only  returns for valid values of n. **Experiment on the next cell**"
   ]
  },
  {
   "cell_type": "code",
   "execution_count": 31,
   "metadata": {
    "pixiedust": {
     "displayParams": {}
    }
   },
   "outputs": [],
   "source": [
    "#%%pixie_debugger\n",
    "def average_n_step_returns(policy,episodes ,gamma = 1,alpha = 0.9,steps_to_average = [2,3,4]):\n",
    "    V = defaultdict(lambda:0)\n",
    "    n = max(steps_to_average)\n",
    "    \n",
    "    for episode in range(episodes):\n",
    "        s = (2,0)\n",
    "        grid.set_state(s)\n",
    "        T = np.inf # book code sets it to infinite\n",
    "        finished = False\n",
    "        t = 0\n",
    "        \n",
    "        rewards = dict() #to store the sequence of rewards\n",
    "        states = dict() # to store the sequence of actions\n",
    "        \n",
    "        states[0] = s\n",
    "        \n",
    "        while not finished: # finished when tao = T  - 1 (update time is before end of episode)\n",
    "\n",
    "            if t < T:\n",
    "                a = policy[s] #take action given by the policy for state s\n",
    "                \n",
    "                r = grid.move(a) # observe reward   \n",
    "                s1 = grid.current_state() #observe the new state\n",
    "                rewards[t+1] = r\n",
    "                states[t+1] = s1\n",
    "                \n",
    "                if grid.game_over(): #if St+1 is terminal set T to last timestemp\n",
    "                    T = t + 1\n",
    "                    \n",
    "            updated_time =  t  - n +1 # in the book the variable is represente by \"tao\"\n",
    "            \n",
    "            if updated_time >= 0: #update only if  at least \"n\" steps are already performed\n",
    "                n_step_returns = dict().fromkeys(steps_to_average,0)\n",
    "                update_limit = min(updated_time+n,T) \n",
    "                G = 0\n",
    "                for i in range(updated_time +1 , update_limit + 1): # i is the  reward un time i from the next step of the update time\n",
    "                    \n",
    "                    for n_step in steps_to_average:\n",
    "                        \n",
    "                        if i <= updated_time + n_step:\n",
    "                            n_step_returns[n_step] = n_step_returns[n_step] + ((gamma**(i - updated_time - 1))* rewards[i])\n",
    "                    \n",
    "                if updated_time  < T:\n",
    "                    valid_steps = 0\n",
    "                    for n_step in steps_to_average:\n",
    "                        if updated_time + n_step <= T:\n",
    "                            n_step_returns[n_step] =  n_step_returns[n_step] +  (gamma**n_step)*V[states[updated_time+n_step]]\n",
    "                            G += n_step_returns[n_step]\n",
    "                            valid_steps+=1\n",
    "                        \n",
    "                    G/= valid_steps\n",
    "                    \n",
    "                    V[states[updated_time]]  = V[states[updated_time]] + alpha*(G -  V[states[updated_time]])\n",
    "            \n",
    "            s  = s1\n",
    "            t += 1\n",
    "                \n",
    "            finished = updated_time == T -1\n",
    "                \n",
    "    return V\n",
    "\n",
    "V = average_n_step_returns(policy,10000,0.9,0.5,[1,2,3,4,5])"
   ]
  },
  {
   "cell_type": "code",
   "execution_count": 32,
   "metadata": {},
   "outputs": [
    {
     "name": "stdout",
     "output_type": "stream",
     "text": [
      "--------------------------\n",
      " 0.81| 0.90| 1.00| 0.00|\n",
      "--------------------------\n",
      " 0.73| 0.00| 0.00| 0.00|\n",
      "--------------------------\n",
      " 0.66| 0.00| 0.00| 0.00|\n"
     ]
    }
   ],
   "source": [
    "print_values(grid=grid,V=V)"
   ]
  },
  {
   "cell_type": "code",
   "execution_count": null,
   "metadata": {
    "collapsed": true
   },
   "outputs": [],
   "source": [
    "## Conclusions\n",
    "* This"
   ]
  }
 ],
 "metadata": {
  "kernelspec": {
   "display_name": "Python 3",
   "language": "python",
   "name": "python3"
  },
  "language_info": {
   "codemirror_mode": {
    "name": "ipython",
    "version": 3
   },
   "file_extension": ".py",
   "mimetype": "text/x-python",
   "name": "python",
   "nbconvert_exporter": "python",
   "pygments_lexer": "ipython3",
   "version": "3.6.1"
  }
 },
 "nbformat": 4,
 "nbformat_minor": 2
}
